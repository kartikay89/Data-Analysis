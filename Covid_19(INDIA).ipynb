{
  "nbformat": 4,
  "nbformat_minor": 0,
  "metadata": {
    "colab": {
      "name": "Covid-19(INDIA).ipynb",
      "provenance": [],
      "collapsed_sections": [],
      "mount_file_id": "1_LaTu8sP4JdTY754tOfbw6CCfwhjIIh3",
      "authorship_tag": "ABX9TyOJHe0sdYbN/NqIGKR0r7Fr",
      "include_colab_link": true
    },
    "kernelspec": {
      "name": "python3",
      "display_name": "Python 3"
    }
  },
  "cells": [
    {
      "cell_type": "markdown",
      "metadata": {
        "id": "view-in-github",
        "colab_type": "text"
      },
      "source": [
        "<a href=\"https://colab.research.google.com/github/kartikay89/Data-Analysis/blob/main/Covid_19(INDIA).ipynb\" target=\"_parent\"><img src=\"https://colab.research.google.com/assets/colab-badge.svg\" alt=\"Open In Colab\"/></a>"
      ]
    },
    {
      "cell_type": "markdown",
      "metadata": {
        "id": "k0Sdp8YiQpQo"
      },
      "source": [
        "**COVID-19 INDIA**\n",
        "\n",
        "> The COVID-19 datasets used in the notebook are taken from \"Kaggle\". The names of these datasets are mentioned below:\n",
        "\n",
        "*  covid_19_india.csv\n",
        "*   StatewiseTestingDetails.csv\n",
        "\n",
        "\n",
        "\n",
        "\n",
        "URL: \n",
        "\n",
        "\n",
        "1.   https://www.kaggle.com/sudalairajkumar/covid19-in-india\n",
        "2.   https://www.kaggle.com/sudalairajkumar/novel-corona-virus-2019-dataset?select=time_series_covid_19_recovered.csv\n",
        "3. https://api.covid19india.org/documentation/csv/\n",
        "4. https://api.covid19india.org/\n",
        "5. https://documenter.getpostman.com/view/10724784/SzYXXKmA?version=latest\n",
        "6. https://api.rootnet.in/\n",
        "\n",
        "\n",
        "\n",
        "\n"
      ]
    },
    {
      "cell_type": "code",
      "metadata": {
        "id": "YhCCo5-rlz-5"
      },
      "source": [
        "import pandas as pd\n",
        "import matplotlib.pyplot as plt\n",
        "import matplotlib.patches as mpatches\n",
        "import seaborn as sns\n",
        "import json"
      ],
      "execution_count": 19,
      "outputs": []
    },
    {
      "cell_type": "code",
      "metadata": {
        "colab": {
          "base_uri": "https://localhost:8080/",
          "height": 204
        },
        "id": "MbNelKRrmC_m",
        "outputId": "03833b50-12c2-4742-e497-0371e61a1695"
      },
      "source": [
        "IndianStates = pd.read_csv('/content/drive/MyDrive/Google Colab Data /state_wise.csv')\n",
        "IndianStates.head()"
      ],
      "execution_count": 7,
      "outputs": [
        {
          "output_type": "execute_result",
          "data": {
            "text/html": [
              "<div>\n",
              "<style scoped>\n",
              "    .dataframe tbody tr th:only-of-type {\n",
              "        vertical-align: middle;\n",
              "    }\n",
              "\n",
              "    .dataframe tbody tr th {\n",
              "        vertical-align: top;\n",
              "    }\n",
              "\n",
              "    .dataframe thead th {\n",
              "        text-align: right;\n",
              "    }\n",
              "</style>\n",
              "<table border=\"1\" class=\"dataframe\">\n",
              "  <thead>\n",
              "    <tr style=\"text-align: right;\">\n",
              "      <th></th>\n",
              "      <th>State</th>\n",
              "      <th>Confirmed</th>\n",
              "      <th>Recovered</th>\n",
              "      <th>Deaths</th>\n",
              "      <th>Active</th>\n",
              "      <th>Last_Updated_Time</th>\n",
              "      <th>Migrated_Other</th>\n",
              "      <th>State_code</th>\n",
              "      <th>Delta_Confirmed</th>\n",
              "      <th>Delta_Recovered</th>\n",
              "      <th>Delta_Deaths</th>\n",
              "      <th>State_Notes</th>\n",
              "    </tr>\n",
              "  </thead>\n",
              "  <tbody>\n",
              "    <tr>\n",
              "      <th>0</th>\n",
              "      <td>Total</td>\n",
              "      <td>10245326</td>\n",
              "      <td>9833339</td>\n",
              "      <td>148475</td>\n",
              "      <td>260678</td>\n",
              "      <td>30/12/2020 02:44:28</td>\n",
              "      <td>2834</td>\n",
              "      <td>TT</td>\n",
              "      <td>0</td>\n",
              "      <td>0</td>\n",
              "      <td>0</td>\n",
              "      <td>NaN</td>\n",
              "    </tr>\n",
              "    <tr>\n",
              "      <th>1</th>\n",
              "      <td>Maharashtra</td>\n",
              "      <td>1925066</td>\n",
              "      <td>1820021</td>\n",
              "      <td>49373</td>\n",
              "      <td>54537</td>\n",
              "      <td>29/12/2020 20:30:26</td>\n",
              "      <td>1135</td>\n",
              "      <td>MH</td>\n",
              "      <td>0</td>\n",
              "      <td>0</td>\n",
              "      <td>0</td>\n",
              "      <td>[Dec 16]:10,218 duplicate cases &amp; other state ...</td>\n",
              "    </tr>\n",
              "    <tr>\n",
              "      <th>2</th>\n",
              "      <td>Karnataka</td>\n",
              "      <td>917571</td>\n",
              "      <td>893617</td>\n",
              "      <td>12074</td>\n",
              "      <td>11861</td>\n",
              "      <td>29/12/2020 21:16:28</td>\n",
              "      <td>19</td>\n",
              "      <td>KA</td>\n",
              "      <td>0</td>\n",
              "      <td>0</td>\n",
              "      <td>0</td>\n",
              "      <td>NaN</td>\n",
              "    </tr>\n",
              "    <tr>\n",
              "      <th>3</th>\n",
              "      <td>Andhra Pradesh</td>\n",
              "      <td>881599</td>\n",
              "      <td>871116</td>\n",
              "      <td>7100</td>\n",
              "      <td>3383</td>\n",
              "      <td>29/12/2020 21:47:27</td>\n",
              "      <td>0</td>\n",
              "      <td>AP</td>\n",
              "      <td>0</td>\n",
              "      <td>0</td>\n",
              "      <td>0</td>\n",
              "      <td>NaN</td>\n",
              "    </tr>\n",
              "    <tr>\n",
              "      <th>4</th>\n",
              "      <td>Tamil Nadu</td>\n",
              "      <td>816132</td>\n",
              "      <td>795293</td>\n",
              "      <td>12092</td>\n",
              "      <td>8747</td>\n",
              "      <td>29/12/2020 21:16:30</td>\n",
              "      <td>0</td>\n",
              "      <td>TN</td>\n",
              "      <td>0</td>\n",
              "      <td>0</td>\n",
              "      <td>0</td>\n",
              "      <td>[July 22]: 444 backdated deceased entries adde...</td>\n",
              "    </tr>\n",
              "  </tbody>\n",
              "</table>\n",
              "</div>"
            ],
            "text/plain": [
              "            State  ...                                        State_Notes\n",
              "0           Total  ...                                                NaN\n",
              "1     Maharashtra  ...  [Dec 16]:10,218 duplicate cases & other state ...\n",
              "2       Karnataka  ...                                                NaN\n",
              "3  Andhra Pradesh  ...                                                NaN\n",
              "4      Tamil Nadu  ...  [July 22]: 444 backdated deceased entries adde...\n",
              "\n",
              "[5 rows x 12 columns]"
            ]
          },
          "metadata": {
            "tags": []
          },
          "execution_count": 7
        }
      ]
    },
    {
      "cell_type": "code",
      "metadata": {
        "colab": {
          "base_uri": "https://localhost:8080/",
          "height": 204
        },
        "id": "S__8kw_NRsXj",
        "outputId": "bb2b8bd1-6035-4676-ceb4-ba342eca5686"
      },
      "source": [
        "IndianStatesDistricts = pd.read_csv('/content/drive/MyDrive/Google Colab Data /districts.csv')\n",
        "IndianStatesDistricts.head()"
      ],
      "execution_count": 206,
      "outputs": [
        {
          "output_type": "execute_result",
          "data": {
            "text/html": [
              "<div>\n",
              "<style scoped>\n",
              "    .dataframe tbody tr th:only-of-type {\n",
              "        vertical-align: middle;\n",
              "    }\n",
              "\n",
              "    .dataframe tbody tr th {\n",
              "        vertical-align: top;\n",
              "    }\n",
              "\n",
              "    .dataframe thead th {\n",
              "        text-align: right;\n",
              "    }\n",
              "</style>\n",
              "<table border=\"1\" class=\"dataframe\">\n",
              "  <thead>\n",
              "    <tr style=\"text-align: right;\">\n",
              "      <th></th>\n",
              "      <th>Date</th>\n",
              "      <th>State</th>\n",
              "      <th>District</th>\n",
              "      <th>Confirmed</th>\n",
              "      <th>Recovered</th>\n",
              "      <th>Deceased</th>\n",
              "      <th>Other</th>\n",
              "      <th>Tested</th>\n",
              "    </tr>\n",
              "  </thead>\n",
              "  <tbody>\n",
              "    <tr>\n",
              "      <th>0</th>\n",
              "      <td>2020-04-26</td>\n",
              "      <td>Andaman and Nicobar Islands</td>\n",
              "      <td>Unknown</td>\n",
              "      <td>33</td>\n",
              "      <td>11</td>\n",
              "      <td>0</td>\n",
              "      <td>0</td>\n",
              "      <td>2679.0</td>\n",
              "    </tr>\n",
              "    <tr>\n",
              "      <th>1</th>\n",
              "      <td>2020-04-26</td>\n",
              "      <td>Andhra Pradesh</td>\n",
              "      <td>Anantapur</td>\n",
              "      <td>53</td>\n",
              "      <td>14</td>\n",
              "      <td>4</td>\n",
              "      <td>0</td>\n",
              "      <td>NaN</td>\n",
              "    </tr>\n",
              "    <tr>\n",
              "      <th>2</th>\n",
              "      <td>2020-04-26</td>\n",
              "      <td>Andhra Pradesh</td>\n",
              "      <td>Chittoor</td>\n",
              "      <td>73</td>\n",
              "      <td>13</td>\n",
              "      <td>0</td>\n",
              "      <td>0</td>\n",
              "      <td>NaN</td>\n",
              "    </tr>\n",
              "    <tr>\n",
              "      <th>3</th>\n",
              "      <td>2020-04-26</td>\n",
              "      <td>Andhra Pradesh</td>\n",
              "      <td>East Godavari</td>\n",
              "      <td>39</td>\n",
              "      <td>12</td>\n",
              "      <td>0</td>\n",
              "      <td>0</td>\n",
              "      <td>NaN</td>\n",
              "    </tr>\n",
              "    <tr>\n",
              "      <th>4</th>\n",
              "      <td>2020-04-26</td>\n",
              "      <td>Andhra Pradesh</td>\n",
              "      <td>Guntur</td>\n",
              "      <td>214</td>\n",
              "      <td>29</td>\n",
              "      <td>8</td>\n",
              "      <td>0</td>\n",
              "      <td>NaN</td>\n",
              "    </tr>\n",
              "  </tbody>\n",
              "</table>\n",
              "</div>"
            ],
            "text/plain": [
              "         Date                        State  ... Other  Tested\n",
              "0  2020-04-26  Andaman and Nicobar Islands  ...     0  2679.0\n",
              "1  2020-04-26               Andhra Pradesh  ...     0     NaN\n",
              "2  2020-04-26               Andhra Pradesh  ...     0     NaN\n",
              "3  2020-04-26               Andhra Pradesh  ...     0     NaN\n",
              "4  2020-04-26               Andhra Pradesh  ...     0     NaN\n",
              "\n",
              "[5 rows x 8 columns]"
            ]
          },
          "metadata": {
            "tags": []
          },
          "execution_count": 206
        }
      ]
    },
    {
      "cell_type": "code",
      "metadata": {
        "id": "Ph6UQ83LudZ9"
      },
      "source": [
        "# Population data country \n",
        "with open('/content/drive/MyDrive/Google Colab Data /IndianPopulation.json') as f:\n",
        "  data = json.load(f)\n",
        "  # print(data)\n",
        "\n",
        "  fix = json.dumps(data, ensure_ascii=False, indent=4)"
      ],
      "execution_count": 256,
      "outputs": []
    },
    {
      "cell_type": "code",
      "metadata": {
        "id": "sKgwqE8KvFTJ",
        "colab": {
          "base_uri": "https://localhost:8080/"
        },
        "outputId": "74233cd6-7c3e-49f4-fc33-d649bb83e7c5"
      },
      "source": [
        "!curl --location --request GET 'https://api.covid19india.org/state_district_wise.json' > stateDistrict.json"
      ],
      "execution_count": 26,
      "outputs": [
        {
          "output_type": "stream",
          "text": [
            "  % Total    % Received % Xferd  Average Speed   Time    Time     Time  Current\n",
            "                                 Dload  Upload   Total   Spent    Left  Speed\n",
            "\r  0     0    0     0    0     0      0      0 --:--:-- --:--:-- --:--:--     0\r100  202k  100  202k    0     0  1596k      0 --:--:-- --:--:-- --:--:-- 1596k\n"
          ],
          "name": "stdout"
        }
      ]
    },
    {
      "cell_type": "code",
      "metadata": {
        "id": "OU3mwY5_x7B2"
      },
      "source": [
        "with open(\"/content/stateDistrict.json\") as f:\n",
        "  data = json.load(f)\n",
        "# print(data)"
      ],
      "execution_count": 257,
      "outputs": []
    },
    {
      "cell_type": "code",
      "metadata": {
        "colab": {
          "base_uri": "https://localhost:8080/"
        },
        "id": "WH5lxMYSCg6N",
        "outputId": "7b1d54ca-3b44-4403-eb73-c1d00e9b57b4"
      },
      "source": [
        "districtDF = pd.read_json('/content/stateDistrict.json').T.reset_index()\n",
        "print(districtDF.columns)\n",
        "\n",
        "statedistrict = {}\n",
        "\n",
        "districtActive = {}\n",
        "districtConfirmed = {}\n",
        "districtRecovered = {}\n",
        "districtDeceased = {}\n",
        "\n",
        "\n",
        "# for districts in districtDF\n",
        "# districtsData = districtDF.districtData[0]\n",
        "\n",
        "\n",
        "for index, rows in districtDF.districtData.items():\n",
        "  districtsData = districtDF.districtData[index]\n",
        "  # districtsData.to_dict()\n",
        "\n",
        "\n",
        "  for key, value in districtsData.items():\n",
        "    if key not in districtActive:\n",
        "      districtActive[key]=value['active']\n",
        "    if key not in districtConfirmed:\n",
        "      districtConfirmed[key]=value['confirmed']\n",
        "    if key not in districtRecovered:\n",
        "      districtRecovered[key]=value['recovered']\n",
        "    if key not in districtDeceased:\n",
        "      districtDeceased[key]=value['deceased']\n",
        "\n"
      ],
      "execution_count": 173,
      "outputs": [
        {
          "output_type": "stream",
          "text": [
            "Index(['index', 'districtData', 'statecode'], dtype='object')\n"
          ],
          "name": "stdout"
        }
      ]
    },
    {
      "cell_type": "code",
      "metadata": {
        "id": "valX-DJZExZS"
      },
      "source": [
        "# Creating Dataframe from Active cases dictionary - districtActive\n",
        "\n",
        "ActiveDF = pd.DataFrame.from_dict(districtActive, orient='index')\n",
        "ActiveDFV1 = ActiveDF.reset_index()\n",
        "ActiveDFV2 = ActiveDFV1.rename(columns={'index':'Districts',0:'Active'})"
      ],
      "execution_count": 185,
      "outputs": []
    },
    {
      "cell_type": "code",
      "metadata": {
        "id": "iyOvTKDYoKj5"
      },
      "source": [
        "# Creating Dataframe from Confirmed cases dictionary - districtActive\n",
        "\n",
        "ConfDF = pd.DataFrame.from_dict(districtConfirmed, orient='index')\n",
        "ConfDFV1 = ConfDF.reset_index()\n",
        "ConfDFV2 = ConfDFV1.rename(columns={'index':'Districts',0:'Confirmed'})"
      ],
      "execution_count": 189,
      "outputs": []
    },
    {
      "cell_type": "code",
      "metadata": {
        "id": "6a9nPsLTpVSN"
      },
      "source": [
        "# Creating Dataframe from Recovered cases dictionary - districtActive\n",
        "\n",
        "RecDF = pd.DataFrame.from_dict(districtRecovered, orient='index')\n",
        "RecDFV1 = RecDF.reset_index()\n",
        "RecDFV2 = RecDFV1.rename(columns={'index':'Districts',0:'Recovered'})"
      ],
      "execution_count": 191,
      "outputs": []
    },
    {
      "cell_type": "code",
      "metadata": {
        "id": "ZmQRfLcVpo_V"
      },
      "source": [
        "# Creating Dataframe from Deceased cases dictionary - districtActive\n",
        "\n",
        "DecDF = pd.DataFrame.from_dict(districtDeceased, orient='index')\n",
        "DecDFV1 = DecDF.reset_index()\n",
        "DecDFV2 = DecDFV1.rename(columns={'index':'Districts',0:'Deceased'})"
      ],
      "execution_count": 194,
      "outputs": []
    },
    {
      "cell_type": "code",
      "metadata": {
        "id": "XLSVq9Zop1CH"
      },
      "source": [
        "# Merging all the dataframes together\n",
        "finalDFV1  = ActiveDFV2.merge(ConfDFV2, on = \"Districts\", how = \"left\")\n",
        "finalDFV2 = finalDFV1.merge(RecDFV2, on = \"Districts\", how = \"left\")\n",
        "finalDFV3 = finalDFV2.merge(DecDFV2, on = \"Districts\", how = \"left\")"
      ],
      "execution_count": 254,
      "outputs": []
    },
    {
      "cell_type": "code",
      "metadata": {
        "colab": {
          "base_uri": "https://localhost:8080/"
        },
        "id": "Eb5oGppoqb7_",
        "outputId": "16a4bcf4-b464-49c4-97cb-019c5c798fbd"
      },
      "source": [
        "# Just to know - Districts of India.\n",
        "\n",
        "list_of_districts = list(set(finalDFV3['Districts']))\n",
        "\n",
        "unique=[]\n",
        "\n",
        "for districtsList in list_of_districts:\n",
        "  unique.append(districtsList)\n",
        "\n",
        "print(unique)\n",
        "print(len(unique))"
      ],
      "execution_count": 242,
      "outputs": [
        {
          "output_type": "stream",
          "text": [
            "['Jangaon', 'Ramban', 'Bharatpur', 'Kandhamal', 'Sabarkantha', 'Ratnagiri', 'Kangpokpi', 'Hisar', 'South 24 Parganas', 'Rajkot', 'Purba Medinipur', 'Surajpur', 'Ernakulam', 'Kra Daadi', 'Hamirpur', 'Mahe', 'Imphal West', 'Gurugram', 'Jalore', 'Khandwa', 'Karaikal', 'Italians', 'Sangareddy', 'Mulugu', 'Madurai', 'Ranipet', 'Samastipur', 'Kendrapara', 'Giridih', 'Singrauli', 'Bametara', 'Tiruchirappalli', 'Jodhpur', 'Mainpuri', 'Baghpat', 'Mansa', 'Ayodhya', 'Panchkula', 'Begusarai', 'Kurung Kumey', 'Sirsa', 'Banswara', 'Mandsaur', 'Varanasi', 'Mayurbhanj', 'Kamareddy', 'Jhajjar', 'Nainital', 'West Champaran', 'Banaskantha', 'Khawzawl', 'Dakshina Kannada', 'Jhalawar', 'Krishna', 'Siang', 'Barmer', 'Haveri', 'North West Delhi', 'Ballia', 'Goalpara', 'Bijnor', 'Sri Muktsar Sahib', 'West Sikkim', 'Charaideo', 'Mirzapur', 'Longleng', 'East Champaran', 'Sivasagar', 'Sant Kabir Nagar', 'Kolhapur', 'Vijayapura', 'Jhabua', 'Devbhumi Dwarka', 'Bathinda', 'Gajapati', 'Sonipat', 'Tiruvannamalai', 'Anuppur', 'Jashpur', 'Haridwar', 'Bhadohi', 'Saiha', 'Chhatarpur', 'Katihar', 'Sahibganj', 'Pilibhit', 'Palamu', 'Gumla', 'Shahdara', 'Fatehabad', 'Kishanganj', 'Surguja', 'Dhar', 'Bankura', 'Gadag', 'Burhanpur', 'Kiphire', 'Lalitpur', 'Ribhoi', 'Alwar', 'Kutch', 'Malda', 'Leh', 'Sheikhpura', 'Tiruppur', 'Pathanamthitta', 'Kohima', 'Bhavnagar', 'Kanpur Nagar', 'Wanaparthy', 'Meerut', 'Biswanath', 'Balrampur', 'Nalbari', 'Kamrup', 'Dahod', 'Mathura', 'Salem', 'Bidar', 'Bhadrak', 'Siddipet', 'Hathras', 'Sirmaur', 'Bahraich', 'Bhagalpur', 'Others', 'Amritsar', 'Pathankot', 'West Garo Hills', 'Evacuees', 'Rajouri', 'Pulwama', 'Neemuch', 'Thrissur', 'Mokokchung', 'Pakke Kessang', 'Sonbhadra', 'Kangra', 'Shajapur', 'North Goa', 'Dhubri', 'Kabeerdham', 'Kalahandi', 'Adilabad', 'Ambala', 'Porbandar', 'Rupnagar', 'Changlang', 'Dhemaji', 'Rajnandgaon', 'Zunheboto', 'Yadadri Bhuvanagiri', 'Vellore', 'Bagalkote', 'Ambedkar Nagar', 'Kinnaur', 'Kushinagar', 'Noney', 'Chikkaballapura', 'Firozabad', 'Etah', 'Peddapalli', 'Narmada', 'Senapati', 'Jaisalmer', 'Rajanna Sircilla', 'Barpeta', 'South West Garo Hills', 'Rohtak', 'Pherzawl', 'Amravati', 'Suryapet', 'Alappuzha', 'Bhandara', 'Baloda Bazar', 'Parbhani', 'Airport Quarantine', 'Tarn Taran', 'North Tripura', 'Diu', 'Lunglei', 'Pudukkottai', 'Morena', 'Bhiwani', 'Lakhisarai', 'Rae Bareli', 'Nandurbar', 'Hapur', 'Churachandpur', 'Chitradurga', 'BSF Camp', 'Dindori', 'Ganderbal', 'Mysuru', 'Bhilwara', 'Udham Singh Nagar', 'Sambalpur', 'Central Delhi', 'Harda', 'Palwal', 'Kasaragod', 'Churu', 'Saitual', 'Nuapada', 'Phek', 'Tamenglong', 'Ujjain', 'Papum Pare', 'Srinagar', 'Rampur', 'Sehore', 'Khunti', 'Munger', 'State Pool', 'Jabalpur', 'North Sikkim', 'Umaria', 'Botad', 'Morigaon', 'Jajpur', 'Other State', 'Osmanabad', 'Barabanki', 'Nagaon', 'Boudh', 'South Goa', 'Jamtara', 'Shrawasti', 'Yadgir', 'Sukma', 'Narayanpur', 'Solan', 'North 24 Parganas', 'Saraikela-Kharsawan', 'Sagar', 'East Sikkim', 'Tenkasi', 'South West Khasi Hills', 'Mahasamund', 'Purba Bardhaman', 'Banka', 'Lohit', 'Budaun', 'North East Delhi', 'Una', 'Yamunanagar', 'Jhansi', 'Aravalli', 'Kodagu', 'Rajgarh', 'Kamrup Metropolitan', 'Buxar', 'Cuddalore', 'South Garo Hills', 'Raichur', 'Bhind', 'Jalna', 'Peren', 'Kheda', 'Patan', 'Shahjahanpur', 'Erode', 'Chandigarh', 'Ratlam', 'West Godavari', 'Namakkal', 'Dang', 'Chamarajanagara', 'Cuttack', 'Mahendragarh', 'Mirpur', 'Vikarabad', 'Lawngtlai', 'Hingoli', 'Dhule', 'Ballari', 'Mamit', 'Bandipora', 'Rayagada', 'Amethi', 'Washim', 'Darrang', 'Sikar', 'Khordha', 'Gorakhpur', 'Ramanagara', 'Yanam', 'Sangli', 'Bareilly', 'Surendranagar', 'Anand', 'Shivpuri', 'Barwani', 'Lucknow', 'Kozhikode', 'Angul', 'Gurdaspur', 'Farrukhabad', 'Faridkot', 'Anantapur', 'Srikakulam', 'Patna', 'Garhwa', 'Bijapur', 'Mumbai', 'Shamli', 'Visakhapatnam', 'Dima Hasao', 'Jalgaon', 'Maharajganj', 'Dindigul', 'Gautam Buddha Nagar', 'Chennai', 'Khammam', 'Kullu', 'Tirap', 'Thanjavur', 'Chittorgarh', 'Moradabad', 'Sheohar', 'Sirohi', 'Unokoti', 'New Delhi', 'Valsad', 'Nadia', 'Vaishali', 'Bilaspur', 'Coimbatore', 'Ashoknagar', 'Almora', 'Hoshangabad', 'Nashik', 'Dhenkanal', 'Kurukshetra', 'Deogarh', 'Jogulamba Gadwal', 'Bengaluru Urban', 'Pauri Garhwal', 'Lakhimpur', 'Krishnagiri', 'Majuli', 'Karauli', 'South Tripura', 'S.A.S. Nagar', 'Thane', 'Rewa', 'Tuensang', 'Datia', 'Jhunjhunu', 'Araria', 'Khagaria', 'Khargone', 'Nirmal', 'Madhepura', 'East Singhbhum', 'Mancherial', 'Wokha', 'Gaurela Pendra Marwahi', 'Chhota Udaipur', 'Agra', 'Unassigned', 'Deoghar', 'Kaithal', 'Raigad', 'Kamjong', 'Guna', 'Tapi', 'Karimnagar', 'Azamgarh', 'Saharanpur', 'Lahaul and Spiti', 'Bongaigaon', 'Jamui', 'Amreli', 'Latur', 'Sitamarhi', 'Lohardaga', 'Mehsana', 'Gariaband', 'Dungarpur', 'Champawat', 'Dausa', 'Charkhi Dadri', 'Kolkata', 'Upper Subansiri', 'Nawada', 'Y.S.R. Kadapa', 'Paschim Medinipur', 'Gadchiroli', 'Pratapgarh', 'Tawang', 'Mandya', 'Saran', 'Balasore', 'Tonk', 'Chengalpattu', 'Tirupathur', 'Sultanpur', 'Chandrapur', 'Shopiyan', 'Solapur', 'South Andaman', 'Purulia', 'West Tripura', 'Thiruvarur', 'Kamle', 'Hassan', 'CAPF Personnel', 'Hoshiarpur', 'Uttar Dinajpur', 'Idukki', 'Mahoba', 'Warangal Rural', 'South West Delhi', 'Nabarangapur', 'Gaya', 'Jehanabad', 'Kalimpong', 'Virudhunagar', 'Aizawl', 'Malappuram', 'Panna', 'Chittoor', 'Deoria', 'Viluppuram', 'North Delhi', 'Junagadh', 'Hooghly', 'Lower Siang', 'Murshidabad', 'Dharmapuri', 'Chikkamagaluru', 'Nizamabad', 'Godda', 'Foreign Evacuees', 'Jaunpur', 'Ghaziabad', 'Jalandhar', 'Chatra', 'Jamnagar', 'Railway Quarantine', 'Puri', 'Balaghat', 'Kanyakumari', 'Etawah', 'Durg', 'North Garo Hills', 'Supaul', 'Bishnupur', 'Basti', 'East Kameng', 'Upper Siang', 'Darbhanga', 'Dehradun', 'Nayagarh', 'Patiala', 'Pakur', 'Tikamgarh', 'Barnala', 'Bikaner', 'Cooch Behar', 'Sipahijala', 'Anantnag', 'West Khasi Hills', 'Morbi', 'Uttarkashi', 'Hnahthial', 'Tumakuru', 'Tehri Garhwal', 'Kargil', 'Mandi', 'Bokaro', 'Prakasam', 'Kottayam', 'Dholpur', 'Hardoi', 'North and Middle Andaman', 'Udalguri', 'Shahdol', 'Tinsukia', 'Dhamtari', 'Ajmer', 'Mandla', 'Bhojpur', 'Niwari', 'Gondia', 'Mau', 'Lakshadweep', 'Buldhana', 'East Khasi Hills', 'Samba', 'East Siang', 'Rudraprayag', 'Birbhum', 'Jorhat', 'Auraiya', 'Raigarh', 'Kondagaon', 'Uttar Bastar Kanker', 'Chhindwara', 'Raipur', 'Balangir', 'Wayanad', 'Rajsamand', 'West Siang', 'Narsinghpur', 'Alirajpur', 'Warangal Urban', 'Golaghat', 'Nagapattinam', 'Thoubal', 'Dewas', 'Palghar', 'Nagaur', 'Madhubani', 'Hanumangarh', 'Ghazipur', 'Budgam', 'Purnia', 'Chandauli', 'Kannur', 'Other Region', 'Nalanda', 'Kaushambi', 'Jalaun', 'West Singhbhum', 'Bageshwar', 'Kasganj', 'Kokrajhar', 'Ukhrul', 'Balod', 'Nagarkurnool', 'West Jaintia Hills', 'Dakshin Bastar Dantewada', 'Jammu', 'Ranga Reddy', 'Alipurduar', 'Shahid Bhagat Singh Nagar', 'Shi Yomi', 'Betul', 'Kaimur', 'Pali', 'Bhadradri Kothagudem', 'Muzaffarpur', 'Paschim Bardhaman', 'Kolasib', 'Panipat', 'Cachar', 'Gir Somnath', 'Lower Subansiri', 'Sonitpur', 'Rohtas', 'Panchmahal', 'Dimapur', 'Udhampur', 'Unknown', 'Baramulla', 'Nanded', 'East Jaintia Hills', 'Ranchi', 'Koriya', 'Baksa', 'Khowai', 'Ahmedabad', 'Baran', 'Beed', 'Guntur', 'Koraput', 'Tirunelveli', 'Howrah', 'Kurnool', 'Nilgiris', 'South Salmara Mankachar', 'Shivamogga', 'Kathua', 'South East Delhi', 'Fatehgarh Sahib', 'Sangrur', 'Dakshin Dinajpur', 'Karnal', 'Komaram Bheem', 'Banda', 'Chitrakoot', 'Jagatsinghpur', 'Indore', 'Puducherry', 'Ramanathapuram', 'Thiruvananthapuram', 'East Delhi', 'Ganganagar', 'Amroha', 'East Godavari', 'Bengaluru Rural', 'Reasi', 'Akola', 'Jiribam', 'Hailakandi', 'Punch', 'Mahabubabad', 'Chamba', 'Nalgonda', 'Sawai Madhopur', 'Bargarh', 'Satara', 'Lakhimpur Kheri', 'Kalaburagi', 'Subarnapur', 'Jalpaiguri', 'Kakching', 'Sundargarh', 'Chirang', 'Nagpur', 'Upper Dibang Valley', 'Koppal', 'Jayashankar Bhupalapally', 'Pune', 'Damoh', 'Rewari', 'Koderma', 'Kulgam', 'Perambalur', 'Prayagraj', 'Ahmednagar', 'Thiruvallur', 'Malkangiri', 'Jharsuguda', 'Kupwara', 'Tengnoupal', 'Yavatmal', 'Hojai', 'Ludhiana', 'Chandel', 'Theni', 'Navsari', 'Faridabad', 'Kannauj', 'Kolar', 'Champhai', 'Bharuch', 'Sheopur', 'Kota', 'West Karbi Anglong', 'Darjeeling', 'Shimla', 'Serchhip', 'Udupi', 'Latehar', 'Hazaribagh', 'East Garo Hills', 'Kendujhar', 'Fazilka', 'Mahabubnagar', 'Gonda', 'Surat', 'Katni', 'Bulandshahr', 'Narayanpet', 'Muzaffarnagar', 'Lower Dibang Valley', 'Belagavi', 'Satna', 'Vizianagaram', 'Medak', 'Vadodara', 'Dharwad', 'Doda', 'Agar Malwa', 'Mungeli', 'West Kameng', 'Janjgir Champa', 'Longding', 'Raisen', 'Kallakurichi', 'Hyderabad', 'Bhopal', 'S.P.S. Nellore', 'Jind', 'Gopalganj', 'Bastar', 'West Delhi', 'Mahisagar', 'Dadra and Nagar Haveli', 'Sidhi', 'Jhargram', 'Gandhinagar', 'Davanagere', 'Jaipur', 'Thoothukkudi', 'Simdega', 'Kollam', 'Palakkad', 'Gwalior', 'Sambhal', 'Namsai', 'Vidisha', 'Sindhudurg', 'Sitapur', 'Karur', 'Kancheepuram', 'Udaipur', 'Kanpur Dehat', 'Ferozepur', 'Dibrugarh', 'Siddharthnagar', 'Jagtial', 'Saharsa', 'Anjaw', 'Fatehpur', 'Siwan', 'Mon', 'Lepa Rada', 'Moga', 'South Delhi', 'Korba', 'Mumbai Suburban', 'Ariyalur', 'Dhalai', 'Bundi', 'Aurangabad', 'Pithoragarh', 'Dumka', 'Chamoli', 'Ramgarh', 'Nuh', 'Ganjam', 'Sivaganga', 'Medchal Malkajgiri', 'Imphal East', 'Nicobars', 'Kishtwar', 'Dhanbad', 'Aligarh', 'Wardha', 'Muzaffarabad', 'Arwal', 'Unnao', 'Karimganj', 'Uttara Kannada', 'Daman', 'South Sikkim', 'Karbi Anglong', 'Gomati', 'Kapurthala', 'Seoni']\n",
            "744\n"
          ],
          "name": "stdout"
        }
      ]
    },
    {
      "cell_type": "code",
      "metadata": {
        "colab": {
          "base_uri": "https://localhost:8080/",
          "height": 204
        },
        "id": "gXu19d0Dqkfl",
        "outputId": "49f7ff3f-1372-4d03-c21a-4aa19b3689bf"
      },
      "source": [
        "# Getting the state name from IndianStatesDistricts\n",
        "IndianStatesDistricts.head()"
      ],
      "execution_count": 208,
      "outputs": [
        {
          "output_type": "execute_result",
          "data": {
            "text/html": [
              "<div>\n",
              "<style scoped>\n",
              "    .dataframe tbody tr th:only-of-type {\n",
              "        vertical-align: middle;\n",
              "    }\n",
              "\n",
              "    .dataframe tbody tr th {\n",
              "        vertical-align: top;\n",
              "    }\n",
              "\n",
              "    .dataframe thead th {\n",
              "        text-align: right;\n",
              "    }\n",
              "</style>\n",
              "<table border=\"1\" class=\"dataframe\">\n",
              "  <thead>\n",
              "    <tr style=\"text-align: right;\">\n",
              "      <th></th>\n",
              "      <th>Date</th>\n",
              "      <th>State</th>\n",
              "      <th>District</th>\n",
              "      <th>Confirmed</th>\n",
              "      <th>Recovered</th>\n",
              "      <th>Deceased</th>\n",
              "      <th>Other</th>\n",
              "      <th>Tested</th>\n",
              "    </tr>\n",
              "  </thead>\n",
              "  <tbody>\n",
              "    <tr>\n",
              "      <th>0</th>\n",
              "      <td>2020-04-26</td>\n",
              "      <td>Andaman and Nicobar Islands</td>\n",
              "      <td>Unknown</td>\n",
              "      <td>33</td>\n",
              "      <td>11</td>\n",
              "      <td>0</td>\n",
              "      <td>0</td>\n",
              "      <td>2679.0</td>\n",
              "    </tr>\n",
              "    <tr>\n",
              "      <th>1</th>\n",
              "      <td>2020-04-26</td>\n",
              "      <td>Andhra Pradesh</td>\n",
              "      <td>Anantapur</td>\n",
              "      <td>53</td>\n",
              "      <td>14</td>\n",
              "      <td>4</td>\n",
              "      <td>0</td>\n",
              "      <td>NaN</td>\n",
              "    </tr>\n",
              "    <tr>\n",
              "      <th>2</th>\n",
              "      <td>2020-04-26</td>\n",
              "      <td>Andhra Pradesh</td>\n",
              "      <td>Chittoor</td>\n",
              "      <td>73</td>\n",
              "      <td>13</td>\n",
              "      <td>0</td>\n",
              "      <td>0</td>\n",
              "      <td>NaN</td>\n",
              "    </tr>\n",
              "    <tr>\n",
              "      <th>3</th>\n",
              "      <td>2020-04-26</td>\n",
              "      <td>Andhra Pradesh</td>\n",
              "      <td>East Godavari</td>\n",
              "      <td>39</td>\n",
              "      <td>12</td>\n",
              "      <td>0</td>\n",
              "      <td>0</td>\n",
              "      <td>NaN</td>\n",
              "    </tr>\n",
              "    <tr>\n",
              "      <th>4</th>\n",
              "      <td>2020-04-26</td>\n",
              "      <td>Andhra Pradesh</td>\n",
              "      <td>Guntur</td>\n",
              "      <td>214</td>\n",
              "      <td>29</td>\n",
              "      <td>8</td>\n",
              "      <td>0</td>\n",
              "      <td>NaN</td>\n",
              "    </tr>\n",
              "  </tbody>\n",
              "</table>\n",
              "</div>"
            ],
            "text/plain": [
              "         Date                        State  ... Other  Tested\n",
              "0  2020-04-26  Andaman and Nicobar Islands  ...     0  2679.0\n",
              "1  2020-04-26               Andhra Pradesh  ...     0     NaN\n",
              "2  2020-04-26               Andhra Pradesh  ...     0     NaN\n",
              "3  2020-04-26               Andhra Pradesh  ...     0     NaN\n",
              "4  2020-04-26               Andhra Pradesh  ...     0     NaN\n",
              "\n",
              "[5 rows x 8 columns]"
            ]
          },
          "metadata": {
            "tags": []
          },
          "execution_count": 208
        }
      ]
    },
    {
      "cell_type": "code",
      "metadata": {
        "id": "WjKgwsDmsFgP"
      },
      "source": [
        "# Dropping the rows that have unknown district names\n",
        "finalDFV4 = finalDFV3[~finalDFV3.Districts.str.contains(\"Unknown\")]"
      ],
      "execution_count": 230,
      "outputs": []
    },
    {
      "cell_type": "code",
      "metadata": {
        "id": "ToXNyUWwujFP"
      },
      "source": [
        "StateDisDF = IndianStatesDistricts.filter(['State', 'District'], axis=1)\n",
        "StateDisDFV1 = StateDisDF.rename(columns={'State':'States','District':'Districts'})"
      ],
      "execution_count": 232,
      "outputs": []
    },
    {
      "cell_type": "code",
      "metadata": {
        "id": "pvXlnsGRsXaH"
      },
      "source": [
        "# finding states for respective districts in Unique\n",
        "StateDisDFV1Dict = StateDisDFV1.set_index('States')['Districts'].to_dict()\n",
        "\n",
        "MatchStateDis = {}\n",
        "\n",
        "for districts in unique:\n",
        "  for states, districtsv1 in StateDisDFV1Dict.items():\n",
        "    if districtsv1 in districts:\n",
        "      # print(districts, states)\n",
        "      if states not in MatchStateDis:\n",
        "        MatchStateDis[states]=districts"
      ],
      "execution_count": 240,
      "outputs": []
    },
    {
      "cell_type": "code",
      "metadata": {
        "id": "9xyoS9iytPth"
      },
      "source": [
        "district_to_stateDF = pd.DataFrame.from_dict(MatchStateDis, orient='index')\n",
        "district_to_stateDFV1 = district_to_stateDF.reset_index()\n",
        "district_to_stateDFV2 = district_to_stateDFV1.rename(columns={'index': 'States', 0:'Districts'})\n",
        "finalDFV4.merge(district_to_stateDFV2, on = \"Districts\", how = \"left\").head(70)\n",
        "\n",
        "finalMerge =  finalDFV4.merge(district_to_stateDFV2, on = \"Districts\", how = \"left\")\n",
        "finalMerge.to_csv('COVID.csv')"
      ],
      "execution_count": 253,
      "outputs": []
    },
    {
      "cell_type": "code",
      "metadata": {
        "id": "_eMJBBYTxqVP"
      },
      "source": [
        ""
      ],
      "execution_count": null,
      "outputs": []
    }
  ]
}