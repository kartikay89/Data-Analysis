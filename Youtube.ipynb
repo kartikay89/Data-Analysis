{
  "nbformat": 4,
  "nbformat_minor": 0,
  "metadata": {
    "colab": {
      "name": "Youtube.ipynb",
      "provenance": [],
      "collapsed_sections": [],
      "mount_file_id": "1FuEIM9kBMMGZ3TFMsA8sYhx7f_bf6S0z",
      "authorship_tag": "ABX9TyOuzlDRKn0ZW2suLDLuuhWL",
      "include_colab_link": true
    },
    "kernelspec": {
      "name": "python3",
      "display_name": "Python 3"
    }
  },
  "cells": [
    {
      "cell_type": "markdown",
      "metadata": {
        "id": "view-in-github",
        "colab_type": "text"
      },
      "source": [
        "<a href=\"https://colab.research.google.com/github/kartikay89/Data-Analysis/blob/main/Youtube.ipynb\" target=\"_parent\"><img src=\"https://colab.research.google.com/assets/colab-badge.svg\" alt=\"Open In Colab\"/></a>"
      ]
    },
    {
      "cell_type": "markdown",
      "metadata": {
        "id": "8XkVJdQRNfQ4"
      },
      "source": [
        "**YouTube Data Analytics**\n",
        "\n",
        "Source:\n",
        " 1. https://www.kaggle.com/datasnaek/youtube-new?select=DEvideos.csv\n",
        "\n",
        " Google API:\n",
        " 1. https://github.com/googleapis/google-api-python-client\n",
        "\n",
        " Youtube API:\n",
        " 1. https://developers.google.com/youtube/v3/docs/?apix=true\n",
        " 2. https://developers.google.com/youtube/v3/docs/channels/list\n",
        "\n",
        " Documentation:\n",
        " 1. https://github.com/googleapis/google-api-python-client/blob/master/docs/README.md\n",
        " 2. https://github.com/googleapis/google-api-python-client/blob/master/docs/start.md\n",
        "\n",
        " APIs:\n",
        " 1. https://github.com/googleapis/google-api-python-client/blob/master/docs/dyn/index.md\n",
        " 2.https://googleapis.github.io/google-api-python-client/docs/dyn/youtube_v3.html"
      ]
    },
    {
      "cell_type": "markdown",
      "metadata": {
        "id": "MjbJ_5y4swzH"
      },
      "source": [
        "\n",
        "\n",
        "1.   Use 6(GitHub Docs) > youtube API access in 7.\n",
        "2.   Choose any paramater(ex: channels()) > search for the same in 3(youtube official doc)\n",
        "\n",
        "USE parameter from docs to see data.\n",
        "\n"
      ]
    },
    {
      "cell_type": "code",
      "metadata": {
        "id": "I9m3XvQMzhAE"
      },
      "source": [
        "api_key = '#'"
      ],
      "execution_count": 2,
      "outputs": []
    },
    {
      "cell_type": "code",
      "metadata": {
        "colab": {
          "base_uri": "https://localhost:8080/"
        },
        "id": "gVpu5ueBqaxc",
        "outputId": "669e0ec9-f0d4-40ca-9bbf-3715d2bbed58"
      },
      "source": [
        "!pip install google-api-python-client"
      ],
      "execution_count": 4,
      "outputs": [
        {
          "output_type": "stream",
          "text": [
            "Requirement already satisfied: google-api-python-client in /usr/local/lib/python3.6/dist-packages (1.7.12)\n",
            "Requirement already satisfied: six<2dev,>=1.6.1 in /usr/local/lib/python3.6/dist-packages (from google-api-python-client) (1.15.0)\n",
            "Requirement already satisfied: httplib2<1dev,>=0.17.0 in /usr/local/lib/python3.6/dist-packages (from google-api-python-client) (0.17.4)\n",
            "Requirement already satisfied: google-auth>=1.4.1 in /usr/local/lib/python3.6/dist-packages (from google-api-python-client) (1.17.2)\n",
            "Requirement already satisfied: uritemplate<4dev,>=3.0.0 in /usr/local/lib/python3.6/dist-packages (from google-api-python-client) (3.0.1)\n",
            "Requirement already satisfied: google-auth-httplib2>=0.0.3 in /usr/local/lib/python3.6/dist-packages (from google-api-python-client) (0.0.4)\n",
            "Requirement already satisfied: pyasn1-modules>=0.2.1 in /usr/local/lib/python3.6/dist-packages (from google-auth>=1.4.1->google-api-python-client) (0.2.8)\n",
            "Requirement already satisfied: cachetools<5.0,>=2.0.0 in /usr/local/lib/python3.6/dist-packages (from google-auth>=1.4.1->google-api-python-client) (4.2.0)\n",
            "Requirement already satisfied: rsa<5,>=3.1.4; python_version >= \"3\" in /usr/local/lib/python3.6/dist-packages (from google-auth>=1.4.1->google-api-python-client) (4.6)\n",
            "Requirement already satisfied: setuptools>=40.3.0 in /usr/local/lib/python3.6/dist-packages (from google-auth>=1.4.1->google-api-python-client) (51.3.3)\n",
            "Requirement already satisfied: pyasn1<0.5.0,>=0.4.6 in /usr/local/lib/python3.6/dist-packages (from pyasn1-modules>=0.2.1->google-auth>=1.4.1->google-api-python-client) (0.4.8)\n"
          ],
          "name": "stdout"
        }
      ]
    },
    {
      "cell_type": "code",
      "metadata": {
        "id": "ztrifeegq045"
      },
      "source": [
        "from googleapiclient.discovery import build"
      ],
      "execution_count": 5,
      "outputs": []
    },
    {
      "cell_type": "code",
      "metadata": {
        "colab": {
          "base_uri": "https://localhost:8080/"
        },
        "id": "-2ZnXOeNr6nu",
        "outputId": "e9893edb-bf66-4966-9f07-b139b5a8f371"
      },
      "source": [
        "youtube = build('youtube', 'v3', developerKey=api_key)\n",
        "youtube"
      ],
      "execution_count": 14,
      "outputs": [
        {
          "output_type": "execute_result",
          "data": {
            "text/plain": [
              "<googleapiclient.discovery.Resource at 0x7fc378910f60>"
            ]
          },
          "metadata": {
            "tags": []
          },
          "execution_count": 14
        }
      ]
    },
    {
      "cell_type": "code",
      "metadata": {
        "colab": {
          "base_uri": "https://localhost:8080/"
        },
        "id": "JEIizULgsDJH",
        "outputId": "82688540-e48d-4574-a021-d52a1be124fa"
      },
      "source": [
        "Channel_stats = []\n",
        "\n",
        "request = youtube.channels().list(\n",
        "    part = 'statistics',\n",
        "    id='UCnWmT6pyJmWtD-dN--8y_kg'\n",
        ")\n",
        "\n",
        "response = request.execute()\n",
        "print(response)\n",
        "Channel_stats.append(response)"
      ],
      "execution_count": 25,
      "outputs": [
        {
          "output_type": "stream",
          "text": [
            "{'kind': 'youtube#channelListResponse', 'etag': '5KCzfz8kfvMoZSYesY1Vnq_74P4', 'pageInfo': {'totalResults': 1, 'resultsPerPage': 5}, 'items': [{'kind': 'youtube#channel', 'etag': 'AejmAT0lE0-hlp1SHOJXX8ca2Ys', 'id': 'UCnWmT6pyJmWtD-dN--8y_kg', 'statistics': {'viewCount': '46', 'subscriberCount': '0', 'hiddenSubscriberCount': False, 'videoCount': '19'}}]}\n"
          ],
          "name": "stdout"
        }
      ]
    },
    {
      "cell_type": "code",
      "metadata": {
        "colab": {
          "base_uri": "https://localhost:8080/"
        },
        "id": "faSmMP9Ezay6",
        "outputId": "8ceb1cce-4990-425a-94e9-c20c82133428"
      },
      "source": [
        "ChannelInfo = Channel_stats[0]['items'][0]\n",
        "ChannelInfo"
      ],
      "execution_count": 44,
      "outputs": [
        {
          "output_type": "execute_result",
          "data": {
            "text/plain": [
              "{'etag': 'AejmAT0lE0-hlp1SHOJXX8ca2Ys',\n",
              " 'id': 'UCnWmT6pyJmWtD-dN--8y_kg',\n",
              " 'kind': 'youtube#channel',\n",
              " 'statistics': {'hiddenSubscriberCount': False,\n",
              "  'subscriberCount': '0',\n",
              "  'videoCount': '19',\n",
              "  'viewCount': '46'}}"
            ]
          },
          "metadata": {
            "tags": []
          },
          "execution_count": 44
        }
      ]
    },
    {
      "cell_type": "code",
      "metadata": {
        "colab": {
          "base_uri": "https://localhost:8080/"
        },
        "id": "89-Ov-ACzhJ0",
        "outputId": "38738026-1053-4ca3-8fb5-f91d6077227e"
      },
      "source": [
        "ChannelInfoDict = {}\n",
        "\n",
        "for key, values in ChannelInfo.items():\n",
        "  print(key, values)\n",
        "  if key not in ChannelInfoDict:\n",
        "    ChannelInfoDict[key]=values"
      ],
      "execution_count": 53,
      "outputs": [
        {
          "output_type": "stream",
          "text": [
            "kind youtube#channel\n",
            "etag AejmAT0lE0-hlp1SHOJXX8ca2Ys\n",
            "id UCnWmT6pyJmWtD-dN--8y_kg\n",
            "statistics {'viewCount': '46', 'subscriberCount': '0', 'hiddenSubscriberCount': False, 'videoCount': '19'}\n"
          ],
          "name": "stdout"
        }
      ]
    },
    {
      "cell_type": "code",
      "metadata": {
        "colab": {
          "base_uri": "https://localhost:8080/"
        },
        "id": "y_vmvEZz0mZL",
        "outputId": "34019d82-2774-435a-b28c-8de0b9864253"
      },
      "source": [
        "ChannelInfoDict['statistics']"
      ],
      "execution_count": 54,
      "outputs": [
        {
          "output_type": "execute_result",
          "data": {
            "text/plain": [
              "{'hiddenSubscriberCount': False,\n",
              " 'subscriberCount': '0',\n",
              " 'videoCount': '19',\n",
              " 'viewCount': '46'}"
            ]
          },
          "metadata": {
            "tags": []
          },
          "execution_count": 54
        }
      ]
    },
    {
      "cell_type": "code",
      "metadata": {
        "colab": {
          "base_uri": "https://localhost:8080/"
        },
        "id": "WartkX2p1ZpW",
        "outputId": "a062a544-09ef-47b9-b29e-6a5d09a759b6"
      },
      "source": [
        "# UCNSdjX4ry9fICqeObdZPAZQ\n",
        "\n",
        "requestFB = youtube.channels().list(\n",
        "    part = 'statistics',\n",
        "    id='UCNSdjX4ry9fICqeObdZPAZQ'\n",
        ")\n",
        "\n",
        "response = requestFB.execute()\n",
        "print(response)"
      ],
      "execution_count": 56,
      "outputs": [
        {
          "output_type": "stream",
          "text": [
            "{'kind': 'youtube#channelListResponse', 'etag': 'cjGe6Oz6NZyR0hIw8d98B4oq9Fc', 'pageInfo': {'totalResults': 1, 'resultsPerPage': 5}, 'items': [{'kind': 'youtube#channel', 'etag': 'CD-tQpmyqdQousdJ4O9IVt-dN0Q', 'id': 'UCNSdjX4ry9fICqeObdZPAZQ', 'statistics': {'viewCount': '1368665778', 'subscriberCount': '4560000', 'hiddenSubscriberCount': False, 'videoCount': '652'}}]}\n"
          ],
          "name": "stdout"
        }
      ]
    },
    {
      "cell_type": "markdown",
      "metadata": {
        "id": "C-z0hvyB3hes"
      },
      "source": [
        "**Kaggle Dataset**"
      ]
    },
    {
      "cell_type": "code",
      "metadata": {
        "id": "OfOxHqW43gn1"
      },
      "source": [
        "import pandas as pd\n",
        "import matplotlib.pyplot as plt\n"
      ],
      "execution_count": 134,
      "outputs": []
    },
    {
      "cell_type": "code",
      "metadata": {
        "colab": {
          "base_uri": "https://localhost:8080/",
          "height": 547
        },
        "id": "dF0TxMms3nCT",
        "outputId": "3ea8feb9-f54d-419e-aafe-39796899b1c6"
      },
      "source": [
        "youtubeDF = pd.read_csv('/content/drive/MyDrive/Google Colab Data /INvideos.csv')\n",
        "youtubeDF.head(5)"
      ],
      "execution_count": 60,
      "outputs": [
        {
          "output_type": "execute_result",
          "data": {
            "text/html": [
              "<div>\n",
              "<style scoped>\n",
              "    .dataframe tbody tr th:only-of-type {\n",
              "        vertical-align: middle;\n",
              "    }\n",
              "\n",
              "    .dataframe tbody tr th {\n",
              "        vertical-align: top;\n",
              "    }\n",
              "\n",
              "    .dataframe thead th {\n",
              "        text-align: right;\n",
              "    }\n",
              "</style>\n",
              "<table border=\"1\" class=\"dataframe\">\n",
              "  <thead>\n",
              "    <tr style=\"text-align: right;\">\n",
              "      <th></th>\n",
              "      <th>video_id</th>\n",
              "      <th>trending_date</th>\n",
              "      <th>title</th>\n",
              "      <th>channel_title</th>\n",
              "      <th>category_id</th>\n",
              "      <th>publish_time</th>\n",
              "      <th>tags</th>\n",
              "      <th>views</th>\n",
              "      <th>likes</th>\n",
              "      <th>dislikes</th>\n",
              "      <th>comment_count</th>\n",
              "      <th>thumbnail_link</th>\n",
              "      <th>comments_disabled</th>\n",
              "      <th>ratings_disabled</th>\n",
              "      <th>video_error_or_removed</th>\n",
              "      <th>description</th>\n",
              "    </tr>\n",
              "  </thead>\n",
              "  <tbody>\n",
              "    <tr>\n",
              "      <th>0</th>\n",
              "      <td>kzwfHumJyYc</td>\n",
              "      <td>17.14.11</td>\n",
              "      <td>Sharry Mann: Cute Munda ( Song Teaser) | Parmi...</td>\n",
              "      <td>Lokdhun Punjabi</td>\n",
              "      <td>1</td>\n",
              "      <td>2017-11-12T12:20:39.000Z</td>\n",
              "      <td>sharry mann|\"sharry mann new song\"|\"sharry man...</td>\n",
              "      <td>1096327</td>\n",
              "      <td>33966</td>\n",
              "      <td>798</td>\n",
              "      <td>882</td>\n",
              "      <td>https://i.ytimg.com/vi/kzwfHumJyYc/default.jpg</td>\n",
              "      <td>False</td>\n",
              "      <td>False</td>\n",
              "      <td>False</td>\n",
              "      <td>Presenting Sharry Mann latest Punjabi Song  Cu...</td>\n",
              "    </tr>\n",
              "    <tr>\n",
              "      <th>1</th>\n",
              "      <td>zUZ1z7FwLc8</td>\n",
              "      <td>17.14.11</td>\n",
              "      <td>पीरियड्स के समय, पेट पर पति करता ऐसा, देखकर दं...</td>\n",
              "      <td>HJ NEWS</td>\n",
              "      <td>25</td>\n",
              "      <td>2017-11-13T05:43:56.000Z</td>\n",
              "      <td>पीरियड्स के समय|\"पेट पर पति करता ऐसा\"|\"देखकर द...</td>\n",
              "      <td>590101</td>\n",
              "      <td>735</td>\n",
              "      <td>904</td>\n",
              "      <td>0</td>\n",
              "      <td>https://i.ytimg.com/vi/zUZ1z7FwLc8/default.jpg</td>\n",
              "      <td>True</td>\n",
              "      <td>False</td>\n",
              "      <td>False</td>\n",
              "      <td>पीरियड्स के समय, पेट पर पति करता ऐसा, देखकर दं...</td>\n",
              "    </tr>\n",
              "    <tr>\n",
              "      <th>2</th>\n",
              "      <td>10L1hZ9qa58</td>\n",
              "      <td>17.14.11</td>\n",
              "      <td>Stylish Star Allu Arjun @ ChaySam Wedding Rece...</td>\n",
              "      <td>TFPC</td>\n",
              "      <td>24</td>\n",
              "      <td>2017-11-12T15:48:08.000Z</td>\n",
              "      <td>Stylish Star Allu Arjun @ ChaySam Wedding Rece...</td>\n",
              "      <td>473988</td>\n",
              "      <td>2011</td>\n",
              "      <td>243</td>\n",
              "      <td>149</td>\n",
              "      <td>https://i.ytimg.com/vi/10L1hZ9qa58/default.jpg</td>\n",
              "      <td>False</td>\n",
              "      <td>False</td>\n",
              "      <td>False</td>\n",
              "      <td>Watch Stylish Star Allu Arjun @ ChaySam Weddin...</td>\n",
              "    </tr>\n",
              "    <tr>\n",
              "      <th>3</th>\n",
              "      <td>N1vE8iiEg64</td>\n",
              "      <td>17.14.11</td>\n",
              "      <td>Eruma Saani | Tamil vs English</td>\n",
              "      <td>Eruma Saani</td>\n",
              "      <td>23</td>\n",
              "      <td>2017-11-12T07:08:48.000Z</td>\n",
              "      <td>Eruma Saani|\"Tamil Comedy Videos\"|\"Films\"|\"Mov...</td>\n",
              "      <td>1242680</td>\n",
              "      <td>70353</td>\n",
              "      <td>1624</td>\n",
              "      <td>2684</td>\n",
              "      <td>https://i.ytimg.com/vi/N1vE8iiEg64/default.jpg</td>\n",
              "      <td>False</td>\n",
              "      <td>False</td>\n",
              "      <td>False</td>\n",
              "      <td>This video showcases the difference between pe...</td>\n",
              "    </tr>\n",
              "    <tr>\n",
              "      <th>4</th>\n",
              "      <td>kJzGH0PVQHQ</td>\n",
              "      <td>17.14.11</td>\n",
              "      <td>why Samantha became EMOTIONAL @ Samantha naga ...</td>\n",
              "      <td>Filmylooks</td>\n",
              "      <td>24</td>\n",
              "      <td>2017-11-13T01:14:16.000Z</td>\n",
              "      <td>Filmylooks|\"latest news\"|\"telugu movies\"|\"telu...</td>\n",
              "      <td>464015</td>\n",
              "      <td>492</td>\n",
              "      <td>293</td>\n",
              "      <td>66</td>\n",
              "      <td>https://i.ytimg.com/vi/kJzGH0PVQHQ/default.jpg</td>\n",
              "      <td>False</td>\n",
              "      <td>False</td>\n",
              "      <td>False</td>\n",
              "      <td>why Samantha became EMOTIONAL @ Samantha naga ...</td>\n",
              "    </tr>\n",
              "  </tbody>\n",
              "</table>\n",
              "</div>"
            ],
            "text/plain": [
              "      video_id  ...                                        description\n",
              "0  kzwfHumJyYc  ...  Presenting Sharry Mann latest Punjabi Song  Cu...\n",
              "1  zUZ1z7FwLc8  ...  पीरियड्स के समय, पेट पर पति करता ऐसा, देखकर दं...\n",
              "2  10L1hZ9qa58  ...  Watch Stylish Star Allu Arjun @ ChaySam Weddin...\n",
              "3  N1vE8iiEg64  ...  This video showcases the difference between pe...\n",
              "4  kJzGH0PVQHQ  ...  why Samantha became EMOTIONAL @ Samantha naga ...\n",
              "\n",
              "[5 rows x 16 columns]"
            ]
          },
          "metadata": {
            "tags": []
          },
          "execution_count": 60
        }
      ]
    },
    {
      "cell_type": "code",
      "metadata": {
        "colab": {
          "base_uri": "https://localhost:8080/",
          "height": 204
        },
        "id": "QTEdVMfI31LE",
        "outputId": "41aa7660-9f92-4b94-a7b3-abeb875dfd5b"
      },
      "source": [
        "# Let us first filter the dataset for essential columns for our analysis\n",
        "filteredYoutubeDF = youtubeDF.filter(['title', 'channel_title', 'publish_time', 'views', 'likes', 'dislikes', 'comment_count'])\n",
        "filteredYoutubeDF.head()"
      ],
      "execution_count": 72,
      "outputs": [
        {
          "output_type": "execute_result",
          "data": {
            "text/html": [
              "<div>\n",
              "<style scoped>\n",
              "    .dataframe tbody tr th:only-of-type {\n",
              "        vertical-align: middle;\n",
              "    }\n",
              "\n",
              "    .dataframe tbody tr th {\n",
              "        vertical-align: top;\n",
              "    }\n",
              "\n",
              "    .dataframe thead th {\n",
              "        text-align: right;\n",
              "    }\n",
              "</style>\n",
              "<table border=\"1\" class=\"dataframe\">\n",
              "  <thead>\n",
              "    <tr style=\"text-align: right;\">\n",
              "      <th></th>\n",
              "      <th>title</th>\n",
              "      <th>channel_title</th>\n",
              "      <th>publish_time</th>\n",
              "      <th>views</th>\n",
              "      <th>likes</th>\n",
              "      <th>dislikes</th>\n",
              "      <th>comment_count</th>\n",
              "    </tr>\n",
              "  </thead>\n",
              "  <tbody>\n",
              "    <tr>\n",
              "      <th>0</th>\n",
              "      <td>Sharry Mann: Cute Munda ( Song Teaser) | Parmi...</td>\n",
              "      <td>Lokdhun Punjabi</td>\n",
              "      <td>2017-11-12T12:20:39.000Z</td>\n",
              "      <td>1096327</td>\n",
              "      <td>33966</td>\n",
              "      <td>798</td>\n",
              "      <td>882</td>\n",
              "    </tr>\n",
              "    <tr>\n",
              "      <th>1</th>\n",
              "      <td>पीरियड्स के समय, पेट पर पति करता ऐसा, देखकर दं...</td>\n",
              "      <td>HJ NEWS</td>\n",
              "      <td>2017-11-13T05:43:56.000Z</td>\n",
              "      <td>590101</td>\n",
              "      <td>735</td>\n",
              "      <td>904</td>\n",
              "      <td>0</td>\n",
              "    </tr>\n",
              "    <tr>\n",
              "      <th>2</th>\n",
              "      <td>Stylish Star Allu Arjun @ ChaySam Wedding Rece...</td>\n",
              "      <td>TFPC</td>\n",
              "      <td>2017-11-12T15:48:08.000Z</td>\n",
              "      <td>473988</td>\n",
              "      <td>2011</td>\n",
              "      <td>243</td>\n",
              "      <td>149</td>\n",
              "    </tr>\n",
              "    <tr>\n",
              "      <th>3</th>\n",
              "      <td>Eruma Saani | Tamil vs English</td>\n",
              "      <td>Eruma Saani</td>\n",
              "      <td>2017-11-12T07:08:48.000Z</td>\n",
              "      <td>1242680</td>\n",
              "      <td>70353</td>\n",
              "      <td>1624</td>\n",
              "      <td>2684</td>\n",
              "    </tr>\n",
              "    <tr>\n",
              "      <th>4</th>\n",
              "      <td>why Samantha became EMOTIONAL @ Samantha naga ...</td>\n",
              "      <td>Filmylooks</td>\n",
              "      <td>2017-11-13T01:14:16.000Z</td>\n",
              "      <td>464015</td>\n",
              "      <td>492</td>\n",
              "      <td>293</td>\n",
              "      <td>66</td>\n",
              "    </tr>\n",
              "  </tbody>\n",
              "</table>\n",
              "</div>"
            ],
            "text/plain": [
              "                                               title  ... comment_count\n",
              "0  Sharry Mann: Cute Munda ( Song Teaser) | Parmi...  ...           882\n",
              "1  पीरियड्स के समय, पेट पर पति करता ऐसा, देखकर दं...  ...             0\n",
              "2  Stylish Star Allu Arjun @ ChaySam Wedding Rece...  ...           149\n",
              "3                     Eruma Saani | Tamil vs English  ...          2684\n",
              "4  why Samantha became EMOTIONAL @ Samantha naga ...  ...            66\n",
              "\n",
              "[5 rows x 7 columns]"
            ]
          },
          "metadata": {
            "tags": []
          },
          "execution_count": 72
        }
      ]
    },
    {
      "cell_type": "code",
      "metadata": {
        "colab": {
          "base_uri": "https://localhost:8080/",
          "height": 221
        },
        "id": "8uDHFHYd5fAP",
        "outputId": "a030f8cc-98e8-4163-cf56-0ed616ca37c1"
      },
      "source": [
        "# let us see a particular channel's trend.\n",
        "YRFDF = filteredYoutubeDF[filteredYoutubeDF['channel_title'] == 'YRF']\n",
        "print('Records in Yrf DF: ', len(YRFDF))\n",
        "YRFDFV1 = YRFDF.reset_index()\n",
        "YRFDFV2 = YRFDFV1.drop(columns=['index'])\n",
        "YRFDFV2.head()"
      ],
      "execution_count": 113,
      "outputs": [
        {
          "output_type": "stream",
          "text": [
            "Records in Yrf DF:  93\n"
          ],
          "name": "stdout"
        },
        {
          "output_type": "execute_result",
          "data": {
            "text/html": [
              "<div>\n",
              "<style scoped>\n",
              "    .dataframe tbody tr th:only-of-type {\n",
              "        vertical-align: middle;\n",
              "    }\n",
              "\n",
              "    .dataframe tbody tr th {\n",
              "        vertical-align: top;\n",
              "    }\n",
              "\n",
              "    .dataframe thead th {\n",
              "        text-align: right;\n",
              "    }\n",
              "</style>\n",
              "<table border=\"1\" class=\"dataframe\">\n",
              "  <thead>\n",
              "    <tr style=\"text-align: right;\">\n",
              "      <th></th>\n",
              "      <th>title</th>\n",
              "      <th>channel_title</th>\n",
              "      <th>publish_time</th>\n",
              "      <th>views</th>\n",
              "      <th>likes</th>\n",
              "      <th>dislikes</th>\n",
              "      <th>comment_count</th>\n",
              "    </tr>\n",
              "  </thead>\n",
              "  <tbody>\n",
              "    <tr>\n",
              "      <th>0</th>\n",
              "      <td>Tiger Zinda Hai | Official Trailer | Salman Kh...</td>\n",
              "      <td>YRF</td>\n",
              "      <td>2017-11-07T06:01:50.000Z</td>\n",
              "      <td>35885754</td>\n",
              "      <td>829362</td>\n",
              "      <td>61195</td>\n",
              "      <td>101117</td>\n",
              "    </tr>\n",
              "    <tr>\n",
              "      <th>1</th>\n",
              "      <td>Tiger Zinda Hai | Official Trailer | Salman Kh...</td>\n",
              "      <td>YRF</td>\n",
              "      <td>2017-11-07T06:01:50.000Z</td>\n",
              "      <td>37533416</td>\n",
              "      <td>853550</td>\n",
              "      <td>62858</td>\n",
              "      <td>102740</td>\n",
              "    </tr>\n",
              "    <tr>\n",
              "      <th>2</th>\n",
              "      <td>Tiger Zinda Hai | Official Trailer | Salman Kh...</td>\n",
              "      <td>YRF</td>\n",
              "      <td>2017-11-07T06:01:50.000Z</td>\n",
              "      <td>38664360</td>\n",
              "      <td>865914</td>\n",
              "      <td>63908</td>\n",
              "      <td>103907</td>\n",
              "    </tr>\n",
              "    <tr>\n",
              "      <th>3</th>\n",
              "      <td>Swag Se Swagat Song | Official Teaser | Salman...</td>\n",
              "      <td>YRF</td>\n",
              "      <td>2017-11-20T08:40:48.000Z</td>\n",
              "      <td>1628016</td>\n",
              "      <td>38511</td>\n",
              "      <td>3070</td>\n",
              "      <td>3024</td>\n",
              "    </tr>\n",
              "    <tr>\n",
              "      <th>4</th>\n",
              "      <td>Swag Se Swagat Song | Official Teaser | Salman...</td>\n",
              "      <td>YRF</td>\n",
              "      <td>2017-11-20T08:40:48.000Z</td>\n",
              "      <td>2790320</td>\n",
              "      <td>46228</td>\n",
              "      <td>5088</td>\n",
              "      <td>3807</td>\n",
              "    </tr>\n",
              "  </tbody>\n",
              "</table>\n",
              "</div>"
            ],
            "text/plain": [
              "                                               title  ... comment_count\n",
              "0  Tiger Zinda Hai | Official Trailer | Salman Kh...  ...        101117\n",
              "1  Tiger Zinda Hai | Official Trailer | Salman Kh...  ...        102740\n",
              "2  Tiger Zinda Hai | Official Trailer | Salman Kh...  ...        103907\n",
              "3  Swag Se Swagat Song | Official Teaser | Salman...  ...          3024\n",
              "4  Swag Se Swagat Song | Official Teaser | Salman...  ...          3807\n",
              "\n",
              "[5 rows x 7 columns]"
            ]
          },
          "metadata": {
            "tags": []
          },
          "execution_count": 113
        }
      ]
    },
    {
      "cell_type": "code",
      "metadata": {
        "id": "esVty6aj5yvX"
      },
      "source": [
        "splitData = pd.DataFrame(YRFDFV2.title.str.split(\"|\", expand=True))\n",
        "splitDataV1 = splitData.rename(columns={0:'Songs'})\n",
        "splitDataV2 = splitDataV1.drop(columns=[1,2,3,4,5]).reset_index()\n",
        "splitDataV3 = splitDataV2.drop(columns=['index'])"
      ],
      "execution_count": 119,
      "outputs": []
    },
    {
      "cell_type": "code",
      "metadata": {
        "colab": {
          "base_uri": "https://localhost:8080/",
          "height": 204
        },
        "id": "MBZYLTdF6lrg",
        "outputId": "3b8263c2-3b25-497b-eb0c-0428b8ec241f"
      },
      "source": [
        "YRFDFV2['Song']=splitDataV3\n",
        "YRFDFV3 = YRFDFV2.drop(columns=['title'])\n",
        "YRFDFV3.head()"
      ],
      "execution_count": 118,
      "outputs": [
        {
          "output_type": "execute_result",
          "data": {
            "text/html": [
              "<div>\n",
              "<style scoped>\n",
              "    .dataframe tbody tr th:only-of-type {\n",
              "        vertical-align: middle;\n",
              "    }\n",
              "\n",
              "    .dataframe tbody tr th {\n",
              "        vertical-align: top;\n",
              "    }\n",
              "\n",
              "    .dataframe thead th {\n",
              "        text-align: right;\n",
              "    }\n",
              "</style>\n",
              "<table border=\"1\" class=\"dataframe\">\n",
              "  <thead>\n",
              "    <tr style=\"text-align: right;\">\n",
              "      <th></th>\n",
              "      <th>channel_title</th>\n",
              "      <th>publish_time</th>\n",
              "      <th>views</th>\n",
              "      <th>likes</th>\n",
              "      <th>dislikes</th>\n",
              "      <th>comment_count</th>\n",
              "      <th>Song</th>\n",
              "    </tr>\n",
              "  </thead>\n",
              "  <tbody>\n",
              "    <tr>\n",
              "      <th>0</th>\n",
              "      <td>YRF</td>\n",
              "      <td>2017-11-07T06:01:50.000Z</td>\n",
              "      <td>35885754</td>\n",
              "      <td>829362</td>\n",
              "      <td>61195</td>\n",
              "      <td>101117</td>\n",
              "      <td>Tiger Zinda Hai</td>\n",
              "    </tr>\n",
              "    <tr>\n",
              "      <th>1</th>\n",
              "      <td>YRF</td>\n",
              "      <td>2017-11-07T06:01:50.000Z</td>\n",
              "      <td>37533416</td>\n",
              "      <td>853550</td>\n",
              "      <td>62858</td>\n",
              "      <td>102740</td>\n",
              "      <td>Tiger Zinda Hai</td>\n",
              "    </tr>\n",
              "    <tr>\n",
              "      <th>2</th>\n",
              "      <td>YRF</td>\n",
              "      <td>2017-11-07T06:01:50.000Z</td>\n",
              "      <td>38664360</td>\n",
              "      <td>865914</td>\n",
              "      <td>63908</td>\n",
              "      <td>103907</td>\n",
              "      <td>Tiger Zinda Hai</td>\n",
              "    </tr>\n",
              "    <tr>\n",
              "      <th>3</th>\n",
              "      <td>YRF</td>\n",
              "      <td>2017-11-20T08:40:48.000Z</td>\n",
              "      <td>1628016</td>\n",
              "      <td>38511</td>\n",
              "      <td>3070</td>\n",
              "      <td>3024</td>\n",
              "      <td>Swag Se Swagat Song</td>\n",
              "    </tr>\n",
              "    <tr>\n",
              "      <th>4</th>\n",
              "      <td>YRF</td>\n",
              "      <td>2017-11-20T08:40:48.000Z</td>\n",
              "      <td>2790320</td>\n",
              "      <td>46228</td>\n",
              "      <td>5088</td>\n",
              "      <td>3807</td>\n",
              "      <td>Swag Se Swagat Song</td>\n",
              "    </tr>\n",
              "  </tbody>\n",
              "</table>\n",
              "</div>"
            ],
            "text/plain": [
              "  channel_title              publish_time  ...  comment_count                  Song\n",
              "0           YRF  2017-11-07T06:01:50.000Z  ...         101117      Tiger Zinda Hai \n",
              "1           YRF  2017-11-07T06:01:50.000Z  ...         102740      Tiger Zinda Hai \n",
              "2           YRF  2017-11-07T06:01:50.000Z  ...         103907      Tiger Zinda Hai \n",
              "3           YRF  2017-11-20T08:40:48.000Z  ...           3024  Swag Se Swagat Song \n",
              "4           YRF  2017-11-20T08:40:48.000Z  ...           3807  Swag Se Swagat Song \n",
              "\n",
              "[5 rows x 7 columns]"
            ]
          },
          "metadata": {
            "tags": []
          },
          "execution_count": 118
        }
      ]
    },
    {
      "cell_type": "code",
      "metadata": {
        "colab": {
          "base_uri": "https://localhost:8080/",
          "height": 807
        },
        "id": "V-ZvrM7z8LXz",
        "outputId": "a72c11b9-754d-404f-f21f-754209608817"
      },
      "source": [
        "# songs performance from YRF\n",
        "duplicatesDrop = YRFDFV3.drop_duplicates(subset=['Song'])\n",
        "\n",
        "songPerfDF = duplicatesDrop.rename(columns={'Song': ''})\n",
        "songPerfDFV1 = songPerfDF.set_index(songPerfDF.iloc[:, -1])\n",
        "songPerfDFV2 = songPerfDFV1.drop(columns=['channel_title', 'publish_time'])\n",
        "songPerfDFV3 = songPerfDFV2.drop(songPerfDFV2.columns[-1], axis=1)\n",
        "\n",
        "songPerfDFV3"
      ],
      "execution_count": 148,
      "outputs": [
        {
          "output_type": "execute_result",
          "data": {
            "text/html": [
              "<div>\n",
              "<style scoped>\n",
              "    .dataframe tbody tr th:only-of-type {\n",
              "        vertical-align: middle;\n",
              "    }\n",
              "\n",
              "    .dataframe tbody tr th {\n",
              "        vertical-align: top;\n",
              "    }\n",
              "\n",
              "    .dataframe thead th {\n",
              "        text-align: right;\n",
              "    }\n",
              "</style>\n",
              "<table border=\"1\" class=\"dataframe\">\n",
              "  <thead>\n",
              "    <tr style=\"text-align: right;\">\n",
              "      <th></th>\n",
              "      <th>views</th>\n",
              "      <th>likes</th>\n",
              "      <th>dislikes</th>\n",
              "      <th>comment_count</th>\n",
              "    </tr>\n",
              "    <tr>\n",
              "      <th></th>\n",
              "      <th></th>\n",
              "      <th></th>\n",
              "      <th></th>\n",
              "      <th></th>\n",
              "    </tr>\n",
              "  </thead>\n",
              "  <tbody>\n",
              "    <tr>\n",
              "      <th>Tiger Zinda Hai</th>\n",
              "      <td>35885754</td>\n",
              "      <td>829362</td>\n",
              "      <td>61195</td>\n",
              "      <td>101117</td>\n",
              "    </tr>\n",
              "    <tr>\n",
              "      <th>Swag Se Swagat Song</th>\n",
              "      <td>1628016</td>\n",
              "      <td>38511</td>\n",
              "      <td>3070</td>\n",
              "      <td>3024</td>\n",
              "    </tr>\n",
              "    <tr>\n",
              "      <th>Dil Diyan Gallan Song</th>\n",
              "      <td>15766864</td>\n",
              "      <td>498380</td>\n",
              "      <td>15660</td>\n",
              "      <td>40008</td>\n",
              "    </tr>\n",
              "    <tr>\n",
              "      <th>Dil Diyan Gallan - Full Song Audio</th>\n",
              "      <td>4947643</td>\n",
              "      <td>76326</td>\n",
              "      <td>2945</td>\n",
              "      <td>5484</td>\n",
              "    </tr>\n",
              "    <tr>\n",
              "      <th>Tiger vs Wolves  - Promo</th>\n",
              "      <td>1070885</td>\n",
              "      <td>33231</td>\n",
              "      <td>1648</td>\n",
              "      <td>2509</td>\n",
              "    </tr>\n",
              "    <tr>\n",
              "      <th>Zinda Hai Song</th>\n",
              "      <td>3573174</td>\n",
              "      <td>68387</td>\n",
              "      <td>2898</td>\n",
              "      <td>3875</td>\n",
              "    </tr>\n",
              "    <tr>\n",
              "      <th>Hichki</th>\n",
              "      <td>6057662</td>\n",
              "      <td>109167</td>\n",
              "      <td>2557</td>\n",
              "      <td>5522</td>\n",
              "    </tr>\n",
              "    <tr>\n",
              "      <th>Making of Tiger vs Wolves</th>\n",
              "      <td>1608102</td>\n",
              "      <td>29445</td>\n",
              "      <td>1285</td>\n",
              "      <td>953</td>\n",
              "    </tr>\n",
              "    <tr>\n",
              "      <th>Making of Tiger Zinda Hai Trailer</th>\n",
              "      <td>773072</td>\n",
              "      <td>13027</td>\n",
              "      <td>618</td>\n",
              "      <td>622</td>\n",
              "    </tr>\n",
              "    <tr>\n",
              "      <th>Making of Tiger Zinda Hai - Military Support</th>\n",
              "      <td>754418</td>\n",
              "      <td>11721</td>\n",
              "      <td>467</td>\n",
              "      <td>372</td>\n",
              "    </tr>\n",
              "    <tr>\n",
              "      <th>Oil Tanker Blast</th>\n",
              "      <td>229464</td>\n",
              "      <td>5858</td>\n",
              "      <td>189</td>\n",
              "      <td>336</td>\n",
              "    </tr>\n",
              "    <tr>\n",
              "      <th>Tera Noor Song</th>\n",
              "      <td>779867</td>\n",
              "      <td>25105</td>\n",
              "      <td>882</td>\n",
              "      <td>1780</td>\n",
              "    </tr>\n",
              "    <tr>\n",
              "      <th>Valentine's Special 2018 - Audio Jukebox</th>\n",
              "      <td>105850</td>\n",
              "      <td>3976</td>\n",
              "      <td>173</td>\n",
              "      <td>322</td>\n",
              "    </tr>\n",
              "    <tr>\n",
              "      <th>Oye Hichki Song Teaser</th>\n",
              "      <td>375809</td>\n",
              "      <td>2808</td>\n",
              "      <td>792</td>\n",
              "      <td>388</td>\n",
              "    </tr>\n",
              "    <tr>\n",
              "      <th>Oye Hichki Song</th>\n",
              "      <td>4279243</td>\n",
              "      <td>5998</td>\n",
              "      <td>924</td>\n",
              "      <td>410</td>\n",
              "    </tr>\n",
              "    <tr>\n",
              "      <th>Madamji Go Easy - The Prank Song</th>\n",
              "      <td>3337914</td>\n",
              "      <td>3776</td>\n",
              "      <td>466</td>\n",
              "      <td>270</td>\n",
              "    </tr>\n",
              "    <tr>\n",
              "      <th>Khol De Par Song</th>\n",
              "      <td>3166123</td>\n",
              "      <td>4841</td>\n",
              "      <td>218</td>\n",
              "      <td>412</td>\n",
              "    </tr>\n",
              "    <tr>\n",
              "      <th>Shah Rukh Khan ki Hichki</th>\n",
              "      <td>316144</td>\n",
              "      <td>7438</td>\n",
              "      <td>340</td>\n",
              "      <td>458</td>\n",
              "    </tr>\n",
              "    <tr>\n",
              "      <th>Salman Khan ki Hichki</th>\n",
              "      <td>196152</td>\n",
              "      <td>7716</td>\n",
              "      <td>279</td>\n",
              "      <td>522</td>\n",
              "    </tr>\n",
              "    <tr>\n",
              "      <th>Swag Se Swagat - Full Song</th>\n",
              "      <td>429785</td>\n",
              "      <td>10151</td>\n",
              "      <td>500</td>\n",
              "      <td>792</td>\n",
              "    </tr>\n",
              "    <tr>\n",
              "      <th>Dil Diyan Gallan - Full Song</th>\n",
              "      <td>407726</td>\n",
              "      <td>9562</td>\n",
              "      <td>376</td>\n",
              "      <td>884</td>\n",
              "    </tr>\n",
              "    <tr>\n",
              "      <th>Ranbir Kapoor in and as SHAMSHERA</th>\n",
              "      <td>1767675</td>\n",
              "      <td>35099</td>\n",
              "      <td>2779</td>\n",
              "      <td>2671</td>\n",
              "    </tr>\n",
              "    <tr>\n",
              "      <th>SHAMSHERA</th>\n",
              "      <td>3546313</td>\n",
              "      <td>55654</td>\n",
              "      <td>4799</td>\n",
              "      <td>3977</td>\n",
              "    </tr>\n",
              "    <tr>\n",
              "      <th>Bulleya Reprise</th>\n",
              "      <td>114943</td>\n",
              "      <td>6807</td>\n",
              "      <td>139</td>\n",
              "      <td>432</td>\n",
              "    </tr>\n",
              "  </tbody>\n",
              "</table>\n",
              "</div>"
            ],
            "text/plain": [
              "                                                  views  ...  comment_count\n",
              "                                                         ...               \n",
              "Tiger Zinda Hai                                35885754  ...         101117\n",
              "Swag Se Swagat Song                             1628016  ...           3024\n",
              "Dil Diyan Gallan Song                          15766864  ...          40008\n",
              "Dil Diyan Gallan - Full Song Audio              4947643  ...           5484\n",
              "Tiger vs Wolves  - Promo                        1070885  ...           2509\n",
              "Zinda Hai Song                                  3573174  ...           3875\n",
              "Hichki                                          6057662  ...           5522\n",
              "Making of Tiger vs Wolves                       1608102  ...            953\n",
              "Making of Tiger Zinda Hai Trailer                773072  ...            622\n",
              "Making of Tiger Zinda Hai - Military Support     754418  ...            372\n",
              "Oil Tanker Blast                                 229464  ...            336\n",
              "Tera Noor Song                                   779867  ...           1780\n",
              "Valentine's Special 2018 - Audio Jukebox         105850  ...            322\n",
              "Oye Hichki Song Teaser                           375809  ...            388\n",
              "Oye Hichki Song                                 4279243  ...            410\n",
              "Madamji Go Easy - The Prank Song                3337914  ...            270\n",
              "Khol De Par Song                                3166123  ...            412\n",
              "Shah Rukh Khan ki Hichki                         316144  ...            458\n",
              "Salman Khan ki Hichki                            196152  ...            522\n",
              "Swag Se Swagat - Full Song                       429785  ...            792\n",
              "Dil Diyan Gallan - Full Song                     407726  ...            884\n",
              "Ranbir Kapoor in and as SHAMSHERA               1767675  ...           2671\n",
              "SHAMSHERA                                       3546313  ...           3977\n",
              "Bulleya Reprise                                  114943  ...            432\n",
              "\n",
              "[24 rows x 4 columns]"
            ]
          },
          "metadata": {
            "tags": []
          },
          "execution_count": 148
        }
      ]
    },
    {
      "cell_type": "code",
      "metadata": {
        "colab": {
          "base_uri": "https://localhost:8080/",
          "height": 819
        },
        "id": "PHgiGMvs-z7R",
        "outputId": "c4200d27-625b-4b79-f9c9-ced80a09385d"
      },
      "source": [
        "songPerfDFV3.plot.bar(rot=90, figsize=(30,10))\n",
        "plt.ticklabel_format(style='plain', axis='y')\n",
        "plt.title('Performance of YRF songs on Youtube')\n",
        "plt.show()"
      ],
      "execution_count": 149,
      "outputs": [
        {
          "output_type": "display_data",
          "data": {
            "image/png": "[encoded data removed]",
            "text/plain": [
              "<Figure size 2160x720 with 1 Axes>"
            ]
          },
          "metadata": {
            "tags": [],
            "needs_background": "light"
          }
        }
      ]
    },
    {
      "cell_type": "code",
      "metadata": {
        "id": "KlppW5KVAK4f"
      },
      "source": [
        ""
      ],
      "execution_count": null,
      "outputs": []
    }
  ]
}