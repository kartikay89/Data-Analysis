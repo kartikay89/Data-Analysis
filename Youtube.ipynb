{
  "nbformat": 4,
  "nbformat_minor": 0,
  "metadata": {
    "colab": {
      "name": "Youtube.ipynb",
      "provenance": [],
      "collapsed_sections": [],
      "mount_file_id": "1FuEIM9kBMMGZ3TFMsA8sYhx7f_bf6S0z",
      "authorship_tag": "ABX9TyPq2Lk55eWKPPApvnIIh4eL",
      "include_colab_link": true
    },
    "kernelspec": {
      "name": "python3",
      "display_name": "Python 3"
    }
  },
  "cells": [
    {
      "cell_type": "markdown",
      "metadata": {
        "id": "view-in-github",
        "colab_type": "text"
      },
      "source": [
        "<a href=\"https://colab.research.google.com/github/kartikay89/Data-Analysis/blob/main/Youtube.ipynb\" target=\"_parent\"><img src=\"https://colab.research.google.com/assets/colab-badge.svg\" alt=\"Open In Colab\"/></a>"
      ]
    },
    {
      "cell_type": "markdown",
      "metadata": {
        "id": "8XkVJdQRNfQ4"
      },
      "source": [
        "**YouTube Data Analytics**\n",
        "\n",
        "Source:\n",
        " 1. https://www.kaggle.com/datasnaek/youtube-new?select=DEvideos.csv\n",
        "\n",
        " Google API:\n",
        " 1. https://github.com/googleapis/google-api-python-client\n",
        "\n",
        " Youtube API:\n",
        " 1. https://developers.google.com/youtube/v3/docs/?apix=true\n",
        " 2. https://developers.google.com/youtube/v3/docs/channels/list\n",
        "\n",
        " Documentation:\n",
        " 1. https://github.com/googleapis/google-api-python-client/blob/master/docs/README.md\n",
        " 2. https://github.com/googleapis/google-api-python-client/blob/master/docs/start.md\n",
        "\n",
        " APIs:\n",
        " 1. https://github.com/googleapis/google-api-python-client/blob/master/docs/dyn/index.md\n",
        " 2.https://googleapis.github.io/google-api-python-client/docs/dyn/youtube_v3.html"
      ]
    },
    {
      "cell_type": "markdown",
      "metadata": {
        "id": "MjbJ_5y4swzH"
      },
      "source": [
        "\n",
        "\n",
        "1.   Use 6(GitHub Docs) > youtube API access in 7.\n",
        "2.   Choose any paramater(ex: channels()) > search for the same in 3(youtube official doc)\n",
        "\n",
        "USE parameter from docs to see data.\n",
        "\n"
      ]
    },
    {
      "cell_type": "code",
      "metadata": {
        "id": "I9m3XvQMzhAE"
      },
      "source": [
        "api_key = '#'"
      ],
      "execution_count": 1,
      "outputs": []
    },
    {
      "cell_type": "code",
      "metadata": {
        "colab": {
          "base_uri": "https://localhost:8080/"
        },
        "id": "gVpu5ueBqaxc",
        "outputId": "aa38450e-73fb-4858-fcab-ab3c4d565bb6"
      },
      "source": [
        "!pip install google-api-python-client"
      ],
      "execution_count": 2,
      "outputs": [
        {
          "output_type": "stream",
          "text": [
            "Requirement already satisfied: google-api-python-client in /usr/local/lib/python3.6/dist-packages (1.7.12)\n",
            "Requirement already satisfied: six<2dev,>=1.6.1 in /usr/local/lib/python3.6/dist-packages (from google-api-python-client) (1.15.0)\n",
            "Requirement already satisfied: google-auth-httplib2>=0.0.3 in /usr/local/lib/python3.6/dist-packages (from google-api-python-client) (0.0.4)\n",
            "Requirement already satisfied: google-auth>=1.4.1 in /usr/local/lib/python3.6/dist-packages (from google-api-python-client) (1.17.2)\n",
            "Requirement already satisfied: uritemplate<4dev,>=3.0.0 in /usr/local/lib/python3.6/dist-packages (from google-api-python-client) (3.0.1)\n",
            "Requirement already satisfied: httplib2<1dev,>=0.17.0 in /usr/local/lib/python3.6/dist-packages (from google-api-python-client) (0.17.4)\n",
            "Requirement already satisfied: cachetools<5.0,>=2.0.0 in /usr/local/lib/python3.6/dist-packages (from google-auth>=1.4.1->google-api-python-client) (4.2.0)\n",
            "Requirement already satisfied: rsa<5,>=3.1.4; python_version >= \"3\" in /usr/local/lib/python3.6/dist-packages (from google-auth>=1.4.1->google-api-python-client) (4.6)\n",
            "Requirement already satisfied: setuptools>=40.3.0 in /usr/local/lib/python3.6/dist-packages (from google-auth>=1.4.1->google-api-python-client) (51.3.3)\n",
            "Requirement already satisfied: pyasn1-modules>=0.2.1 in /usr/local/lib/python3.6/dist-packages (from google-auth>=1.4.1->google-api-python-client) (0.2.8)\n",
            "Requirement already satisfied: pyasn1>=0.1.3 in /usr/local/lib/python3.6/dist-packages (from rsa<5,>=3.1.4; python_version >= \"3\"->google-auth>=1.4.1->google-api-python-client) (0.4.8)\n"
          ],
          "name": "stdout"
        }
      ]
    },
    {
      "cell_type": "code",
      "metadata": {
        "id": "ztrifeegq045"
      },
      "source": [
        "from googleapiclient.discovery import build"
      ],
      "execution_count": 3,
      "outputs": []
    },
    {
      "cell_type": "code",
      "metadata": {
        "colab": {
          "base_uri": "https://localhost:8080/"
        },
        "id": "-2ZnXOeNr6nu",
        "outputId": "e1a74e2d-473d-40ab-b014-3f99ed33347c"
      },
      "source": [
        "youtube = build('youtube', 'v3', developerKey=api_key)\n",
        "youtube"
      ],
      "execution_count": 4,
      "outputs": [
        {
          "output_type": "execute_result",
          "data": {
            "text/plain": [
              "<googleapiclient.discovery.Resource at 0x7f9e70a1f240>"
            ]
          },
          "metadata": {
            "tags": []
          },
          "execution_count": 4
        }
      ]
    },
    {
      "cell_type": "code",
      "metadata": {
        "colab": {
          "base_uri": "https://localhost:8080/"
        },
        "id": "JEIizULgsDJH",
        "outputId": "2bb66dd7-8ff5-47f6-b4c3-9e596877513e"
      },
      "source": [
        "Channel_stats = []\n",
        "\n",
        "request = youtube.channels().list(\n",
        "    part = 'statistics',\n",
        "    id='UCnWmT6pyJmWtD-dN--8y_kg'\n",
        ")\n",
        "\n",
        "response = request.execute()\n",
        "print(response)\n",
        "Channel_stats.append(response)"
      ],
      "execution_count": 5,
      "outputs": [
        {
          "output_type": "stream",
          "text": [
            "{'kind': 'youtube#channelListResponse', 'etag': 'OR7CDxr3Jz1QUEYgRhSVFI48c7M', 'pageInfo': {'totalResults': 1, 'resultsPerPage': 5}, 'items': [{'kind': 'youtube#channel', 'etag': 'Wsx7650eK4k85Q-YwHhqQT178d4', 'id': 'UCnWmT6pyJmWtD-dN--8y_kg', 'statistics': {'viewCount': '46', 'subscriberCount': '0', 'hiddenSubscriberCount': False, 'videoCount': '20'}}]}\n"
          ],
          "name": "stdout"
        }
      ]
    },
    {
      "cell_type": "code",
      "metadata": {
        "colab": {
          "base_uri": "https://localhost:8080/"
        },
        "id": "faSmMP9Ezay6",
        "outputId": "7a8f5a92-8808-4f22-bc19-b03fca1be184"
      },
      "source": [
        "ChannelInfo = Channel_stats[0]['items'][0]\n",
        "ChannelInfo"
      ],
      "execution_count": 6,
      "outputs": [
        {
          "output_type": "execute_result",
          "data": {
            "text/plain": [
              "{'etag': 'Wsx7650eK4k85Q-YwHhqQT178d4',\n",
              " 'id': 'UCnWmT6pyJmWtD-dN--8y_kg',\n",
              " 'kind': 'youtube#channel',\n",
              " 'statistics': {'hiddenSubscriberCount': False,\n",
              "  'subscriberCount': '0',\n",
              "  'videoCount': '20',\n",
              "  'viewCount': '46'}}"
            ]
          },
          "metadata": {
            "tags": []
          },
          "execution_count": 6
        }
      ]
    },
    {
      "cell_type": "code",
      "metadata": {
        "colab": {
          "base_uri": "https://localhost:8080/"
        },
        "id": "89-Ov-ACzhJ0",
        "outputId": "42f1d662-29a5-432d-8b92-595cebfc4572"
      },
      "source": [
        "ChannelInfoDict = {}\n",
        "\n",
        "for key, values in ChannelInfo.items():\n",
        "  print(key, values)\n",
        "  if key not in ChannelInfoDict:\n",
        "    ChannelInfoDict[key]=values"
      ],
      "execution_count": 7,
      "outputs": [
        {
          "output_type": "stream",
          "text": [
            "kind youtube#channel\n",
            "etag Wsx7650eK4k85Q-YwHhqQT178d4\n",
            "id UCnWmT6pyJmWtD-dN--8y_kg\n",
            "statistics {'viewCount': '46', 'subscriberCount': '0', 'hiddenSubscriberCount': False, 'videoCount': '20'}\n"
          ],
          "name": "stdout"
        }
      ]
    },
    {
      "cell_type": "code",
      "metadata": {
        "colab": {
          "base_uri": "https://localhost:8080/"
        },
        "id": "y_vmvEZz0mZL",
        "outputId": "f97e8544-56cd-4dd0-d041-fc9c47ce2f9a"
      },
      "source": [
        "ChannelInfoDict['statistics']"
      ],
      "execution_count": 8,
      "outputs": [
        {
          "output_type": "execute_result",
          "data": {
            "text/plain": [
              "{'hiddenSubscriberCount': False,\n",
              " 'subscriberCount': '0',\n",
              " 'videoCount': '20',\n",
              " 'viewCount': '46'}"
            ]
          },
          "metadata": {
            "tags": []
          },
          "execution_count": 8
        }
      ]
    },
    {
      "cell_type": "code",
      "metadata": {
        "colab": {
          "base_uri": "https://localhost:8080/"
        },
        "id": "WartkX2p1ZpW",
        "outputId": "921d6e5b-f58a-49a4-d4f4-60937b8e5345"
      },
      "source": [
        "# UCNSdjX4ry9fICqeObdZPAZQ\n",
        "\n",
        "requestFB = youtube.channels().list(\n",
        "    part = 'statistics',\n",
        "    id='UCNSdjX4ry9fICqeObdZPAZQ'\n",
        ")\n",
        "\n",
        "response = requestFB.execute()\n",
        "print(response)"
      ],
      "execution_count": 9,
      "outputs": [
        {
          "output_type": "stream",
          "text": [
            "{'kind': 'youtube#channelListResponse', 'etag': 'FFAP_AZnHctdWqwiy3QGgFy_Jas', 'pageInfo': {'totalResults': 1, 'resultsPerPage': 5}, 'items': [{'kind': 'youtube#channel', 'etag': 'dpAQP06I2NRNqk7nZuZysJ46N7o', 'id': 'UCNSdjX4ry9fICqeObdZPAZQ', 'statistics': {'viewCount': '1370871847', 'subscriberCount': '4560000', 'hiddenSubscriberCount': False, 'videoCount': '653'}}]}\n"
          ],
          "name": "stdout"
        }
      ]
    },
    {
      "cell_type": "markdown",
      "metadata": {
        "id": "C-z0hvyB3hes"
      },
      "source": [
        "**Kaggle Dataset**"
      ]
    },
    {
      "cell_type": "code",
      "metadata": {
        "id": "OfOxHqW43gn1"
      },
      "source": [
        "import pandas as pd\n",
        "import matplotlib.pyplot as plt\n"
      ],
      "execution_count": 10,
      "outputs": []
    },
    {
      "cell_type": "code",
      "metadata": {
        "colab": {
          "base_uri": "https://localhost:8080/",
          "height": 547
        },
        "id": "dF0TxMms3nCT",
        "outputId": "a94bf1b1-4b4f-439a-ffa3-61b1391f6cbf"
      },
      "source": [
        "youtubeDF = pd.read_csv('/content/drive/MyDrive/Google Colab Data /INvideos.csv')\n",
        "youtubeDF.head(5)"
      ],
      "execution_count": 11,
      "outputs": [
        {
          "output_type": "execute_result",
          "data": {
            "text/html": [
              "<div>\n",
              "<style scoped>\n",
              "    .dataframe tbody tr th:only-of-type {\n",
              "        vertical-align: middle;\n",
              "    }\n",
              "\n",
              "    .dataframe tbody tr th {\n",
              "        vertical-align: top;\n",
              "    }\n",
              "\n",
              "    .dataframe thead th {\n",
              "        text-align: right;\n",
              "    }\n",
              "</style>\n",
              "<table border=\"1\" class=\"dataframe\">\n",
              "  <thead>\n",
              "    <tr style=\"text-align: right;\">\n",
              "      <th></th>\n",
              "      <th>video_id</th>\n",
              "      <th>trending_date</th>\n",
              "      <th>title</th>\n",
              "      <th>channel_title</th>\n",
              "      <th>category_id</th>\n",
              "      <th>publish_time</th>\n",
              "      <th>tags</th>\n",
              "      <th>views</th>\n",
              "      <th>likes</th>\n",
              "      <th>dislikes</th>\n",
              "      <th>comment_count</th>\n",
              "      <th>thumbnail_link</th>\n",
              "      <th>comments_disabled</th>\n",
              "      <th>ratings_disabled</th>\n",
              "      <th>video_error_or_removed</th>\n",
              "      <th>description</th>\n",
              "    </tr>\n",
              "  </thead>\n",
              "  <tbody>\n",
              "    <tr>\n",
              "      <th>0</th>\n",
              "      <td>kzwfHumJyYc</td>\n",
              "      <td>17.14.11</td>\n",
              "      <td>Sharry Mann: Cute Munda ( Song Teaser) | Parmi...</td>\n",
              "      <td>Lokdhun Punjabi</td>\n",
              "      <td>1</td>\n",
              "      <td>2017-11-12T12:20:39.000Z</td>\n",
              "      <td>sharry mann|\"sharry mann new song\"|\"sharry man...</td>\n",
              "      <td>1096327</td>\n",
              "      <td>33966</td>\n",
              "      <td>798</td>\n",
              "      <td>882</td>\n",
              "      <td>https://i.ytimg.com/vi/kzwfHumJyYc/default.jpg</td>\n",
              "      <td>False</td>\n",
              "      <td>False</td>\n",
              "      <td>False</td>\n",
              "      <td>Presenting Sharry Mann latest Punjabi Song  Cu...</td>\n",
              "    </tr>\n",
              "    <tr>\n",
              "      <th>1</th>\n",
              "      <td>zUZ1z7FwLc8</td>\n",
              "      <td>17.14.11</td>\n",
              "      <td>पीरियड्स के समय, पेट पर पति करता ऐसा, देखकर दं...</td>\n",
              "      <td>HJ NEWS</td>\n",
              "      <td>25</td>\n",
              "      <td>2017-11-13T05:43:56.000Z</td>\n",
              "      <td>पीरियड्स के समय|\"पेट पर पति करता ऐसा\"|\"देखकर द...</td>\n",
              "      <td>590101</td>\n",
              "      <td>735</td>\n",
              "      <td>904</td>\n",
              "      <td>0</td>\n",
              "      <td>https://i.ytimg.com/vi/zUZ1z7FwLc8/default.jpg</td>\n",
              "      <td>True</td>\n",
              "      <td>False</td>\n",
              "      <td>False</td>\n",
              "      <td>पीरियड्स के समय, पेट पर पति करता ऐसा, देखकर दं...</td>\n",
              "    </tr>\n",
              "    <tr>\n",
              "      <th>2</th>\n",
              "      <td>10L1hZ9qa58</td>\n",
              "      <td>17.14.11</td>\n",
              "      <td>Stylish Star Allu Arjun @ ChaySam Wedding Rece...</td>\n",
              "      <td>TFPC</td>\n",
              "      <td>24</td>\n",
              "      <td>2017-11-12T15:48:08.000Z</td>\n",
              "      <td>Stylish Star Allu Arjun @ ChaySam Wedding Rece...</td>\n",
              "      <td>473988</td>\n",
              "      <td>2011</td>\n",
              "      <td>243</td>\n",
              "      <td>149</td>\n",
              "      <td>https://i.ytimg.com/vi/10L1hZ9qa58/default.jpg</td>\n",
              "      <td>False</td>\n",
              "      <td>False</td>\n",
              "      <td>False</td>\n",
              "      <td>Watch Stylish Star Allu Arjun @ ChaySam Weddin...</td>\n",
              "    </tr>\n",
              "    <tr>\n",
              "      <th>3</th>\n",
              "      <td>N1vE8iiEg64</td>\n",
              "      <td>17.14.11</td>\n",
              "      <td>Eruma Saani | Tamil vs English</td>\n",
              "      <td>Eruma Saani</td>\n",
              "      <td>23</td>\n",
              "      <td>2017-11-12T07:08:48.000Z</td>\n",
              "      <td>Eruma Saani|\"Tamil Comedy Videos\"|\"Films\"|\"Mov...</td>\n",
              "      <td>1242680</td>\n",
              "      <td>70353</td>\n",
              "      <td>1624</td>\n",
              "      <td>2684</td>\n",
              "      <td>https://i.ytimg.com/vi/N1vE8iiEg64/default.jpg</td>\n",
              "      <td>False</td>\n",
              "      <td>False</td>\n",
              "      <td>False</td>\n",
              "      <td>This video showcases the difference between pe...</td>\n",
              "    </tr>\n",
              "    <tr>\n",
              "      <th>4</th>\n",
              "      <td>kJzGH0PVQHQ</td>\n",
              "      <td>17.14.11</td>\n",
              "      <td>why Samantha became EMOTIONAL @ Samantha naga ...</td>\n",
              "      <td>Filmylooks</td>\n",
              "      <td>24</td>\n",
              "      <td>2017-11-13T01:14:16.000Z</td>\n",
              "      <td>Filmylooks|\"latest news\"|\"telugu movies\"|\"telu...</td>\n",
              "      <td>464015</td>\n",
              "      <td>492</td>\n",
              "      <td>293</td>\n",
              "      <td>66</td>\n",
              "      <td>https://i.ytimg.com/vi/kJzGH0PVQHQ/default.jpg</td>\n",
              "      <td>False</td>\n",
              "      <td>False</td>\n",
              "      <td>False</td>\n",
              "      <td>why Samantha became EMOTIONAL @ Samantha naga ...</td>\n",
              "    </tr>\n",
              "  </tbody>\n",
              "</table>\n",
              "</div>"
            ],
            "text/plain": [
              "      video_id  ...                                        description\n",
              "0  kzwfHumJyYc  ...  Presenting Sharry Mann latest Punjabi Song  Cu...\n",
              "1  zUZ1z7FwLc8  ...  पीरियड्स के समय, पेट पर पति करता ऐसा, देखकर दं...\n",
              "2  10L1hZ9qa58  ...  Watch Stylish Star Allu Arjun @ ChaySam Weddin...\n",
              "3  N1vE8iiEg64  ...  This video showcases the difference between pe...\n",
              "4  kJzGH0PVQHQ  ...  why Samantha became EMOTIONAL @ Samantha naga ...\n",
              "\n",
              "[5 rows x 16 columns]"
            ]
          },
          "metadata": {
            "tags": []
          },
          "execution_count": 11
        }
      ]
    },
    {
      "cell_type": "code",
      "metadata": {
        "colab": {
          "base_uri": "https://localhost:8080/",
          "height": 204
        },
        "id": "QTEdVMfI31LE",
        "outputId": "d2d41f97-2f82-43b5-c77c-fc01ff90ad1d"
      },
      "source": [
        "# Let us first filter the dataset for essential columns for our analysis\n",
        "filteredYoutubeDF = youtubeDF.filter(['title', 'channel_title', 'publish_time', 'views', 'likes', 'dislikes', 'comment_count'])\n",
        "filteredYoutubeDF.head()"
      ],
      "execution_count": 12,
      "outputs": [
        {
          "output_type": "execute_result",
          "data": {
            "text/html": [
              "<div>\n",
              "<style scoped>\n",
              "    .dataframe tbody tr th:only-of-type {\n",
              "        vertical-align: middle;\n",
              "    }\n",
              "\n",
              "    .dataframe tbody tr th {\n",
              "        vertical-align: top;\n",
              "    }\n",
              "\n",
              "    .dataframe thead th {\n",
              "        text-align: right;\n",
              "    }\n",
              "</style>\n",
              "<table border=\"1\" class=\"dataframe\">\n",
              "  <thead>\n",
              "    <tr style=\"text-align: right;\">\n",
              "      <th></th>\n",
              "      <th>title</th>\n",
              "      <th>channel_title</th>\n",
              "      <th>publish_time</th>\n",
              "      <th>views</th>\n",
              "      <th>likes</th>\n",
              "      <th>dislikes</th>\n",
              "      <th>comment_count</th>\n",
              "    </tr>\n",
              "  </thead>\n",
              "  <tbody>\n",
              "    <tr>\n",
              "      <th>0</th>\n",
              "      <td>Sharry Mann: Cute Munda ( Song Teaser) | Parmi...</td>\n",
              "      <td>Lokdhun Punjabi</td>\n",
              "      <td>2017-11-12T12:20:39.000Z</td>\n",
              "      <td>1096327</td>\n",
              "      <td>33966</td>\n",
              "      <td>798</td>\n",
              "      <td>882</td>\n",
              "    </tr>\n",
              "    <tr>\n",
              "      <th>1</th>\n",
              "      <td>पीरियड्स के समय, पेट पर पति करता ऐसा, देखकर दं...</td>\n",
              "      <td>HJ NEWS</td>\n",
              "      <td>2017-11-13T05:43:56.000Z</td>\n",
              "      <td>590101</td>\n",
              "      <td>735</td>\n",
              "      <td>904</td>\n",
              "      <td>0</td>\n",
              "    </tr>\n",
              "    <tr>\n",
              "      <th>2</th>\n",
              "      <td>Stylish Star Allu Arjun @ ChaySam Wedding Rece...</td>\n",
              "      <td>TFPC</td>\n",
              "      <td>2017-11-12T15:48:08.000Z</td>\n",
              "      <td>473988</td>\n",
              "      <td>2011</td>\n",
              "      <td>243</td>\n",
              "      <td>149</td>\n",
              "    </tr>\n",
              "    <tr>\n",
              "      <th>3</th>\n",
              "      <td>Eruma Saani | Tamil vs English</td>\n",
              "      <td>Eruma Saani</td>\n",
              "      <td>2017-11-12T07:08:48.000Z</td>\n",
              "      <td>1242680</td>\n",
              "      <td>70353</td>\n",
              "      <td>1624</td>\n",
              "      <td>2684</td>\n",
              "    </tr>\n",
              "    <tr>\n",
              "      <th>4</th>\n",
              "      <td>why Samantha became EMOTIONAL @ Samantha naga ...</td>\n",
              "      <td>Filmylooks</td>\n",
              "      <td>2017-11-13T01:14:16.000Z</td>\n",
              "      <td>464015</td>\n",
              "      <td>492</td>\n",
              "      <td>293</td>\n",
              "      <td>66</td>\n",
              "    </tr>\n",
              "  </tbody>\n",
              "</table>\n",
              "</div>"
            ],
            "text/plain": [
              "                                               title  ... comment_count\n",
              "0  Sharry Mann: Cute Munda ( Song Teaser) | Parmi...  ...           882\n",
              "1  पीरियड्स के समय, पेट पर पति करता ऐसा, देखकर दं...  ...             0\n",
              "2  Stylish Star Allu Arjun @ ChaySam Wedding Rece...  ...           149\n",
              "3                     Eruma Saani | Tamil vs English  ...          2684\n",
              "4  why Samantha became EMOTIONAL @ Samantha naga ...  ...            66\n",
              "\n",
              "[5 rows x 7 columns]"
            ]
          },
          "metadata": {
            "tags": []
          },
          "execution_count": 12
        }
      ]
    },
    {
      "cell_type": "code",
      "metadata": {
        "colab": {
          "base_uri": "https://localhost:8080/",
          "height": 221
        },
        "id": "8uDHFHYd5fAP",
        "outputId": "6d4e9290-5542-4383-b48c-5a40b5a6cbc6"
      },
      "source": [
        "# let us see a particular channel's trend.\n",
        "YRFDF = filteredYoutubeDF[filteredYoutubeDF['channel_title'] == 'YRF']\n",
        "print('Records in Yrf DF: ', len(YRFDF))\n",
        "YRFDFV1 = YRFDF.reset_index()\n",
        "YRFDFV2 = YRFDFV1.drop(columns=['index'])\n",
        "YRFDFV2.head()"
      ],
      "execution_count": 13,
      "outputs": [
        {
          "output_type": "stream",
          "text": [
            "Records in Yrf DF:  93\n"
          ],
          "name": "stdout"
        },
        {
          "output_type": "execute_result",
          "data": {
            "text/html": [
              "<div>\n",
              "<style scoped>\n",
              "    .dataframe tbody tr th:only-of-type {\n",
              "        vertical-align: middle;\n",
              "    }\n",
              "\n",
              "    .dataframe tbody tr th {\n",
              "        vertical-align: top;\n",
              "    }\n",
              "\n",
              "    .dataframe thead th {\n",
              "        text-align: right;\n",
              "    }\n",
              "</style>\n",
              "<table border=\"1\" class=\"dataframe\">\n",
              "  <thead>\n",
              "    <tr style=\"text-align: right;\">\n",
              "      <th></th>\n",
              "      <th>title</th>\n",
              "      <th>channel_title</th>\n",
              "      <th>publish_time</th>\n",
              "      <th>views</th>\n",
              "      <th>likes</th>\n",
              "      <th>dislikes</th>\n",
              "      <th>comment_count</th>\n",
              "    </tr>\n",
              "  </thead>\n",
              "  <tbody>\n",
              "    <tr>\n",
              "      <th>0</th>\n",
              "      <td>Tiger Zinda Hai | Official Trailer | Salman Kh...</td>\n",
              "      <td>YRF</td>\n",
              "      <td>2017-11-07T06:01:50.000Z</td>\n",
              "      <td>35885754</td>\n",
              "      <td>829362</td>\n",
              "      <td>61195</td>\n",
              "      <td>101117</td>\n",
              "    </tr>\n",
              "    <tr>\n",
              "      <th>1</th>\n",
              "      <td>Tiger Zinda Hai | Official Trailer | Salman Kh...</td>\n",
              "      <td>YRF</td>\n",
              "      <td>2017-11-07T06:01:50.000Z</td>\n",
              "      <td>37533416</td>\n",
              "      <td>853550</td>\n",
              "      <td>62858</td>\n",
              "      <td>102740</td>\n",
              "    </tr>\n",
              "    <tr>\n",
              "      <th>2</th>\n",
              "      <td>Tiger Zinda Hai | Official Trailer | Salman Kh...</td>\n",
              "      <td>YRF</td>\n",
              "      <td>2017-11-07T06:01:50.000Z</td>\n",
              "      <td>38664360</td>\n",
              "      <td>865914</td>\n",
              "      <td>63908</td>\n",
              "      <td>103907</td>\n",
              "    </tr>\n",
              "    <tr>\n",
              "      <th>3</th>\n",
              "      <td>Swag Se Swagat Song | Official Teaser | Salman...</td>\n",
              "      <td>YRF</td>\n",
              "      <td>2017-11-20T08:40:48.000Z</td>\n",
              "      <td>1628016</td>\n",
              "      <td>38511</td>\n",
              "      <td>3070</td>\n",
              "      <td>3024</td>\n",
              "    </tr>\n",
              "    <tr>\n",
              "      <th>4</th>\n",
              "      <td>Swag Se Swagat Song | Official Teaser | Salman...</td>\n",
              "      <td>YRF</td>\n",
              "      <td>2017-11-20T08:40:48.000Z</td>\n",
              "      <td>2790320</td>\n",
              "      <td>46228</td>\n",
              "      <td>5088</td>\n",
              "      <td>3807</td>\n",
              "    </tr>\n",
              "  </tbody>\n",
              "</table>\n",
              "</div>"
            ],
            "text/plain": [
              "                                               title  ... comment_count\n",
              "0  Tiger Zinda Hai | Official Trailer | Salman Kh...  ...        101117\n",
              "1  Tiger Zinda Hai | Official Trailer | Salman Kh...  ...        102740\n",
              "2  Tiger Zinda Hai | Official Trailer | Salman Kh...  ...        103907\n",
              "3  Swag Se Swagat Song | Official Teaser | Salman...  ...          3024\n",
              "4  Swag Se Swagat Song | Official Teaser | Salman...  ...          3807\n",
              "\n",
              "[5 rows x 7 columns]"
            ]
          },
          "metadata": {
            "tags": []
          },
          "execution_count": 13
        }
      ]
    },
    {
      "cell_type": "code",
      "metadata": {
        "id": "esVty6aj5yvX"
      },
      "source": [
        "splitData = pd.DataFrame(YRFDFV2.title.str.split(\"|\", expand=True))\n",
        "splitDataV1 = splitData.rename(columns={0:'Songs'})\n",
        "splitDataV2 = splitDataV1.drop(columns=[1,2,3,4,5]).reset_index()\n",
        "splitDataV3 = splitDataV2.drop(columns=['index'])"
      ],
      "execution_count": 14,
      "outputs": []
    },
    {
      "cell_type": "code",
      "metadata": {
        "colab": {
          "base_uri": "https://localhost:8080/",
          "height": 204
        },
        "id": "MBZYLTdF6lrg",
        "outputId": "e97d5249-63c7-4561-e148-1100b8e02a36"
      },
      "source": [
        "YRFDFV2['Song']=splitDataV3\n",
        "YRFDFV3 = YRFDFV2.drop(columns=['title'])\n",
        "YRFDFV3.head()"
      ],
      "execution_count": 15,
      "outputs": [
        {
          "output_type": "execute_result",
          "data": {
            "text/html": [
              "<div>\n",
              "<style scoped>\n",
              "    .dataframe tbody tr th:only-of-type {\n",
              "        vertical-align: middle;\n",
              "    }\n",
              "\n",
              "    .dataframe tbody tr th {\n",
              "        vertical-align: top;\n",
              "    }\n",
              "\n",
              "    .dataframe thead th {\n",
              "        text-align: right;\n",
              "    }\n",
              "</style>\n",
              "<table border=\"1\" class=\"dataframe\">\n",
              "  <thead>\n",
              "    <tr style=\"text-align: right;\">\n",
              "      <th></th>\n",
              "      <th>channel_title</th>\n",
              "      <th>publish_time</th>\n",
              "      <th>views</th>\n",
              "      <th>likes</th>\n",
              "      <th>dislikes</th>\n",
              "      <th>comment_count</th>\n",
              "      <th>Song</th>\n",
              "    </tr>\n",
              "  </thead>\n",
              "  <tbody>\n",
              "    <tr>\n",
              "      <th>0</th>\n",
              "      <td>YRF</td>\n",
              "      <td>2017-11-07T06:01:50.000Z</td>\n",
              "      <td>35885754</td>\n",
              "      <td>829362</td>\n",
              "      <td>61195</td>\n",
              "      <td>101117</td>\n",
              "      <td>Tiger Zinda Hai</td>\n",
              "    </tr>\n",
              "    <tr>\n",
              "      <th>1</th>\n",
              "      <td>YRF</td>\n",
              "      <td>2017-11-07T06:01:50.000Z</td>\n",
              "      <td>37533416</td>\n",
              "      <td>853550</td>\n",
              "      <td>62858</td>\n",
              "      <td>102740</td>\n",
              "      <td>Tiger Zinda Hai</td>\n",
              "    </tr>\n",
              "    <tr>\n",
              "      <th>2</th>\n",
              "      <td>YRF</td>\n",
              "      <td>2017-11-07T06:01:50.000Z</td>\n",
              "      <td>38664360</td>\n",
              "      <td>865914</td>\n",
              "      <td>63908</td>\n",
              "      <td>103907</td>\n",
              "      <td>Tiger Zinda Hai</td>\n",
              "    </tr>\n",
              "    <tr>\n",
              "      <th>3</th>\n",
              "      <td>YRF</td>\n",
              "      <td>2017-11-20T08:40:48.000Z</td>\n",
              "      <td>1628016</td>\n",
              "      <td>38511</td>\n",
              "      <td>3070</td>\n",
              "      <td>3024</td>\n",
              "      <td>Swag Se Swagat Song</td>\n",
              "    </tr>\n",
              "    <tr>\n",
              "      <th>4</th>\n",
              "      <td>YRF</td>\n",
              "      <td>2017-11-20T08:40:48.000Z</td>\n",
              "      <td>2790320</td>\n",
              "      <td>46228</td>\n",
              "      <td>5088</td>\n",
              "      <td>3807</td>\n",
              "      <td>Swag Se Swagat Song</td>\n",
              "    </tr>\n",
              "  </tbody>\n",
              "</table>\n",
              "</div>"
            ],
            "text/plain": [
              "  channel_title              publish_time  ...  comment_count                  Song\n",
              "0           YRF  2017-11-07T06:01:50.000Z  ...         101117      Tiger Zinda Hai \n",
              "1           YRF  2017-11-07T06:01:50.000Z  ...         102740      Tiger Zinda Hai \n",
              "2           YRF  2017-11-07T06:01:50.000Z  ...         103907      Tiger Zinda Hai \n",
              "3           YRF  2017-11-20T08:40:48.000Z  ...           3024  Swag Se Swagat Song \n",
              "4           YRF  2017-11-20T08:40:48.000Z  ...           3807  Swag Se Swagat Song \n",
              "\n",
              "[5 rows x 7 columns]"
            ]
          },
          "metadata": {
            "tags": []
          },
          "execution_count": 15
        }
      ]
    },
    {
      "cell_type": "code",
      "metadata": {
        "colab": {
          "base_uri": "https://localhost:8080/",
          "height": 807
        },
        "id": "V-ZvrM7z8LXz",
        "outputId": "85d6d842-6250-41a3-8294-ebef8ae6deae"
      },
      "source": [
        "# songs performance from YRF\n",
        "duplicatesDrop = YRFDFV3.drop_duplicates(subset=['Song'])\n",
        "\n",
        "songPerfDF = duplicatesDrop.rename(columns={'Song': ''})\n",
        "songPerfDFV1 = songPerfDF.set_index(songPerfDF.iloc[:, -1])\n",
        "songPerfDFV2 = songPerfDFV1.drop(columns=['channel_title', 'publish_time'])\n",
        "songPerfDFV3 = songPerfDFV2.drop(songPerfDFV2.columns[-1], axis=1)\n",
        "\n",
        "songPerfDFV3"
      ],
      "execution_count": 16,
      "outputs": [
        {
          "output_type": "execute_result",
          "data": {
            "text/html": [
              "<div>\n",
              "<style scoped>\n",
              "    .dataframe tbody tr th:only-of-type {\n",
              "        vertical-align: middle;\n",
              "    }\n",
              "\n",
              "    .dataframe tbody tr th {\n",
              "        vertical-align: top;\n",
              "    }\n",
              "\n",
              "    .dataframe thead th {\n",
              "        text-align: right;\n",
              "    }\n",
              "</style>\n",
              "<table border=\"1\" class=\"dataframe\">\n",
              "  <thead>\n",
              "    <tr style=\"text-align: right;\">\n",
              "      <th></th>\n",
              "      <th>views</th>\n",
              "      <th>likes</th>\n",
              "      <th>dislikes</th>\n",
              "      <th>comment_count</th>\n",
              "    </tr>\n",
              "    <tr>\n",
              "      <th></th>\n",
              "      <th></th>\n",
              "      <th></th>\n",
              "      <th></th>\n",
              "      <th></th>\n",
              "    </tr>\n",
              "  </thead>\n",
              "  <tbody>\n",
              "    <tr>\n",
              "      <th>Tiger Zinda Hai</th>\n",
              "      <td>35885754</td>\n",
              "      <td>829362</td>\n",
              "      <td>61195</td>\n",
              "      <td>101117</td>\n",
              "    </tr>\n",
              "    <tr>\n",
              "      <th>Swag Se Swagat Song</th>\n",
              "      <td>1628016</td>\n",
              "      <td>38511</td>\n",
              "      <td>3070</td>\n",
              "      <td>3024</td>\n",
              "    </tr>\n",
              "    <tr>\n",
              "      <th>Dil Diyan Gallan Song</th>\n",
              "      <td>15766864</td>\n",
              "      <td>498380</td>\n",
              "      <td>15660</td>\n",
              "      <td>40008</td>\n",
              "    </tr>\n",
              "    <tr>\n",
              "      <th>Dil Diyan Gallan - Full Song Audio</th>\n",
              "      <td>4947643</td>\n",
              "      <td>76326</td>\n",
              "      <td>2945</td>\n",
              "      <td>5484</td>\n",
              "    </tr>\n",
              "    <tr>\n",
              "      <th>Tiger vs Wolves  - Promo</th>\n",
              "      <td>1070885</td>\n",
              "      <td>33231</td>\n",
              "      <td>1648</td>\n",
              "      <td>2509</td>\n",
              "    </tr>\n",
              "    <tr>\n",
              "      <th>Zinda Hai Song</th>\n",
              "      <td>3573174</td>\n",
              "      <td>68387</td>\n",
              "      <td>2898</td>\n",
              "      <td>3875</td>\n",
              "    </tr>\n",
              "    <tr>\n",
              "      <th>Hichki</th>\n",
              "      <td>6057662</td>\n",
              "      <td>109167</td>\n",
              "      <td>2557</td>\n",
              "      <td>5522</td>\n",
              "    </tr>\n",
              "    <tr>\n",
              "      <th>Making of Tiger vs Wolves</th>\n",
              "      <td>1608102</td>\n",
              "      <td>29445</td>\n",
              "      <td>1285</td>\n",
              "      <td>953</td>\n",
              "    </tr>\n",
              "    <tr>\n",
              "      <th>Making of Tiger Zinda Hai Trailer</th>\n",
              "      <td>773072</td>\n",
              "      <td>13027</td>\n",
              "      <td>618</td>\n",
              "      <td>622</td>\n",
              "    </tr>\n",
              "    <tr>\n",
              "      <th>Making of Tiger Zinda Hai - Military Support</th>\n",
              "      <td>754418</td>\n",
              "      <td>11721</td>\n",
              "      <td>467</td>\n",
              "      <td>372</td>\n",
              "    </tr>\n",
              "    <tr>\n",
              "      <th>Oil Tanker Blast</th>\n",
              "      <td>229464</td>\n",
              "      <td>5858</td>\n",
              "      <td>189</td>\n",
              "      <td>336</td>\n",
              "    </tr>\n",
              "    <tr>\n",
              "      <th>Tera Noor Song</th>\n",
              "      <td>779867</td>\n",
              "      <td>25105</td>\n",
              "      <td>882</td>\n",
              "      <td>1780</td>\n",
              "    </tr>\n",
              "    <tr>\n",
              "      <th>Valentine's Special 2018 - Audio Jukebox</th>\n",
              "      <td>105850</td>\n",
              "      <td>3976</td>\n",
              "      <td>173</td>\n",
              "      <td>322</td>\n",
              "    </tr>\n",
              "    <tr>\n",
              "      <th>Oye Hichki Song Teaser</th>\n",
              "      <td>375809</td>\n",
              "      <td>2808</td>\n",
              "      <td>792</td>\n",
              "      <td>388</td>\n",
              "    </tr>\n",
              "    <tr>\n",
              "      <th>Oye Hichki Song</th>\n",
              "      <td>4279243</td>\n",
              "      <td>5998</td>\n",
              "      <td>924</td>\n",
              "      <td>410</td>\n",
              "    </tr>\n",
              "    <tr>\n",
              "      <th>Madamji Go Easy - The Prank Song</th>\n",
              "      <td>3337914</td>\n",
              "      <td>3776</td>\n",
              "      <td>466</td>\n",
              "      <td>270</td>\n",
              "    </tr>\n",
              "    <tr>\n",
              "      <th>Khol De Par Song</th>\n",
              "      <td>3166123</td>\n",
              "      <td>4841</td>\n",
              "      <td>218</td>\n",
              "      <td>412</td>\n",
              "    </tr>\n",
              "    <tr>\n",
              "      <th>Shah Rukh Khan ki Hichki</th>\n",
              "      <td>316144</td>\n",
              "      <td>7438</td>\n",
              "      <td>340</td>\n",
              "      <td>458</td>\n",
              "    </tr>\n",
              "    <tr>\n",
              "      <th>Salman Khan ki Hichki</th>\n",
              "      <td>196152</td>\n",
              "      <td>7716</td>\n",
              "      <td>279</td>\n",
              "      <td>522</td>\n",
              "    </tr>\n",
              "    <tr>\n",
              "      <th>Swag Se Swagat - Full Song</th>\n",
              "      <td>429785</td>\n",
              "      <td>10151</td>\n",
              "      <td>500</td>\n",
              "      <td>792</td>\n",
              "    </tr>\n",
              "    <tr>\n",
              "      <th>Dil Diyan Gallan - Full Song</th>\n",
              "      <td>407726</td>\n",
              "      <td>9562</td>\n",
              "      <td>376</td>\n",
              "      <td>884</td>\n",
              "    </tr>\n",
              "    <tr>\n",
              "      <th>Ranbir Kapoor in and as SHAMSHERA</th>\n",
              "      <td>1767675</td>\n",
              "      <td>35099</td>\n",
              "      <td>2779</td>\n",
              "      <td>2671</td>\n",
              "    </tr>\n",
              "    <tr>\n",
              "      <th>SHAMSHERA</th>\n",
              "      <td>3546313</td>\n",
              "      <td>55654</td>\n",
              "      <td>4799</td>\n",
              "      <td>3977</td>\n",
              "    </tr>\n",
              "    <tr>\n",
              "      <th>Bulleya Reprise</th>\n",
              "      <td>114943</td>\n",
              "      <td>6807</td>\n",
              "      <td>139</td>\n",
              "      <td>432</td>\n",
              "    </tr>\n",
              "  </tbody>\n",
              "</table>\n",
              "</div>"
            ],
            "text/plain": [
              "                                                  views  ...  comment_count\n",
              "                                                         ...               \n",
              "Tiger Zinda Hai                                35885754  ...         101117\n",
              "Swag Se Swagat Song                             1628016  ...           3024\n",
              "Dil Diyan Gallan Song                          15766864  ...          40008\n",
              "Dil Diyan Gallan - Full Song Audio              4947643  ...           5484\n",
              "Tiger vs Wolves  - Promo                        1070885  ...           2509\n",
              "Zinda Hai Song                                  3573174  ...           3875\n",
              "Hichki                                          6057662  ...           5522\n",
              "Making of Tiger vs Wolves                       1608102  ...            953\n",
              "Making of Tiger Zinda Hai Trailer                773072  ...            622\n",
              "Making of Tiger Zinda Hai - Military Support     754418  ...            372\n",
              "Oil Tanker Blast                                 229464  ...            336\n",
              "Tera Noor Song                                   779867  ...           1780\n",
              "Valentine's Special 2018 - Audio Jukebox         105850  ...            322\n",
              "Oye Hichki Song Teaser                           375809  ...            388\n",
              "Oye Hichki Song                                 4279243  ...            410\n",
              "Madamji Go Easy - The Prank Song                3337914  ...            270\n",
              "Khol De Par Song                                3166123  ...            412\n",
              "Shah Rukh Khan ki Hichki                         316144  ...            458\n",
              "Salman Khan ki Hichki                            196152  ...            522\n",
              "Swag Se Swagat - Full Song                       429785  ...            792\n",
              "Dil Diyan Gallan - Full Song                     407726  ...            884\n",
              "Ranbir Kapoor in and as SHAMSHERA               1767675  ...           2671\n",
              "SHAMSHERA                                       3546313  ...           3977\n",
              "Bulleya Reprise                                  114943  ...            432\n",
              "\n",
              "[24 rows x 4 columns]"
            ]
          },
          "metadata": {
            "tags": []
          },
          "execution_count": 16
        }
      ]
    },
    {
      "cell_type": "code",
      "metadata": {
        "colab": {
          "base_uri": "https://localhost:8080/",
          "height": 819
        },
        "id": "PHgiGMvs-z7R",
        "outputId": "9830b9aa-ba89-4dfc-bb54-9eb03d6e979d"
      },
      "source": [
        "songPerfDFV3.plot.bar(rot=90, figsize=(30,10))\n",
        "plt.ticklabel_format(style='plain', axis='y')\n",
        "plt.title('Performance of YRF songs on Youtube')\n",
        "plt.show()"
      ],
      "execution_count": 17,
      "outputs": [
        {
          "output_type": "display_data",
          "data": {
            "image/png": "[encoded data removed]",
            "text/plain": [
              "<Figure size 2160x720 with 1 Axes>"
            ]
          },
          "metadata": {
            "tags": [],
            "needs_background": "light"
          }
        }
      ]
    },
    {
      "cell_type": "code",
      "metadata": {
        "colab": {
          "base_uri": "https://localhost:8080/",
          "height": 419
        },
        "id": "KlppW5KVAK4f",
        "outputId": "825351d3-4bbb-425f-dfdd-0f6e1f4eb72d"
      },
      "source": [
        "# Channel's trend of uploading the videos\n",
        "# print(YRFDFV3)\n",
        "publish_DF = YRFDFV3.filter(['publish_time', 'Song'])\n",
        "publish_DF"
      ],
      "execution_count": 23,
      "outputs": [
        {
          "output_type": "execute_result",
          "data": {
            "text/html": [
              "<div>\n",
              "<style scoped>\n",
              "    .dataframe tbody tr th:only-of-type {\n",
              "        vertical-align: middle;\n",
              "    }\n",
              "\n",
              "    .dataframe tbody tr th {\n",
              "        vertical-align: top;\n",
              "    }\n",
              "\n",
              "    .dataframe thead th {\n",
              "        text-align: right;\n",
              "    }\n",
              "</style>\n",
              "<table border=\"1\" class=\"dataframe\">\n",
              "  <thead>\n",
              "    <tr style=\"text-align: right;\">\n",
              "      <th></th>\n",
              "      <th>publish_time</th>\n",
              "      <th>Song</th>\n",
              "    </tr>\n",
              "  </thead>\n",
              "  <tbody>\n",
              "    <tr>\n",
              "      <th>0</th>\n",
              "      <td>2017-11-07T06:01:50.000Z</td>\n",
              "      <td>Tiger Zinda Hai</td>\n",
              "    </tr>\n",
              "    <tr>\n",
              "      <th>1</th>\n",
              "      <td>2017-11-07T06:01:50.000Z</td>\n",
              "      <td>Tiger Zinda Hai</td>\n",
              "    </tr>\n",
              "    <tr>\n",
              "      <th>2</th>\n",
              "      <td>2017-11-07T06:01:50.000Z</td>\n",
              "      <td>Tiger Zinda Hai</td>\n",
              "    </tr>\n",
              "    <tr>\n",
              "      <th>3</th>\n",
              "      <td>2017-11-20T08:40:48.000Z</td>\n",
              "      <td>Swag Se Swagat Song</td>\n",
              "    </tr>\n",
              "    <tr>\n",
              "      <th>4</th>\n",
              "      <td>2017-11-20T08:40:48.000Z</td>\n",
              "      <td>Swag Se Swagat Song</td>\n",
              "    </tr>\n",
              "    <tr>\n",
              "      <th>...</th>\n",
              "      <td>...</td>\n",
              "      <td>...</td>\n",
              "    </tr>\n",
              "    <tr>\n",
              "      <th>88</th>\n",
              "      <td>2018-05-07T05:38:38.000Z</td>\n",
              "      <td>SHAMSHERA</td>\n",
              "    </tr>\n",
              "    <tr>\n",
              "      <th>89</th>\n",
              "      <td>2018-05-07T05:38:38.000Z</td>\n",
              "      <td>SHAMSHERA</td>\n",
              "    </tr>\n",
              "    <tr>\n",
              "      <th>90</th>\n",
              "      <td>2018-05-31T11:19:31.000Z</td>\n",
              "      <td>Bulleya Reprise</td>\n",
              "    </tr>\n",
              "    <tr>\n",
              "      <th>91</th>\n",
              "      <td>2018-05-31T11:19:31.000Z</td>\n",
              "      <td>Bulleya Reprise</td>\n",
              "    </tr>\n",
              "    <tr>\n",
              "      <th>92</th>\n",
              "      <td>2018-05-31T11:19:31.000Z</td>\n",
              "      <td>Bulleya Reprise</td>\n",
              "    </tr>\n",
              "  </tbody>\n",
              "</table>\n",
              "<p>93 rows × 2 columns</p>\n",
              "</div>"
            ],
            "text/plain": [
              "                publish_time                  Song\n",
              "0   2017-11-07T06:01:50.000Z      Tiger Zinda Hai \n",
              "1   2017-11-07T06:01:50.000Z      Tiger Zinda Hai \n",
              "2   2017-11-07T06:01:50.000Z      Tiger Zinda Hai \n",
              "3   2017-11-20T08:40:48.000Z  Swag Se Swagat Song \n",
              "4   2017-11-20T08:40:48.000Z  Swag Se Swagat Song \n",
              "..                       ...                   ...\n",
              "88  2018-05-07T05:38:38.000Z            SHAMSHERA \n",
              "89  2018-05-07T05:38:38.000Z            SHAMSHERA \n",
              "90  2018-05-31T11:19:31.000Z      Bulleya Reprise \n",
              "91  2018-05-31T11:19:31.000Z      Bulleya Reprise \n",
              "92  2018-05-31T11:19:31.000Z      Bulleya Reprise \n",
              "\n",
              "[93 rows x 2 columns]"
            ]
          },
          "metadata": {
            "tags": []
          },
          "execution_count": 23
        }
      ]
    },
    {
      "cell_type": "code",
      "metadata": {
        "id": "-9bw5-G54VWI"
      },
      "source": [
        "publish_DFV1 = pd.DataFrame(publish_DF.publish_time.str.split(\"-\", expand=True))\n",
        "publish_DFV2 = publish_DFV1.filter([0])\n",
        "publish_DFV3 = publish_DFV2.rename(columns={0:'Publish_Year'})\n",
        "publish_DF['publishYear']=publish_DFV3"
      ],
      "execution_count": 35,
      "outputs": []
    },
    {
      "cell_type": "code",
      "metadata": {
        "colab": {
          "base_uri": "https://localhost:8080/",
          "height": 419
        },
        "id": "0DaL58te4_IQ",
        "outputId": "feec834d-2485-4836-f89e-8ccddcdde316"
      },
      "source": [
        "publish_DFV4 = publish_DF.drop(columns=['publish_time', 'publihsYear'], axis=1)\n",
        "publish_DFV5 = publish_DFV4.fillna('0')\n",
        "publish_DFV5"
      ],
      "execution_count": 70,
      "outputs": [
        {
          "output_type": "execute_result",
          "data": {
            "text/html": [
              "<div>\n",
              "<style scoped>\n",
              "    .dataframe tbody tr th:only-of-type {\n",
              "        vertical-align: middle;\n",
              "    }\n",
              "\n",
              "    .dataframe tbody tr th {\n",
              "        vertical-align: top;\n",
              "    }\n",
              "\n",
              "    .dataframe thead th {\n",
              "        text-align: right;\n",
              "    }\n",
              "</style>\n",
              "<table border=\"1\" class=\"dataframe\">\n",
              "  <thead>\n",
              "    <tr style=\"text-align: right;\">\n",
              "      <th></th>\n",
              "      <th>Song</th>\n",
              "      <th>publishYear</th>\n",
              "    </tr>\n",
              "  </thead>\n",
              "  <tbody>\n",
              "    <tr>\n",
              "      <th>0</th>\n",
              "      <td>Tiger Zinda Hai</td>\n",
              "      <td>2017</td>\n",
              "    </tr>\n",
              "    <tr>\n",
              "      <th>1</th>\n",
              "      <td>Tiger Zinda Hai</td>\n",
              "      <td>2017</td>\n",
              "    </tr>\n",
              "    <tr>\n",
              "      <th>2</th>\n",
              "      <td>Tiger Zinda Hai</td>\n",
              "      <td>2017</td>\n",
              "    </tr>\n",
              "    <tr>\n",
              "      <th>3</th>\n",
              "      <td>Swag Se Swagat Song</td>\n",
              "      <td>2017</td>\n",
              "    </tr>\n",
              "    <tr>\n",
              "      <th>4</th>\n",
              "      <td>Swag Se Swagat Song</td>\n",
              "      <td>2017</td>\n",
              "    </tr>\n",
              "    <tr>\n",
              "      <th>...</th>\n",
              "      <td>...</td>\n",
              "      <td>...</td>\n",
              "    </tr>\n",
              "    <tr>\n",
              "      <th>88</th>\n",
              "      <td>SHAMSHERA</td>\n",
              "      <td>2018</td>\n",
              "    </tr>\n",
              "    <tr>\n",
              "      <th>89</th>\n",
              "      <td>SHAMSHERA</td>\n",
              "      <td>2018</td>\n",
              "    </tr>\n",
              "    <tr>\n",
              "      <th>90</th>\n",
              "      <td>Bulleya Reprise</td>\n",
              "      <td>2018</td>\n",
              "    </tr>\n",
              "    <tr>\n",
              "      <th>91</th>\n",
              "      <td>Bulleya Reprise</td>\n",
              "      <td>2018</td>\n",
              "    </tr>\n",
              "    <tr>\n",
              "      <th>92</th>\n",
              "      <td>Bulleya Reprise</td>\n",
              "      <td>2018</td>\n",
              "    </tr>\n",
              "  </tbody>\n",
              "</table>\n",
              "<p>93 rows × 2 columns</p>\n",
              "</div>"
            ],
            "text/plain": [
              "                    Song publishYear\n",
              "0       Tiger Zinda Hai         2017\n",
              "1       Tiger Zinda Hai         2017\n",
              "2       Tiger Zinda Hai         2017\n",
              "3   Swag Se Swagat Song         2017\n",
              "4   Swag Se Swagat Song         2017\n",
              "..                   ...         ...\n",
              "88            SHAMSHERA         2018\n",
              "89            SHAMSHERA         2018\n",
              "90      Bulleya Reprise         2018\n",
              "91      Bulleya Reprise         2018\n",
              "92      Bulleya Reprise         2018\n",
              "\n",
              "[93 rows x 2 columns]"
            ]
          },
          "metadata": {
            "tags": []
          },
          "execution_count": 70
        }
      ]
    },
    {
      "cell_type": "code",
      "metadata": {
        "id": "x28_W6zn5iMl"
      },
      "source": [
        "# scatter plot to see the year of publish for respective songs\n",
        "songNames = list(publish_DFV5['Song'])\n",
        "year_of_publish = list(publish_DFV5['publishYear'])"
      ],
      "execution_count": 61,
      "outputs": []
    },
    {
      "cell_type": "code",
      "metadata": {
        "colab": {
          "base_uri": "https://localhost:8080/",
          "height": 607
        },
        "id": "a2pCdkj76fZL",
        "outputId": "478de114-682c-4807-8aca-1e1bdb4d4313"
      },
      "source": [
        "plt.rcParams['figure.figsize'] = (15,10)\n",
        "plt.scatter(year_of_publish, songNames)\n",
        "plt.xticks(rotation=90)\n",
        "plt.show()"
      ],
      "execution_count": 72,
      "outputs": [
        {
          "output_type": "display_data",
          "data": {
            "image/png": "[encoded data removed]",
            "text/plain": [
              "<Figure size 1080x720 with 1 Axes>"
            ]
          },
          "metadata": {
            "tags": [],
            "needs_background": "light"
          }
        }
      ]
    },
    {
      "cell_type": "code",
      "metadata": {
        "id": "u8kebhIZ7G-o"
      },
      "source": [
        ""
      ],
      "execution_count": null,
      "outputs": []
    }
  ]
}