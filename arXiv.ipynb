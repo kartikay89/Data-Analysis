{
 "cells": [
  {
   "cell_type": "code",
   "execution_count": 1,
   "metadata": {},
   "outputs": [],
   "source": [
    "import pandas as pd\n",
    "import json\n",
    "import sqlite3\n",
    "from collections import Counter\n",
    "import itertools "
   ]
  },
  {
   "cell_type": "code",
   "execution_count": 2,
   "metadata": {},
   "outputs": [],
   "source": [
    "# %%time\n",
    "# arxiv_data = []\n",
    "\n",
    "# for line in open(\"/Volumes/Kartikay/Data/arxiv-metadata-oai-snapshot.json\"):\n",
    "#     data = json.loads(line)\n",
    "#     arxiv_data.append(data)\n",
    "# #     print(data)\n"
   ]
  },
  {
   "cell_type": "code",
   "execution_count": 3,
   "metadata": {},
   "outputs": [],
   "source": [
    "# reading the 0th element of the file.\n",
    "# arxiv_data[0]"
   ]
  },
  {
   "cell_type": "code",
   "execution_count": 4,
   "metadata": {},
   "outputs": [],
   "source": [
    "# id_DF =[]\n",
    "# submitters_DF = []\n",
    "# authors_DF = []\n",
    "# title_DF = []\n",
    "# journalRef_DF = []\n",
    "# categories_DF = []\n",
    "# license_DF = []\n",
    "# abstract_DF = []\n",
    "\n",
    "# for ids in arxiv_data:\n",
    "#     id_DF.append(ids['id'])\n",
    "# for subs in arxiv_data:\n",
    "#     submitters_DF.append(subs['submitter'])\n",
    "# for author in arxiv_data:\n",
    "#     authors_DF.append(author['authors'])\n",
    "# for titles in arxiv_data:\n",
    "#     title_DF.append(titles['title'])\n",
    "# for journals in arxiv_data:\n",
    "#     journalRef_DF.append(journals['journal-ref'])\n",
    "# for categories in arxiv_data:\n",
    "#     categories_DF.append(categories['categories'])\n",
    "# for license in arxiv_data:\n",
    "#     license_DF.append(license['license'])\n",
    "# for abstracts in arxiv_data:\n",
    "#     abstract_DF.append(abstracts['abstract'])"
   ]
  },
  {
   "cell_type": "code",
   "execution_count": 5,
   "metadata": {},
   "outputs": [],
   "source": [
    "# This code works well with creating SQLITE database. But we are not using it here.\n",
    "\n",
    "# conn = sqlite3.connect('arxiv.db')\n",
    "# c = conn.cursor()"
   ]
  },
  {
   "cell_type": "code",
   "execution_count": 6,
   "metadata": {},
   "outputs": [],
   "source": [
    "# c.execute('''CREATE TABLE arxiv\n",
    "#              (Id text, Submitter text)''')\n",
    "\n",
    "# # Insert a row of data\n",
    "# for ids in id_DF:\n",
    "#     for subs in submitters:\n",
    "#         c.execute(\"INSERT INTO arxiv VALUES (?, ?)\" , (ids, subs,))\n",
    "# #         c.execute(\"INSERT INTO arxiv VALUES (?)\" , (subs,))\n",
    "\n",
    "# # Save (commit) the changes\n",
    "# conn.commit()"
   ]
  },
  {
   "cell_type": "code",
   "execution_count": 7,
   "metadata": {},
   "outputs": [],
   "source": [
    "# # Creating dataframes from the JSON file.\n",
    "# arxiv_ID_df = pd.DataFrame(id_DF, columns=['Id'])\n",
    "# arxiv_Subs_df = pd.DataFrame(submitters_DF, columns=['Submitters'])\n",
    "# arxiv_authors_df = pd.DataFrame(authors_DF, columns=['Authors'])\n",
    "# arxiv_title_df = pd.DataFrame(title_DF, columns=['Titles'])\n",
    "# arxiv_journalRef_df = pd.DataFrame(journalRef_DF, columns=['Journal_Reference'])\n",
    "# arxiv_categories_df = pd.DataFrame(categories_DF, columns=['Categories'])\n",
    "# arxiv_license_df = pd.DataFrame(license_DF, columns=['License'])\n",
    "# arxiv_abstract_df = pd.DataFrame(abstract_DF, columns=['Abstract'])"
   ]
  },
  {
   "cell_type": "code",
   "execution_count": 8,
   "metadata": {},
   "outputs": [],
   "source": [
    "# frames = [arxiv_ID_df, arxiv_Subs_df, arxiv_authors_df, arxiv_title_df, arxiv_journalRef_df, arxiv_categories_df, arxiv_license_df, arxiv_abstract_df]\n",
    "\n",
    "# FinalDF = pd.concat(frames, axis=1, sort=True)"
   ]
  },
  {
   "cell_type": "code",
   "execution_count": 9,
   "metadata": {},
   "outputs": [],
   "source": [
    "# FinalDF.head(10)"
   ]
  },
  {
   "cell_type": "code",
   "execution_count": 10,
   "metadata": {},
   "outputs": [],
   "source": [
    "# # Unique Authors\n",
    "# list(set(list(FinalDF['Submitters'])))[:10]"
   ]
  },
  {
   "cell_type": "code",
   "execution_count": 11,
   "metadata": {},
   "outputs": [],
   "source": [
    "# print('The number of unique authors are: {} out of {}'.format(len(set(list(FinalDF['Submitters']))), len(list(FinalDF['Submitters'])) ))"
   ]
  },
  {
   "cell_type": "code",
   "execution_count": 12,
   "metadata": {},
   "outputs": [],
   "source": [
    "# # Let us count the number of contributions from these authors.\n",
    "# AuthorCount = []\n",
    "# AuthorCount_dict = {}\n",
    "\n",
    "# submittersList = list(FinalDF['Submitters'])\n",
    "\n",
    "# AuthorCount.append(Counter(submittersList))\n",
    "\n",
    "# for authors in AuthorCount:\n",
    "#     for key, value in authors.items():\n",
    "#         AuthorCount_dict[key]=value"
   ]
  },
  {
   "cell_type": "code",
   "execution_count": 13,
   "metadata": {},
   "outputs": [],
   "source": [
    "# list(AuthorCount_dict.items())[:2]"
   ]
  },
  {
   "cell_type": "code",
   "execution_count": 14,
   "metadata": {},
   "outputs": [
    {
     "name": "stdout",
     "output_type": "stream",
     "text": [
      "*/Volumes/Kartikay/Data/split_dataFiles/aa.json\r\n",
      "*/Volumes/Kartikay/Data/split_dataFiles/ab.json\r\n",
      "*/Volumes/Kartikay/Data/split_dataFiles/ac.json\r\n",
      "*/Volumes/Kartikay/Data/split_dataFiles/ad.json\r\n",
      "*/Volumes/Kartikay/Data/split_dataFiles/ae.json\r\n",
      "*/Volumes/Kartikay/Data/split_dataFiles/af.json\r\n",
      "*/Volumes/Kartikay/Data/split_dataFiles/ag.json\r\n",
      "*/Volumes/Kartikay/Data/split_dataFiles/ah.json\r\n",
      "*/Volumes/Kartikay/Data/split_dataFiles/ai.json\r\n",
      "*/Volumes/Kartikay/Data/split_dataFiles/aj.json\r\n",
      "*/Volumes/Kartikay/Data/split_dataFiles/ak.json\r\n",
      "*/Volumes/Kartikay/Data/split_dataFiles/al.json\r\n",
      "*/Volumes/Kartikay/Data/split_dataFiles/am.json\r\n",
      "*/Volumes/Kartikay/Data/split_dataFiles/an.json\r\n",
      "*/Volumes/Kartikay/Data/split_dataFiles/ao.json\r\n",
      "*/Volumes/Kartikay/Data/split_dataFiles/ap.json\r\n",
      "*/Volumes/Kartikay/Data/split_dataFiles/aq.json\r\n",
      "*/Volumes/Kartikay/Data/split_dataFiles/ar.json\r\n"
     ]
    }
   ],
   "source": [
    "# The project consists of a bash script that splits the data into chunks - refer: github: scripts.bash\n",
    "\n",
    "!for i in /Volumes/Kartikay/Data/split_dataFiles/*; do echo *${i}; done"
   ]
  },
  {
   "cell_type": "code",
   "execution_count": 15,
   "metadata": {},
   "outputs": [],
   "source": [
    "# These lists contain all information from different json files.\n",
    "data_one = []\n",
    "    \n",
    "for line in open(\"/Volumes/Kartikay/Data/split_dataFiles/aa.json\"):\n",
    "    data = json.loads(line)\n",
    "    data_one.append(data)\n",
    "    "
   ]
  },
  {
   "cell_type": "code",
   "execution_count": 16,
   "metadata": {},
   "outputs": [
    {
     "data": {
      "text/plain": [
       "{'id': '0704.0001',\n",
       " 'submitter': 'Pavel Nadolsky',\n",
       " 'authors': \"C. Bal\\\\'azs, E. L. Berger, P. M. Nadolsky, C.-P. Yuan\",\n",
       " 'title': 'Calculation of prompt diphoton production cross sections at Tevatron and\\n  LHC energies',\n",
       " 'comments': '37 pages, 15 figures; published version',\n",
       " 'journal-ref': 'Phys.Rev.D76:013009,2007',\n",
       " 'doi': '10.1103/PhysRevD.76.013009',\n",
       " 'report-no': 'ANL-HEP-PR-07-12',\n",
       " 'categories': 'hep-ph',\n",
       " 'license': None,\n",
       " 'abstract': '  A fully differential calculation in perturbative quantum chromodynamics is\\npresented for the production of massive photon pairs at hadron colliders. All\\nnext-to-leading order perturbative contributions from quark-antiquark,\\ngluon-(anti)quark, and gluon-gluon subprocesses are included, as well as\\nall-orders resummation of initial-state gluon radiation valid at\\nnext-to-next-to-leading logarithmic accuracy. The region of phase space is\\nspecified in which the calculation is most reliable. Good agreement is\\ndemonstrated with data from the Fermilab Tevatron, and predictions are made for\\nmore detailed tests with CDF and DO data. Predictions are shown for\\ndistributions of diphoton pairs produced at the energy of the Large Hadron\\nCollider (LHC). Distributions of the diphoton pairs from the decay of a Higgs\\nboson are contrasted with those produced from QCD processes at the LHC, showing\\nthat enhanced sensitivity to the signal can be obtained with judicious\\nselection of events.\\n',\n",
       " 'versions': [{'version': 'v1', 'created': 'Mon, 2 Apr 2007 19:18:42 GMT'},\n",
       "  {'version': 'v2', 'created': 'Tue, 24 Jul 2007 20:10:27 GMT'}],\n",
       " 'update_date': '2008-11-26',\n",
       " 'authors_parsed': [['Balázs', 'C.', ''],\n",
       "  ['Berger', 'E. L.', ''],\n",
       "  ['Nadolsky', 'P. M.', ''],\n",
       "  ['Yuan', 'C. -P.', '']]}"
      ]
     },
     "execution_count": 16,
     "metadata": {},
     "output_type": "execute_result"
    }
   ],
   "source": [
    "data_one[0]"
   ]
  },
  {
   "cell_type": "code",
   "execution_count": 17,
   "metadata": {},
   "outputs": [],
   "source": [
    "# Creating an object for extracting data from all json files\n",
    "class journals:\n",
    "      \n",
    "    def __init__(self, ids, title, journal_Reference, license, abstract):\n",
    "        self.ids = ids\n",
    "        self.title = title\n",
    "        self.journal_Reference = journal_Reference\n",
    "        self.license = license\n",
    "        self.abstract = abstract\n",
    "        \n",
    "\n",
    "class author(journals):\n",
    "    \n",
    "    def __init__(self, submitter, authors):\n",
    "        self.submitter = submitter\n",
    "        self.authors = authors"
   ]
  },
  {
   "cell_type": "code",
   "execution_count": 18,
   "metadata": {},
   "outputs": [],
   "source": [
    "# These lists contain data from first json file:\n",
    "dataId_list = []\n",
    "dataTitle_list = []"
   ]
  },
  {
   "cell_type": "code",
   "execution_count": 19,
   "metadata": {},
   "outputs": [],
   "source": [
    "for ids in data_one:\n",
    "    dataId_list.append(ids['id'])\n",
    "    journals.ids = dataId_list\n",
    "\n",
    "for titles in data_one:\n",
    "    dataTitle_list.append(titles['title'])\n",
    "    journals.title = dataTitle_list"
   ]
  },
  {
   "cell_type": "code",
   "execution_count": 20,
   "metadata": {},
   "outputs": [
    {
     "data": {
      "text/plain": [
       "100000"
      ]
     },
     "execution_count": 20,
     "metadata": {},
     "output_type": "execute_result"
    }
   ],
   "source": [
    "len(author.ids)"
   ]
  },
  {
   "cell_type": "code",
   "execution_count": 21,
   "metadata": {},
   "outputs": [],
   "source": [
    "# Creating dataframes from the JSON file.\n",
    "arxiv_ID_df = pd.DataFrame(journals.ids, columns=['Id'])\n",
    "arxiv_title_df = pd.DataFrame(journals.title, columns=['Title'])"
   ]
  },
  {
   "cell_type": "code",
   "execution_count": 22,
   "metadata": {},
   "outputs": [],
   "source": [
    "frames = [arxiv_ID_df, arxiv_title_df]\n",
    "\n",
    "FinalDF = pd.concat(frames, axis=1, sort=True)"
   ]
  },
  {
   "cell_type": "code",
   "execution_count": 23,
   "metadata": {},
   "outputs": [
    {
     "data": {
      "text/html": [
       "<div>\n",
       "<style scoped>\n",
       "    .dataframe tbody tr th:only-of-type {\n",
       "        vertical-align: middle;\n",
       "    }\n",
       "\n",
       "    .dataframe tbody tr th {\n",
       "        vertical-align: top;\n",
       "    }\n",
       "\n",
       "    .dataframe thead th {\n",
       "        text-align: right;\n",
       "    }\n",
       "</style>\n",
       "<table border=\"1\" class=\"dataframe\">\n",
       "  <thead>\n",
       "    <tr style=\"text-align: right;\">\n",
       "      <th></th>\n",
       "      <th>Id</th>\n",
       "      <th>Title</th>\n",
       "    </tr>\n",
       "  </thead>\n",
       "  <tbody>\n",
       "    <tr>\n",
       "      <th>99990</th>\n",
       "      <td>0812.3864</td>\n",
       "      <td>Constructing de Sitter vacua in no-scale strin...</td>\n",
       "    </tr>\n",
       "    <tr>\n",
       "      <th>99991</th>\n",
       "      <td>0812.3865</td>\n",
       "      <td>Accelerated expansion and matter creation</td>\n",
       "    </tr>\n",
       "    <tr>\n",
       "      <th>99992</th>\n",
       "      <td>0812.3866</td>\n",
       "      <td>Quantum calculations of H2-H2 collisions: from...</td>\n",
       "    </tr>\n",
       "    <tr>\n",
       "      <th>99993</th>\n",
       "      <td>0812.3867</td>\n",
       "      <td>Statistical physics of a model binary genetic ...</td>\n",
       "    </tr>\n",
       "    <tr>\n",
       "      <th>99994</th>\n",
       "      <td>0812.3868</td>\n",
       "      <td>Magnetic structure of actinide metals</td>\n",
       "    </tr>\n",
       "    <tr>\n",
       "      <th>99995</th>\n",
       "      <td>0812.3869</td>\n",
       "      <td>Multiple Time Dimensions</td>\n",
       "    </tr>\n",
       "    <tr>\n",
       "      <th>99996</th>\n",
       "      <td>0812.3870</td>\n",
       "      <td>Depth Zero Representations of Nonlinear Covers...</td>\n",
       "    </tr>\n",
       "    <tr>\n",
       "      <th>99997</th>\n",
       "      <td>0812.3871</td>\n",
       "      <td>Decting Errors in Reversible Circuits With Inv...</td>\n",
       "    </tr>\n",
       "    <tr>\n",
       "      <th>99998</th>\n",
       "      <td>0812.3872</td>\n",
       "      <td>Unveiling the birth and evolution of the HII r...</td>\n",
       "    </tr>\n",
       "    <tr>\n",
       "      <th>99999</th>\n",
       "      <td>0812.3873</td>\n",
       "      <td>The K-Receiver Broadcast Channel with Confiden...</td>\n",
       "    </tr>\n",
       "  </tbody>\n",
       "</table>\n",
       "</div>"
      ],
      "text/plain": [
       "              Id                                              Title\n",
       "99990  0812.3864  Constructing de Sitter vacua in no-scale strin...\n",
       "99991  0812.3865          Accelerated expansion and matter creation\n",
       "99992  0812.3866  Quantum calculations of H2-H2 collisions: from...\n",
       "99993  0812.3867  Statistical physics of a model binary genetic ...\n",
       "99994  0812.3868              Magnetic structure of actinide metals\n",
       "99995  0812.3869                           Multiple Time Dimensions\n",
       "99996  0812.3870  Depth Zero Representations of Nonlinear Covers...\n",
       "99997  0812.3871  Decting Errors in Reversible Circuits With Inv...\n",
       "99998  0812.3872  Unveiling the birth and evolution of the HII r...\n",
       "99999  0812.3873  The K-Receiver Broadcast Channel with Confiden..."
      ]
     },
     "execution_count": 23,
     "metadata": {},
     "output_type": "execute_result"
    }
   ],
   "source": [
    "FinalDF.tail(10)"
   ]
  },
  {
   "cell_type": "code",
   "execution_count": 24,
   "metadata": {},
   "outputs": [],
   "source": [
    "# Accessing the second data file:\n",
    "data_two = []\n",
    "    \n",
    "for line in open(\"/Volumes/Kartikay/Data/split_dataFiles/ab.json\"):\n",
    "    dataTwo = json.loads(line)\n",
    "    data_two.append(dataTwo)\n",
    "    "
   ]
  },
  {
   "cell_type": "code",
   "execution_count": 25,
   "metadata": {},
   "outputs": [],
   "source": [
    "# These lists contain data from second json file:\n",
    "dataIdTwo_list = []\n",
    "dataTitleTwo_list = []"
   ]
  },
  {
   "cell_type": "code",
   "execution_count": 26,
   "metadata": {},
   "outputs": [],
   "source": [
    "for ids in data_two:\n",
    "    dataIdTwo_list.append(ids['id'])\n",
    "    journals.ids = dataIdTwo_list\n",
    "\n",
    "for titles in data_two:\n",
    "    dataTitleTwo_list.append(titles['title'])\n",
    "    journals.title = dataTitleTwo_list"
   ]
  },
  {
   "cell_type": "code",
   "execution_count": 27,
   "metadata": {},
   "outputs": [],
   "source": [
    "# Creating dataframes from the JSON file.\n",
    "arxiv_ID_dfTwo = pd.DataFrame(journals.ids, columns=['Id'])\n",
    "arxiv_title_dfTwo = pd.DataFrame(journals.title, columns=['Title'])"
   ]
  },
  {
   "cell_type": "code",
   "execution_count": 28,
   "metadata": {},
   "outputs": [],
   "source": [
    "framesTwo = [arxiv_ID_dfTwo, arxiv_title_dfTwo]\n",
    "\n",
    "FinalDFTwo = pd.concat(framesTwo, axis=1, sort=True)"
   ]
  },
  {
   "cell_type": "code",
   "execution_count": 29,
   "metadata": {},
   "outputs": [
    {
     "data": {
      "text/html": [
       "<div>\n",
       "<style scoped>\n",
       "    .dataframe tbody tr th:only-of-type {\n",
       "        vertical-align: middle;\n",
       "    }\n",
       "\n",
       "    .dataframe tbody tr th {\n",
       "        vertical-align: top;\n",
       "    }\n",
       "\n",
       "    .dataframe thead th {\n",
       "        text-align: right;\n",
       "    }\n",
       "</style>\n",
       "<table border=\"1\" class=\"dataframe\">\n",
       "  <thead>\n",
       "    <tr style=\"text-align: right;\">\n",
       "      <th></th>\n",
       "      <th>Id</th>\n",
       "      <th>Title</th>\n",
       "    </tr>\n",
       "  </thead>\n",
       "  <tbody>\n",
       "    <tr>\n",
       "      <th>99990</th>\n",
       "      <td>1007.0752</td>\n",
       "      <td>ARCONS: A highly multiplexed superconducting o...</td>\n",
       "    </tr>\n",
       "    <tr>\n",
       "      <th>99991</th>\n",
       "      <td>1007.0753</td>\n",
       "      <td>Flow in Cyclic Cosmology</td>\n",
       "    </tr>\n",
       "    <tr>\n",
       "      <th>99992</th>\n",
       "      <td>1007.0754</td>\n",
       "      <td>The influence of modified gravitational fields...</td>\n",
       "    </tr>\n",
       "    <tr>\n",
       "      <th>99993</th>\n",
       "      <td>1007.0755</td>\n",
       "      <td>A new model for the full shape of the large-sc...</td>\n",
       "    </tr>\n",
       "    <tr>\n",
       "      <th>99994</th>\n",
       "      <td>1007.0756</td>\n",
       "      <td>Bounds for State Degeneracies in 2D Conformal ...</td>\n",
       "    </tr>\n",
       "    <tr>\n",
       "      <th>99995</th>\n",
       "      <td>1007.0757</td>\n",
       "      <td>Detectability of large-scale power suppression...</td>\n",
       "    </tr>\n",
       "    <tr>\n",
       "      <th>99996</th>\n",
       "      <td>1007.0758</td>\n",
       "      <td>Systematic Improvement of Parton Showers with ...</td>\n",
       "    </tr>\n",
       "    <tr>\n",
       "      <th>99997</th>\n",
       "      <td>1007.0759</td>\n",
       "      <td>Relaxation dynamics of stochastic long-range i...</td>\n",
       "    </tr>\n",
       "    <tr>\n",
       "      <th>99998</th>\n",
       "      <td>1007.0760</td>\n",
       "      <td>Identification of a connection from Cauchy dat...</td>\n",
       "    </tr>\n",
       "    <tr>\n",
       "      <th>99999</th>\n",
       "      <td>1007.0761</td>\n",
       "      <td>Adhesive penetration in Beech wood Part II: Pe...</td>\n",
       "    </tr>\n",
       "  </tbody>\n",
       "</table>\n",
       "</div>"
      ],
      "text/plain": [
       "              Id                                              Title\n",
       "99990  1007.0752  ARCONS: A highly multiplexed superconducting o...\n",
       "99991  1007.0753                           Flow in Cyclic Cosmology\n",
       "99992  1007.0754  The influence of modified gravitational fields...\n",
       "99993  1007.0755  A new model for the full shape of the large-sc...\n",
       "99994  1007.0756  Bounds for State Degeneracies in 2D Conformal ...\n",
       "99995  1007.0757  Detectability of large-scale power suppression...\n",
       "99996  1007.0758  Systematic Improvement of Parton Showers with ...\n",
       "99997  1007.0759  Relaxation dynamics of stochastic long-range i...\n",
       "99998  1007.0760  Identification of a connection from Cauchy dat...\n",
       "99999  1007.0761  Adhesive penetration in Beech wood Part II: Pe..."
      ]
     },
     "execution_count": 29,
     "metadata": {},
     "output_type": "execute_result"
    }
   ],
   "source": [
    "FinalDFTwo.tail(10)"
   ]
  },
  {
   "cell_type": "code",
   "execution_count": 30,
   "metadata": {},
   "outputs": [
    {
     "data": {
      "text/html": [
       "<div>\n",
       "<style scoped>\n",
       "    .dataframe tbody tr th:only-of-type {\n",
       "        vertical-align: middle;\n",
       "    }\n",
       "\n",
       "    .dataframe tbody tr th {\n",
       "        vertical-align: top;\n",
       "    }\n",
       "\n",
       "    .dataframe thead th {\n",
       "        text-align: right;\n",
       "    }\n",
       "</style>\n",
       "<table border=\"1\" class=\"dataframe\">\n",
       "  <thead>\n",
       "    <tr style=\"text-align: right;\">\n",
       "      <th></th>\n",
       "      <th>Id</th>\n",
       "      <th>Title</th>\n",
       "    </tr>\n",
       "  </thead>\n",
       "  <tbody>\n",
       "    <tr>\n",
       "      <th>0</th>\n",
       "      <td>0704.0001</td>\n",
       "      <td>Calculation of prompt diphoton production cros...</td>\n",
       "    </tr>\n",
       "    <tr>\n",
       "      <th>1</th>\n",
       "      <td>0704.0002</td>\n",
       "      <td>Sparsity-certifying Graph Decompositions</td>\n",
       "    </tr>\n",
       "    <tr>\n",
       "      <th>2</th>\n",
       "      <td>0704.0003</td>\n",
       "      <td>The evolution of the Earth-Moon system based o...</td>\n",
       "    </tr>\n",
       "    <tr>\n",
       "      <th>3</th>\n",
       "      <td>0704.0004</td>\n",
       "      <td>A determinant of Stirling cycle numbers counts...</td>\n",
       "    </tr>\n",
       "    <tr>\n",
       "      <th>4</th>\n",
       "      <td>0704.0005</td>\n",
       "      <td>From dyadic $\\Lambda_{\\alpha}$ to $\\Lambda_{\\a...</td>\n",
       "    </tr>\n",
       "    <tr>\n",
       "      <th>5</th>\n",
       "      <td>0704.0006</td>\n",
       "      <td>Bosonic characters of atomic Cooper pairs acro...</td>\n",
       "    </tr>\n",
       "    <tr>\n",
       "      <th>6</th>\n",
       "      <td>0704.0007</td>\n",
       "      <td>Polymer Quantum Mechanics and its Continuum Limit</td>\n",
       "    </tr>\n",
       "    <tr>\n",
       "      <th>7</th>\n",
       "      <td>0704.0008</td>\n",
       "      <td>Numerical solution of shock and ramp compressi...</td>\n",
       "    </tr>\n",
       "    <tr>\n",
       "      <th>8</th>\n",
       "      <td>0704.0009</td>\n",
       "      <td>The Spitzer c2d Survey of Large, Nearby, Inste...</td>\n",
       "    </tr>\n",
       "    <tr>\n",
       "      <th>9</th>\n",
       "      <td>0704.0010</td>\n",
       "      <td>Partial cubes: structures, characterizations, ...</td>\n",
       "    </tr>\n",
       "  </tbody>\n",
       "</table>\n",
       "</div>"
      ],
      "text/plain": [
       "          Id                                              Title\n",
       "0  0704.0001  Calculation of prompt diphoton production cros...\n",
       "1  0704.0002           Sparsity-certifying Graph Decompositions\n",
       "2  0704.0003  The evolution of the Earth-Moon system based o...\n",
       "3  0704.0004  A determinant of Stirling cycle numbers counts...\n",
       "4  0704.0005  From dyadic $\\Lambda_{\\alpha}$ to $\\Lambda_{\\a...\n",
       "5  0704.0006  Bosonic characters of atomic Cooper pairs acro...\n",
       "6  0704.0007  Polymer Quantum Mechanics and its Continuum Limit\n",
       "7  0704.0008  Numerical solution of shock and ramp compressi...\n",
       "8  0704.0009  The Spitzer c2d Survey of Large, Nearby, Inste...\n",
       "9  0704.0010  Partial cubes: structures, characterizations, ..."
      ]
     },
     "execution_count": 30,
     "metadata": {},
     "output_type": "execute_result"
    }
   ],
   "source": [
    "# Appendinf dataframes together\n",
    "Final = FinalDF.append(FinalDFTwo)\n",
    "Final.head(10)"
   ]
  },
  {
   "cell_type": "code",
   "execution_count": 31,
   "metadata": {},
   "outputs": [
    {
     "name": "stdout",
     "output_type": "stream",
     "text": [
      "100000\n",
      "100000\n",
      "200000\n"
     ]
    }
   ],
   "source": [
    "print(len(FinalDFTwo))\n",
    "print(len(FinalDF))\n",
    "print(len(Final))"
   ]
  },
  {
   "cell_type": "code",
   "execution_count": null,
   "metadata": {},
   "outputs": [],
   "source": []
  }
 ],
 "metadata": {
  "kernelspec": {
   "display_name": "Python 3.7.3 64-bit",
   "language": "python",
   "name": "python37364bit5ab6d7df079b4313aaeebe872c08f89d"
  },
  "language_info": {
   "codemirror_mode": {
    "name": "ipython",
    "version": 3
   },
   "file_extension": ".py",
   "mimetype": "text/x-python",
   "name": "python",
   "nbconvert_exporter": "python",
   "pygments_lexer": "ipython3",
   "version": "3.7.3"
  }
 },
 "nbformat": 4,
 "nbformat_minor": 4
}
