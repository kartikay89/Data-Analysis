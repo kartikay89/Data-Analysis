{
  "nbformat": 4,
  "nbformat_minor": 0,
  "metadata": {
    "colab": {
      "name": "Netflix.ipynb",
      "provenance": [],
      "collapsed_sections": [],
      "mount_file_id": "1RwS0pwvM_ExhmFqfvpYpG1OPmsWoddcT",
      "authorship_tag": "ABX9TyMJbJe00JXrtMlrPaS4W6nc",
      "include_colab_link": true
    },
    "kernelspec": {
      "name": "python3",
      "display_name": "Python 3"
    }
  },
  "cells": [
    {
      "cell_type": "markdown",
      "metadata": {
        "id": "view-in-github",
        "colab_type": "text"
      },
      "source": [
        "<a href=\"https://colab.research.google.com/github/kartikay89/Data-Analysis/blob/main/Netflix.ipynb\" target=\"_parent\"><img src=\"https://colab.research.google.com/assets/colab-badge.svg\" alt=\"Open In Colab\"/></a>"
      ]
    },
    {
      "cell_type": "code",
      "metadata": {
        "id": "202aAhXjn3CO",
        "colab": {
          "base_uri": "https://localhost:8080/",
          "height": 34
        },
        "outputId": "f19bcda0-64fe-47b5-ed19-269cab52428d"
      },
      "source": [
        "# Netflix Titles data - Kaggle (URL: https://www.kaggle.com/shivamb/netflix-shows)\n",
        "\n",
        "\"\"\"\n",
        "What will we find out?\n",
        "\n",
        "1. Trend of Genres(listed_in) in particular year?\n",
        "2. Directors related to these genres?\n",
        "3. Type of the title? Whether it is a movie or a TV show?\n",
        "\n",
        "\"\"\""
      ],
      "execution_count": 1,
      "outputs": [
        {
          "output_type": "execute_result",
          "data": {
            "application/vnd.google.colaboratory.intrinsic+json": {
              "type": "string"
            },
            "text/plain": [
              "'\\nWhat will we find out?\\n\\n1. Trend of Genres(listed_in) in particular year?\\n2. Directors related to these genres?\\n3. Type of the title? Whether it is a movie or a TV show?\\n\\n'"
            ]
          },
          "metadata": {
            "tags": []
          },
          "execution_count": 1
        }
      ]
    },
    {
      "cell_type": "code",
      "metadata": {
        "id": "nQ3xE6plm3V5"
      },
      "source": [
        "import pandas as pd"
      ],
      "execution_count": 2,
      "outputs": []
    },
    {
      "cell_type": "code",
      "metadata": {
        "colab": {
          "base_uri": "https://localhost:8080/",
          "height": 589
        },
        "id": "PwGhf5iDnmSq",
        "outputId": "d9a26592-a356-4242-f273-223b3cfef428"
      },
      "source": [
        "netflixData = pd.read_csv(\"/content/drive/MyDrive/Google Colab Data /netflix_titles.csv\")\n",
        "netflixData"
      ],
      "execution_count": 3,
      "outputs": [
        {
          "output_type": "execute_result",
          "data": {
            "text/html": [
              "<div>\n",
              "<style scoped>\n",
              "    .dataframe tbody tr th:only-of-type {\n",
              "        vertical-align: middle;\n",
              "    }\n",
              "\n",
              "    .dataframe tbody tr th {\n",
              "        vertical-align: top;\n",
              "    }\n",
              "\n",
              "    .dataframe thead th {\n",
              "        text-align: right;\n",
              "    }\n",
              "</style>\n",
              "<table border=\"1\" class=\"dataframe\">\n",
              "  <thead>\n",
              "    <tr style=\"text-align: right;\">\n",
              "      <th></th>\n",
              "      <th>show_id</th>\n",
              "      <th>type</th>\n",
              "      <th>title</th>\n",
              "      <th>director</th>\n",
              "      <th>cast</th>\n",
              "      <th>country</th>\n",
              "      <th>date_added</th>\n",
              "      <th>release_year</th>\n",
              "      <th>rating</th>\n",
              "      <th>duration</th>\n",
              "      <th>listed_in</th>\n",
              "      <th>description</th>\n",
              "    </tr>\n",
              "  </thead>\n",
              "  <tbody>\n",
              "    <tr>\n",
              "      <th>0</th>\n",
              "      <td>81145628</td>\n",
              "      <td>Movie</td>\n",
              "      <td>Norm of the North: King Sized Adventure</td>\n",
              "      <td>Richard Finn, Tim Maltby</td>\n",
              "      <td>Alan Marriott, Andrew Toth, Brian Dobson, Cole...</td>\n",
              "      <td>United States, India, South Korea, China</td>\n",
              "      <td>September 9, 2019</td>\n",
              "      <td>2019</td>\n",
              "      <td>TV-PG</td>\n",
              "      <td>90 min</td>\n",
              "      <td>Children &amp; Family Movies, Comedies</td>\n",
              "      <td>Before planning an awesome wedding for his gra...</td>\n",
              "    </tr>\n",
              "    <tr>\n",
              "      <th>1</th>\n",
              "      <td>80117401</td>\n",
              "      <td>Movie</td>\n",
              "      <td>Jandino: Whatever it Takes</td>\n",
              "      <td>NaN</td>\n",
              "      <td>Jandino Asporaat</td>\n",
              "      <td>United Kingdom</td>\n",
              "      <td>September 9, 2016</td>\n",
              "      <td>2016</td>\n",
              "      <td>TV-MA</td>\n",
              "      <td>94 min</td>\n",
              "      <td>Stand-Up Comedy</td>\n",
              "      <td>Jandino Asporaat riffs on the challenges of ra...</td>\n",
              "    </tr>\n",
              "    <tr>\n",
              "      <th>2</th>\n",
              "      <td>70234439</td>\n",
              "      <td>TV Show</td>\n",
              "      <td>Transformers Prime</td>\n",
              "      <td>NaN</td>\n",
              "      <td>Peter Cullen, Sumalee Montano, Frank Welker, J...</td>\n",
              "      <td>United States</td>\n",
              "      <td>September 8, 2018</td>\n",
              "      <td>2013</td>\n",
              "      <td>TV-Y7-FV</td>\n",
              "      <td>1 Season</td>\n",
              "      <td>Kids' TV</td>\n",
              "      <td>With the help of three human allies, the Autob...</td>\n",
              "    </tr>\n",
              "    <tr>\n",
              "      <th>3</th>\n",
              "      <td>80058654</td>\n",
              "      <td>TV Show</td>\n",
              "      <td>Transformers: Robots in Disguise</td>\n",
              "      <td>NaN</td>\n",
              "      <td>Will Friedle, Darren Criss, Constance Zimmer, ...</td>\n",
              "      <td>United States</td>\n",
              "      <td>September 8, 2018</td>\n",
              "      <td>2016</td>\n",
              "      <td>TV-Y7</td>\n",
              "      <td>1 Season</td>\n",
              "      <td>Kids' TV</td>\n",
              "      <td>When a prison ship crash unleashes hundreds of...</td>\n",
              "    </tr>\n",
              "    <tr>\n",
              "      <th>4</th>\n",
              "      <td>80125979</td>\n",
              "      <td>Movie</td>\n",
              "      <td>#realityhigh</td>\n",
              "      <td>Fernando Lebrija</td>\n",
              "      <td>Nesta Cooper, Kate Walsh, John Michael Higgins...</td>\n",
              "      <td>United States</td>\n",
              "      <td>September 8, 2017</td>\n",
              "      <td>2017</td>\n",
              "      <td>TV-14</td>\n",
              "      <td>99 min</td>\n",
              "      <td>Comedies</td>\n",
              "      <td>When nerdy high schooler Dani finally attracts...</td>\n",
              "    </tr>\n",
              "    <tr>\n",
              "      <th>...</th>\n",
              "      <td>...</td>\n",
              "      <td>...</td>\n",
              "      <td>...</td>\n",
              "      <td>...</td>\n",
              "      <td>...</td>\n",
              "      <td>...</td>\n",
              "      <td>...</td>\n",
              "      <td>...</td>\n",
              "      <td>...</td>\n",
              "      <td>...</td>\n",
              "      <td>...</td>\n",
              "      <td>...</td>\n",
              "    </tr>\n",
              "    <tr>\n",
              "      <th>6229</th>\n",
              "      <td>80000063</td>\n",
              "      <td>TV Show</td>\n",
              "      <td>Red vs. Blue</td>\n",
              "      <td>NaN</td>\n",
              "      <td>Burnie Burns, Jason Saldaña, Gustavo Sorola, G...</td>\n",
              "      <td>United States</td>\n",
              "      <td>NaN</td>\n",
              "      <td>2015</td>\n",
              "      <td>NR</td>\n",
              "      <td>13 Seasons</td>\n",
              "      <td>TV Action &amp; Adventure, TV Comedies, TV Sci-Fi ...</td>\n",
              "      <td>This parody of first-person shooter games, mil...</td>\n",
              "    </tr>\n",
              "    <tr>\n",
              "      <th>6230</th>\n",
              "      <td>70286564</td>\n",
              "      <td>TV Show</td>\n",
              "      <td>Maron</td>\n",
              "      <td>NaN</td>\n",
              "      <td>Marc Maron, Judd Hirsch, Josh Brener, Nora Zeh...</td>\n",
              "      <td>United States</td>\n",
              "      <td>NaN</td>\n",
              "      <td>2016</td>\n",
              "      <td>TV-MA</td>\n",
              "      <td>4 Seasons</td>\n",
              "      <td>TV Comedies</td>\n",
              "      <td>Marc Maron stars as Marc Maron, who interviews...</td>\n",
              "    </tr>\n",
              "    <tr>\n",
              "      <th>6231</th>\n",
              "      <td>80116008</td>\n",
              "      <td>Movie</td>\n",
              "      <td>Little Baby Bum: Nursery Rhyme Friends</td>\n",
              "      <td>NaN</td>\n",
              "      <td>NaN</td>\n",
              "      <td>NaN</td>\n",
              "      <td>NaN</td>\n",
              "      <td>2016</td>\n",
              "      <td>NaN</td>\n",
              "      <td>60 min</td>\n",
              "      <td>Movies</td>\n",
              "      <td>Nursery rhymes and original music for children...</td>\n",
              "    </tr>\n",
              "    <tr>\n",
              "      <th>6232</th>\n",
              "      <td>70281022</td>\n",
              "      <td>TV Show</td>\n",
              "      <td>A Young Doctor's Notebook and Other Stories</td>\n",
              "      <td>NaN</td>\n",
              "      <td>Daniel Radcliffe, Jon Hamm, Adam Godley, Chris...</td>\n",
              "      <td>United Kingdom</td>\n",
              "      <td>NaN</td>\n",
              "      <td>2013</td>\n",
              "      <td>TV-MA</td>\n",
              "      <td>2 Seasons</td>\n",
              "      <td>British TV Shows, TV Comedies, TV Dramas</td>\n",
              "      <td>Set during the Russian Revolution, this comic ...</td>\n",
              "    </tr>\n",
              "    <tr>\n",
              "      <th>6233</th>\n",
              "      <td>70153404</td>\n",
              "      <td>TV Show</td>\n",
              "      <td>Friends</td>\n",
              "      <td>NaN</td>\n",
              "      <td>Jennifer Aniston, Courteney Cox, Lisa Kudrow, ...</td>\n",
              "      <td>United States</td>\n",
              "      <td>NaN</td>\n",
              "      <td>2003</td>\n",
              "      <td>TV-14</td>\n",
              "      <td>10 Seasons</td>\n",
              "      <td>Classic &amp; Cult TV, TV Comedies</td>\n",
              "      <td>This hit sitcom follows the merry misadventure...</td>\n",
              "    </tr>\n",
              "  </tbody>\n",
              "</table>\n",
              "<p>6234 rows × 12 columns</p>\n",
              "</div>"
            ],
            "text/plain": [
              "       show_id  ...                                        description\n",
              "0     81145628  ...  Before planning an awesome wedding for his gra...\n",
              "1     80117401  ...  Jandino Asporaat riffs on the challenges of ra...\n",
              "2     70234439  ...  With the help of three human allies, the Autob...\n",
              "3     80058654  ...  When a prison ship crash unleashes hundreds of...\n",
              "4     80125979  ...  When nerdy high schooler Dani finally attracts...\n",
              "...        ...  ...                                                ...\n",
              "6229  80000063  ...  This parody of first-person shooter games, mil...\n",
              "6230  70286564  ...  Marc Maron stars as Marc Maron, who interviews...\n",
              "6231  80116008  ...  Nursery rhymes and original music for children...\n",
              "6232  70281022  ...  Set during the Russian Revolution, this comic ...\n",
              "6233  70153404  ...  This hit sitcom follows the merry misadventure...\n",
              "\n",
              "[6234 rows x 12 columns]"
            ]
          },
          "metadata": {
            "tags": []
          },
          "execution_count": 3
        }
      ]
    },
    {
      "cell_type": "code",
      "metadata": {
        "id": "6eZno2MDnq37"
      },
      "source": [
        "year_of_release = list(set(netflixData[\"release_year\"]))\n",
        "type(year_of_release)\n",
        "year_of_release"
      ],
      "execution_count": null,
      "outputs": []
    },
    {
      "cell_type": "code",
      "metadata": {
        "id": "y867vHShoJHn"
      },
      "source": [
        "# Trend of Genres in particular year.\n",
        "# year to movie names dictionary.\n",
        "\n",
        "year_to_movie_dict = {}\n",
        "\n",
        "for years in year_of_release:\n",
        "  titles = netflixData.loc[netflixData['release_year'] == years, 'title']\n",
        "\n",
        "  if years not in year_to_movie_dict:\n",
        "    year_to_movie_dict[years] = titles"
      ],
      "execution_count": 5,
      "outputs": []
    },
    {
      "cell_type": "code",
      "metadata": {
        "id": "mL0REiw9D0Rv"
      },
      "source": [
        "year_to_movie_dict\n",
        "\n",
        "year_to_movie_df = {}\n",
        "for key, value in year_to_movie_dict.items():\n",
        "  year_to_movie_df[\"Movie\"] = year_to_movie_dict"
      ],
      "execution_count": 6,
      "outputs": []
    },
    {
      "cell_type": "code",
      "metadata": {
        "colab": {
          "base_uri": "https://localhost:8080/",
          "height": 419
        },
        "id": "qylKkgaZHzCN",
        "outputId": "2adcf893-a1e8-4997-e961-8b209843b948"
      },
      "source": [
        "netflixDFOne = pd.DataFrame(year_to_movie_df)\n",
        "netflixDFOne"
      ],
      "execution_count": 7,
      "outputs": [
        {
          "output_type": "execute_result",
          "data": {
            "text/html": [
              "<div>\n",
              "<style scoped>\n",
              "    .dataframe tbody tr th:only-of-type {\n",
              "        vertical-align: middle;\n",
              "    }\n",
              "\n",
              "    .dataframe tbody tr th {\n",
              "        vertical-align: top;\n",
              "    }\n",
              "\n",
              "    .dataframe thead th {\n",
              "        text-align: right;\n",
              "    }\n",
              "</style>\n",
              "<table border=\"1\" class=\"dataframe\">\n",
              "  <thead>\n",
              "    <tr style=\"text-align: right;\">\n",
              "      <th></th>\n",
              "      <th>Movie</th>\n",
              "    </tr>\n",
              "  </thead>\n",
              "  <tbody>\n",
              "    <tr>\n",
              "      <th>1925</th>\n",
              "      <td>4292    Pioneers: First Women Filmmakers*\n",
              "Name...</td>\n",
              "    </tr>\n",
              "    <tr>\n",
              "      <th>1942</th>\n",
              "      <td>2011          Prelude to War\n",
              "2013    The Battl...</td>\n",
              "    </tr>\n",
              "    <tr>\n",
              "      <th>1943</th>\n",
              "      <td>2022    Undercover: How to Operate Behind Enem...</td>\n",
              "    </tr>\n",
              "    <tr>\n",
              "      <th>1944</th>\n",
              "      <td>2017    The Memphis Belle: A Story of a\\nFlyin...</td>\n",
              "    </tr>\n",
              "    <tr>\n",
              "      <th>1945</th>\n",
              "      <td>2005     Know Your Enemy - Japan\n",
              "2009    Nazi ...</td>\n",
              "    </tr>\n",
              "    <tr>\n",
              "      <th>...</th>\n",
              "      <td>...</td>\n",
              "    </tr>\n",
              "    <tr>\n",
              "      <th>2016</th>\n",
              "      <td>1                           Jandino: Whatever ...</td>\n",
              "    </tr>\n",
              "    <tr>\n",
              "      <th>2017</th>\n",
              "      <td>4                                            #...</td>\n",
              "    </tr>\n",
              "    <tr>\n",
              "      <th>2018</th>\n",
              "      <td>27                                   City of J...</td>\n",
              "    </tr>\n",
              "    <tr>\n",
              "      <th>2019</th>\n",
              "      <td>0       Norm of the North: King Sized Adventur...</td>\n",
              "    </tr>\n",
              "    <tr>\n",
              "      <th>2020</th>\n",
              "      <td>1315                                   Maradon...</td>\n",
              "    </tr>\n",
              "  </tbody>\n",
              "</table>\n",
              "<p>72 rows × 1 columns</p>\n",
              "</div>"
            ],
            "text/plain": [
              "                                                  Movie\n",
              "1925  4292    Pioneers: First Women Filmmakers*\n",
              "Name...\n",
              "1942  2011          Prelude to War\n",
              "2013    The Battl...\n",
              "1943  2022    Undercover: How to Operate Behind Enem...\n",
              "1944  2017    The Memphis Belle: A Story of a\\nFlyin...\n",
              "1945  2005     Know Your Enemy - Japan\n",
              "2009    Nazi ...\n",
              "...                                                 ...\n",
              "2016  1                           Jandino: Whatever ...\n",
              "2017  4                                            #...\n",
              "2018  27                                   City of J...\n",
              "2019  0       Norm of the North: King Sized Adventur...\n",
              "2020  1315                                   Maradon...\n",
              "\n",
              "[72 rows x 1 columns]"
            ]
          },
          "metadata": {
            "tags": []
          },
          "execution_count": 7
        }
      ]
    },
    {
      "cell_type": "code",
      "metadata": {
        "colab": {
          "base_uri": "https://localhost:8080/"
        },
        "id": "-ypx4WqcH0Ce",
        "outputId": "a6378ccb-fb18-4aae-d07d-e60c934f03cb"
      },
      "source": [
        "number_of_rows = len(netflixDFOne.index)\n",
        "number_of_rows"
      ],
      "execution_count": 8,
      "outputs": [
        {
          "output_type": "execute_result",
          "data": {
            "text/plain": [
              "72"
            ]
          },
          "metadata": {
            "tags": []
          },
          "execution_count": 8
        }
      ]
    },
    {
      "cell_type": "code",
      "metadata": {
        "colab": {
          "base_uri": "https://localhost:8080/",
          "height": 419
        },
        "id": "aOKtCJ5ZUK-5",
        "outputId": "06039fde-c8c9-4475-ba1b-ed0038de0581"
      },
      "source": [
        "netflixDFTwo = pd.DataFrame([netflixDFOne.index, netflixDFOne.Movie]).transpose()\n",
        "netflixDFTwo.rename(columns={0:'Years', 1:'Movies'}, inplace=True)\n",
        "netflixDFTwo"
      ],
      "execution_count": 9,
      "outputs": [
        {
          "output_type": "execute_result",
          "data": {
            "text/html": [
              "<div>\n",
              "<style scoped>\n",
              "    .dataframe tbody tr th:only-of-type {\n",
              "        vertical-align: middle;\n",
              "    }\n",
              "\n",
              "    .dataframe tbody tr th {\n",
              "        vertical-align: top;\n",
              "    }\n",
              "\n",
              "    .dataframe thead th {\n",
              "        text-align: right;\n",
              "    }\n",
              "</style>\n",
              "<table border=\"1\" class=\"dataframe\">\n",
              "  <thead>\n",
              "    <tr style=\"text-align: right;\">\n",
              "      <th></th>\n",
              "      <th>Years</th>\n",
              "      <th>Movies</th>\n",
              "    </tr>\n",
              "  </thead>\n",
              "  <tbody>\n",
              "    <tr>\n",
              "      <th>0</th>\n",
              "      <td>1925</td>\n",
              "      <td>4292    Pioneers: First Women Filmmakers*\n",
              "Name...</td>\n",
              "    </tr>\n",
              "    <tr>\n",
              "      <th>1</th>\n",
              "      <td>1942</td>\n",
              "      <td>2011          Prelude to War\n",
              "2013    The Battl...</td>\n",
              "    </tr>\n",
              "    <tr>\n",
              "      <th>2</th>\n",
              "      <td>1943</td>\n",
              "      <td>2022    Undercover: How to Operate Behind Enem...</td>\n",
              "    </tr>\n",
              "    <tr>\n",
              "      <th>3</th>\n",
              "      <td>1944</td>\n",
              "      <td>2017    The Memphis Belle: A Story of a\\nFlyin...</td>\n",
              "    </tr>\n",
              "    <tr>\n",
              "      <th>4</th>\n",
              "      <td>1945</td>\n",
              "      <td>2005     Know Your Enemy - Japan\n",
              "2009    Nazi ...</td>\n",
              "    </tr>\n",
              "    <tr>\n",
              "      <th>...</th>\n",
              "      <td>...</td>\n",
              "      <td>...</td>\n",
              "    </tr>\n",
              "    <tr>\n",
              "      <th>67</th>\n",
              "      <td>2016</td>\n",
              "      <td>1                           Jandino: Whatever ...</td>\n",
              "    </tr>\n",
              "    <tr>\n",
              "      <th>68</th>\n",
              "      <td>2017</td>\n",
              "      <td>4                                            #...</td>\n",
              "    </tr>\n",
              "    <tr>\n",
              "      <th>69</th>\n",
              "      <td>2018</td>\n",
              "      <td>27                                   City of J...</td>\n",
              "    </tr>\n",
              "    <tr>\n",
              "      <th>70</th>\n",
              "      <td>2019</td>\n",
              "      <td>0       Norm of the North: King Sized Adventur...</td>\n",
              "    </tr>\n",
              "    <tr>\n",
              "      <th>71</th>\n",
              "      <td>2020</td>\n",
              "      <td>1315                                   Maradon...</td>\n",
              "    </tr>\n",
              "  </tbody>\n",
              "</table>\n",
              "<p>72 rows × 2 columns</p>\n",
              "</div>"
            ],
            "text/plain": [
              "   Years                                             Movies\n",
              "0   1925  4292    Pioneers: First Women Filmmakers*\n",
              "Name...\n",
              "1   1942  2011          Prelude to War\n",
              "2013    The Battl...\n",
              "2   1943  2022    Undercover: How to Operate Behind Enem...\n",
              "3   1944  2017    The Memphis Belle: A Story of a\\nFlyin...\n",
              "4   1945  2005     Know Your Enemy - Japan\n",
              "2009    Nazi ...\n",
              "..   ...                                                ...\n",
              "67  2016  1                           Jandino: Whatever ...\n",
              "68  2017  4                                            #...\n",
              "69  2018  27                                   City of J...\n",
              "70  2019  0       Norm of the North: King Sized Adventur...\n",
              "71  2020  1315                                   Maradon...\n",
              "\n",
              "[72 rows x 2 columns]"
            ]
          },
          "metadata": {
            "tags": []
          },
          "execution_count": 9
        }
      ]
    },
    {
      "cell_type": "code",
      "metadata": {
        "id": "22-WJl3sayWo",
        "colab": {
          "base_uri": "https://localhost:8080/"
        },
        "outputId": "e0eac588-cb76-498b-e747-2896f0455625"
      },
      "source": [
        "list(netflixDFTwo.loc[ netflixDFTwo['Years'] == 2020, 'Movies'  ])"
      ],
      "execution_count": 10,
      "outputs": [
        {
          "output_type": "execute_result",
          "data": {
            "text/plain": [
              "[1315                                   Maradona in Mexico\n",
              " 3180                                        Bulletproof 2\n",
              " 3189                                                Cheer\n",
              " 3195                                Live Twice, Love Once\n",
              " 3220                                              Dracula\n",
              " 3221                                  Go! Go! Cory Carson\n",
              " 3249                        All the Freckles in the World\n",
              " 3325                                       Sex, Explained\n",
              " 3352                                    A Fall from Grace\n",
              " 3353                                                 Ares\n",
              " 3354                                   Nailed It! Germany\n",
              " 3363                                    Handsome Siblings\n",
              " 3379           Killer Inside: The Mind of Aaron Hernandez\n",
              " 3426                     Kipo and the Age of Wonderbeasts\n",
              " 3427                           Leslie Jones: Time Machine\n",
              " 3436                           The Healing Powers of Dude\n",
              " 3464                                     AJ and the Queen\n",
              " 3466                         Jamtara - Sabka Number Ayega\n",
              " 3467                                       Medical Police\n",
              " 3472                                           Until Dawn\n",
              " 3518                                        Ghost Stories\n",
              " 3541                                              Messiah\n",
              " 3546    Nisman: The Prosecutor, the President, and the...\n",
              " 3562                                         Spinning Out\n",
              " 3573                                           The Circle\n",
              " Name: title, dtype: object]"
            ]
          },
          "metadata": {
            "tags": []
          },
          "execution_count": 10
        }
      ]
    },
    {
      "cell_type": "code",
      "metadata": {
        "id": "HggAK18r6o2y"
      },
      "source": [
        "# Adding the genres to the movies\n",
        "movieTitles = list(netflixData['title'])\n",
        "\n",
        "# dictionary contaning movie titles\n",
        "title_dict = {}\n",
        "\n",
        "for movies in movieTitles:\n",
        "  mTitlesGenres = netflixData.loc[ netflixData['title']  == movies, 'listed_in']\n",
        "\n",
        "  if movies not in title_dict:\n",
        "    title_dict[movies] = mTitlesGenres"
      ],
      "execution_count": 11,
      "outputs": []
    },
    {
      "cell_type": "code",
      "metadata": {
        "id": "GiJgZSFxBoBP"
      },
      "source": [
        "mTitlesGenres_df = {}\n",
        "\n",
        "for key, value in title_dict.items():\n",
        "  mTitlesGenres_df['Genres'] = title_dict\n",
        "\n"
      ],
      "execution_count": 12,
      "outputs": []
    },
    {
      "cell_type": "code",
      "metadata": {
        "colab": {
          "base_uri": "https://localhost:8080/",
          "height": 419
        },
        "id": "PVipmmy_DWk2",
        "outputId": "96f37462-a819-492e-9054-d3f9ed1710f7"
      },
      "source": [
        "genresDF = pd.DataFrame(mTitlesGenres_df)\n",
        "genresDF"
      ],
      "execution_count": 13,
      "outputs": [
        {
          "output_type": "execute_result",
          "data": {
            "text/html": [
              "<div>\n",
              "<style scoped>\n",
              "    .dataframe tbody tr th:only-of-type {\n",
              "        vertical-align: middle;\n",
              "    }\n",
              "\n",
              "    .dataframe tbody tr th {\n",
              "        vertical-align: top;\n",
              "    }\n",
              "\n",
              "    .dataframe thead th {\n",
              "        text-align: right;\n",
              "    }\n",
              "</style>\n",
              "<table border=\"1\" class=\"dataframe\">\n",
              "  <thead>\n",
              "    <tr style=\"text-align: right;\">\n",
              "      <th></th>\n",
              "      <th>Genres</th>\n",
              "    </tr>\n",
              "  </thead>\n",
              "  <tbody>\n",
              "    <tr>\n",
              "      <th>#Roxy</th>\n",
              "      <td>5462    Comedies, Romantic Movies\n",
              "Name: listed...</td>\n",
              "    </tr>\n",
              "    <tr>\n",
              "      <th>#Rucker50</th>\n",
              "      <td>4699    Documentaries, Sports Movies\n",
              "Name: lis...</td>\n",
              "    </tr>\n",
              "    <tr>\n",
              "      <th>#Selfie</th>\n",
              "      <td>2693    Comedies, Dramas, International Movies...</td>\n",
              "    </tr>\n",
              "    <tr>\n",
              "      <th>#Selfie 69</th>\n",
              "      <td>2694    Comedies, Dramas, International Movies...</td>\n",
              "    </tr>\n",
              "    <tr>\n",
              "      <th>#realityhigh</th>\n",
              "      <td>4    Comedies\n",
              "Name: listed_in, dtype: object</td>\n",
              "    </tr>\n",
              "    <tr>\n",
              "      <th>...</th>\n",
              "      <td>...</td>\n",
              "    </tr>\n",
              "    <tr>\n",
              "      <th>忍者ハットリくん</th>\n",
              "      <td>6086    Anime Series, Kids' TV\n",
              "Name: listed_in...</td>\n",
              "    </tr>\n",
              "    <tr>\n",
              "      <th>海的儿子</th>\n",
              "      <td>5281    International TV Shows, TV Dramas\n",
              "Name...</td>\n",
              "    </tr>\n",
              "    <tr>\n",
              "      <th>마녀사냥</th>\n",
              "      <td>3904    International TV Shows, Korean TV Show...</td>\n",
              "    </tr>\n",
              "    <tr>\n",
              "      <th>반드시 잡는다</th>\n",
              "      <td>3799    Dramas, International Movies, Thriller...</td>\n",
              "    </tr>\n",
              "    <tr>\n",
              "      <th>최강전사 미니특공대 : 영웅의 탄생</th>\n",
              "      <td>355    Children &amp; Family Movies\n",
              "Name: listed_i...</td>\n",
              "    </tr>\n",
              "  </tbody>\n",
              "</table>\n",
              "<p>6172 rows × 1 columns</p>\n",
              "</div>"
            ],
            "text/plain": [
              "                                                                Genres\n",
              "#Roxy                5462    Comedies, Romantic Movies\n",
              "Name: listed...\n",
              "#Rucker50            4699    Documentaries, Sports Movies\n",
              "Name: lis...\n",
              "#Selfie              2693    Comedies, Dramas, International Movies...\n",
              "#Selfie 69           2694    Comedies, Dramas, International Movies...\n",
              "#realityhigh              4    Comedies\n",
              "Name: listed_in, dtype: object\n",
              "...                                                                ...\n",
              "忍者ハットリくん             6086    Anime Series, Kids' TV\n",
              "Name: listed_in...\n",
              "海的儿子                 5281    International TV Shows, TV Dramas\n",
              "Name...\n",
              "마녀사냥                 3904    International TV Shows, Korean TV Show...\n",
              "반드시 잡는다              3799    Dramas, International Movies, Thriller...\n",
              "최강전사 미니특공대 : 영웅의 탄생  355    Children & Family Movies\n",
              "Name: listed_i...\n",
              "\n",
              "[6172 rows x 1 columns]"
            ]
          },
          "metadata": {
            "tags": []
          },
          "execution_count": 13
        }
      ]
    },
    {
      "cell_type": "code",
      "metadata": {
        "id": "Cjs322jfDx79",
        "colab": {
          "base_uri": "https://localhost:8080/"
        },
        "outputId": "f5901a3d-0e57-4cb4-f44b-47dfdc43794e"
      },
      "source": [
        "# number of movies in the dataset.\n",
        "print(\"{}{}\".format(range(0, len(genresDF.index)),  list(genresDF.index)[:50]))"
      ],
      "execution_count": 20,
      "outputs": [
        {
          "output_type": "stream",
          "text": [
            "range(0, 6172)['#Roxy', '#Rucker50', '#Selfie', '#Selfie 69', '#realityhigh', \"'89\", '(T)ERROR', '1 Chance 2 Dance', '1 Mile to You', '10 Days in Sun City', '10 jours en or', '10,000 B.C.', '100 Days Of Solitude', '100 Meters', '100 Things to do Before High School', \"100 Years: One Woman's Fight for Justice\", '100% Hotter', '1000 Rupee Note', '12 ROUND GUN', '12 Years Promise', '13 Cameras', '13 Reasons Why', '13 Reasons Why: Beyond the Reasons', '13 Sins', '13TH', '13TH: A Conversation with Oprah Winfrey & Ava DuVernay', '14 Blades', '14 Cameras', '14 Minutes from Earth', '15-Aug', '16 Blocks', '187', '1898: Our Last Men in the Philippines', '1920', '1922', '1983', '1994', '1st Summoning', '2 States', '2,215', '20 Feet From Stardom', '20 Minutes', '2015 Dream Concert', '2036 Origin Unknown', '20th Century Women', '21', '21 & Over', '21 Sarfarosh: Saragarhi 1897', '21 Thunder', '22-Jul']\n"
          ],
          "name": "stdout"
        }
      ]
    },
    {
      "cell_type": "code",
      "metadata": {
        "id": "kSC6Te2D2DF7",
        "colab": {
          "base_uri": "https://localhost:8080/"
        },
        "outputId": "555ccf66-3742-4c68-820e-d8f5f6901ef4"
      },
      "source": [
        "# Looking at the genres of these movie titles\n",
        "\n",
        "for years in year_of_release:\n",
        "  movie_by_year = netflixDFTwo.loc[ netflixDFTwo['Years'] == years, 'Movies'  ]\n",
        "\n",
        "print(len(movie_by_year))  \n",
        "print(years, list(movie_by_year))"
      ],
      "execution_count": 39,
      "outputs": [
        {
          "output_type": "stream",
          "text": [
            "1\n",
            "2020 [1315                                   Maradona in Mexico\n",
            "3180                                        Bulletproof 2\n",
            "3189                                                Cheer\n",
            "3195                                Live Twice, Love Once\n",
            "3220                                              Dracula\n",
            "3221                                  Go! Go! Cory Carson\n",
            "3249                        All the Freckles in the World\n",
            "3325                                       Sex, Explained\n",
            "3352                                    A Fall from Grace\n",
            "3353                                                 Ares\n",
            "3354                                   Nailed It! Germany\n",
            "3363                                    Handsome Siblings\n",
            "3379           Killer Inside: The Mind of Aaron Hernandez\n",
            "3426                     Kipo and the Age of Wonderbeasts\n",
            "3427                           Leslie Jones: Time Machine\n",
            "3436                           The Healing Powers of Dude\n",
            "3464                                     AJ and the Queen\n",
            "3466                         Jamtara - Sabka Number Ayega\n",
            "3467                                       Medical Police\n",
            "3472                                           Until Dawn\n",
            "3518                                        Ghost Stories\n",
            "3541                                              Messiah\n",
            "3546    Nisman: The Prosecutor, the President, and the...\n",
            "3562                                         Spinning Out\n",
            "3573                                           The Circle\n",
            "Name: title, dtype: object]\n"
          ],
          "name": "stdout"
        }
      ]
    },
    {
      "cell_type": "code",
      "metadata": {
        "id": "A5ws0R4L5rSI",
        "colab": {
          "base_uri": "https://localhost:8080/",
          "height": 343
        },
        "outputId": "4f0e58aa-a72a-49cc-b4c6-26aced88691f"
      },
      "source": [
        "# searching movie's genres.\n",
        "moviesYear = list(movie_by_year)\n",
        "\n",
        "for movies in moviesYear:\n",
        "  netflixData.loc[ netflixData['title'] == movies, 'listed_in' ]"
      ],
      "execution_count": 37,
      "outputs": [
        {
          "output_type": "error",
          "ename": "ValueError",
          "evalue": "ignored",
          "traceback": [
            "\u001b[0;31m---------------------------------------------------------------------------\u001b[0m",
            "\u001b[0;31mValueError\u001b[0m                                Traceback (most recent call last)",
            "\u001b[0;32m<ipython-input-37-6c2ae454b37f>\u001b[0m in \u001b[0;36m<module>\u001b[0;34m()\u001b[0m\n\u001b[1;32m      3\u001b[0m \u001b[0;34m\u001b[0m\u001b[0m\n\u001b[1;32m      4\u001b[0m \u001b[0;32mfor\u001b[0m \u001b[0mmovies\u001b[0m \u001b[0;32min\u001b[0m \u001b[0mmoviesYear\u001b[0m\u001b[0;34m:\u001b[0m\u001b[0;34m\u001b[0m\u001b[0;34m\u001b[0m\u001b[0m\n\u001b[0;32m----> 5\u001b[0;31m   \u001b[0mprint\u001b[0m\u001b[0;34m(\u001b[0m\u001b[0mnetflixData\u001b[0m\u001b[0;34m.\u001b[0m\u001b[0mloc\u001b[0m\u001b[0;34m[\u001b[0m \u001b[0mnetflixData\u001b[0m\u001b[0;34m[\u001b[0m\u001b[0;34m'title'\u001b[0m\u001b[0;34m]\u001b[0m \u001b[0;34m==\u001b[0m \u001b[0mmovies\u001b[0m\u001b[0;34m,\u001b[0m \u001b[0;34m'listed_in'\u001b[0m \u001b[0;34m]\u001b[0m\u001b[0;34m)\u001b[0m\u001b[0;34m\u001b[0m\u001b[0;34m\u001b[0m\u001b[0m\n\u001b[0m",
            "\u001b[0;32m/usr/local/lib/python3.6/dist-packages/pandas/core/ops/common.py\u001b[0m in \u001b[0;36mnew_method\u001b[0;34m(self, other)\u001b[0m\n\u001b[1;32m     63\u001b[0m         \u001b[0mother\u001b[0m \u001b[0;34m=\u001b[0m \u001b[0mitem_from_zerodim\u001b[0m\u001b[0;34m(\u001b[0m\u001b[0mother\u001b[0m\u001b[0;34m)\u001b[0m\u001b[0;34m\u001b[0m\u001b[0;34m\u001b[0m\u001b[0m\n\u001b[1;32m     64\u001b[0m \u001b[0;34m\u001b[0m\u001b[0m\n\u001b[0;32m---> 65\u001b[0;31m         \u001b[0;32mreturn\u001b[0m \u001b[0mmethod\u001b[0m\u001b[0;34m(\u001b[0m\u001b[0mself\u001b[0m\u001b[0;34m,\u001b[0m \u001b[0mother\u001b[0m\u001b[0;34m)\u001b[0m\u001b[0;34m\u001b[0m\u001b[0;34m\u001b[0m\u001b[0m\n\u001b[0m\u001b[1;32m     66\u001b[0m \u001b[0;34m\u001b[0m\u001b[0m\n\u001b[1;32m     67\u001b[0m     \u001b[0;32mreturn\u001b[0m \u001b[0mnew_method\u001b[0m\u001b[0;34m\u001b[0m\u001b[0;34m\u001b[0m\u001b[0m\n",
            "\u001b[0;32m/usr/local/lib/python3.6/dist-packages/pandas/core/ops/__init__.py\u001b[0m in \u001b[0;36mwrapper\u001b[0;34m(self, other)\u001b[0m\n\u001b[1;32m    363\u001b[0m \u001b[0;34m\u001b[0m\u001b[0m\n\u001b[1;32m    364\u001b[0m         \u001b[0;32mif\u001b[0m \u001b[0misinstance\u001b[0m\u001b[0;34m(\u001b[0m\u001b[0mother\u001b[0m\u001b[0;34m,\u001b[0m \u001b[0mABCSeries\u001b[0m\u001b[0;34m)\u001b[0m \u001b[0;32mand\u001b[0m \u001b[0;32mnot\u001b[0m \u001b[0mself\u001b[0m\u001b[0;34m.\u001b[0m\u001b[0m_indexed_same\u001b[0m\u001b[0;34m(\u001b[0m\u001b[0mother\u001b[0m\u001b[0;34m)\u001b[0m\u001b[0;34m:\u001b[0m\u001b[0;34m\u001b[0m\u001b[0;34m\u001b[0m\u001b[0m\n\u001b[0;32m--> 365\u001b[0;31m             \u001b[0;32mraise\u001b[0m \u001b[0mValueError\u001b[0m\u001b[0;34m(\u001b[0m\u001b[0;34m\"Can only compare identically-labeled Series objects\"\u001b[0m\u001b[0;34m)\u001b[0m\u001b[0;34m\u001b[0m\u001b[0;34m\u001b[0m\u001b[0m\n\u001b[0m\u001b[1;32m    366\u001b[0m \u001b[0;34m\u001b[0m\u001b[0m\n\u001b[1;32m    367\u001b[0m         \u001b[0mlvalues\u001b[0m \u001b[0;34m=\u001b[0m \u001b[0mextract_array\u001b[0m\u001b[0;34m(\u001b[0m\u001b[0mself\u001b[0m\u001b[0;34m,\u001b[0m \u001b[0mextract_numpy\u001b[0m\u001b[0;34m=\u001b[0m\u001b[0;32mTrue\u001b[0m\u001b[0;34m)\u001b[0m\u001b[0;34m\u001b[0m\u001b[0;34m\u001b[0m\u001b[0m\n",
            "\u001b[0;31mValueError\u001b[0m: Can only compare identically-labeled Series objects"
          ]
        }
      ]
    },
    {
      "cell_type": "code",
      "metadata": {
        "id": "SZorCS5iB1RL"
      },
      "source": [
        ""
      ],
      "execution_count": null,
      "outputs": []
    }
  ]
}