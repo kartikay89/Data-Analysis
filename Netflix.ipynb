{
  "nbformat": 4,
  "nbformat_minor": 0,
  "metadata": {
    "colab": {
      "name": "Netflix.ipynb",
      "provenance": [],
      "collapsed_sections": [],
      "mount_file_id": "1RwS0pwvM_ExhmFqfvpYpG1OPmsWoddcT",
      "authorship_tag": "ABX9TyMas5uv4rpx9bfPQYkdHRh1",
      "include_colab_link": true
    },
    "kernelspec": {
      "display_name": "Python 3",
      "name": "python3"
    }
  },
  "cells": [
    {
      "cell_type": "markdown",
      "metadata": {
        "id": "view-in-github",
        "colab_type": "text"
      },
      "source": [
        "<a href=\"https://colab.research.google.com/github/kartikay89/Data-Analysis/blob/main/Netflix.ipynb\" target=\"_parent\"><img src=\"https://colab.research.google.com/assets/colab-badge.svg\" alt=\"Open In Colab\"/></a>"
      ]
    },
    {
      "cell_type": "markdown",
      "metadata": {
        "id": "lVDejYiJUjqI"
      },
      "source": [
        "#Netflix"
      ]
    },
    {
      "cell_type": "markdown",
      "metadata": {
        "id": "4HJ456PF2Ff4"
      },
      "source": [
        "**The Netflix data has been taken from Kaggle.com**"
      ]
    },
    {
      "cell_type": "code",
      "metadata": {
        "colab": {
          "base_uri": "https://localhost:8080/",
          "height": 34
        },
        "id": "202aAhXjn3CO",
        "outputId": "49a3c8ee-1ffb-49f0-801a-17b6ad522d6e"
      },
      "source": [
        "# Netflix Titles data - Kaggle (URL: https://www.kaggle.com/shivamb/netflix-shows)\n",
        "\n",
        "\"\"\"\n",
        "What will we find out?\n",
        "\n",
        "1. Trend of Genres(listed_in) in particular year?\n",
        "2. Directors related to these genres?\n",
        "3. Type of the title? Whether it is a movie or a TV show?\n",
        "\n",
        "\"\"\""
      ],
      "execution_count": 2,
      "outputs": [
        {
          "output_type": "execute_result",
          "data": {
            "application/vnd.google.colaboratory.intrinsic+json": {
              "type": "string"
            },
            "text/plain": [
              "'\\nWhat will we find out?\\n\\n1. Trend of Genres(listed_in) in particular year?\\n2. Directors related to these genres?\\n3. Type of the title? Whether it is a movie or a TV show?\\n\\n'"
            ]
          },
          "metadata": {
            "tags": []
          },
          "execution_count": 2
        }
      ]
    },
    {
      "cell_type": "markdown",
      "metadata": {
        "id": "f8_jzOmhUqn-"
      },
      "source": [
        "**Import Libraries**"
      ]
    },
    {
      "cell_type": "code",
      "metadata": {
        "id": "nQ3xE6plm3V5"
      },
      "source": [
        "import pandas as pd\n",
        "import re\n",
        "import matplotlib.pyplot as plt\n",
        "from collections import Counter\n",
        "from itertools import *\n",
        "import json\n",
        "import sqlite3 as db\n",
        "from bokeh.io import output_notebook, show\n",
        "from bokeh.models import ColumnDataSource, GMapOptions\n",
        "from bokeh.plotting import gmap"
      ],
      "execution_count": 3,
      "outputs": []
    },
    {
      "cell_type": "markdown",
      "metadata": {
        "id": "1V6kCa2JU2sq"
      },
      "source": [
        "**Original dataset**"
      ]
    },
    {
      "cell_type": "code",
      "metadata": {
        "colab": {
          "base_uri": "https://localhost:8080/",
          "height": 589
        },
        "id": "PwGhf5iDnmSq",
        "outputId": "1bb53160-3afc-4cf3-9e3c-74a2fe5f3cda"
      },
      "source": [
        "netflixData = pd.read_csv(\"/content/drive/MyDrive/Google Colab Data /netflix_titles.csv\").fillna('0')\n",
        "netflixData"
      ],
      "execution_count": 4,
      "outputs": [
        {
          "output_type": "execute_result",
          "data": {
            "text/html": [
              "<div>\n",
              "<style scoped>\n",
              "    .dataframe tbody tr th:only-of-type {\n",
              "        vertical-align: middle;\n",
              "    }\n",
              "\n",
              "    .dataframe tbody tr th {\n",
              "        vertical-align: top;\n",
              "    }\n",
              "\n",
              "    .dataframe thead th {\n",
              "        text-align: right;\n",
              "    }\n",
              "</style>\n",
              "<table border=\"1\" class=\"dataframe\">\n",
              "  <thead>\n",
              "    <tr style=\"text-align: right;\">\n",
              "      <th></th>\n",
              "      <th>show_id</th>\n",
              "      <th>type</th>\n",
              "      <th>title</th>\n",
              "      <th>director</th>\n",
              "      <th>cast</th>\n",
              "      <th>country</th>\n",
              "      <th>date_added</th>\n",
              "      <th>release_year</th>\n",
              "      <th>rating</th>\n",
              "      <th>duration</th>\n",
              "      <th>listed_in</th>\n",
              "      <th>description</th>\n",
              "    </tr>\n",
              "  </thead>\n",
              "  <tbody>\n",
              "    <tr>\n",
              "      <th>0</th>\n",
              "      <td>81145628</td>\n",
              "      <td>Movie</td>\n",
              "      <td>Norm of the North: King Sized Adventure</td>\n",
              "      <td>Richard Finn, Tim Maltby</td>\n",
              "      <td>Alan Marriott, Andrew Toth, Brian Dobson, Cole...</td>\n",
              "      <td>United States, India, South Korea, China</td>\n",
              "      <td>September 9, 2019</td>\n",
              "      <td>2019</td>\n",
              "      <td>TV-PG</td>\n",
              "      <td>90 min</td>\n",
              "      <td>Children &amp; Family Movies, Comedies</td>\n",
              "      <td>Before planning an awesome wedding for his gra...</td>\n",
              "    </tr>\n",
              "    <tr>\n",
              "      <th>1</th>\n",
              "      <td>80117401</td>\n",
              "      <td>Movie</td>\n",
              "      <td>Jandino: Whatever it Takes</td>\n",
              "      <td>0</td>\n",
              "      <td>Jandino Asporaat</td>\n",
              "      <td>United Kingdom</td>\n",
              "      <td>September 9, 2016</td>\n",
              "      <td>2016</td>\n",
              "      <td>TV-MA</td>\n",
              "      <td>94 min</td>\n",
              "      <td>Stand-Up Comedy</td>\n",
              "      <td>Jandino Asporaat riffs on the challenges of ra...</td>\n",
              "    </tr>\n",
              "    <tr>\n",
              "      <th>2</th>\n",
              "      <td>70234439</td>\n",
              "      <td>TV Show</td>\n",
              "      <td>Transformers Prime</td>\n",
              "      <td>0</td>\n",
              "      <td>Peter Cullen, Sumalee Montano, Frank Welker, J...</td>\n",
              "      <td>United States</td>\n",
              "      <td>September 8, 2018</td>\n",
              "      <td>2013</td>\n",
              "      <td>TV-Y7-FV</td>\n",
              "      <td>1 Season</td>\n",
              "      <td>Kids' TV</td>\n",
              "      <td>With the help of three human allies, the Autob...</td>\n",
              "    </tr>\n",
              "    <tr>\n",
              "      <th>3</th>\n",
              "      <td>80058654</td>\n",
              "      <td>TV Show</td>\n",
              "      <td>Transformers: Robots in Disguise</td>\n",
              "      <td>0</td>\n",
              "      <td>Will Friedle, Darren Criss, Constance Zimmer, ...</td>\n",
              "      <td>United States</td>\n",
              "      <td>September 8, 2018</td>\n",
              "      <td>2016</td>\n",
              "      <td>TV-Y7</td>\n",
              "      <td>1 Season</td>\n",
              "      <td>Kids' TV</td>\n",
              "      <td>When a prison ship crash unleashes hundreds of...</td>\n",
              "    </tr>\n",
              "    <tr>\n",
              "      <th>4</th>\n",
              "      <td>80125979</td>\n",
              "      <td>Movie</td>\n",
              "      <td>#realityhigh</td>\n",
              "      <td>Fernando Lebrija</td>\n",
              "      <td>Nesta Cooper, Kate Walsh, John Michael Higgins...</td>\n",
              "      <td>United States</td>\n",
              "      <td>September 8, 2017</td>\n",
              "      <td>2017</td>\n",
              "      <td>TV-14</td>\n",
              "      <td>99 min</td>\n",
              "      <td>Comedies</td>\n",
              "      <td>When nerdy high schooler Dani finally attracts...</td>\n",
              "    </tr>\n",
              "    <tr>\n",
              "      <th>...</th>\n",
              "      <td>...</td>\n",
              "      <td>...</td>\n",
              "      <td>...</td>\n",
              "      <td>...</td>\n",
              "      <td>...</td>\n",
              "      <td>...</td>\n",
              "      <td>...</td>\n",
              "      <td>...</td>\n",
              "      <td>...</td>\n",
              "      <td>...</td>\n",
              "      <td>...</td>\n",
              "      <td>...</td>\n",
              "    </tr>\n",
              "    <tr>\n",
              "      <th>6229</th>\n",
              "      <td>80000063</td>\n",
              "      <td>TV Show</td>\n",
              "      <td>Red vs. Blue</td>\n",
              "      <td>0</td>\n",
              "      <td>Burnie Burns, Jason Saldaña, Gustavo Sorola, G...</td>\n",
              "      <td>United States</td>\n",
              "      <td>0</td>\n",
              "      <td>2015</td>\n",
              "      <td>NR</td>\n",
              "      <td>13 Seasons</td>\n",
              "      <td>TV Action &amp; Adventure, TV Comedies, TV Sci-Fi ...</td>\n",
              "      <td>This parody of first-person shooter games, mil...</td>\n",
              "    </tr>\n",
              "    <tr>\n",
              "      <th>6230</th>\n",
              "      <td>70286564</td>\n",
              "      <td>TV Show</td>\n",
              "      <td>Maron</td>\n",
              "      <td>0</td>\n",
              "      <td>Marc Maron, Judd Hirsch, Josh Brener, Nora Zeh...</td>\n",
              "      <td>United States</td>\n",
              "      <td>0</td>\n",
              "      <td>2016</td>\n",
              "      <td>TV-MA</td>\n",
              "      <td>4 Seasons</td>\n",
              "      <td>TV Comedies</td>\n",
              "      <td>Marc Maron stars as Marc Maron, who interviews...</td>\n",
              "    </tr>\n",
              "    <tr>\n",
              "      <th>6231</th>\n",
              "      <td>80116008</td>\n",
              "      <td>Movie</td>\n",
              "      <td>Little Baby Bum: Nursery Rhyme Friends</td>\n",
              "      <td>0</td>\n",
              "      <td>0</td>\n",
              "      <td>0</td>\n",
              "      <td>0</td>\n",
              "      <td>2016</td>\n",
              "      <td>0</td>\n",
              "      <td>60 min</td>\n",
              "      <td>Movies</td>\n",
              "      <td>Nursery rhymes and original music for children...</td>\n",
              "    </tr>\n",
              "    <tr>\n",
              "      <th>6232</th>\n",
              "      <td>70281022</td>\n",
              "      <td>TV Show</td>\n",
              "      <td>A Young Doctor's Notebook and Other Stories</td>\n",
              "      <td>0</td>\n",
              "      <td>Daniel Radcliffe, Jon Hamm, Adam Godley, Chris...</td>\n",
              "      <td>United Kingdom</td>\n",
              "      <td>0</td>\n",
              "      <td>2013</td>\n",
              "      <td>TV-MA</td>\n",
              "      <td>2 Seasons</td>\n",
              "      <td>British TV Shows, TV Comedies, TV Dramas</td>\n",
              "      <td>Set during the Russian Revolution, this comic ...</td>\n",
              "    </tr>\n",
              "    <tr>\n",
              "      <th>6233</th>\n",
              "      <td>70153404</td>\n",
              "      <td>TV Show</td>\n",
              "      <td>Friends</td>\n",
              "      <td>0</td>\n",
              "      <td>Jennifer Aniston, Courteney Cox, Lisa Kudrow, ...</td>\n",
              "      <td>United States</td>\n",
              "      <td>0</td>\n",
              "      <td>2003</td>\n",
              "      <td>TV-14</td>\n",
              "      <td>10 Seasons</td>\n",
              "      <td>Classic &amp; Cult TV, TV Comedies</td>\n",
              "      <td>This hit sitcom follows the merry misadventure...</td>\n",
              "    </tr>\n",
              "  </tbody>\n",
              "</table>\n",
              "<p>6234 rows × 12 columns</p>\n",
              "</div>"
            ],
            "text/plain": [
              "       show_id  ...                                        description\n",
              "0     81145628  ...  Before planning an awesome wedding for his gra...\n",
              "1     80117401  ...  Jandino Asporaat riffs on the challenges of ra...\n",
              "2     70234439  ...  With the help of three human allies, the Autob...\n",
              "3     80058654  ...  When a prison ship crash unleashes hundreds of...\n",
              "4     80125979  ...  When nerdy high schooler Dani finally attracts...\n",
              "...        ...  ...                                                ...\n",
              "6229  80000063  ...  This parody of first-person shooter games, mil...\n",
              "6230  70286564  ...  Marc Maron stars as Marc Maron, who interviews...\n",
              "6231  80116008  ...  Nursery rhymes and original music for children...\n",
              "6232  70281022  ...  Set during the Russian Revolution, this comic ...\n",
              "6233  70153404  ...  This hit sitcom follows the merry misadventure...\n",
              "\n",
              "[6234 rows x 12 columns]"
            ]
          },
          "metadata": {
            "tags": []
          },
          "execution_count": 4
        }
      ]
    },
    {
      "cell_type": "markdown",
      "metadata": {
        "id": "jVm8sz9UyHCm"
      },
      "source": [
        "**All Listed years** "
      ]
    },
    {
      "cell_type": "code",
      "metadata": {
        "id": "6eZno2MDnq37"
      },
      "source": [
        "year_of_release = list(set(netflixData[\"release_year\"]))\n",
        "# type(year_of_release)\n",
        "# year_of_release"
      ],
      "execution_count": 5,
      "outputs": []
    },
    {
      "cell_type": "markdown",
      "metadata": {
        "id": "9V_Ny5IryRpG"
      },
      "source": [
        "**Genre Trend according to year**"
      ]
    },
    {
      "cell_type": "code",
      "metadata": {
        "id": "y867vHShoJHn"
      },
      "source": [
        "# Trend of Genres in particular year.\n",
        "# year to movie names dictionary.\n",
        "\n",
        "year_to_movie_dict = {}\n",
        "\n",
        "for years in year_of_release:\n",
        "  titles = netflixData.loc[netflixData['release_year'] == years, 'title']\n",
        "\n",
        "  if years not in year_to_movie_dict:\n",
        "    year_to_movie_dict[years] = titles"
      ],
      "execution_count": 6,
      "outputs": []
    },
    {
      "cell_type": "code",
      "metadata": {
        "id": "mL0REiw9D0Rv"
      },
      "source": [
        "year_to_movie_dict\n",
        "\n",
        "year_to_movie_df = {}\n",
        "for key, value in year_to_movie_dict.items():\n",
        "  year_to_movie_df[\"Movie\"] = year_to_movie_dict"
      ],
      "execution_count": 7,
      "outputs": []
    },
    {
      "cell_type": "markdown",
      "metadata": {
        "id": "r1v5-7Zsyc4n"
      },
      "source": [
        "**Movies and TV shows that released in a particular year**"
      ]
    },
    {
      "cell_type": "code",
      "metadata": {
        "id": "qylKkgaZHzCN"
      },
      "source": [
        "netflixDFOne = pd.DataFrame(year_to_movie_df)\n",
        "# netflixDFOne"
      ],
      "execution_count": 8,
      "outputs": []
    },
    {
      "cell_type": "code",
      "metadata": {
        "id": "-ypx4WqcH0Ce"
      },
      "source": [
        "number_of_rows = len(netflixDFOne.index)\n",
        "# number_of_rows"
      ],
      "execution_count": 9,
      "outputs": []
    },
    {
      "cell_type": "code",
      "metadata": {
        "id": "aOKtCJ5ZUK-5"
      },
      "source": [
        "netflixDFTwo = pd.DataFrame([netflixDFOne.index, netflixDFOne.Movie]).transpose()\n",
        "netflixDFTwo.rename(columns={0:'Years', 1:'Movies'}, inplace=True)\n",
        "# netflixDFTwo"
      ],
      "execution_count": 10,
      "outputs": []
    },
    {
      "cell_type": "markdown",
      "metadata": {
        "id": "0bMpqgfayqeA"
      },
      "source": [
        "**Movies from 2019**"
      ]
    },
    {
      "cell_type": "code",
      "metadata": {
        "colab": {
          "base_uri": "https://localhost:8080/"
        },
        "id": "22-WJl3sayWo",
        "outputId": "afa24b61-a07d-49f3-9750-3243cd4d4b79"
      },
      "source": [
        "print(list(netflixDFTwo.loc[ netflixDFTwo['Years'] == 2019, 'Movies'  ]))"
      ],
      "execution_count": 11,
      "outputs": [
        {
          "output_type": "stream",
          "text": [
            "[0       Norm of the North: King Sized Adventure\n",
            "34                   Archibald's Next Big Thing\n",
            "35                                   Article 15\n",
            "38                          Kill Me If You Dare\n",
            "39                                      The Spy\n",
            "                         ...                   \n",
            "6198                              The Protector\n",
            "6204                                     Cuckoo\n",
            "6206                                  Samantha!\n",
            "6215                        Crazy Ex-Girlfriend\n",
            "6219                         Pokémon the Series\n",
            "Name: title, Length: 843, dtype: object]\n"
          ],
          "name": "stdout"
        }
      ]
    },
    {
      "cell_type": "markdown",
      "metadata": {
        "id": "kY8ImAAvy2d1"
      },
      "source": [
        "**Table provides all movies along with their Genres**"
      ]
    },
    {
      "cell_type": "code",
      "metadata": {
        "id": "HggAK18r6o2y"
      },
      "source": [
        "# Adding the genres to the movies\n",
        "movieTitles = list(netflixData['title'])\n",
        "\n",
        "# dictionary contaning movie titles\n",
        "title_dict = {}\n",
        "\n",
        "for movies in movieTitles:\n",
        "  mTitlesGenres = netflixData.loc[ netflixData['title']  == movies, 'listed_in']\n",
        "\n",
        "  if movies not in title_dict:\n",
        "    title_dict[movies] = mTitlesGenres"
      ],
      "execution_count": 12,
      "outputs": []
    },
    {
      "cell_type": "code",
      "metadata": {
        "id": "GiJgZSFxBoBP"
      },
      "source": [
        "mTitlesGenres_df = {}\n",
        "\n",
        "for key, value in title_dict.items():\n",
        "  mTitlesGenres_df['Genres'] = title_dict\n",
        "\n"
      ],
      "execution_count": 13,
      "outputs": []
    },
    {
      "cell_type": "code",
      "metadata": {
        "id": "PVipmmy_DWk2"
      },
      "source": [
        "genresDF = pd.DataFrame(mTitlesGenres_df)\n",
        "# genresDF"
      ],
      "execution_count": 14,
      "outputs": []
    },
    {
      "cell_type": "markdown",
      "metadata": {
        "id": "Kr4I6SyiAKQF"
      },
      "source": [
        "**DATAFRAME - DICTIONARY: Movies: Genres**"
      ]
    },
    {
      "cell_type": "code",
      "metadata": {
        "id": "QxhttYZu0hz7"
      },
      "source": [
        "MovieTitles = pd.Series(netflixData.title)\n",
        "MovieGenres = pd.Series(netflixData.listed_in)\n",
        "\n",
        "DFOneNetflix = pd.DataFrame(MovieTitles)\n",
        "DFOneNetflix['Genres'] = pd.DataFrame(MovieGenres)\n",
        "DFTwoNetflix = DFOneNetflix\n",
        "# print(DFTwoNetflix)\n",
        "\n",
        "# converts DataFrame to Dict w/o index - all records\n",
        "dFtoDict = DFTwoNetflix.set_index('title')['Genres'].to_dict()\n",
        "# print(dFtoDict)\n",
        "# print(type(dFtoDict))"
      ],
      "execution_count": 15,
      "outputs": []
    },
    {
      "cell_type": "markdown",
      "metadata": {
        "id": "iMaz_3ahELoH"
      },
      "source": [
        "**Cross checking the movies by year with their genres**"
      ]
    },
    {
      "cell_type": "code",
      "metadata": {
        "colab": {
          "base_uri": "https://localhost:8080/"
        },
        "id": "JKAlhWIEDPrx",
        "outputId": "58ce45b0-787e-4dda-9d26-2fa4f8f40d72"
      },
      "source": [
        "to_match_list = list(netflixDFTwo.loc[ netflixDFTwo['Years'] == 2018, 'Movies'  ])\n",
        "matchList = to_match_list[:]\n",
        "# matchList = [movieNames.str.lower() for movieNames in to_match_list[:]]\n",
        "# print(matchList)\n",
        "print(len(dFtoDict))\n",
        "\n",
        "# movieList = []\n",
        "\n",
        "# function to make raw strings to match movie names.\n",
        "# def toRE(testList):\n",
        "# \tfor i in testList:\n",
        "# \t\tmovieList.append(\"r'\\b\" + i + \"\\b'\")\n",
        "\n",
        "# toRE(dFtoDict.keys())\n",
        "# print(movieList)\n",
        "\n",
        "\n"
      ],
      "execution_count": 16,
      "outputs": [
        {
          "output_type": "stream",
          "text": [
            "6172\n"
          ],
          "name": "stdout"
        }
      ]
    },
    {
      "cell_type": "markdown",
      "metadata": {
        "id": "fNTNWFIJQsVz"
      },
      "source": [
        "**Matching the movie names by year and finding their Genres.**"
      ]
    },
    {
      "cell_type": "code",
      "metadata": {
        "colab": {
          "base_uri": "https://localhost:8080/"
        },
        "id": "NOB8zXAsEkDf",
        "outputId": "7e932166-0b6c-405d-b1ba-51431ff9656a"
      },
      "source": [
        "for index, movieNames in enumerate(matchList):\n",
        "  movieGenDict = { keys:values for keys, values in dFtoDict.items()  if keys in str(movieNames)}\n",
        "  # print(movieGenDict)\n",
        "movieGenDict\n"
      ],
      "execution_count": 17,
      "outputs": [
        {
          "output_type": "execute_result",
          "data": {
            "text/plain": [
              "{'21': 'Dramas',\n",
              " '9': 'Action & Adventure, Independent Movies, Sci-Fi & Fantasy',\n",
              " 'Anthony Bourdain: Parts Unknown': 'Docuseries',\n",
              " 'Ash vs. Evil Dead': 'TV Action & Adventure, TV Comedies, TV Horror',\n",
              " 'BAKI': 'Anime Series, International TV Shows',\n",
              " 'City of Joy': 'Documentaries',\n",
              " 'First and Last': 'Docuseries',\n",
              " 'Joy': 'Dramas, Independent Movies, International Movies',\n",
              " 'K': 'Anime Series, Crime TV Shows, International TV Shows',\n",
              " 'Last': 'Crime TV Shows, International TV Shows, Korean TV Shows',\n",
              " 'Next': 'Action & Adventure, Sci-Fi & Fantasy',\n",
              " 'Next Gen': 'Children & Family Movies, Comedies, Sci-Fi & Fantasy',\n",
              " 'P': 'Horror Movies, International Movies',\n",
              " 'Señora Acero': 'Crime TV Shows, International TV Shows, Spanish-Language TV Shows',\n",
              " 'Sierra Burgess Is A Loser': 'Comedies, Romantic Movies',\n",
              " 'The Magic School Bus': \"Kids' TV\",\n",
              " 'The Magic School Bus Rides Again': \"Kids' TV\",\n",
              " 'The Most Assassinated Woman in the World': 'Dramas, International Movies, Thrillers'}"
            ]
          },
          "metadata": {
            "tags": []
          },
          "execution_count": 17
        }
      ]
    },
    {
      "cell_type": "markdown",
      "metadata": {
        "id": "S-dabPP6jVOi"
      },
      "source": [
        "**PIE CHART: Genres**"
      ]
    },
    {
      "cell_type": "code",
      "metadata": {
        "colab": {
          "base_uri": "https://localhost:8080/"
        },
        "id": "L_rLXDgejYIV",
        "outputId": "2cc09915-3442-4413-ee62-94a127cc3f74"
      },
      "source": [
        "# Most popular genres.\n",
        "\n",
        "list_of_genres = list(Counter(dFtoDict.values()))\n",
        "print(type(list_of_genres))\n",
        "\n",
        "# Counter for genres\n",
        "genresCounter = {}\n",
        "counter = 0\n",
        "\n",
        "for genres in list_of_genres:\n",
        "  if genres in dFtoDict.values():\n",
        "    counter +=1\n",
        "    # print(genres += 1)\n",
        "    genresCounter[genres] = counter\n",
        "\n",
        "# genresCounter\n",
        "# print(max(genresCounter.values()))\n",
        "\n",
        "listingGenres = list(genresCounter.values())\n",
        "listingGenresSorted = sorted( listingGenres, reverse=True)\n",
        "max_genres_Popular = listingGenresSorted[:5]"
      ],
      "execution_count": 18,
      "outputs": [
        {
          "output_type": "stream",
          "text": [
            "<class 'list'>\n"
          ],
          "name": "stdout"
        }
      ]
    },
    {
      "cell_type": "code",
      "metadata": {
        "colab": {
          "base_uri": "https://localhost:8080/"
        },
        "id": "Erhop4twj5_i",
        "outputId": "620f1669-d993-406d-9842-9664212a6d94"
      },
      "source": [
        "labels = []\n",
        "sizes = []\n",
        "\n",
        "for max_genres in max_genres_Popular:\n",
        "  mGenre = str(max_genres)\n",
        "  # print(mGenre)\n",
        "  for genre, counter in genresCounter.items():\n",
        "    if mGenre in str(counter):\n",
        "      print(genre, mGenre)\n",
        "      labels.append(genre)\n",
        "      sizes.append(mGenre)\n"
      ],
      "execution_count": 19,
      "outputs": [
        {
          "output_type": "stream",
          "text": [
            "Reality TV, Spanish-Language TV Shows 458\n",
            "TV Comedies, TV Dramas, TV Horror 457\n",
            "Romantic TV Shows, TV Action & Adventure, TV Dramas 456\n",
            "British TV Shows, TV Comedies, TV Dramas 455\n",
            "Classic & Cult TV, Kids' TV, TV Comedies 454\n"
          ],
          "name": "stdout"
        }
      ]
    },
    {
      "cell_type": "code",
      "metadata": {
        "colab": {
          "base_uri": "https://localhost:8080/",
          "height": 746
        },
        "id": "qVHabkBs8vBR",
        "outputId": "25305f25-5756-427b-d233-3e9df2db6e00"
      },
      "source": [
        "# The PIE CHART of popular genres:\n",
        "# Carrying the list: labels and sizes from the above cell.\n",
        "# explode = (0.1, 0, 0, 0)\n",
        "\n",
        "plt.figure(figsize=(15,10))\n",
        "plt.pie(sizes, labels=labels, autopct='%d%%', shadow=True, startangle=90)\n",
        "plt.legend(labels, loc=\"best\")\n",
        "plt.axis('equal')\n",
        "plt.tight_layout()\n",
        "\n",
        "\n",
        "plt.show"
      ],
      "execution_count": 56,
      "outputs": [
        {
          "output_type": "execute_result",
          "data": {
            "text/plain": [
              "<function matplotlib.pyplot.show>"
            ]
          },
          "metadata": {
            "tags": []
          },
          "execution_count": 56
        },
        {
          "output_type": "display_data",
          "data": {
            "image/png": "[encoded data removed]",
            "text/plain": [
              "<Figure size 1080x720 with 1 Axes>"
            ]
          },
          "metadata": {
            "tags": []
          }
        }
      ]
    },
    {
      "cell_type": "markdown",
      "metadata": {
        "id": "DwjX7p2YPiFO"
      },
      "source": [
        "**Directors working in a Genre**"
      ]
    },
    {
      "cell_type": "code",
      "metadata": {
        "id": "7dTVAytpPhGy"
      },
      "source": [
        "# Let us find out information about the movies, their directors, and their genre.\n",
        "\n",
        "# dFtoDict: Movie to Genre\n",
        "\n",
        "movieDirectorsDF = netflixData.filter(['title', 'director'], axis=1)"
      ],
      "execution_count": 21,
      "outputs": []
    },
    {
      "cell_type": "code",
      "metadata": {
        "colab": {
          "base_uri": "https://localhost:8080/"
        },
        "id": "T5cyt16XQtop",
        "outputId": "9ab3c734-3743-4c4d-9603-08ab1852e57f"
      },
      "source": [
        "# converting the DataFrame to dictionary.\n",
        "\n",
        "movieDirectorsDict = movieDirectorsDF.set_index('title')['director'].to_dict()\n",
        "list(islice(movieDirectorsDict.items(), 10))"
      ],
      "execution_count": 22,
      "outputs": [
        {
          "output_type": "execute_result",
          "data": {
            "text/plain": [
              "[('Norm of the North: King Sized Adventure', 'Richard Finn, Tim Maltby'),\n",
              " ('Jandino: Whatever it Takes', '0'),\n",
              " ('Transformers Prime', '0'),\n",
              " ('Transformers: Robots in Disguise', '0'),\n",
              " ('#realityhigh', 'Fernando Lebrija'),\n",
              " ('Apaches', '0'),\n",
              " ('Automata', 'Gabe Ibáñez'),\n",
              " ('Fabrizio Copano: Solo pienso en mi', 'Rodrigo Toro, Francisco Schultz'),\n",
              " ('Fire Chasers', '0'),\n",
              " ('Good People', 'Henrik Ruben Genz')]"
            ]
          },
          "metadata": {
            "tags": []
          },
          "execution_count": 22
        }
      ]
    },
    {
      "cell_type": "markdown",
      "metadata": {
        "id": "WLUAvHngUnI_"
      },
      "source": [
        "**Director's Genres**"
      ]
    },
    {
      "cell_type": "code",
      "metadata": {
        "id": "D2AFm63BS6vn"
      },
      "source": [
        "# Let us now find out a director's favourite genre.\n",
        "\n",
        "# dictionary: Director: Genre\n",
        "directorsGenre_dict = {}\n",
        "\n",
        "for title, genre in dFtoDict.items():\n",
        "  for titles, directors in movieDirectorsDict.items():\n",
        "    if titles in title:\n",
        "      # print('Movie:  {} and the Director is {}'.format(title, directors))\n",
        "      # print('Director:  {} and the Genre is {}'.format(directors, genre))\n",
        "      if directors not in directorsGenre_dict:\n",
        "        directorsGenre_dict[directors]=genre"
      ],
      "execution_count": 23,
      "outputs": []
    },
    {
      "cell_type": "markdown",
      "metadata": {
        "id": "IC_J-tfk22vf"
      },
      "source": [
        "**Directors working in a Genre scatter plot**"
      ]
    },
    {
      "cell_type": "code",
      "metadata": {
        "colab": {
          "base_uri": "https://localhost:8080/",
          "height": 735
        },
        "id": "BMyCaYIbVO-E",
        "outputId": "f783f313-9919-4066-9884-6f11ab5ef23a"
      },
      "source": [
        "# Scatter plot to show directors and genres.\n",
        "directors = []\n",
        "genres = []\n",
        "\n",
        "\n",
        "for director, genre in directorsGenre_dict.items():\n",
        "  directors.append(str(director))\n",
        "  genres.append(str(genre))\n",
        "\n",
        "\n",
        "plt.rcParams['figure.figsize'] = (15,10)\n",
        "plt.scatter(directors[:20], genres[:20])\n",
        "plt.xticks(rotation=90)\n",
        "plt.show()"
      ],
      "execution_count": 24,
      "outputs": [
        {
          "output_type": "display_data",
          "data": {
            "image/png": "[encoded data removed]",
            "text/plain": [
              "<Figure size 1080x720 with 1 Axes>"
            ]
          },
          "metadata": {
            "tags": [],
            "needs_background": "light"
          }
        }
      ]
    },
    {
      "cell_type": "markdown",
      "metadata": {
        "id": "yGfOgctpfX0B"
      },
      "source": [
        "**Title to Country match**"
      ]
    },
    {
      "cell_type": "code",
      "metadata": {
        "colab": {
          "base_uri": "https://localhost:8080/",
          "height": 419
        },
        "id": "Hkl07tRkY-6o",
        "outputId": "05b9038c-2079-4392-92cb-fba3a17f85b8"
      },
      "source": [
        "movieCountryDF = netflixData.filter(['title', 'country'], axis=1)\n",
        "movieCountryDF"
      ],
      "execution_count": 25,
      "outputs": [
        {
          "output_type": "execute_result",
          "data": {
            "text/html": [
              "<div>\n",
              "<style scoped>\n",
              "    .dataframe tbody tr th:only-of-type {\n",
              "        vertical-align: middle;\n",
              "    }\n",
              "\n",
              "    .dataframe tbody tr th {\n",
              "        vertical-align: top;\n",
              "    }\n",
              "\n",
              "    .dataframe thead th {\n",
              "        text-align: right;\n",
              "    }\n",
              "</style>\n",
              "<table border=\"1\" class=\"dataframe\">\n",
              "  <thead>\n",
              "    <tr style=\"text-align: right;\">\n",
              "      <th></th>\n",
              "      <th>title</th>\n",
              "      <th>country</th>\n",
              "    </tr>\n",
              "  </thead>\n",
              "  <tbody>\n",
              "    <tr>\n",
              "      <th>0</th>\n",
              "      <td>Norm of the North: King Sized Adventure</td>\n",
              "      <td>United States, India, South Korea, China</td>\n",
              "    </tr>\n",
              "    <tr>\n",
              "      <th>1</th>\n",
              "      <td>Jandino: Whatever it Takes</td>\n",
              "      <td>United Kingdom</td>\n",
              "    </tr>\n",
              "    <tr>\n",
              "      <th>2</th>\n",
              "      <td>Transformers Prime</td>\n",
              "      <td>United States</td>\n",
              "    </tr>\n",
              "    <tr>\n",
              "      <th>3</th>\n",
              "      <td>Transformers: Robots in Disguise</td>\n",
              "      <td>United States</td>\n",
              "    </tr>\n",
              "    <tr>\n",
              "      <th>4</th>\n",
              "      <td>#realityhigh</td>\n",
              "      <td>United States</td>\n",
              "    </tr>\n",
              "    <tr>\n",
              "      <th>...</th>\n",
              "      <td>...</td>\n",
              "      <td>...</td>\n",
              "    </tr>\n",
              "    <tr>\n",
              "      <th>6229</th>\n",
              "      <td>Red vs. Blue</td>\n",
              "      <td>United States</td>\n",
              "    </tr>\n",
              "    <tr>\n",
              "      <th>6230</th>\n",
              "      <td>Maron</td>\n",
              "      <td>United States</td>\n",
              "    </tr>\n",
              "    <tr>\n",
              "      <th>6231</th>\n",
              "      <td>Little Baby Bum: Nursery Rhyme Friends</td>\n",
              "      <td>0</td>\n",
              "    </tr>\n",
              "    <tr>\n",
              "      <th>6232</th>\n",
              "      <td>A Young Doctor's Notebook and Other Stories</td>\n",
              "      <td>United Kingdom</td>\n",
              "    </tr>\n",
              "    <tr>\n",
              "      <th>6233</th>\n",
              "      <td>Friends</td>\n",
              "      <td>United States</td>\n",
              "    </tr>\n",
              "  </tbody>\n",
              "</table>\n",
              "<p>6234 rows × 2 columns</p>\n",
              "</div>"
            ],
            "text/plain": [
              "                                            title                                   country\n",
              "0         Norm of the North: King Sized Adventure  United States, India, South Korea, China\n",
              "1                      Jandino: Whatever it Takes                            United Kingdom\n",
              "2                              Transformers Prime                             United States\n",
              "3                Transformers: Robots in Disguise                             United States\n",
              "4                                    #realityhigh                             United States\n",
              "...                                           ...                                       ...\n",
              "6229                                 Red vs. Blue                             United States\n",
              "6230                                        Maron                             United States\n",
              "6231       Little Baby Bum: Nursery Rhyme Friends                                         0\n",
              "6232  A Young Doctor's Notebook and Other Stories                            United Kingdom\n",
              "6233                                      Friends                             United States\n",
              "\n",
              "[6234 rows x 2 columns]"
            ]
          },
          "metadata": {
            "tags": []
          },
          "execution_count": 25
        }
      ]
    },
    {
      "cell_type": "code",
      "metadata": {
        "colab": {
          "base_uri": "https://localhost:8080/"
        },
        "id": "Qrq9lrmrf4OV",
        "outputId": "5d4de63b-b334-4db2-da7f-4cc1355b054c"
      },
      "source": [
        "# converting the DataFrame to dictionary.\n",
        "\n",
        "movieCountryDict = movieCountryDF.set_index('title')['country'].to_dict()\n",
        "list(islice(movieCountryDict.items(), 10))"
      ],
      "execution_count": 26,
      "outputs": [
        {
          "output_type": "execute_result",
          "data": {
            "text/plain": [
              "[('Norm of the North: King Sized Adventure',\n",
              "  'United States, India, South Korea, China'),\n",
              " ('Jandino: Whatever it Takes', 'United Kingdom'),\n",
              " ('Transformers Prime', 'United States'),\n",
              " ('Transformers: Robots in Disguise', 'United States'),\n",
              " ('#realityhigh', 'United States'),\n",
              " ('Apaches', 'Spain'),\n",
              " ('Automata', 'Bulgaria, United States, Spain, Canada'),\n",
              " ('Fabrizio Copano: Solo pienso en mi', 'Chile'),\n",
              " ('Fire Chasers', 'United States'),\n",
              " ('Good People', 'United States, United Kingdom, Denmark, Sweden')]"
            ]
          },
          "metadata": {
            "tags": []
          },
          "execution_count": 26
        }
      ]
    },
    {
      "cell_type": "code",
      "metadata": {
        "id": "2fncEJsdhffC"
      },
      "source": [
        "# Let us now find out the country of the movie\n",
        "\n",
        "# dictionary: Director: Genre\n",
        "movieCountry_dict = {}\n",
        "\n",
        "for title, genre in dFtoDict.items():\n",
        "  for titles, country in movieCountryDict.items():\n",
        "    if titles in title:\n",
        "      # print('Movie:  {} and the Director is {}'.format(title, directors))\n",
        "      # print('Director:  {} and the Genre is {}'.format(directors, genre))\n",
        "      if title not in movieCountry_dict:\n",
        "        movieCountry_dict[title]=country"
      ],
      "execution_count": 27,
      "outputs": []
    },
    {
      "cell_type": "markdown",
      "metadata": {
        "id": "1LtIQWsk3MbQ"
      },
      "source": [
        "**Scatter plot to display the country for respective movies**"
      ]
    },
    {
      "cell_type": "code",
      "metadata": {
        "colab": {
          "base_uri": "https://localhost:8080/",
          "height": 850
        },
        "id": "qEd5vgQrh0SD",
        "outputId": "d3b8202b-1e30-4aa6-af25-e200177af25a"
      },
      "source": [
        "# Scatter plot to show directors and genres.\n",
        "movieNames = []\n",
        "countries = []\n",
        "\n",
        "\n",
        "for movieName, country in movieCountry_dict.items():\n",
        "  movieNames.append(str(movieName))\n",
        "  countries.append(str(country))\n",
        "\n",
        "\n",
        "plt.rcParams['figure.figsize'] = (15,10)\n",
        "plt.scatter(countries[:20], movieNames[:20])\n",
        "plt.xticks(rotation=90)\n",
        "plt.show()\n"
      ],
      "execution_count": 28,
      "outputs": [
        {
          "output_type": "display_data",
          "data": {
            "image/png": "[encoded data removed]",
            "text/plain": [
              "<Figure size 1080x720 with 1 Axes>"
            ]
          },
          "metadata": {
            "tags": [],
            "needs_background": "light"
          }
        }
      ]
    },
    {
      "cell_type": "code",
      "metadata": {
        "colab": {
          "base_uri": "https://localhost:8080/",
          "height": 34
        },
        "id": "CdaKZF9WmE22",
        "outputId": "fb3e17cc-557a-45bb-bf7b-1777678e86a5"
      },
      "source": [
        "# Creating JSON file for the visualization.\n",
        "\"\"\"\n",
        "\n",
        "Title : Genre : Country\n",
        "\n",
        "\"\"\""
      ],
      "execution_count": 29,
      "outputs": [
        {
          "output_type": "execute_result",
          "data": {
            "application/vnd.google.colaboratory.intrinsic+json": {
              "type": "string"
            },
            "text/plain": [
              "'\\n\\nTitle : Genre : Country\\n\\n'"
            ]
          },
          "metadata": {
            "tags": []
          },
          "execution_count": 29
        }
      ]
    },
    {
      "cell_type": "code",
      "metadata": {
        "id": "B-67Cm4PljoE"
      },
      "source": [
        "jsonData_v1 = pd.DataFrame.from_dict(dFtoDict, orient='index')"
      ],
      "execution_count": 30,
      "outputs": []
    },
    {
      "cell_type": "code",
      "metadata": {
        "id": "RrvLkOQNpT5M"
      },
      "source": [
        "jsonV2 = jsonData_v1.reset_index()"
      ],
      "execution_count": 31,
      "outputs": []
    },
    {
      "cell_type": "code",
      "metadata": {
        "id": "mF0_gKXnvozM"
      },
      "source": [
        "jsonV3 = jsonV2.rename(columns={'index': 'Movies', 0: 'Genre'})\n",
        "jsonV4 = jsonV3.reset_index(drop=True)\n",
        "jsonV5 = jsonV4.sort_values('Movies', ascending=True).reset_index(drop=True)"
      ],
      "execution_count": 32,
      "outputs": []
    },
    {
      "cell_type": "code",
      "metadata": {
        "id": "hNTemqBnyD8Q"
      },
      "source": [
        "result = jsonV3.to_json(orient=\"records\")\n",
        "parsed = json.loads(result)\n",
        "with open(\"titleGenreCountry.json\", 'w') as f:\n",
        "          json.dump(parsed, f, indent=4)\n"
      ],
      "execution_count": 33,
      "outputs": []
    },
    {
      "cell_type": "code",
      "metadata": {
        "id": "vHp0wV9Ky0Fv"
      },
      "source": [
        "movieCountryV1 = movieCountryDF.rename(columns={'title': 'Movies'})"
      ],
      "execution_count": 34,
      "outputs": []
    },
    {
      "cell_type": "code",
      "metadata": {
        "id": "qg8gLeL408n3"
      },
      "source": [
        "MovieGenreCountry_json = jsonV5.merge(movieCountryV1, on = \"Movies\", how = \"left\")"
      ],
      "execution_count": 35,
      "outputs": []
    },
    {
      "cell_type": "code",
      "metadata": {
        "id": "fGDqd39GI7aX"
      },
      "source": [
        "# keyFrames = list(MovieGenreCountry_json.Movies)\n",
        "\n",
        "\n",
        "# names = []\n",
        "\n",
        "# for i in keyFrames:\n",
        "#   names.append(i[0:1])\n",
        "\n",
        "# MovieGenreCountry_json[\"key\"]=names\n",
        "\n",
        "# column_names = [\"key\", \"Movies\", \"country\", \"Genre\"]\n",
        "\n",
        "# new_MCG = MovieGenreCountry_json.reindex(columns=column_names)\n",
        "\n",
        "# MovieGenreCountry_json.iloc[2500: 3000] "
      ],
      "execution_count": 36,
      "outputs": []
    },
    {
      "cell_type": "code",
      "metadata": {
        "id": "a2MR2G701Zqv"
      },
      "source": [
        "result = MovieGenreCountry_json.to_json(orient=\"records\")\n",
        "parsed = json.loads(result)\n",
        "with open(\"titleGenreCountry.json\", 'w') as f:\n",
        "          json.dump(parsed, f, indent=4)"
      ],
      "execution_count": 37,
      "outputs": []
    },
    {
      "cell_type": "code",
      "metadata": {
        "id": "KY4RoFjgRALH"
      },
      "source": [
        "# json_random = netflixData.filter(['title', 'cast', 'description', 'release_year', 'type'], axis=1)"
      ],
      "execution_count": 38,
      "outputs": []
    },
    {
      "cell_type": "code",
      "metadata": {
        "id": "miJsnQDBWmaq"
      },
      "source": [
        "# Merging data for viz.\n",
        "\n",
        "json_random = netflixData.filter(['title', 'cast'], axis=1)\n",
        "# json_randomV1 = json_random.set_index('title')['cast'].to_dict()\n",
        "json_randomV1 = json_random.rename(columns={'title': 'Movies', 'cast': 'Cast'})\n",
        "MovieGenreCountryCast_json = MovieGenreCountry_json.merge(json_randomV1, on = \"Movies\", how = \"left\")"
      ],
      "execution_count": 39,
      "outputs": []
    },
    {
      "cell_type": "code",
      "metadata": {
        "id": "EkMN8vBYYS2p"
      },
      "source": [
        "json_randomV2 = netflixData.filter(['title', 'description'], axis=1)\n",
        "# json_randomV1 = json_random.set_index('title')['cast'].to_dict()\n",
        "json_randomV3 = json_randomV2.rename(columns={'title': 'Movies', 'description': 'Description'})\n",
        "MovieGenreCountryCastDes_json = MovieGenreCountryCast_json.merge(json_randomV3, on = \"Movies\", how = \"left\")"
      ],
      "execution_count": 40,
      "outputs": []
    },
    {
      "cell_type": "code",
      "metadata": {
        "id": "1ezCIFSjY1JN"
      },
      "source": [
        "json_randomV4 = netflixData.filter(['title', 'release_year'], axis=1)\n",
        "# json_randomV1 = json_random.set_index('title')['cast'].to_dict()\n",
        "json_randomV5 = json_randomV4.rename(columns={'title': 'Movies', 'release_year': 'Release_year'})\n",
        "MovieGenreCountryCastDesRS_json = MovieGenreCountryCastDes_json.merge(json_randomV5, on = \"Movies\", how = \"left\")"
      ],
      "execution_count": 41,
      "outputs": []
    },
    {
      "cell_type": "code",
      "metadata": {
        "id": "b31SuwpiZT45"
      },
      "source": [
        "json_randomV6 = netflixData.filter(['title', 'type'], axis=1)\n",
        "# json_randomV1 = json_random.set_index('title')['cast'].to_dict()\n",
        "json_randomV7 = json_randomV6.rename(columns={'title': 'Movies', 'type': 'Type'})\n",
        "MovieGenreCountryCastDesRStype_json = MovieGenreCountryCastDesRS_json.merge(json_randomV7, on = \"Movies\", how = \"left\")"
      ],
      "execution_count": 42,
      "outputs": []
    },
    {
      "cell_type": "code",
      "metadata": {
        "id": "OPdRPG-7cQ_C"
      },
      "source": [
        "randomDF = MovieGenreCountryCastDesRStype_json.sample(n = 500, replace = False) "
      ],
      "execution_count": 43,
      "outputs": []
    },
    {
      "cell_type": "code",
      "metadata": {
        "id": "iadD9g_vcYkU"
      },
      "source": [
        "random_result = randomDF.to_json(orient=\"records\")\n",
        "parsed = json.loads(random_result)\n",
        "with open(\"randomData.json\", 'w') as f:\n",
        "          json.dump(parsed, f, indent=4)"
      ],
      "execution_count": 44,
      "outputs": []
    },
    {
      "cell_type": "markdown",
      "metadata": {
        "id": "f9HOQync3YSW"
      },
      "source": [
        "**Querying with geopy library to bring in the coordinates of countries mentioned in original dataset.**"
      ]
    },
    {
      "cell_type": "code",
      "metadata": {
        "colab": {
          "base_uri": "https://localhost:8080/"
        },
        "id": "_RDzD-Qisbq6",
        "outputId": "dc747ebf-4d69-4b20-b282-883e98747c37"
      },
      "source": [
        "!pip install geopy"
      ],
      "execution_count": 45,
      "outputs": [
        {
          "output_type": "stream",
          "text": [
            "Requirement already satisfied: geopy in /usr/local/lib/python3.6/dist-packages (1.17.0)\n",
            "Requirement already satisfied: geographiclib<2,>=1.49 in /usr/local/lib/python3.6/dist-packages (from geopy) (1.50)\n"
          ],
          "name": "stdout"
        }
      ]
    },
    {
      "cell_type": "code",
      "metadata": {
        "colab": {
          "base_uri": "https://localhost:8080/"
        },
        "id": "CkudKyJDsoIs",
        "outputId": "4b39c6e9-d988-4e0e-cdcd-25bd598e1b55"
      },
      "source": [
        "from geopy.geocoders import Nominatim\n",
        "geolocator = Nominatim(user_agent=\"myapplication\")\n",
        "location = geolocator.geocode(\"India\")\n",
        "print(location.address)\n",
        "print(location.longitude)\n",
        "print(location.latitude)"
      ],
      "execution_count": 46,
      "outputs": [
        {
          "output_type": "stream",
          "text": [
            "India\n",
            "78.6677428\n",
            "22.3511148\n"
          ],
          "name": "stdout"
        }
      ]
    },
    {
      "cell_type": "code",
      "metadata": {
        "colab": {
          "base_uri": "https://localhost:8080/"
        },
        "id": "P6YnGDSrtdgQ",
        "outputId": "cc76e46b-0267-48e8-fe4d-c0e197288188"
      },
      "source": [
        "# updating dataframe for the map\n",
        "setData = netflixData['country']\n",
        "listData = list(setData)\n",
        "listData\n",
        "\n",
        "newdata = []\n",
        "df_update = {}\n",
        "\n",
        "for countries in listData:\n",
        "  splitData = countries.split(\",\")\n",
        "  newdata.append(splitData[0])\n",
        "\n",
        "  df_update['country']=newdata\n",
        "UpdatedCountries = pd.DataFrame.from_dict(df_update)\n",
        "\n",
        "\n",
        "updateNetflix = MovieGenreCountryCastDesRS_json.drop(['country'], axis=1)\n",
        "\n",
        "updateNetflix['country']=UpdatedCountries.country\n",
        "\n",
        "\n",
        "# finding the lat and long for the countries.\n",
        "countries = []\n",
        "countLat = {}\n",
        "countLong = {}\n",
        "unique = []\n",
        "\n",
        "countriesLatLong = updateNetflix['country']\n",
        "countriesLatLonglist = list(countriesLatLong)\n",
        "for countryNames in countriesLatLonglist:\n",
        "  # print(countryNames.split(\",\")[0])\n",
        "  countries.append(countryNames)\n",
        "\n",
        "uniqueCountries = set(countries)\n",
        "unique.append(list(uniqueCountries))\n",
        "\n",
        "for country in unique:\n",
        "  print(country)\n",
        "  for i in country:\n",
        "    location = geolocator.geocode(i)\n",
        "    try:\n",
        "      # print('{}{}{}'.format(location.address, location.latitude, location.longitude))\n",
        "      countLat[location.address]=location.latitude\n",
        "      countLong[location.address]=location.longitude\n",
        "    except Exception as e:\n",
        "      pass"
      ],
      "execution_count": 47,
      "outputs": [
        {
          "output_type": "stream",
          "text": [
            "['Brazil', 'Ghana', 'Portugal', nan, 'Guatemala', 'Germany', 'Finland', 'Belgium', 'Ukraine', 'France', 'Georgia', 'United Kingdom', 'Japan', 'Canada', 'Soviet Union', 'Philippines', 'Colombia', 'Saudi Arabia', 'Lebanon', 'Dominican Republic', 'Pakistan', 'China', 'Iceland', 'Uruguay', 'Iran', 'South Africa', 'Spain', 'South Korea', 'Hungary', 'Hong Kong', 'Austria', 'Singapore', 'Venezuela', 'Taiwan', 'Argentina', 'Peru', 'Israel', 'Netherlands', 'Mexico', 'Chile', 'Australia', 'Vietnam', 'Egypt', 'Ireland', 'India', 'Cambodia', 'Russia', 'Somalia', 'United Arab Emirates', 'New Zealand', 'Bulgaria', 'United States', 'Thailand', 'West Germany', 'Mauritius', 'Serbia', 'Bangladesh', 'Turkey', 'Czech Republic', 'Cyprus', 'Sweden', 'Romania', 'Italy', 'Croatia', 'Nigeria', 'Poland', 'Slovenia', 'Indonesia', 'Denmark', 'Norway', 'Malaysia', '0', 'Switzerland', 'Paraguay']\n"
          ],
          "name": "stdout"
        }
      ]
    },
    {
      "cell_type": "markdown",
      "metadata": {
        "id": "qSKbRzC83oxB"
      },
      "source": [
        "**Merging the latitude and longitude columns found through geopy library to our dataframe**"
      ]
    },
    {
      "cell_type": "code",
      "metadata": {
        "id": "KPi6N6OLuEPP"
      },
      "source": [
        "# merging generated latitude and longitude to our existing dataframe.\n",
        "latDF = pd.DataFrame.from_dict(countLat, orient='index')\n",
        "\n",
        "latDFV2 = latDF.reset_index()\n",
        "latDFV3 = latDFV2.rename(columns={0:'Latitude', 'index':'country'})"
      ],
      "execution_count": 48,
      "outputs": []
    },
    {
      "cell_type": "code",
      "metadata": {
        "id": "bozo3EMfWCN4"
      },
      "source": [
        "DFLat = updateNetflix.merge(latDFV3, on = \"country\", how = \"left\")"
      ],
      "execution_count": 49,
      "outputs": []
    },
    {
      "cell_type": "code",
      "metadata": {
        "id": "tisXD53LYPHA"
      },
      "source": [
        "longDF = pd.DataFrame.from_dict(countLong, orient='index')\n",
        "\n",
        "longDFV2 = longDF.reset_index()\n",
        "longDFV3 = longDFV2.rename(columns={0:'Longitude', 'index':'country'})"
      ],
      "execution_count": 50,
      "outputs": []
    },
    {
      "cell_type": "code",
      "metadata": {
        "colab": {
          "base_uri": "https://localhost:8080/",
          "height": 669
        },
        "id": "a0QUqAb1Zuz-",
        "outputId": "b79c4c44-6e3c-4dd6-ebab-9c9840601f19"
      },
      "source": [
        "finalDF  = DFLat.merge(longDFV3, on = \"country\", how = \"left\")\n",
        "finalDF.head(20)"
      ],
      "execution_count": 51,
      "outputs": [
        {
          "output_type": "execute_result",
          "data": {
            "text/html": [
              "<div>\n",
              "<style scoped>\n",
              "    .dataframe tbody tr th:only-of-type {\n",
              "        vertical-align: middle;\n",
              "    }\n",
              "\n",
              "    .dataframe tbody tr th {\n",
              "        vertical-align: top;\n",
              "    }\n",
              "\n",
              "    .dataframe thead th {\n",
              "        text-align: right;\n",
              "    }\n",
              "</style>\n",
              "<table border=\"1\" class=\"dataframe\">\n",
              "  <thead>\n",
              "    <tr style=\"text-align: right;\">\n",
              "      <th></th>\n",
              "      <th>Movies</th>\n",
              "      <th>Genre</th>\n",
              "      <th>Cast</th>\n",
              "      <th>Description</th>\n",
              "      <th>Release_year</th>\n",
              "      <th>country</th>\n",
              "      <th>Latitude</th>\n",
              "      <th>Longitude</th>\n",
              "    </tr>\n",
              "  </thead>\n",
              "  <tbody>\n",
              "    <tr>\n",
              "      <th>0</th>\n",
              "      <td>#Roxy</td>\n",
              "      <td>Comedies, Romantic Movies</td>\n",
              "      <td>Jake Short, Sarah Fisher, Booboo Stewart, Dann...</td>\n",
              "      <td>A teenage hacker with a huge nose helps a cool...</td>\n",
              "      <td>2018</td>\n",
              "      <td>United States</td>\n",
              "      <td>39.783730</td>\n",
              "      <td>-100.445882</td>\n",
              "    </tr>\n",
              "    <tr>\n",
              "      <th>1</th>\n",
              "      <td>#Rucker50</td>\n",
              "      <td>Documentaries, Sports Movies</td>\n",
              "      <td>0</td>\n",
              "      <td>This documentary celebrates the 50th anniversa...</td>\n",
              "      <td>2016</td>\n",
              "      <td>United Kingdom</td>\n",
              "      <td>54.702354</td>\n",
              "      <td>-3.276575</td>\n",
              "    </tr>\n",
              "    <tr>\n",
              "      <th>2</th>\n",
              "      <td>#Selfie</td>\n",
              "      <td>Comedies, Dramas, International Movies</td>\n",
              "      <td>Flavia Hojda, Crina Semciuc, Olimpia Melinte, ...</td>\n",
              "      <td>Two days before their final exams, three teen ...</td>\n",
              "      <td>2014</td>\n",
              "      <td>United States</td>\n",
              "      <td>39.783730</td>\n",
              "      <td>-100.445882</td>\n",
              "    </tr>\n",
              "    <tr>\n",
              "      <th>3</th>\n",
              "      <td>#Selfie 69</td>\n",
              "      <td>Comedies, Dramas, International Movies</td>\n",
              "      <td>Maia Morgenstern, Olimpia Melinte, Crina Semci...</td>\n",
              "      <td>After a painful breakup, a trio of party-lovin...</td>\n",
              "      <td>2016</td>\n",
              "      <td>United States</td>\n",
              "      <td>39.783730</td>\n",
              "      <td>-100.445882</td>\n",
              "    </tr>\n",
              "    <tr>\n",
              "      <th>4</th>\n",
              "      <td>#realityhigh</td>\n",
              "      <td>Comedies</td>\n",
              "      <td>Nesta Cooper, Kate Walsh, John Michael Higgins...</td>\n",
              "      <td>When nerdy high schooler Dani finally attracts...</td>\n",
              "      <td>2017</td>\n",
              "      <td>United States</td>\n",
              "      <td>39.783730</td>\n",
              "      <td>-100.445882</td>\n",
              "    </tr>\n",
              "    <tr>\n",
              "      <th>5</th>\n",
              "      <td>'89</td>\n",
              "      <td>Sports Movies</td>\n",
              "      <td>Lee Dixon, Ian Wright, Paul Merson</td>\n",
              "      <td>Mixing old footage with interviews, this is th...</td>\n",
              "      <td>2017</td>\n",
              "      <td>Spain</td>\n",
              "      <td>NaN</td>\n",
              "      <td>NaN</td>\n",
              "    </tr>\n",
              "    <tr>\n",
              "      <th>6</th>\n",
              "      <td>(T)ERROR</td>\n",
              "      <td>Documentaries</td>\n",
              "      <td>0</td>\n",
              "      <td>This real-life look at FBI counterterrorism op...</td>\n",
              "      <td>2015</td>\n",
              "      <td>Bulgaria</td>\n",
              "      <td>NaN</td>\n",
              "      <td>NaN</td>\n",
              "    </tr>\n",
              "    <tr>\n",
              "      <th>7</th>\n",
              "      <td>1 Chance 2 Dance</td>\n",
              "      <td>Dramas, Romantic Movies</td>\n",
              "      <td>Lexi Giovagnoli, Justin Ray, Rae Latt, Poonam ...</td>\n",
              "      <td>When an aspiring dancer is uprooted during her...</td>\n",
              "      <td>2014</td>\n",
              "      <td>Chile</td>\n",
              "      <td>-31.761336</td>\n",
              "      <td>-71.318770</td>\n",
              "    </tr>\n",
              "    <tr>\n",
              "      <th>8</th>\n",
              "      <td>1 Mile to You</td>\n",
              "      <td>Dramas, Romantic Movies, Sports Movies</td>\n",
              "      <td>Billy Crudup, Graham Rogers, Liana Liberato, S...</td>\n",
              "      <td>After escaping the bus accident that killed hi...</td>\n",
              "      <td>2017</td>\n",
              "      <td>United States</td>\n",
              "      <td>39.783730</td>\n",
              "      <td>-100.445882</td>\n",
              "    </tr>\n",
              "    <tr>\n",
              "      <th>9</th>\n",
              "      <td>10 Days in Sun City</td>\n",
              "      <td>Comedies, International Movies, Romantic Movies</td>\n",
              "      <td>Ayo Makun, Adesua Etomi, Richard Mofe-Damijo, ...</td>\n",
              "      <td>After his girlfriend wins the Miss Nigeria pag...</td>\n",
              "      <td>2017</td>\n",
              "      <td>United States</td>\n",
              "      <td>39.783730</td>\n",
              "      <td>-100.445882</td>\n",
              "    </tr>\n",
              "    <tr>\n",
              "      <th>10</th>\n",
              "      <td>10 jours en or</td>\n",
              "      <td>Comedies, Dramas, International Movies</td>\n",
              "      <td>Franck Dubosc, Claude Rich, Marie Kremer, Math...</td>\n",
              "      <td>When a carefree bachelor is unexpectedly left ...</td>\n",
              "      <td>2012</td>\n",
              "      <td>0</td>\n",
              "      <td>NaN</td>\n",
              "      <td>NaN</td>\n",
              "    </tr>\n",
              "    <tr>\n",
              "      <th>11</th>\n",
              "      <td>10,000 B.C.</td>\n",
              "      <td>Action &amp; Adventure</td>\n",
              "      <td>Steven Strait, Camilla Belle, Cliff Curtis, Jo...</td>\n",
              "      <td>Fierce mammoth hunter D'Leh sets out on an imp...</td>\n",
              "      <td>2008</td>\n",
              "      <td>Netherlands</td>\n",
              "      <td>NaN</td>\n",
              "      <td>NaN</td>\n",
              "    </tr>\n",
              "    <tr>\n",
              "      <th>12</th>\n",
              "      <td>100 Days Of Solitude</td>\n",
              "      <td>Documentaries, International Movies</td>\n",
              "      <td>0</td>\n",
              "      <td>Spanish photographer José Díaz spends 100 days...</td>\n",
              "      <td>2018</td>\n",
              "      <td>0</td>\n",
              "      <td>NaN</td>\n",
              "      <td>NaN</td>\n",
              "    </tr>\n",
              "    <tr>\n",
              "      <th>13</th>\n",
              "      <td>100 Meters</td>\n",
              "      <td>Dramas, International Movies, Sports Movies</td>\n",
              "      <td>Dani Rovira, Karra Elejalde, Alexandra Jiménez...</td>\n",
              "      <td>A man who is diagnosed with multiple sclerosis...</td>\n",
              "      <td>2016</td>\n",
              "      <td>0</td>\n",
              "      <td>NaN</td>\n",
              "      <td>NaN</td>\n",
              "    </tr>\n",
              "    <tr>\n",
              "      <th>14</th>\n",
              "      <td>100 Things to do Before High School</td>\n",
              "      <td>Movies</td>\n",
              "      <td>Isabela Moner, Jaheem Toombs, Owen Joyner, Jac...</td>\n",
              "      <td>Led by seventh-grader C.J., three students who...</td>\n",
              "      <td>2014</td>\n",
              "      <td>0</td>\n",
              "      <td>NaN</td>\n",
              "      <td>NaN</td>\n",
              "    </tr>\n",
              "    <tr>\n",
              "      <th>15</th>\n",
              "      <td>100 Years: One Woman's Fight for Justice</td>\n",
              "      <td>Documentaries</td>\n",
              "      <td>0</td>\n",
              "      <td>This documentary chronicles Elouise Cobell's l...</td>\n",
              "      <td>2016</td>\n",
              "      <td>0</td>\n",
              "      <td>NaN</td>\n",
              "      <td>NaN</td>\n",
              "    </tr>\n",
              "    <tr>\n",
              "      <th>16</th>\n",
              "      <td>100% Hotter</td>\n",
              "      <td>British TV Shows, International TV Shows, Real...</td>\n",
              "      <td>Daniel Palmer, Melissa Sophia, Karen Williams,...</td>\n",
              "      <td>A stylist, a hair designer and a makeup artist...</td>\n",
              "      <td>2017</td>\n",
              "      <td>0</td>\n",
              "      <td>NaN</td>\n",
              "      <td>NaN</td>\n",
              "    </tr>\n",
              "    <tr>\n",
              "      <th>17</th>\n",
              "      <td>1000 Rupee Note</td>\n",
              "      <td>Dramas, International Movies</td>\n",
              "      <td>Usha Naik, Sandeep Pathak, Shrikant Yadav, Gan...</td>\n",
              "      <td>After randomly receiving a handsome political ...</td>\n",
              "      <td>2014</td>\n",
              "      <td>0</td>\n",
              "      <td>NaN</td>\n",
              "      <td>NaN</td>\n",
              "    </tr>\n",
              "    <tr>\n",
              "      <th>18</th>\n",
              "      <td>12 ROUND GUN</td>\n",
              "      <td>Dramas, Independent Movies, Sports Movies</td>\n",
              "      <td>Sam Upton, Jared Abrahamson, Mark Boone Junior...</td>\n",
              "      <td>Dealing with personal demons and the death of ...</td>\n",
              "      <td>2017</td>\n",
              "      <td>0</td>\n",
              "      <td>NaN</td>\n",
              "      <td>NaN</td>\n",
              "    </tr>\n",
              "    <tr>\n",
              "      <th>19</th>\n",
              "      <td>12 Years Promise</td>\n",
              "      <td>International TV Shows, Korean TV Shows, Roman...</td>\n",
              "      <td>So-yeon Lee, Namkoong Min, Tae-im Lee, So-hui ...</td>\n",
              "      <td>A pregnant teen is forced by her family to lea...</td>\n",
              "      <td>2014</td>\n",
              "      <td>France</td>\n",
              "      <td>46.603354</td>\n",
              "      <td>1.888334</td>\n",
              "    </tr>\n",
              "  </tbody>\n",
              "</table>\n",
              "</div>"
            ],
            "text/plain": [
              "                                      Movies  ...   Longitude\n",
              "0                                      #Roxy  ... -100.445882\n",
              "1                                  #Rucker50  ...   -3.276575\n",
              "2                                    #Selfie  ... -100.445882\n",
              "3                                 #Selfie 69  ... -100.445882\n",
              "4                               #realityhigh  ... -100.445882\n",
              "5                                        '89  ...         NaN\n",
              "6                                   (T)ERROR  ...         NaN\n",
              "7                           1 Chance 2 Dance  ...  -71.318770\n",
              "8                              1 Mile to You  ... -100.445882\n",
              "9                        10 Days in Sun City  ... -100.445882\n",
              "10                            10 jours en or  ...         NaN\n",
              "11                               10,000 B.C.  ...         NaN\n",
              "12                      100 Days Of Solitude  ...         NaN\n",
              "13                                100 Meters  ...         NaN\n",
              "14       100 Things to do Before High School  ...         NaN\n",
              "15  100 Years: One Woman's Fight for Justice  ...         NaN\n",
              "16                               100% Hotter  ...         NaN\n",
              "17                           1000 Rupee Note  ...         NaN\n",
              "18                              12 ROUND GUN  ...         NaN\n",
              "19                          12 Years Promise  ...    1.888334\n",
              "\n",
              "[20 rows x 8 columns]"
            ]
          },
          "metadata": {
            "tags": []
          },
          "execution_count": 51
        }
      ]
    },
    {
      "cell_type": "markdown",
      "metadata": {
        "id": "pAUXEmPf3zbq"
      },
      "source": [
        "**Using the newly created dataframe to display netflix services on map.**"
      ]
    },
    {
      "cell_type": "code",
      "metadata": {
        "id": "nnvZHQDQyEv7"
      },
      "source": [
        "import folium"
      ],
      "execution_count": 52,
      "outputs": []
    },
    {
      "cell_type": "code",
      "metadata": {
        "id": "PNAcIoM0Iluv"
      },
      "source": [
        "DFMAP = finalDF.dropna(axis=0)"
      ],
      "execution_count": 53,
      "outputs": []
    },
    {
      "cell_type": "code",
      "metadata": {
        "id": "Jw9M2_GCaSyH",
        "colab": {
          "base_uri": "https://localhost:8080/",
          "height": 1000
        },
        "outputId": "6bd44208-fa67-4e38-b3fa-19b44783cfea"
      },
      "source": [
        "m = folium.Map(location=[0, -0],zoom_start=3)\n",
        "\n",
        "locations = DFMAP[['Latitude', 'Longitude']]\n",
        "locationlist = locations.values.tolist()\n",
        "# print(locationlist[0:])\n",
        "# print(len(locationlist))\n",
        "\n",
        "uniqueVal = [list(i) for i in set(map(tuple, locationlist))]\n",
        "\n",
        "mapList = locationlist[:2000]\n",
        "# print(len(locationlist))\n",
        "locationlist[7]\n",
        "\n",
        "\n",
        "for points in range(0, len(uniqueVal)):\n",
        "  folium.Marker(uniqueVal[points],\n",
        "          icon=folium.Icon (color='darkblue', icon_color='white', icon='male', angle=0, prefix='fa')\n",
        ").add_to(m)\n",
        "\n",
        "\n",
        "\n",
        "\n",
        "\n",
        "m"
      ],
      "execution_count": 54,
      "outputs": [
        {
          "output_type": "execute_result",
          "data": {
            "text/html": [
              "<div style=\"width:100%;\"><div style=\"position:relative;width:100%;height:0;padding-bottom:60%;\"><span style=\"color:#565656\">Make this Notebook Trusted to load map: File -> Trust Notebook</span><iframe src=\"about:blank\" style=\"position:absolute;width:100%;height:100%;left:0;top:0;border:none !important;\" data-html=%3C%21DOCTYPE%20html%3E%0A%3Chead%3E%20%20%20%20%0A%20%20%20%20%3Cmeta%20http-equiv%3D%22content-type%22%20content%3D%22text/html%3B%20charset%3DUTF-8%22%20/%3E%0A%20%20%20%20%3Cscript%3EL_PREFER_CANVAS%3Dfalse%3B%20L_NO_TOUCH%3Dfalse%3B%20L_DISABLE_3D%3Dfalse%3B%3C/script%3E%0A%20%20%20%20%3Cscript%20src%3D%22https%3A//cdn.jsdelivr.net/npm/leaflet%401.4.0/dist/leaflet.js%22%3E%3C/script%3E%0A%20%20%20%20%3Cscript%20src%3D%22https%3A//code.jquery.com/jquery-1.12.4.min.js%22%3E%3C/script%3E%0A%20%20%20%20%3Cscript%20src%3D%22https%3A//maxcdn.bootstrapcdn.com/bootstrap/3.2.0/js/bootstrap.min.js%22%3E%3C/script%3E%0A%20%20%20%20%3Cscript%20src%3D%22https%3A//cdnjs.cloudflare.com/ajax/libs/Leaflet.awesome-markers/2.0.2/leaflet.awesome-markers.js%22%3E%3C/script%3E%0A%20%20%20%20%3Clink%20rel%3D%22stylesheet%22%20href%3D%22https%3A//cdn.jsdelivr.net/npm/leaflet%401.4.0/dist/leaflet.css%22/%3E%0A%20%20%20%20%3Clink%20rel%3D%22stylesheet%22%20href%3D%22https%3A//maxcdn.bootstrapcdn.com/bootstrap/3.2.0/css/bootstrap.min.css%22/%3E%0A%20%20%20%20%3Clink%20rel%3D%22stylesheet%22%20href%3D%22https%3A//maxcdn.bootstrapcdn.com/bootstrap/3.2.0/css/bootstrap-theme.min.css%22/%3E%0A%20%20%20%20%3Clink%20rel%3D%22stylesheet%22%20href%3D%22https%3A//maxcdn.bootstrapcdn.com/font-awesome/4.6.3/css/font-awesome.min.css%22/%3E%0A%20%20%20%20%3Clink%20rel%3D%22stylesheet%22%20href%3D%22https%3A//cdnjs.cloudflare.com/ajax/libs/Leaflet.awesome-markers/2.0.2/leaflet.awesome-markers.css%22/%3E%0A%20%20%20%20%3Clink%20rel%3D%22stylesheet%22%20href%3D%22https%3A//rawcdn.githack.com/python-visualization/folium/master/folium/templates/leaflet.awesome.rotate.css%22/%3E%0A%20%20%20%20%3Cstyle%3Ehtml%2C%20body%20%7Bwidth%3A%20100%25%3Bheight%3A%20100%25%3Bmargin%3A%200%3Bpadding%3A%200%3B%7D%3C/style%3E%0A%20%20%20%20%3Cstyle%3E%23map%20%7Bposition%3Aabsolute%3Btop%3A0%3Bbottom%3A0%3Bright%3A0%3Bleft%3A0%3B%7D%3C/style%3E%0A%20%20%20%20%0A%20%20%20%20%3Cmeta%20name%3D%22viewport%22%20content%3D%22width%3Ddevice-width%2C%0A%20%20%20%20%20%20%20%20initial-scale%3D1.0%2C%20maximum-scale%3D1.0%2C%20user-scalable%3Dno%22%20/%3E%0A%20%20%20%20%3Cstyle%3E%23map_b156c519cf794a148a63bf4157897321%20%7B%0A%20%20%20%20%20%20%20%20position%3A%20relative%3B%0A%20%20%20%20%20%20%20%20width%3A%20100.0%25%3B%0A%20%20%20%20%20%20%20%20height%3A%20100.0%25%3B%0A%20%20%20%20%20%20%20%20left%3A%200.0%25%3B%0A%20%20%20%20%20%20%20%20top%3A%200.0%25%3B%0A%20%20%20%20%20%20%20%20%7D%0A%20%20%20%20%3C/style%3E%0A%3C/head%3E%0A%3Cbody%3E%20%20%20%20%0A%20%20%20%20%0A%20%20%20%20%3Cdiv%20class%3D%22folium-map%22%20id%3D%22map_b156c519cf794a148a63bf4157897321%22%20%3E%3C/div%3E%0A%3C/body%3E%0A%3Cscript%3E%20%20%20%20%0A%20%20%20%20%0A%20%20%20%20%0A%20%20%20%20%20%20%20%20var%20bounds%20%3D%20null%3B%0A%20%20%20%20%0A%0A%20%20%20%20var%20map_b156c519cf794a148a63bf4157897321%20%3D%20L.map%28%0A%20%20%20%20%20%20%20%20%27map_b156c519cf794a148a63bf4157897321%27%2C%20%7B%0A%20%20%20%20%20%20%20%20center%3A%20%5B0%2C%200%5D%2C%0A%20%20%20%20%20%20%20%20zoom%3A%203%2C%0A%20%20%20%20%20%20%20%20maxBounds%3A%20bounds%2C%0A%20%20%20%20%20%20%20%20layers%3A%20%5B%5D%2C%0A%20%20%20%20%20%20%20%20worldCopyJump%3A%20false%2C%0A%20%20%20%20%20%20%20%20crs%3A%20L.CRS.EPSG3857%2C%0A%20%20%20%20%20%20%20%20zoomControl%3A%20true%2C%0A%20%20%20%20%20%20%20%20%7D%29%3B%0A%0A%0A%20%20%20%20%0A%20%20%20%20var%20tile_layer_2313e8c337e441728cb2f1abf57937f5%20%3D%20L.tileLayer%28%0A%20%20%20%20%20%20%20%20%27https%3A//%7Bs%7D.tile.openstreetmap.org/%7Bz%7D/%7Bx%7D/%7By%7D.png%27%2C%0A%20%20%20%20%20%20%20%20%7B%0A%20%20%20%20%20%20%20%20%22attribution%22%3A%20null%2C%0A%20%20%20%20%20%20%20%20%22detectRetina%22%3A%20false%2C%0A%20%20%20%20%20%20%20%20%22maxNativeZoom%22%3A%2018%2C%0A%20%20%20%20%20%20%20%20%22maxZoom%22%3A%2018%2C%0A%20%20%20%20%20%20%20%20%22minZoom%22%3A%200%2C%0A%20%20%20%20%20%20%20%20%22noWrap%22%3A%20false%2C%0A%20%20%20%20%20%20%20%20%22opacity%22%3A%201%2C%0A%20%20%20%20%20%20%20%20%22subdomains%22%3A%20%22abc%22%2C%0A%20%20%20%20%20%20%20%20%22tms%22%3A%20false%0A%7D%29.addTo%28map_b156c519cf794a148a63bf4157897321%29%3B%0A%20%20%20%20%0A%20%20%20%20%20%20%20%20var%20marker_b162b9ec50c542a38e646cb6af66285f%20%3D%20L.marker%28%0A%20%20%20%20%20%20%20%20%20%20%20%20%5B40.0332629%2C%20-7.8896263%5D%2C%0A%20%20%20%20%20%20%20%20%20%20%20%20%7B%0A%20%20%20%20%20%20%20%20%20%20%20%20%20%20%20%20icon%3A%20new%20L.Icon.Default%28%29%2C%0A%20%20%20%20%20%20%20%20%20%20%20%20%20%20%20%20%7D%0A%20%20%20%20%20%20%20%20%20%20%20%20%29.addTo%28map_b156c519cf794a148a63bf4157897321%29%3B%0A%20%20%20%20%20%20%20%20%0A%20%20%20%20%0A%0A%20%20%20%20%20%20%20%20%20%20%20%20%20%20%20%20var%20icon_fe8f096f166f4d1abc95c54c8be1633f%20%3D%20L.AwesomeMarkers.icon%28%7B%0A%20%20%20%20%20%20%20%20%20%20%20%20%20%20%20%20%20%20%20%20icon%3A%20%27male%27%2C%0A%20%20%20%20%20%20%20%20%20%20%20%20%20%20%20%20%20%20%20%20iconColor%3A%20%27white%27%2C%0A%20%20%20%20%20%20%20%20%20%20%20%20%20%20%20%20%20%20%20%20markerColor%3A%20%27darkblue%27%2C%0A%20%20%20%20%20%20%20%20%20%20%20%20%20%20%20%20%20%20%20%20prefix%3A%20%27fa%27%2C%0A%20%20%20%20%20%20%20%20%20%20%20%20%20%20%20%20%20%20%20%20extraClasses%3A%20%27fa-rotate-0%27%0A%20%20%20%20%20%20%20%20%20%20%20%20%20%20%20%20%20%20%20%20%7D%29%3B%0A%20%20%20%20%20%20%20%20%20%20%20%20%20%20%20%20marker_b162b9ec50c542a38e646cb6af66285f.setIcon%28icon_fe8f096f166f4d1abc95c54c8be1633f%29%3B%0A%20%20%20%20%20%20%20%20%20%20%20%20%0A%20%20%20%20%0A%20%20%20%20%20%20%20%20var%20marker_43b6c7ed9ba94fc5b63cf834b44d40ff%20%3D%20L.marker%28%0A%20%20%20%20%20%20%20%20%20%20%20%20%5B4.5693754%2C%20102.2656823%5D%2C%0A%20%20%20%20%20%20%20%20%20%20%20%20%7B%0A%20%20%20%20%20%20%20%20%20%20%20%20%20%20%20%20icon%3A%20new%20L.Icon.Default%28%29%2C%0A%20%20%20%20%20%20%20%20%20%20%20%20%20%20%20%20%7D%0A%20%20%20%20%20%20%20%20%20%20%20%20%29.addTo%28map_b156c519cf794a148a63bf4157897321%29%3B%0A%20%20%20%20%20%20%20%20%0A%20%20%20%20%0A%0A%20%20%20%20%20%20%20%20%20%20%20%20%20%20%20%20var%20icon_e2c151ebac55458ba04408ff7b705b12%20%3D%20L.AwesomeMarkers.icon%28%7B%0A%20%20%20%20%20%20%20%20%20%20%20%20%20%20%20%20%20%20%20%20icon%3A%20%27male%27%2C%0A%20%20%20%20%20%20%20%20%20%20%20%20%20%20%20%20%20%20%20%20iconColor%3A%20%27white%27%2C%0A%20%20%20%20%20%20%20%20%20%20%20%20%20%20%20%20%20%20%20%20markerColor%3A%20%27darkblue%27%2C%0A%20%20%20%20%20%20%20%20%20%20%20%20%20%20%20%20%20%20%20%20prefix%3A%20%27fa%27%2C%0A%20%20%20%20%20%20%20%20%20%20%20%20%20%20%20%20%20%20%20%20extraClasses%3A%20%27fa-rotate-0%27%0A%20%20%20%20%20%20%20%20%20%20%20%20%20%20%20%20%20%20%20%20%7D%29%3B%0A%20%20%20%20%20%20%20%20%20%20%20%20%20%20%20%20marker_43b6c7ed9ba94fc5b63cf834b44d40ff.setIcon%28icon_e2c151ebac55458ba04408ff7b705b12%29%3B%0A%20%20%20%20%20%20%20%20%20%20%20%20%0A%20%20%20%20%0A%20%20%20%20%20%20%20%20var%20marker_99a57650f5774f8aafbd58b1866547dd%20%3D%20L.marker%28%0A%20%20%20%20%20%20%20%20%20%20%20%20%5B-20.2759451%2C%2057.5703566%5D%2C%0A%20%20%20%20%20%20%20%20%20%20%20%20%7B%0A%20%20%20%20%20%20%20%20%20%20%20%20%20%20%20%20icon%3A%20new%20L.Icon.Default%28%29%2C%0A%20%20%20%20%20%20%20%20%20%20%20%20%20%20%20%20%7D%0A%20%20%20%20%20%20%20%20%20%20%20%20%29.addTo%28map_b156c519cf794a148a63bf4157897321%29%3B%0A%20%20%20%20%20%20%20%20%0A%20%20%20%20%0A%0A%20%20%20%20%20%20%20%20%20%20%20%20%20%20%20%20var%20icon_abdaeefbcdf2477a9225a8e2e888c77c%20%3D%20L.AwesomeMarkers.icon%28%7B%0A%20%20%20%20%20%20%20%20%20%20%20%20%20%20%20%20%20%20%20%20icon%3A%20%27male%27%2C%0A%20%20%20%20%20%20%20%20%20%20%20%20%20%20%20%20%20%20%20%20iconColor%3A%20%27white%27%2C%0A%20%20%20%20%20%20%20%20%20%20%20%20%20%20%20%20%20%20%20%20markerColor%3A%20%27darkblue%27%2C%0A%20%20%20%20%20%20%20%20%20%20%20%20%20%20%20%20%20%20%20%20prefix%3A%20%27fa%27%2C%0A%20%20%20%20%20%20%20%20%20%20%20%20%20%20%20%20%20%20%20%20extraClasses%3A%20%27fa-rotate-0%27%0A%20%20%20%20%20%20%20%20%20%20%20%20%20%20%20%20%20%20%20%20%7D%29%3B%0A%20%20%20%20%20%20%20%20%20%20%20%20%20%20%20%20marker_99a57650f5774f8aafbd58b1866547dd.setIcon%28icon_abdaeefbcdf2477a9225a8e2e888c77c%29%3B%0A%20%20%20%20%20%20%20%20%20%20%20%20%0A%20%20%20%20%0A%20%20%20%20%20%20%20%20var%20marker_2da334cf7cf04635b9b7d041d2116696%20%3D%20L.marker%28%0A%20%20%20%20%20%20%20%20%20%20%20%20%5B2.8894434%2C%20-73.783892%5D%2C%0A%20%20%20%20%20%20%20%20%20%20%20%20%7B%0A%20%20%20%20%20%20%20%20%20%20%20%20%20%20%20%20icon%3A%20new%20L.Icon.Default%28%29%2C%0A%20%20%20%20%20%20%20%20%20%20%20%20%20%20%20%20%7D%0A%20%20%20%20%20%20%20%20%20%20%20%20%29.addTo%28map_b156c519cf794a148a63bf4157897321%29%3B%0A%20%20%20%20%20%20%20%20%0A%20%20%20%20%0A%0A%20%20%20%20%20%20%20%20%20%20%20%20%20%20%20%20var%20icon_c54f7d9784524762b92575a322cbcd75%20%3D%20L.AwesomeMarkers.icon%28%7B%0A%20%20%20%20%20%20%20%20%20%20%20%20%20%20%20%20%20%20%20%20icon%3A%20%27male%27%2C%0A%20%20%20%20%20%20%20%20%20%20%20%20%20%20%20%20%20%20%20%20iconColor%3A%20%27white%27%2C%0A%20%20%20%20%20%20%20%20%20%20%20%20%20%20%20%20%20%20%20%20markerColor%3A%20%27darkblue%27%2C%0A%20%20%20%20%20%20%20%20%20%20%20%20%20%20%20%20%20%20%20%20prefix%3A%20%27fa%27%2C%0A%20%20%20%20%20%20%20%20%20%20%20%20%20%20%20%20%20%20%20%20extraClasses%3A%20%27fa-rotate-0%27%0A%20%20%20%20%20%20%20%20%20%20%20%20%20%20%20%20%20%20%20%20%7D%29%3B%0A%20%20%20%20%20%20%20%20%20%20%20%20%20%20%20%20marker_2da334cf7cf04635b9b7d041d2116696.setIcon%28icon_c54f7d9784524762b92575a322cbcd75%29%3B%0A%20%20%20%20%20%20%20%20%20%20%20%20%0A%20%20%20%20%0A%20%20%20%20%20%20%20%20var%20marker_a3340f42075d46348d4ec28e469341b8%20%3D%20L.marker%28%0A%20%20%20%20%20%20%20%20%20%20%20%20%5B54.7023545%2C%20-3.2765753%5D%2C%0A%20%20%20%20%20%20%20%20%20%20%20%20%7B%0A%20%20%20%20%20%20%20%20%20%20%20%20%20%20%20%20icon%3A%20new%20L.Icon.Default%28%29%2C%0A%20%20%20%20%20%20%20%20%20%20%20%20%20%20%20%20%7D%0A%20%20%20%20%20%20%20%20%20%20%20%20%29.addTo%28map_b156c519cf794a148a63bf4157897321%29%3B%0A%20%20%20%20%20%20%20%20%0A%20%20%20%20%0A%0A%20%20%20%20%20%20%20%20%20%20%20%20%20%20%20%20var%20icon_3d53d16f57fc4c869df112735862b3b8%20%3D%20L.AwesomeMarkers.icon%28%7B%0A%20%20%20%20%20%20%20%20%20%20%20%20%20%20%20%20%20%20%20%20icon%3A%20%27male%27%2C%0A%20%20%20%20%20%20%20%20%20%20%20%20%20%20%20%20%20%20%20%20iconColor%3A%20%27white%27%2C%0A%20%20%20%20%20%20%20%20%20%20%20%20%20%20%20%20%20%20%20%20markerColor%3A%20%27darkblue%27%2C%0A%20%20%20%20%20%20%20%20%20%20%20%20%20%20%20%20%20%20%20%20prefix%3A%20%27fa%27%2C%0A%20%20%20%20%20%20%20%20%20%20%20%20%20%20%20%20%20%20%20%20extraClasses%3A%20%27fa-rotate-0%27%0A%20%20%20%20%20%20%20%20%20%20%20%20%20%20%20%20%20%20%20%20%7D%29%3B%0A%20%20%20%20%20%20%20%20%20%20%20%20%20%20%20%20marker_a3340f42075d46348d4ec28e469341b8.setIcon%28icon_3d53d16f57fc4c869df112735862b3b8%29%3B%0A%20%20%20%20%20%20%20%20%20%20%20%20%0A%20%20%20%20%0A%20%20%20%20%20%20%20%20var%20marker_1180e2b556214da7911f4380d811dcfe%20%3D%20L.marker%28%0A%20%20%20%20%20%20%20%20%20%20%20%20%5B1.357107%2C%20103.8194992%5D%2C%0A%20%20%20%20%20%20%20%20%20%20%20%20%7B%0A%20%20%20%20%20%20%20%20%20%20%20%20%20%20%20%20icon%3A%20new%20L.Icon.Default%28%29%2C%0A%20%20%20%20%20%20%20%20%20%20%20%20%20%20%20%20%7D%0A%20%20%20%20%20%20%20%20%20%20%20%20%29.addTo%28map_b156c519cf794a148a63bf4157897321%29%3B%0A%20%20%20%20%20%20%20%20%0A%20%20%20%20%0A%0A%20%20%20%20%20%20%20%20%20%20%20%20%20%20%20%20var%20icon_fdacb4feb98f439f94af398521d0e67d%20%3D%20L.AwesomeMarkers.icon%28%7B%0A%20%20%20%20%20%20%20%20%20%20%20%20%20%20%20%20%20%20%20%20icon%3A%20%27male%27%2C%0A%20%20%20%20%20%20%20%20%20%20%20%20%20%20%20%20%20%20%20%20iconColor%3A%20%27white%27%2C%0A%20%20%20%20%20%20%20%20%20%20%20%20%20%20%20%20%20%20%20%20markerColor%3A%20%27darkblue%27%2C%0A%20%20%20%20%20%20%20%20%20%20%20%20%20%20%20%20%20%20%20%20prefix%3A%20%27fa%27%2C%0A%20%20%20%20%20%20%20%20%20%20%20%20%20%20%20%20%20%20%20%20extraClasses%3A%20%27fa-rotate-0%27%0A%20%20%20%20%20%20%20%20%20%20%20%20%20%20%20%20%20%20%20%20%7D%29%3B%0A%20%20%20%20%20%20%20%20%20%20%20%20%20%20%20%20marker_1180e2b556214da7911f4380d811dcfe.setIcon%28icon_fdacb4feb98f439f94af398521d0e67d%29%3B%0A%20%20%20%20%20%20%20%20%20%20%20%20%0A%20%20%20%20%0A%20%20%20%20%20%20%20%20var%20marker_6755736a4657463e9baead08503d7bc7%20%3D%20L.marker%28%0A%20%20%20%20%20%20%20%20%20%20%20%20%5B-28.8166236%2C%2024.991639%5D%2C%0A%20%20%20%20%20%20%20%20%20%20%20%20%7B%0A%20%20%20%20%20%20%20%20%20%20%20%20%20%20%20%20icon%3A%20new%20L.Icon.Default%28%29%2C%0A%20%20%20%20%20%20%20%20%20%20%20%20%20%20%20%20%7D%0A%20%20%20%20%20%20%20%20%20%20%20%20%29.addTo%28map_b156c519cf794a148a63bf4157897321%29%3B%0A%20%20%20%20%20%20%20%20%0A%20%20%20%20%0A%0A%20%20%20%20%20%20%20%20%20%20%20%20%20%20%20%20var%20icon_d409e07b5e7245eba81fd85de86b04ad%20%3D%20L.AwesomeMarkers.icon%28%7B%0A%20%20%20%20%20%20%20%20%20%20%20%20%20%20%20%20%20%20%20%20icon%3A%20%27male%27%2C%0A%20%20%20%20%20%20%20%20%20%20%20%20%20%20%20%20%20%20%20%20iconColor%3A%20%27white%27%2C%0A%20%20%20%20%20%20%20%20%20%20%20%20%20%20%20%20%20%20%20%20markerColor%3A%20%27darkblue%27%2C%0A%20%20%20%20%20%20%20%20%20%20%20%20%20%20%20%20%20%20%20%20prefix%3A%20%27fa%27%2C%0A%20%20%20%20%20%20%20%20%20%20%20%20%20%20%20%20%20%20%20%20extraClasses%3A%20%27fa-rotate-0%27%0A%20%20%20%20%20%20%20%20%20%20%20%20%20%20%20%20%20%20%20%20%7D%29%3B%0A%20%20%20%20%20%20%20%20%20%20%20%20%20%20%20%20marker_6755736a4657463e9baead08503d7bc7.setIcon%28icon_d409e07b5e7245eba81fd85de86b04ad%29%3B%0A%20%20%20%20%20%20%20%20%20%20%20%20%0A%20%20%20%20%0A%20%20%20%20%20%20%20%20var%20marker_485202c621274d2f91a93b91b2543ed5%20%3D%20L.marker%28%0A%20%20%20%20%20%20%20%20%20%20%20%20%5B-24.7761086%2C%20134.755%5D%2C%0A%20%20%20%20%20%20%20%20%20%20%20%20%7B%0A%20%20%20%20%20%20%20%20%20%20%20%20%20%20%20%20icon%3A%20new%20L.Icon.Default%28%29%2C%0A%20%20%20%20%20%20%20%20%20%20%20%20%20%20%20%20%7D%0A%20%20%20%20%20%20%20%20%20%20%20%20%29.addTo%28map_b156c519cf794a148a63bf4157897321%29%3B%0A%20%20%20%20%20%20%20%20%0A%20%20%20%20%0A%0A%20%20%20%20%20%20%20%20%20%20%20%20%20%20%20%20var%20icon_6b26f58307f7418a83d94575466c394c%20%3D%20L.AwesomeMarkers.icon%28%7B%0A%20%20%20%20%20%20%20%20%20%20%20%20%20%20%20%20%20%20%20%20icon%3A%20%27male%27%2C%0A%20%20%20%20%20%20%20%20%20%20%20%20%20%20%20%20%20%20%20%20iconColor%3A%20%27white%27%2C%0A%20%20%20%20%20%20%20%20%20%20%20%20%20%20%20%20%20%20%20%20markerColor%3A%20%27darkblue%27%2C%0A%20%20%20%20%20%20%20%20%20%20%20%20%20%20%20%20%20%20%20%20prefix%3A%20%27fa%27%2C%0A%20%20%20%20%20%20%20%20%20%20%20%20%20%20%20%20%20%20%20%20extraClasses%3A%20%27fa-rotate-0%27%0A%20%20%20%20%20%20%20%20%20%20%20%20%20%20%20%20%20%20%20%20%7D%29%3B%0A%20%20%20%20%20%20%20%20%20%20%20%20%20%20%20%20marker_485202c621274d2f91a93b91b2543ed5.setIcon%28icon_6b26f58307f7418a83d94575466c394c%29%3B%0A%20%20%20%20%20%20%20%20%20%20%20%20%0A%20%20%20%20%0A%20%20%20%20%20%20%20%20var%20marker_73dc88b2fedc46ebbff462189fe618a3%20%3D%20L.marker%28%0A%20%20%20%20%20%20%20%20%20%20%20%20%5B-31.7613365%2C%20-71.3187697%5D%2C%0A%20%20%20%20%20%20%20%20%20%20%20%20%7B%0A%20%20%20%20%20%20%20%20%20%20%20%20%20%20%20%20icon%3A%20new%20L.Icon.Default%28%29%2C%0A%20%20%20%20%20%20%20%20%20%20%20%20%20%20%20%20%7D%0A%20%20%20%20%20%20%20%20%20%20%20%20%29.addTo%28map_b156c519cf794a148a63bf4157897321%29%3B%0A%20%20%20%20%20%20%20%20%0A%20%20%20%20%0A%0A%20%20%20%20%20%20%20%20%20%20%20%20%20%20%20%20var%20icon_69ef97b5962b42dda89006aed70a2e99%20%3D%20L.AwesomeMarkers.icon%28%7B%0A%20%20%20%20%20%20%20%20%20%20%20%20%20%20%20%20%20%20%20%20icon%3A%20%27male%27%2C%0A%20%20%20%20%20%20%20%20%20%20%20%20%20%20%20%20%20%20%20%20iconColor%3A%20%27white%27%2C%0A%20%20%20%20%20%20%20%20%20%20%20%20%20%20%20%20%20%20%20%20markerColor%3A%20%27darkblue%27%2C%0A%20%20%20%20%20%20%20%20%20%20%20%20%20%20%20%20%20%20%20%20prefix%3A%20%27fa%27%2C%0A%20%20%20%20%20%20%20%20%20%20%20%20%20%20%20%20%20%20%20%20extraClasses%3A%20%27fa-rotate-0%27%0A%20%20%20%20%20%20%20%20%20%20%20%20%20%20%20%20%20%20%20%20%7D%29%3B%0A%20%20%20%20%20%20%20%20%20%20%20%20%20%20%20%20marker_73dc88b2fedc46ebbff462189fe618a3.setIcon%28icon_69ef97b5962b42dda89006aed70a2e99%29%3B%0A%20%20%20%20%20%20%20%20%20%20%20%20%0A%20%20%20%20%0A%20%20%20%20%20%20%20%20var%20marker_a5a7cc7159dc42f3ac892912ecccb05c%20%3D%20L.marker%28%0A%20%20%20%20%20%20%20%20%20%20%20%20%5B-2.4833826%2C%20117.8902853%5D%2C%0A%20%20%20%20%20%20%20%20%20%20%20%20%7B%0A%20%20%20%20%20%20%20%20%20%20%20%20%20%20%20%20icon%3A%20new%20L.Icon.Default%28%29%2C%0A%20%20%20%20%20%20%20%20%20%20%20%20%20%20%20%20%7D%0A%20%20%20%20%20%20%20%20%20%20%20%20%29.addTo%28map_b156c519cf794a148a63bf4157897321%29%3B%0A%20%20%20%20%20%20%20%20%0A%20%20%20%20%0A%0A%20%20%20%20%20%20%20%20%20%20%20%20%20%20%20%20var%20icon_32e31da428e84096bf3653b00056d3d9%20%3D%20L.AwesomeMarkers.icon%28%7B%0A%20%20%20%20%20%20%20%20%20%20%20%20%20%20%20%20%20%20%20%20icon%3A%20%27male%27%2C%0A%20%20%20%20%20%20%20%20%20%20%20%20%20%20%20%20%20%20%20%20iconColor%3A%20%27white%27%2C%0A%20%20%20%20%20%20%20%20%20%20%20%20%20%20%20%20%20%20%20%20markerColor%3A%20%27darkblue%27%2C%0A%20%20%20%20%20%20%20%20%20%20%20%20%20%20%20%20%20%20%20%20prefix%3A%20%27fa%27%2C%0A%20%20%20%20%20%20%20%20%20%20%20%20%20%20%20%20%20%20%20%20extraClasses%3A%20%27fa-rotate-0%27%0A%20%20%20%20%20%20%20%20%20%20%20%20%20%20%20%20%20%20%20%20%7D%29%3B%0A%20%20%20%20%20%20%20%20%20%20%20%20%20%20%20%20marker_a5a7cc7159dc42f3ac892912ecccb05c.setIcon%28icon_32e31da428e84096bf3653b00056d3d9%29%3B%0A%20%20%20%20%20%20%20%20%20%20%20%20%0A%20%20%20%20%0A%20%20%20%20%20%20%20%20var%20marker_8cae9076dc2c4645a5c84bc4c4b12cc9%20%3D%20L.marker%28%0A%20%20%20%20%20%20%20%20%20%20%20%20%5B-34.9964963%2C%20-64.9672817%5D%2C%0A%20%20%20%20%20%20%20%20%20%20%20%20%7B%0A%20%20%20%20%20%20%20%20%20%20%20%20%20%20%20%20icon%3A%20new%20L.Icon.Default%28%29%2C%0A%20%20%20%20%20%20%20%20%20%20%20%20%20%20%20%20%7D%0A%20%20%20%20%20%20%20%20%20%20%20%20%29.addTo%28map_b156c519cf794a148a63bf4157897321%29%3B%0A%20%20%20%20%20%20%20%20%0A%20%20%20%20%0A%0A%20%20%20%20%20%20%20%20%20%20%20%20%20%20%20%20var%20icon_4756308e5dcd48dfa241993a4657143c%20%3D%20L.AwesomeMarkers.icon%28%7B%0A%20%20%20%20%20%20%20%20%20%20%20%20%20%20%20%20%20%20%20%20icon%3A%20%27male%27%2C%0A%20%20%20%20%20%20%20%20%20%20%20%20%20%20%20%20%20%20%20%20iconColor%3A%20%27white%27%2C%0A%20%20%20%20%20%20%20%20%20%20%20%20%20%20%20%20%20%20%20%20markerColor%3A%20%27darkblue%27%2C%0A%20%20%20%20%20%20%20%20%20%20%20%20%20%20%20%20%20%20%20%20prefix%3A%20%27fa%27%2C%0A%20%20%20%20%20%20%20%20%20%20%20%20%20%20%20%20%20%20%20%20extraClasses%3A%20%27fa-rotate-0%27%0A%20%20%20%20%20%20%20%20%20%20%20%20%20%20%20%20%20%20%20%20%7D%29%3B%0A%20%20%20%20%20%20%20%20%20%20%20%20%20%20%20%20marker_8cae9076dc2c4645a5c84bc4c4b12cc9.setIcon%28icon_4756308e5dcd48dfa241993a4657143c%29%3B%0A%20%20%20%20%20%20%20%20%20%20%20%20%0A%20%20%20%20%0A%20%20%20%20%20%20%20%20var%20marker_4a48fa722cd043e495dc8e4be66df725%20%3D%20L.marker%28%0A%20%20%20%20%20%20%20%20%20%20%20%20%5B15.6356088%2C%20-89.8988087%5D%2C%0A%20%20%20%20%20%20%20%20%20%20%20%20%7B%0A%20%20%20%20%20%20%20%20%20%20%20%20%20%20%20%20icon%3A%20new%20L.Icon.Default%28%29%2C%0A%20%20%20%20%20%20%20%20%20%20%20%20%20%20%20%20%7D%0A%20%20%20%20%20%20%20%20%20%20%20%20%29.addTo%28map_b156c519cf794a148a63bf4157897321%29%3B%0A%20%20%20%20%20%20%20%20%0A%20%20%20%20%0A%0A%20%20%20%20%20%20%20%20%20%20%20%20%20%20%20%20var%20icon_02dfc93d3d8e4dec9b2c256723dd5444%20%3D%20L.AwesomeMarkers.icon%28%7B%0A%20%20%20%20%20%20%20%20%20%20%20%20%20%20%20%20%20%20%20%20icon%3A%20%27male%27%2C%0A%20%20%20%20%20%20%20%20%20%20%20%20%20%20%20%20%20%20%20%20iconColor%3A%20%27white%27%2C%0A%20%20%20%20%20%20%20%20%20%20%20%20%20%20%20%20%20%20%20%20markerColor%3A%20%27darkblue%27%2C%0A%20%20%20%20%20%20%20%20%20%20%20%20%20%20%20%20%20%20%20%20prefix%3A%20%27fa%27%2C%0A%20%20%20%20%20%20%20%20%20%20%20%20%20%20%20%20%20%20%20%20extraClasses%3A%20%27fa-rotate-0%27%0A%20%20%20%20%20%20%20%20%20%20%20%20%20%20%20%20%20%20%20%20%7D%29%3B%0A%20%20%20%20%20%20%20%20%20%20%20%20%20%20%20%20marker_4a48fa722cd043e495dc8e4be66df725.setIcon%28icon_02dfc93d3d8e4dec9b2c256723dd5444%29%3B%0A%20%20%20%20%20%20%20%20%20%20%20%20%0A%20%20%20%20%0A%20%20%20%20%20%20%20%20var%20marker_56c745966a814da3973585b8296fd23f%20%3D%20L.marker%28%0A%20%20%20%20%20%20%20%20%20%20%20%20%5B9.6000359%2C%207.9999721%5D%2C%0A%20%20%20%20%20%20%20%20%20%20%20%20%7B%0A%20%20%20%20%20%20%20%20%20%20%20%20%20%20%20%20icon%3A%20new%20L.Icon.Default%28%29%2C%0A%20%20%20%20%20%20%20%20%20%20%20%20%20%20%20%20%7D%0A%20%20%20%20%20%20%20%20%20%20%20%20%29.addTo%28map_b156c519cf794a148a63bf4157897321%29%3B%0A%20%20%20%20%20%20%20%20%0A%20%20%20%20%0A%0A%20%20%20%20%20%20%20%20%20%20%20%20%20%20%20%20var%20icon_30505bee8aba482299f20db7701b955a%20%3D%20L.AwesomeMarkers.icon%28%7B%0A%20%20%20%20%20%20%20%20%20%20%20%20%20%20%20%20%20%20%20%20icon%3A%20%27male%27%2C%0A%20%20%20%20%20%20%20%20%20%20%20%20%20%20%20%20%20%20%20%20iconColor%3A%20%27white%27%2C%0A%20%20%20%20%20%20%20%20%20%20%20%20%20%20%20%20%20%20%20%20markerColor%3A%20%27darkblue%27%2C%0A%20%20%20%20%20%20%20%20%20%20%20%20%20%20%20%20%20%20%20%20prefix%3A%20%27fa%27%2C%0A%20%20%20%20%20%20%20%20%20%20%20%20%20%20%20%20%20%20%20%20extraClasses%3A%20%27fa-rotate-0%27%0A%20%20%20%20%20%20%20%20%20%20%20%20%20%20%20%20%20%20%20%20%7D%29%3B%0A%20%20%20%20%20%20%20%20%20%20%20%20%20%20%20%20marker_56c745966a814da3973585b8296fd23f.setIcon%28icon_30505bee8aba482299f20db7701b955a%29%3B%0A%20%20%20%20%20%20%20%20%20%20%20%20%0A%20%20%20%20%0A%20%20%20%20%20%20%20%20var%20marker_3e209738d1444b9c81669155871a2f59%20%3D%20L.marker%28%0A%20%20%20%20%20%20%20%20%20%20%20%20%5B12.7503486%2C%20122.7312101%5D%2C%0A%20%20%20%20%20%20%20%20%20%20%20%20%7B%0A%20%20%20%20%20%20%20%20%20%20%20%20%20%20%20%20icon%3A%20new%20L.Icon.Default%28%29%2C%0A%20%20%20%20%20%20%20%20%20%20%20%20%20%20%20%20%7D%0A%20%20%20%20%20%20%20%20%20%20%20%20%29.addTo%28map_b156c519cf794a148a63bf4157897321%29%3B%0A%20%20%20%20%20%20%20%20%0A%20%20%20%20%0A%0A%20%20%20%20%20%20%20%20%20%20%20%20%20%20%20%20var%20icon_737869bc7e1e4609a68ffad85b44c2c4%20%3D%20L.AwesomeMarkers.icon%28%7B%0A%20%20%20%20%20%20%20%20%20%20%20%20%20%20%20%20%20%20%20%20icon%3A%20%27male%27%2C%0A%20%20%20%20%20%20%20%20%20%20%20%20%20%20%20%20%20%20%20%20iconColor%3A%20%27white%27%2C%0A%20%20%20%20%20%20%20%20%20%20%20%20%20%20%20%20%20%20%20%20markerColor%3A%20%27darkblue%27%2C%0A%20%20%20%20%20%20%20%20%20%20%20%20%20%20%20%20%20%20%20%20prefix%3A%20%27fa%27%2C%0A%20%20%20%20%20%20%20%20%20%20%20%20%20%20%20%20%20%20%20%20extraClasses%3A%20%27fa-rotate-0%27%0A%20%20%20%20%20%20%20%20%20%20%20%20%20%20%20%20%20%20%20%20%7D%29%3B%0A%20%20%20%20%20%20%20%20%20%20%20%20%20%20%20%20marker_3e209738d1444b9c81669155871a2f59.setIcon%28icon_737869bc7e1e4609a68ffad85b44c2c4%29%3B%0A%20%20%20%20%20%20%20%20%20%20%20%20%0A%20%20%20%20%0A%20%20%20%20%20%20%20%20var%20marker_2427c0929995436d863b5a25e78b2225%20%3D%20L.marker%28%0A%20%20%20%20%20%20%20%20%20%20%20%20%5B8.0300284%2C%20-1.0800271%5D%2C%0A%20%20%20%20%20%20%20%20%20%20%20%20%7B%0A%20%20%20%20%20%20%20%20%20%20%20%20%20%20%20%20icon%3A%20new%20L.Icon.Default%28%29%2C%0A%20%20%20%20%20%20%20%20%20%20%20%20%20%20%20%20%7D%0A%20%20%20%20%20%20%20%20%20%20%20%20%29.addTo%28map_b156c519cf794a148a63bf4157897321%29%3B%0A%20%20%20%20%20%20%20%20%0A%20%20%20%20%0A%0A%20%20%20%20%20%20%20%20%20%20%20%20%20%20%20%20var%20icon_c1fba6f268a84541ba3c6dd073b9da0e%20%3D%20L.AwesomeMarkers.icon%28%7B%0A%20%20%20%20%20%20%20%20%20%20%20%20%20%20%20%20%20%20%20%20icon%3A%20%27male%27%2C%0A%20%20%20%20%20%20%20%20%20%20%20%20%20%20%20%20%20%20%20%20iconColor%3A%20%27white%27%2C%0A%20%20%20%20%20%20%20%20%20%20%20%20%20%20%20%20%20%20%20%20markerColor%3A%20%27darkblue%27%2C%0A%20%20%20%20%20%20%20%20%20%20%20%20%20%20%20%20%20%20%20%20prefix%3A%20%27fa%27%2C%0A%20%20%20%20%20%20%20%20%20%20%20%20%20%20%20%20%20%20%20%20extraClasses%3A%20%27fa-rotate-0%27%0A%20%20%20%20%20%20%20%20%20%20%20%20%20%20%20%20%20%20%20%20%7D%29%3B%0A%20%20%20%20%20%20%20%20%20%20%20%20%20%20%20%20marker_2427c0929995436d863b5a25e78b2225.setIcon%28icon_c1fba6f268a84541ba3c6dd073b9da0e%29%3B%0A%20%20%20%20%20%20%20%20%20%20%20%20%0A%20%20%20%20%0A%20%20%20%20%20%20%20%20var%20marker_bd6b7ced9555442f87e09de2d0199920%20%3D%20L.marker%28%0A%20%20%20%20%20%20%20%20%20%20%20%20%5B46.603354%2C%201.8883335%5D%2C%0A%20%20%20%20%20%20%20%20%20%20%20%20%7B%0A%20%20%20%20%20%20%20%20%20%20%20%20%20%20%20%20icon%3A%20new%20L.Icon.Default%28%29%2C%0A%20%20%20%20%20%20%20%20%20%20%20%20%20%20%20%20%7D%0A%20%20%20%20%20%20%20%20%20%20%20%20%29.addTo%28map_b156c519cf794a148a63bf4157897321%29%3B%0A%20%20%20%20%20%20%20%20%0A%20%20%20%20%0A%0A%20%20%20%20%20%20%20%20%20%20%20%20%20%20%20%20var%20icon_a896920cad7845bd9ff8f890f06560c0%20%3D%20L.AwesomeMarkers.icon%28%7B%0A%20%20%20%20%20%20%20%20%20%20%20%20%20%20%20%20%20%20%20%20icon%3A%20%27male%27%2C%0A%20%20%20%20%20%20%20%20%20%20%20%20%20%20%20%20%20%20%20%20iconColor%3A%20%27white%27%2C%0A%20%20%20%20%20%20%20%20%20%20%20%20%20%20%20%20%20%20%20%20markerColor%3A%20%27darkblue%27%2C%0A%20%20%20%20%20%20%20%20%20%20%20%20%20%20%20%20%20%20%20%20prefix%3A%20%27fa%27%2C%0A%20%20%20%20%20%20%20%20%20%20%20%20%20%20%20%20%20%20%20%20extraClasses%3A%20%27fa-rotate-0%27%0A%20%20%20%20%20%20%20%20%20%20%20%20%20%20%20%20%20%20%20%20%7D%29%3B%0A%20%20%20%20%20%20%20%20%20%20%20%20%20%20%20%20marker_bd6b7ced9555442f87e09de2d0199920.setIcon%28icon_a896920cad7845bd9ff8f890f06560c0%29%3B%0A%20%20%20%20%20%20%20%20%20%20%20%20%0A%20%20%20%20%0A%20%20%20%20%20%20%20%20var%20marker_2e0e39350426481b8a1eb1ed47623d9b%20%3D%20L.marker%28%0A%20%20%20%20%20%20%20%20%20%20%20%20%5B39.7837304%2C%20-100.4458825%5D%2C%0A%20%20%20%20%20%20%20%20%20%20%20%20%7B%0A%20%20%20%20%20%20%20%20%20%20%20%20%20%20%20%20icon%3A%20new%20L.Icon.Default%28%29%2C%0A%20%20%20%20%20%20%20%20%20%20%20%20%20%20%20%20%7D%0A%20%20%20%20%20%20%20%20%20%20%20%20%29.addTo%28map_b156c519cf794a148a63bf4157897321%29%3B%0A%20%20%20%20%20%20%20%20%0A%20%20%20%20%0A%0A%20%20%20%20%20%20%20%20%20%20%20%20%20%20%20%20var%20icon_6a4f03e8cf264c0dae9f702d2670c7d8%20%3D%20L.AwesomeMarkers.icon%28%7B%0A%20%20%20%20%20%20%20%20%20%20%20%20%20%20%20%20%20%20%20%20icon%3A%20%27male%27%2C%0A%20%20%20%20%20%20%20%20%20%20%20%20%20%20%20%20%20%20%20%20iconColor%3A%20%27white%27%2C%0A%20%20%20%20%20%20%20%20%20%20%20%20%20%20%20%20%20%20%20%20markerColor%3A%20%27darkblue%27%2C%0A%20%20%20%20%20%20%20%20%20%20%20%20%20%20%20%20%20%20%20%20prefix%3A%20%27fa%27%2C%0A%20%20%20%20%20%20%20%20%20%20%20%20%20%20%20%20%20%20%20%20extraClasses%3A%20%27fa-rotate-0%27%0A%20%20%20%20%20%20%20%20%20%20%20%20%20%20%20%20%20%20%20%20%7D%29%3B%0A%20%20%20%20%20%20%20%20%20%20%20%20%20%20%20%20marker_2e0e39350426481b8a1eb1ed47623d9b.setIcon%28icon_6a4f03e8cf264c0dae9f702d2670c7d8%29%3B%0A%20%20%20%20%20%20%20%20%20%20%20%20%0A%20%20%20%20%0A%20%20%20%20%20%20%20%20var%20marker_5af78fbf5bc6418ea304f83fd0fa62f6%20%3D%20L.marker%28%0A%20%20%20%20%20%20%20%20%20%20%20%20%5B61.0666922%2C%20-107.9917071%5D%2C%0A%20%20%20%20%20%20%20%20%20%20%20%20%7B%0A%20%20%20%20%20%20%20%20%20%20%20%20%20%20%20%20icon%3A%20new%20L.Icon.Default%28%29%2C%0A%20%20%20%20%20%20%20%20%20%20%20%20%20%20%20%20%7D%0A%20%20%20%20%20%20%20%20%20%20%20%20%29.addTo%28map_b156c519cf794a148a63bf4157897321%29%3B%0A%20%20%20%20%20%20%20%20%0A%20%20%20%20%0A%0A%20%20%20%20%20%20%20%20%20%20%20%20%20%20%20%20var%20icon_e5c8ea117aff4c0eb1eb3a3b97ac2137%20%3D%20L.AwesomeMarkers.icon%28%7B%0A%20%20%20%20%20%20%20%20%20%20%20%20%20%20%20%20%20%20%20%20icon%3A%20%27male%27%2C%0A%20%20%20%20%20%20%20%20%20%20%20%20%20%20%20%20%20%20%20%20iconColor%3A%20%27white%27%2C%0A%20%20%20%20%20%20%20%20%20%20%20%20%20%20%20%20%20%20%20%20markerColor%3A%20%27darkblue%27%2C%0A%20%20%20%20%20%20%20%20%20%20%20%20%20%20%20%20%20%20%20%20prefix%3A%20%27fa%27%2C%0A%20%20%20%20%20%20%20%20%20%20%20%20%20%20%20%20%20%20%20%20extraClasses%3A%20%27fa-rotate-0%27%0A%20%20%20%20%20%20%20%20%20%20%20%20%20%20%20%20%20%20%20%20%7D%29%3B%0A%20%20%20%20%20%20%20%20%20%20%20%20%20%20%20%20marker_5af78fbf5bc6418ea304f83fd0fa62f6.setIcon%28icon_e5c8ea117aff4c0eb1eb3a3b97ac2137%29%3B%0A%20%20%20%20%20%20%20%20%20%20%20%20%0A%20%20%20%20%0A%20%20%20%20%20%20%20%20var%20marker_94d96127eba14a46a4484acc09cde5ba%20%3D%20L.marker%28%0A%20%20%20%20%20%20%20%20%20%20%20%20%5B22.3511148%2C%2078.6677428%5D%2C%0A%20%20%20%20%20%20%20%20%20%20%20%20%7B%0A%20%20%20%20%20%20%20%20%20%20%20%20%20%20%20%20icon%3A%20new%20L.Icon.Default%28%29%2C%0A%20%20%20%20%20%20%20%20%20%20%20%20%20%20%20%20%7D%0A%20%20%20%20%20%20%20%20%20%20%20%20%29.addTo%28map_b156c519cf794a148a63bf4157897321%29%3B%0A%20%20%20%20%20%20%20%20%0A%20%20%20%20%0A%0A%20%20%20%20%20%20%20%20%20%20%20%20%20%20%20%20var%20icon_a9937d7da6584c50a41a8d1ea5530189%20%3D%20L.AwesomeMarkers.icon%28%7B%0A%20%20%20%20%20%20%20%20%20%20%20%20%20%20%20%20%20%20%20%20icon%3A%20%27male%27%2C%0A%20%20%20%20%20%20%20%20%20%20%20%20%20%20%20%20%20%20%20%20iconColor%3A%20%27white%27%2C%0A%20%20%20%20%20%20%20%20%20%20%20%20%20%20%20%20%20%20%20%20markerColor%3A%20%27darkblue%27%2C%0A%20%20%20%20%20%20%20%20%20%20%20%20%20%20%20%20%20%20%20%20prefix%3A%20%27fa%27%2C%0A%20%20%20%20%20%20%20%20%20%20%20%20%20%20%20%20%20%20%20%20extraClasses%3A%20%27fa-rotate-0%27%0A%20%20%20%20%20%20%20%20%20%20%20%20%20%20%20%20%20%20%20%20%7D%29%3B%0A%20%20%20%20%20%20%20%20%20%20%20%20%20%20%20%20marker_94d96127eba14a46a4484acc09cde5ba.setIcon%28icon_a9937d7da6584c50a41a8d1ea5530189%29%3B%0A%20%20%20%20%20%20%20%20%20%20%20%20%0A%20%20%20%20%0A%20%20%20%20%20%20%20%20var%20marker_00b208abb04b48578a1d20a3b65242d8%20%3D%20L.marker%28%0A%20%20%20%20%20%20%20%20%20%20%20%20%5B8.0018709%2C%20-66.1109318%5D%2C%0A%20%20%20%20%20%20%20%20%20%20%20%20%7B%0A%20%20%20%20%20%20%20%20%20%20%20%20%20%20%20%20icon%3A%20new%20L.Icon.Default%28%29%2C%0A%20%20%20%20%20%20%20%20%20%20%20%20%20%20%20%20%7D%0A%20%20%20%20%20%20%20%20%20%20%20%20%29.addTo%28map_b156c519cf794a148a63bf4157897321%29%3B%0A%20%20%20%20%20%20%20%20%0A%20%20%20%20%0A%0A%20%20%20%20%20%20%20%20%20%20%20%20%20%20%20%20var%20icon_30d7ffa391a44b1eb6850178b07d64ab%20%3D%20L.AwesomeMarkers.icon%28%7B%0A%20%20%20%20%20%20%20%20%20%20%20%20%20%20%20%20%20%20%20%20icon%3A%20%27male%27%2C%0A%20%20%20%20%20%20%20%20%20%20%20%20%20%20%20%20%20%20%20%20iconColor%3A%20%27white%27%2C%0A%20%20%20%20%20%20%20%20%20%20%20%20%20%20%20%20%20%20%20%20markerColor%3A%20%27darkblue%27%2C%0A%20%20%20%20%20%20%20%20%20%20%20%20%20%20%20%20%20%20%20%20prefix%3A%20%27fa%27%2C%0A%20%20%20%20%20%20%20%20%20%20%20%20%20%20%20%20%20%20%20%20extraClasses%3A%20%27fa-rotate-0%27%0A%20%20%20%20%20%20%20%20%20%20%20%20%20%20%20%20%20%20%20%20%7D%29%3B%0A%20%20%20%20%20%20%20%20%20%20%20%20%20%20%20%20marker_00b208abb04b48578a1d20a3b65242d8.setIcon%28icon_30d7ffa391a44b1eb6850178b07d64ab%29%3B%0A%20%20%20%20%20%20%20%20%20%20%20%20%0A%20%20%20%20%0A%20%20%20%20%20%20%20%20var%20marker_a672206e097d433c91cbd17cea703ded%20%3D%20L.marker%28%0A%20%20%20%20%20%20%20%20%20%20%20%20%5B-32.8755548%2C%20-56.0201525%5D%2C%0A%20%20%20%20%20%20%20%20%20%20%20%20%7B%0A%20%20%20%20%20%20%20%20%20%20%20%20%20%20%20%20icon%3A%20new%20L.Icon.Default%28%29%2C%0A%20%20%20%20%20%20%20%20%20%20%20%20%20%20%20%20%7D%0A%20%20%20%20%20%20%20%20%20%20%20%20%29.addTo%28map_b156c519cf794a148a63bf4157897321%29%3B%0A%20%20%20%20%20%20%20%20%0A%20%20%20%20%0A%0A%20%20%20%20%20%20%20%20%20%20%20%20%20%20%20%20var%20icon_d92033038cc1498ba88a2756f37bbad3%20%3D%20L.AwesomeMarkers.icon%28%7B%0A%20%20%20%20%20%20%20%20%20%20%20%20%20%20%20%20%20%20%20%20icon%3A%20%27male%27%2C%0A%20%20%20%20%20%20%20%20%20%20%20%20%20%20%20%20%20%20%20%20iconColor%3A%20%27white%27%2C%0A%20%20%20%20%20%20%20%20%20%20%20%20%20%20%20%20%20%20%20%20markerColor%3A%20%27darkblue%27%2C%0A%20%20%20%20%20%20%20%20%20%20%20%20%20%20%20%20%20%20%20%20prefix%3A%20%27fa%27%2C%0A%20%20%20%20%20%20%20%20%20%20%20%20%20%20%20%20%20%20%20%20extraClasses%3A%20%27fa-rotate-0%27%0A%20%20%20%20%20%20%20%20%20%20%20%20%20%20%20%20%20%20%20%20%7D%29%3B%0A%20%20%20%20%20%20%20%20%20%20%20%20%20%20%20%20marker_a672206e097d433c91cbd17cea703ded.setIcon%28icon_d92033038cc1498ba88a2756f37bbad3%29%3B%0A%20%20%20%20%20%20%20%20%20%20%20%20%0A%20%20%20%20%0A%20%20%20%20%20%20%20%20var%20marker_8fa2bd3953fa46199630cdbc34105d9f%20%3D%20L.marker%28%0A%20%20%20%20%20%20%20%20%20%20%20%20%5B-23.3165935%2C%20-58.1693445%5D%2C%0A%20%20%20%20%20%20%20%20%20%20%20%20%7B%0A%20%20%20%20%20%20%20%20%20%20%20%20%20%20%20%20icon%3A%20new%20L.Icon.Default%28%29%2C%0A%20%20%20%20%20%20%20%20%20%20%20%20%20%20%20%20%7D%0A%20%20%20%20%20%20%20%20%20%20%20%20%29.addTo%28map_b156c519cf794a148a63bf4157897321%29%3B%0A%20%20%20%20%20%20%20%20%0A%20%20%20%20%0A%0A%20%20%20%20%20%20%20%20%20%20%20%20%20%20%20%20var%20icon_3dad5958a8414f889104f195f2dc95c3%20%3D%20L.AwesomeMarkers.icon%28%7B%0A%20%20%20%20%20%20%20%20%20%20%20%20%20%20%20%20%20%20%20%20icon%3A%20%27male%27%2C%0A%20%20%20%20%20%20%20%20%20%20%20%20%20%20%20%20%20%20%20%20iconColor%3A%20%27white%27%2C%0A%20%20%20%20%20%20%20%20%20%20%20%20%20%20%20%20%20%20%20%20markerColor%3A%20%27darkblue%27%2C%0A%20%20%20%20%20%20%20%20%20%20%20%20%20%20%20%20%20%20%20%20prefix%3A%20%27fa%27%2C%0A%20%20%20%20%20%20%20%20%20%20%20%20%20%20%20%20%20%20%20%20extraClasses%3A%20%27fa-rotate-0%27%0A%20%20%20%20%20%20%20%20%20%20%20%20%20%20%20%20%20%20%20%20%7D%29%3B%0A%20%20%20%20%20%20%20%20%20%20%20%20%20%20%20%20marker_8fa2bd3953fa46199630cdbc34105d9f.setIcon%28icon_3dad5958a8414f889104f195f2dc95c3%29%3B%0A%20%20%20%20%20%20%20%20%20%20%20%20%0A%3C/script%3E onload=\"this.contentDocument.open();this.contentDocument.write(    decodeURIComponent(this.getAttribute('data-html')));this.contentDocument.close();\" allowfullscreen webkitallowfullscreen mozallowfullscreen></iframe></div></div>"
            ],
            "text/plain": [
              "<folium.folium.Map at 0x7fd14d5b10b8>"
            ]
          },
          "metadata": {
            "tags": []
          },
          "execution_count": 54
        }
      ]
    }
  ]
}