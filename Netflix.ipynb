{
  "nbformat": 4,
  "nbformat_minor": 0,
  "metadata": {
    "colab": {
      "name": "Netflix.ipynb",
      "provenance": [],
      "collapsed_sections": [],
      "mount_file_id": "1RwS0pwvM_ExhmFqfvpYpG1OPmsWoddcT",
      "authorship_tag": "ABX9TyNsCksTvhrXeITo4pnB+K6D",
      "include_colab_link": true
    },
    "kernelspec": {
      "name": "python3",
      "display_name": "Python 3"
    }
  },
  "cells": [
    {
      "cell_type": "markdown",
      "metadata": {
        "id": "view-in-github",
        "colab_type": "text"
      },
      "source": [
        "<a href=\"https://colab.research.google.com/github/kartikay89/Data-Analysis/blob/main/Netflix.ipynb\" target=\"_parent\"><img src=\"https://colab.research.google.com/assets/colab-badge.svg\" alt=\"Open In Colab\"/></a>"
      ]
    },
    {
      "cell_type": "markdown",
      "metadata": {
        "id": "lVDejYiJUjqI"
      },
      "source": [
        "#Netflix"
      ]
    },
    {
      "cell_type": "code",
      "metadata": {
        "id": "202aAhXjn3CO",
        "colab": {
          "base_uri": "https://localhost:8080/",
          "height": 34
        },
        "outputId": "02ba5a12-a36b-47ac-d349-1c45d47651a6"
      },
      "source": [
        "# Netflix Titles data - Kaggle (URL: https://www.kaggle.com/shivamb/netflix-shows)\n",
        "\n",
        "\"\"\"\n",
        "What will we find out?\n",
        "\n",
        "1. Trend of Genres(listed_in) in particular year?\n",
        "2. Directors related to these genres?\n",
        "3. Type of the title? Whether it is a movie or a TV show?\n",
        "\n",
        "\"\"\""
      ],
      "execution_count": 1,
      "outputs": [
        {
          "output_type": "execute_result",
          "data": {
            "application/vnd.google.colaboratory.intrinsic+json": {
              "type": "string"
            },
            "text/plain": [
              "'\\nWhat will we find out?\\n\\n1. Trend of Genres(listed_in) in particular year?\\n2. Directors related to these genres?\\n3. Type of the title? Whether it is a movie or a TV show?\\n\\n'"
            ]
          },
          "metadata": {
            "tags": []
          },
          "execution_count": 1
        }
      ]
    },
    {
      "cell_type": "markdown",
      "metadata": {
        "id": "f8_jzOmhUqn-"
      },
      "source": [
        "**Import Libraries**"
      ]
    },
    {
      "cell_type": "code",
      "metadata": {
        "id": "nQ3xE6plm3V5"
      },
      "source": [
        "import pandas as pd\n",
        "import re\n",
        "import matplotlib.pyplot as plt\n",
        "from collections import Counter\n",
        "from itertools import *"
      ],
      "execution_count": 39,
      "outputs": []
    },
    {
      "cell_type": "markdown",
      "metadata": {
        "id": "1V6kCa2JU2sq"
      },
      "source": [
        "**Original dataset**"
      ]
    },
    {
      "cell_type": "code",
      "metadata": {
        "colab": {
          "base_uri": "https://localhost:8080/",
          "height": 589
        },
        "id": "PwGhf5iDnmSq",
        "outputId": "3585e8b1-46f0-4ed5-adf3-62b6be523f47"
      },
      "source": [
        "netflixData = pd.read_csv(\"/content/drive/MyDrive/Google Colab Data /netflix_titles.csv\")\n",
        "netflixData"
      ],
      "execution_count": 3,
      "outputs": [
        {
          "output_type": "execute_result",
          "data": {
            "text/html": [
              "<div>\n",
              "<style scoped>\n",
              "    .dataframe tbody tr th:only-of-type {\n",
              "        vertical-align: middle;\n",
              "    }\n",
              "\n",
              "    .dataframe tbody tr th {\n",
              "        vertical-align: top;\n",
              "    }\n",
              "\n",
              "    .dataframe thead th {\n",
              "        text-align: right;\n",
              "    }\n",
              "</style>\n",
              "<table border=\"1\" class=\"dataframe\">\n",
              "  <thead>\n",
              "    <tr style=\"text-align: right;\">\n",
              "      <th></th>\n",
              "      <th>show_id</th>\n",
              "      <th>type</th>\n",
              "      <th>title</th>\n",
              "      <th>director</th>\n",
              "      <th>cast</th>\n",
              "      <th>country</th>\n",
              "      <th>date_added</th>\n",
              "      <th>release_year</th>\n",
              "      <th>rating</th>\n",
              "      <th>duration</th>\n",
              "      <th>listed_in</th>\n",
              "      <th>description</th>\n",
              "    </tr>\n",
              "  </thead>\n",
              "  <tbody>\n",
              "    <tr>\n",
              "      <th>0</th>\n",
              "      <td>81145628</td>\n",
              "      <td>Movie</td>\n",
              "      <td>Norm of the North: King Sized Adventure</td>\n",
              "      <td>Richard Finn, Tim Maltby</td>\n",
              "      <td>Alan Marriott, Andrew Toth, Brian Dobson, Cole...</td>\n",
              "      <td>United States, India, South Korea, China</td>\n",
              "      <td>September 9, 2019</td>\n",
              "      <td>2019</td>\n",
              "      <td>TV-PG</td>\n",
              "      <td>90 min</td>\n",
              "      <td>Children &amp; Family Movies, Comedies</td>\n",
              "      <td>Before planning an awesome wedding for his gra...</td>\n",
              "    </tr>\n",
              "    <tr>\n",
              "      <th>1</th>\n",
              "      <td>80117401</td>\n",
              "      <td>Movie</td>\n",
              "      <td>Jandino: Whatever it Takes</td>\n",
              "      <td>NaN</td>\n",
              "      <td>Jandino Asporaat</td>\n",
              "      <td>United Kingdom</td>\n",
              "      <td>September 9, 2016</td>\n",
              "      <td>2016</td>\n",
              "      <td>TV-MA</td>\n",
              "      <td>94 min</td>\n",
              "      <td>Stand-Up Comedy</td>\n",
              "      <td>Jandino Asporaat riffs on the challenges of ra...</td>\n",
              "    </tr>\n",
              "    <tr>\n",
              "      <th>2</th>\n",
              "      <td>70234439</td>\n",
              "      <td>TV Show</td>\n",
              "      <td>Transformers Prime</td>\n",
              "      <td>NaN</td>\n",
              "      <td>Peter Cullen, Sumalee Montano, Frank Welker, J...</td>\n",
              "      <td>United States</td>\n",
              "      <td>September 8, 2018</td>\n",
              "      <td>2013</td>\n",
              "      <td>TV-Y7-FV</td>\n",
              "      <td>1 Season</td>\n",
              "      <td>Kids' TV</td>\n",
              "      <td>With the help of three human allies, the Autob...</td>\n",
              "    </tr>\n",
              "    <tr>\n",
              "      <th>3</th>\n",
              "      <td>80058654</td>\n",
              "      <td>TV Show</td>\n",
              "      <td>Transformers: Robots in Disguise</td>\n",
              "      <td>NaN</td>\n",
              "      <td>Will Friedle, Darren Criss, Constance Zimmer, ...</td>\n",
              "      <td>United States</td>\n",
              "      <td>September 8, 2018</td>\n",
              "      <td>2016</td>\n",
              "      <td>TV-Y7</td>\n",
              "      <td>1 Season</td>\n",
              "      <td>Kids' TV</td>\n",
              "      <td>When a prison ship crash unleashes hundreds of...</td>\n",
              "    </tr>\n",
              "    <tr>\n",
              "      <th>4</th>\n",
              "      <td>80125979</td>\n",
              "      <td>Movie</td>\n",
              "      <td>#realityhigh</td>\n",
              "      <td>Fernando Lebrija</td>\n",
              "      <td>Nesta Cooper, Kate Walsh, John Michael Higgins...</td>\n",
              "      <td>United States</td>\n",
              "      <td>September 8, 2017</td>\n",
              "      <td>2017</td>\n",
              "      <td>TV-14</td>\n",
              "      <td>99 min</td>\n",
              "      <td>Comedies</td>\n",
              "      <td>When nerdy high schooler Dani finally attracts...</td>\n",
              "    </tr>\n",
              "    <tr>\n",
              "      <th>...</th>\n",
              "      <td>...</td>\n",
              "      <td>...</td>\n",
              "      <td>...</td>\n",
              "      <td>...</td>\n",
              "      <td>...</td>\n",
              "      <td>...</td>\n",
              "      <td>...</td>\n",
              "      <td>...</td>\n",
              "      <td>...</td>\n",
              "      <td>...</td>\n",
              "      <td>...</td>\n",
              "      <td>...</td>\n",
              "    </tr>\n",
              "    <tr>\n",
              "      <th>6229</th>\n",
              "      <td>80000063</td>\n",
              "      <td>TV Show</td>\n",
              "      <td>Red vs. Blue</td>\n",
              "      <td>NaN</td>\n",
              "      <td>Burnie Burns, Jason Saldaña, Gustavo Sorola, G...</td>\n",
              "      <td>United States</td>\n",
              "      <td>NaN</td>\n",
              "      <td>2015</td>\n",
              "      <td>NR</td>\n",
              "      <td>13 Seasons</td>\n",
              "      <td>TV Action &amp; Adventure, TV Comedies, TV Sci-Fi ...</td>\n",
              "      <td>This parody of first-person shooter games, mil...</td>\n",
              "    </tr>\n",
              "    <tr>\n",
              "      <th>6230</th>\n",
              "      <td>70286564</td>\n",
              "      <td>TV Show</td>\n",
              "      <td>Maron</td>\n",
              "      <td>NaN</td>\n",
              "      <td>Marc Maron, Judd Hirsch, Josh Brener, Nora Zeh...</td>\n",
              "      <td>United States</td>\n",
              "      <td>NaN</td>\n",
              "      <td>2016</td>\n",
              "      <td>TV-MA</td>\n",
              "      <td>4 Seasons</td>\n",
              "      <td>TV Comedies</td>\n",
              "      <td>Marc Maron stars as Marc Maron, who interviews...</td>\n",
              "    </tr>\n",
              "    <tr>\n",
              "      <th>6231</th>\n",
              "      <td>80116008</td>\n",
              "      <td>Movie</td>\n",
              "      <td>Little Baby Bum: Nursery Rhyme Friends</td>\n",
              "      <td>NaN</td>\n",
              "      <td>NaN</td>\n",
              "      <td>NaN</td>\n",
              "      <td>NaN</td>\n",
              "      <td>2016</td>\n",
              "      <td>NaN</td>\n",
              "      <td>60 min</td>\n",
              "      <td>Movies</td>\n",
              "      <td>Nursery rhymes and original music for children...</td>\n",
              "    </tr>\n",
              "    <tr>\n",
              "      <th>6232</th>\n",
              "      <td>70281022</td>\n",
              "      <td>TV Show</td>\n",
              "      <td>A Young Doctor's Notebook and Other Stories</td>\n",
              "      <td>NaN</td>\n",
              "      <td>Daniel Radcliffe, Jon Hamm, Adam Godley, Chris...</td>\n",
              "      <td>United Kingdom</td>\n",
              "      <td>NaN</td>\n",
              "      <td>2013</td>\n",
              "      <td>TV-MA</td>\n",
              "      <td>2 Seasons</td>\n",
              "      <td>British TV Shows, TV Comedies, TV Dramas</td>\n",
              "      <td>Set during the Russian Revolution, this comic ...</td>\n",
              "    </tr>\n",
              "    <tr>\n",
              "      <th>6233</th>\n",
              "      <td>70153404</td>\n",
              "      <td>TV Show</td>\n",
              "      <td>Friends</td>\n",
              "      <td>NaN</td>\n",
              "      <td>Jennifer Aniston, Courteney Cox, Lisa Kudrow, ...</td>\n",
              "      <td>United States</td>\n",
              "      <td>NaN</td>\n",
              "      <td>2003</td>\n",
              "      <td>TV-14</td>\n",
              "      <td>10 Seasons</td>\n",
              "      <td>Classic &amp; Cult TV, TV Comedies</td>\n",
              "      <td>This hit sitcom follows the merry misadventure...</td>\n",
              "    </tr>\n",
              "  </tbody>\n",
              "</table>\n",
              "<p>6234 rows × 12 columns</p>\n",
              "</div>"
            ],
            "text/plain": [
              "       show_id  ...                                        description\n",
              "0     81145628  ...  Before planning an awesome wedding for his gra...\n",
              "1     80117401  ...  Jandino Asporaat riffs on the challenges of ra...\n",
              "2     70234439  ...  With the help of three human allies, the Autob...\n",
              "3     80058654  ...  When a prison ship crash unleashes hundreds of...\n",
              "4     80125979  ...  When nerdy high schooler Dani finally attracts...\n",
              "...        ...  ...                                                ...\n",
              "6229  80000063  ...  This parody of first-person shooter games, mil...\n",
              "6230  70286564  ...  Marc Maron stars as Marc Maron, who interviews...\n",
              "6231  80116008  ...  Nursery rhymes and original music for children...\n",
              "6232  70281022  ...  Set during the Russian Revolution, this comic ...\n",
              "6233  70153404  ...  This hit sitcom follows the merry misadventure...\n",
              "\n",
              "[6234 rows x 12 columns]"
            ]
          },
          "metadata": {
            "tags": []
          },
          "execution_count": 3
        }
      ]
    },
    {
      "cell_type": "markdown",
      "metadata": {
        "id": "jVm8sz9UyHCm"
      },
      "source": [
        "**All Listed years** "
      ]
    },
    {
      "cell_type": "code",
      "metadata": {
        "id": "6eZno2MDnq37"
      },
      "source": [
        "year_of_release = list(set(netflixData[\"release_year\"]))\n",
        "# type(year_of_release)\n",
        "# year_of_release"
      ],
      "execution_count": 4,
      "outputs": []
    },
    {
      "cell_type": "markdown",
      "metadata": {
        "id": "9V_Ny5IryRpG"
      },
      "source": [
        "**Genre Trend according to year**"
      ]
    },
    {
      "cell_type": "code",
      "metadata": {
        "id": "y867vHShoJHn"
      },
      "source": [
        "# Trend of Genres in particular year.\n",
        "# year to movie names dictionary.\n",
        "\n",
        "year_to_movie_dict = {}\n",
        "\n",
        "for years in year_of_release:\n",
        "  titles = netflixData.loc[netflixData['release_year'] == years, 'title']\n",
        "\n",
        "  if years not in year_to_movie_dict:\n",
        "    year_to_movie_dict[years] = titles"
      ],
      "execution_count": 5,
      "outputs": []
    },
    {
      "cell_type": "code",
      "metadata": {
        "id": "mL0REiw9D0Rv"
      },
      "source": [
        "year_to_movie_dict\n",
        "\n",
        "year_to_movie_df = {}\n",
        "for key, value in year_to_movie_dict.items():\n",
        "  year_to_movie_df[\"Movie\"] = year_to_movie_dict"
      ],
      "execution_count": 6,
      "outputs": []
    },
    {
      "cell_type": "markdown",
      "metadata": {
        "id": "r1v5-7Zsyc4n"
      },
      "source": [
        "**Movies and TV shows that released in a particular year**"
      ]
    },
    {
      "cell_type": "code",
      "metadata": {
        "id": "qylKkgaZHzCN"
      },
      "source": [
        "netflixDFOne = pd.DataFrame(year_to_movie_df)\n",
        "# netflixDFOne"
      ],
      "execution_count": 7,
      "outputs": []
    },
    {
      "cell_type": "code",
      "metadata": {
        "id": "-ypx4WqcH0Ce"
      },
      "source": [
        "number_of_rows = len(netflixDFOne.index)\n",
        "# number_of_rows"
      ],
      "execution_count": 8,
      "outputs": []
    },
    {
      "cell_type": "code",
      "metadata": {
        "id": "aOKtCJ5ZUK-5"
      },
      "source": [
        "netflixDFTwo = pd.DataFrame([netflixDFOne.index, netflixDFOne.Movie]).transpose()\n",
        "netflixDFTwo.rename(columns={0:'Years', 1:'Movies'}, inplace=True)\n",
        "# netflixDFTwo"
      ],
      "execution_count": 9,
      "outputs": []
    },
    {
      "cell_type": "markdown",
      "metadata": {
        "id": "0bMpqgfayqeA"
      },
      "source": [
        "**Movies from 2020**"
      ]
    },
    {
      "cell_type": "code",
      "metadata": {
        "id": "22-WJl3sayWo",
        "colab": {
          "base_uri": "https://localhost:8080/"
        },
        "outputId": "45fda9f0-36e7-4a32-94ad-6aa700eabb25"
      },
      "source": [
        "print(list(netflixDFTwo.loc[ netflixDFTwo['Years'] == 2019, 'Movies'  ]))"
      ],
      "execution_count": 10,
      "outputs": [
        {
          "output_type": "stream",
          "text": [
            "[0       Norm of the North: King Sized Adventure\n",
            "34                   Archibald's Next Big Thing\n",
            "35                                   Article 15\n",
            "38                          Kill Me If You Dare\n",
            "39                                      The Spy\n",
            "                         ...                   \n",
            "6198                              The Protector\n",
            "6204                                     Cuckoo\n",
            "6206                                  Samantha!\n",
            "6215                        Crazy Ex-Girlfriend\n",
            "6219                         Pokémon the Series\n",
            "Name: title, Length: 843, dtype: object]\n"
          ],
          "name": "stdout"
        }
      ]
    },
    {
      "cell_type": "markdown",
      "metadata": {
        "id": "kY8ImAAvy2d1"
      },
      "source": [
        "**Table provides all movies along with their Genres**"
      ]
    },
    {
      "cell_type": "code",
      "metadata": {
        "id": "HggAK18r6o2y"
      },
      "source": [
        "# Adding the genres to the movies\n",
        "movieTitles = list(netflixData['title'])\n",
        "\n",
        "# dictionary contaning movie titles\n",
        "title_dict = {}\n",
        "\n",
        "for movies in movieTitles:\n",
        "  mTitlesGenres = netflixData.loc[ netflixData['title']  == movies, 'listed_in']\n",
        "\n",
        "  if movies not in title_dict:\n",
        "    title_dict[movies] = mTitlesGenres"
      ],
      "execution_count": 11,
      "outputs": []
    },
    {
      "cell_type": "code",
      "metadata": {
        "id": "GiJgZSFxBoBP"
      },
      "source": [
        "mTitlesGenres_df = {}\n",
        "\n",
        "for key, value in title_dict.items():\n",
        "  mTitlesGenres_df['Genres'] = title_dict\n",
        "\n"
      ],
      "execution_count": 12,
      "outputs": []
    },
    {
      "cell_type": "code",
      "metadata": {
        "id": "PVipmmy_DWk2"
      },
      "source": [
        "genresDF = pd.DataFrame(mTitlesGenres_df)\n",
        "# genresDF"
      ],
      "execution_count": 13,
      "outputs": []
    },
    {
      "cell_type": "markdown",
      "metadata": {
        "id": "Kr4I6SyiAKQF"
      },
      "source": [
        "**DATAFRAME - DICTIONARY: Movies: Genres**"
      ]
    },
    {
      "cell_type": "code",
      "metadata": {
        "id": "QxhttYZu0hz7"
      },
      "source": [
        "MovieTitles = pd.Series(netflixData.title)\n",
        "MovieGenres = pd.Series(netflixData.listed_in)\n",
        "\n",
        "DFOneNetflix = pd.DataFrame(MovieTitles)\n",
        "DFOneNetflix['Genres'] = pd.DataFrame(MovieGenres)\n",
        "DFTwoNetflix = DFOneNetflix\n",
        "# print(DFTwoNetflix)\n",
        "\n",
        "# converts DataFrame to Dict w/o index - all records\n",
        "dFtoDict = DFTwoNetflix.set_index('title')['Genres'].to_dict()\n",
        "# print(dFtoDict)\n",
        "# print(type(dFtoDict))"
      ],
      "execution_count": 14,
      "outputs": []
    },
    {
      "cell_type": "markdown",
      "metadata": {
        "id": "iMaz_3ahELoH"
      },
      "source": [
        "**Cross checking the movies by year with their genres**"
      ]
    },
    {
      "cell_type": "code",
      "metadata": {
        "colab": {
          "base_uri": "https://localhost:8080/"
        },
        "id": "JKAlhWIEDPrx",
        "outputId": "615e007e-ceb1-4294-cb86-f5acc64c0aab"
      },
      "source": [
        "to_match_list = list(netflixDFTwo.loc[ netflixDFTwo['Years'] == 2018, 'Movies'  ])\n",
        "matchList = to_match_list[:]\n",
        "# matchList = [movieNames.str.lower() for movieNames in to_match_list[:]]\n",
        "# print(matchList)\n",
        "print(len(dFtoDict))\n",
        "\n",
        "# movieList = []\n",
        "\n",
        "# function to make raw strings to match movie names.\n",
        "# def toRE(testList):\n",
        "# \tfor i in testList:\n",
        "# \t\tmovieList.append(\"r'\\b\" + i + \"\\b'\")\n",
        "\n",
        "# toRE(dFtoDict.keys())\n",
        "# print(movieList)\n",
        "\n",
        "\n"
      ],
      "execution_count": 15,
      "outputs": [
        {
          "output_type": "stream",
          "text": [
            "6172\n"
          ],
          "name": "stdout"
        }
      ]
    },
    {
      "cell_type": "markdown",
      "metadata": {
        "id": "fNTNWFIJQsVz"
      },
      "source": [
        "**Matching the movie names by year and finding their Genres.**"
      ]
    },
    {
      "cell_type": "code",
      "metadata": {
        "id": "NOB8zXAsEkDf",
        "colab": {
          "base_uri": "https://localhost:8080/"
        },
        "outputId": "71a71989-2755-4a46-ba9c-f8beb575889b"
      },
      "source": [
        "for index, movieNames in enumerate(matchList):\n",
        "  movieGenDict = { keys:values for keys, values in dFtoDict.items()  if keys in str(movieNames)}\n",
        "  # print(movieGenDict)\n",
        "movieGenDict\n"
      ],
      "execution_count": 16,
      "outputs": [
        {
          "output_type": "execute_result",
          "data": {
            "text/plain": [
              "{'21': 'Dramas',\n",
              " '9': 'Action & Adventure, Independent Movies, Sci-Fi & Fantasy',\n",
              " 'Anthony Bourdain: Parts Unknown': 'Docuseries',\n",
              " 'Ash vs. Evil Dead': 'TV Action & Adventure, TV Comedies, TV Horror',\n",
              " 'BAKI': 'Anime Series, International TV Shows',\n",
              " 'City of Joy': 'Documentaries',\n",
              " 'First and Last': 'Docuseries',\n",
              " 'Joy': 'Dramas, Independent Movies, International Movies',\n",
              " 'K': 'Anime Series, Crime TV Shows, International TV Shows',\n",
              " 'Last': 'Crime TV Shows, International TV Shows, Korean TV Shows',\n",
              " 'Next': 'Action & Adventure, Sci-Fi & Fantasy',\n",
              " 'Next Gen': 'Children & Family Movies, Comedies, Sci-Fi & Fantasy',\n",
              " 'P': 'Horror Movies, International Movies',\n",
              " 'Señora Acero': 'Crime TV Shows, International TV Shows, Spanish-Language TV Shows',\n",
              " 'Sierra Burgess Is A Loser': 'Comedies, Romantic Movies',\n",
              " 'The Magic School Bus': \"Kids' TV\",\n",
              " 'The Magic School Bus Rides Again': \"Kids' TV\",\n",
              " 'The Most Assassinated Woman in the World': 'Dramas, International Movies, Thrillers'}"
            ]
          },
          "metadata": {
            "tags": []
          },
          "execution_count": 16
        }
      ]
    },
    {
      "cell_type": "markdown",
      "metadata": {
        "id": "S-dabPP6jVOi"
      },
      "source": [
        "**PIE CHART: Genres**"
      ]
    },
    {
      "cell_type": "code",
      "metadata": {
        "colab": {
          "base_uri": "https://localhost:8080/"
        },
        "id": "L_rLXDgejYIV",
        "outputId": "38d119fc-3247-41cd-ec25-c7a91b5540b3"
      },
      "source": [
        "# Most popular genres.\n",
        "\n",
        "list_of_genres = list(Counter(dFtoDict.values()))\n",
        "print(type(list_of_genres))\n",
        "\n",
        "# Counter for genres\n",
        "genresCounter = {}\n",
        "counter = 0\n",
        "\n",
        "for genres in list_of_genres:\n",
        "  if genres in dFtoDict.values():\n",
        "    counter +=1\n",
        "    # print(genres += 1)\n",
        "    genresCounter[genres] = counter\n",
        "\n",
        "# genresCounter\n",
        "# print(max(genresCounter.values()))\n",
        "\n",
        "listingGenres = list(genresCounter.values())\n",
        "listingGenresSorted = sorted( listingGenres, reverse=True)\n",
        "max_genres_Popular = listingGenresSorted[:5]"
      ],
      "execution_count": 17,
      "outputs": [
        {
          "output_type": "stream",
          "text": [
            "<class 'list'>\n"
          ],
          "name": "stdout"
        }
      ]
    },
    {
      "cell_type": "code",
      "metadata": {
        "colab": {
          "base_uri": "https://localhost:8080/"
        },
        "id": "Erhop4twj5_i",
        "outputId": "63d0718c-2138-4298-996c-dd31082c6dee"
      },
      "source": [
        "labels = []\n",
        "sizes = []\n",
        "\n",
        "for max_genres in max_genres_Popular:\n",
        "  mGenre = str(max_genres)\n",
        "  # print(mGenre)\n",
        "  for genre, counter in genresCounter.items():\n",
        "    if mGenre in str(counter):\n",
        "      print(genre, mGenre)\n",
        "      labels.append(genre)\n",
        "      sizes.append(mGenre)\n"
      ],
      "execution_count": 18,
      "outputs": [
        {
          "output_type": "stream",
          "text": [
            "Reality TV, Spanish-Language TV Shows 458\n",
            "TV Comedies, TV Dramas, TV Horror 457\n",
            "Romantic TV Shows, TV Action & Adventure, TV Dramas 456\n",
            "British TV Shows, TV Comedies, TV Dramas 455\n",
            "Classic & Cult TV, Kids' TV, TV Comedies 454\n"
          ],
          "name": "stdout"
        }
      ]
    },
    {
      "cell_type": "code",
      "metadata": {
        "colab": {
          "base_uri": "https://localhost:8080/",
          "height": 746
        },
        "id": "qVHabkBs8vBR",
        "outputId": "57dd4b17-d585-4699-a732-61a470ae7a35"
      },
      "source": [
        "# The PIE CHART of popular genres:\n",
        "# Carrying the list: labels and sizes from the above cell.\n",
        "# explode = (0.1, 0, 0, 0)\n",
        "\n",
        "plt.figure(figsize=(15,10))\n",
        "plt.pie(sizes, labels=labels, autopct='%1.1f%%', shadow=True, startangle=90)\n",
        "plt.legend(labels, loc=\"best\")\n",
        "plt.axis('equal')\n",
        "plt.tight_layout()\n",
        "\n",
        "\n",
        "plt.show"
      ],
      "execution_count": 20,
      "outputs": [
        {
          "output_type": "execute_result",
          "data": {
            "text/plain": [
              "<function matplotlib.pyplot.show>"
            ]
          },
          "metadata": {
            "tags": []
          },
          "execution_count": 20
        },
        {
          "output_type": "display_data",
          "data": {
            "image/png": "[encoded data removed]",
            "text/plain": [
              "<Figure size 1080x720 with 1 Axes>"
            ]
          },
          "metadata": {
            "tags": []
          }
        }
      ]
    },
    {
      "cell_type": "markdown",
      "metadata": {
        "id": "DwjX7p2YPiFO"
      },
      "source": [
        "**Directors working in a Genre**"
      ]
    },
    {
      "cell_type": "code",
      "metadata": {
        "id": "7dTVAytpPhGy"
      },
      "source": [
        "# Let us find out information about the movies, their directors, and their genre.\n",
        "\n",
        "# dFtoDict: Movie to Genre\n",
        "\n",
        "movieDirectorsDF = netflixData.filter(['title', 'director'], axis=1)"
      ],
      "execution_count": 43,
      "outputs": []
    },
    {
      "cell_type": "code",
      "metadata": {
        "colab": {
          "base_uri": "https://localhost:8080/"
        },
        "id": "T5cyt16XQtop",
        "outputId": "47230938-a170-48a1-bb67-e33b304f95de"
      },
      "source": [
        "# converting the DataFrame to dictionary.\n",
        "\n",
        "movieDirectorsDict = movieDirectorsDF.set_index('title')['director'].to_dict()\n",
        "list(islice(movieDirectorsDict.items(), 10))"
      ],
      "execution_count": 42,
      "outputs": [
        {
          "output_type": "execute_result",
          "data": {
            "text/plain": [
              "[('Norm of the North: King Sized Adventure', 'Richard Finn, Tim Maltby'),\n",
              " ('Jandino: Whatever it Takes', nan),\n",
              " ('Transformers Prime', nan),\n",
              " ('Transformers: Robots in Disguise', nan),\n",
              " ('#realityhigh', 'Fernando Lebrija'),\n",
              " ('Apaches', nan),\n",
              " ('Automata', 'Gabe Ibáñez'),\n",
              " ('Fabrizio Copano: Solo pienso en mi', 'Rodrigo Toro, Francisco Schultz'),\n",
              " ('Fire Chasers', nan),\n",
              " ('Good People', 'Henrik Ruben Genz')]"
            ]
          },
          "metadata": {
            "tags": []
          },
          "execution_count": 42
        }
      ]
    },
    {
      "cell_type": "markdown",
      "metadata": {
        "id": "WLUAvHngUnI_"
      },
      "source": [
        "**Director's Genres**"
      ]
    },
    {
      "cell_type": "code",
      "metadata": {
        "id": "D2AFm63BS6vn"
      },
      "source": [
        "# Let us now find out a director's favourite genre.\n",
        "\n",
        "# dictionary: Director: Genre\n",
        "directorsGenre_dict = {}\n",
        "\n",
        "for title, genre in dFtoDict.items():\n",
        "  for titles, directors in movieDirectorsDict.items():\n",
        "    if titles in title:\n",
        "      # print('Movie:  {} and the Director is {}'.format(title, directors))\n",
        "      # print('Director:  {} and the Genre is {}'.format(directors, genre))\n",
        "      if directors not in directorsGenre_dict:\n",
        "        directorsGenre_dict[directors]=genre"
      ],
      "execution_count": 57,
      "outputs": []
    },
    {
      "cell_type": "code",
      "metadata": {
        "colab": {
          "base_uri": "https://localhost:8080/",
          "height": 735
        },
        "id": "BMyCaYIbVO-E",
        "outputId": "2c8e9b86-bf75-472d-e12e-cf93725575e3"
      },
      "source": [
        "# Scatter plot to show directors and genres.\n",
        "directors = []\n",
        "genres = []\n",
        "\n",
        "\n",
        "for director, genre in directorsGenre_dict.items():\n",
        "  directors.append(str(director))\n",
        "  genres.append(str(genre))\n",
        "\n",
        "\n",
        "plt.rcParams['figure.figsize'] = (15,10)\n",
        "plt.scatter(directors[:20], genres[:20])\n",
        "plt.xticks(rotation=90)\n",
        "plt.show()"
      ],
      "execution_count": 82,
      "outputs": [
        {
          "output_type": "display_data",
          "data": {
            "image/png": "[encoded data removed]",
            "text/plain": [
              "<Figure size 1080x720 with 1 Axes>"
            ]
          },
          "metadata": {
            "tags": [],
            "needs_background": "light"
          }
        }
      ]
    },
    {
      "cell_type": "code",
      "metadata": {
        "id": "Hkl07tRkY-6o"
      },
      "source": [
        ""
      ],
      "execution_count": null,
      "outputs": []
    }
  ]
}