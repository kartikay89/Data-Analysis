{
  "nbformat": 4,
  "nbformat_minor": 0,
  "metadata": {
    "colab": {
      "name": "ClimateChange.ipynb",
      "provenance": [],
      "collapsed_sections": [],
      "mount_file_id": "1diMbGVVcBMbV7KEdP_OXSTy69qBrCkqq",
      "authorship_tag": "ABX9TyN+FPNkFnvZIS4tw3D/BRmN",
      "include_colab_link": true
    },
    "kernelspec": {
      "name": "python3",
      "display_name": "Python 3"
    }
  },
  "cells": [
    {
      "cell_type": "markdown",
      "metadata": {
        "id": "view-in-github",
        "colab_type": "text"
      },
      "source": [
        "<a href=\"https://colab.research.google.com/github/kartikay89/Data-Analysis/blob/main/ClimateChange.ipynb\" target=\"_parent\"><img src=\"https://colab.research.google.com/assets/colab-badge.svg\" alt=\"Open In Colab\"/></a>"
      ]
    },
    {
      "cell_type": "markdown",
      "metadata": {
        "id": "VyVvJJ0wZTyf"
      },
      "source": [
        "**Climate Change Data**\n",
        "\n",
        "Source:\n",
        "1. https://www.kaggle.com/theworldbank/world-bank-climate-change-data"
      ]
    },
    {
      "cell_type": "code",
      "metadata": {
        "id": "H3bMYLBkZK2O"
      },
      "source": [
        "import pandas as pd\n",
        "# Bar chart\n",
        "import matplotlib.pyplot as plt\n",
        "import matplotlib.patches as mpatches\n",
        "import seaborn as sns"
      ],
      "execution_count": 1,
      "outputs": []
    },
    {
      "cell_type": "code",
      "metadata": {
        "colab": {
          "base_uri": "https://localhost:8080/"
        },
        "id": "TfKnn_eIE_ZS",
        "outputId": "b8c9676f-f9cc-4265-a73c-dac33a81d0e7"
      },
      "source": [
        "from google.colab import drive\n",
        "drive.mount('/content/drive')"
      ],
      "execution_count": 2,
      "outputs": [
        {
          "output_type": "stream",
          "text": [
            "Drive already mounted at /content/drive; to attempt to forcibly remount, call drive.mount(\"/content/drive\", force_remount=True).\n"
          ],
          "name": "stdout"
        }
      ]
    },
    {
      "cell_type": "markdown",
      "metadata": {
        "id": "5oLk0HrcF_Zl"
      },
      "source": [
        "**Multiple sheets within an Excel file are accessed below.**"
      ]
    },
    {
      "cell_type": "code",
      "metadata": {
        "id": "8nhbrvb4E9CU"
      },
      "source": [
        "# Country specific data\n",
        "Country_specific = pd.ExcelFile('/content/drive/MyDrive/Google Colab Data /climate-change-excel-4-6-mb-.xls')\n",
        "Country_specific_Data = pd.read_excel(Country_specific, 'Data')\n",
        "Country_specific_Series = pd.read_excel(Country_specific, 'Series')"
      ],
      "execution_count": 3,
      "outputs": []
    },
    {
      "cell_type": "code",
      "metadata": {
        "id": "IBUhC7zQFYnC"
      },
      "source": [
        "# Historical data\n",
        "historical_data = pd.ExcelFile('/content/drive/MyDrive/Google Colab Data /historical-data-excel-380-kb-.xls')\n",
        "Country_temperature = pd.read_excel(historical_data, 'Country_temperatureCRU')\n",
        "Country_precipitation = pd.read_excel(historical_data, 'Country_precipitationCRU')"
      ],
      "execution_count": 4,
      "outputs": []
    },
    {
      "cell_type": "markdown",
      "metadata": {
        "id": "LU1lehnSG9_3"
      },
      "source": [
        "**Accessing all datasets**"
      ]
    },
    {
      "cell_type": "code",
      "metadata": {
        "colab": {
          "base_uri": "https://localhost:8080/",
          "height": 751
        },
        "id": "u-hLFif5GnlC",
        "outputId": "8c2fd1ba-6ad9-485f-b269-d255011571d3"
      },
      "source": [
        "Country_specific_Data.head()"
      ],
      "execution_count": 5,
      "outputs": [
        {
          "output_type": "execute_result",
          "data": {
            "text/html": [
              "<div>\n",
              "<style scoped>\n",
              "    .dataframe tbody tr th:only-of-type {\n",
              "        vertical-align: middle;\n",
              "    }\n",
              "\n",
              "    .dataframe tbody tr th {\n",
              "        vertical-align: top;\n",
              "    }\n",
              "\n",
              "    .dataframe thead th {\n",
              "        text-align: right;\n",
              "    }\n",
              "</style>\n",
              "<table border=\"1\" class=\"dataframe\">\n",
              "  <thead>\n",
              "    <tr style=\"text-align: right;\">\n",
              "      <th></th>\n",
              "      <th>Country code</th>\n",
              "      <th>Country name</th>\n",
              "      <th>Series code</th>\n",
              "      <th>Series name</th>\n",
              "      <th>SCALE</th>\n",
              "      <th>Decimals</th>\n",
              "      <th>1990</th>\n",
              "      <th>1991</th>\n",
              "      <th>1992</th>\n",
              "      <th>1993</th>\n",
              "      <th>1994</th>\n",
              "      <th>1995</th>\n",
              "      <th>1996</th>\n",
              "      <th>1997</th>\n",
              "      <th>1998</th>\n",
              "      <th>1999</th>\n",
              "      <th>2000</th>\n",
              "      <th>2001</th>\n",
              "      <th>2002</th>\n",
              "      <th>2003</th>\n",
              "      <th>2004</th>\n",
              "      <th>2005</th>\n",
              "      <th>2006</th>\n",
              "      <th>2007</th>\n",
              "      <th>2008</th>\n",
              "      <th>2009</th>\n",
              "      <th>2010</th>\n",
              "      <th>2011</th>\n",
              "    </tr>\n",
              "  </thead>\n",
              "  <tbody>\n",
              "    <tr>\n",
              "      <th>0</th>\n",
              "      <td>ABW</td>\n",
              "      <td>Aruba</td>\n",
              "      <td>AG.LND.EL5M.ZS</td>\n",
              "      <td>Land area below 5m (% of land area)</td>\n",
              "      <td>0</td>\n",
              "      <td>1</td>\n",
              "      <td>29.5748</td>\n",
              "      <td>..</td>\n",
              "      <td>..</td>\n",
              "      <td>..</td>\n",
              "      <td>..</td>\n",
              "      <td>..</td>\n",
              "      <td>..</td>\n",
              "      <td>..</td>\n",
              "      <td>..</td>\n",
              "      <td>..</td>\n",
              "      <td>29.5748</td>\n",
              "      <td>..</td>\n",
              "      <td>..</td>\n",
              "      <td>..</td>\n",
              "      <td>..</td>\n",
              "      <td>..</td>\n",
              "      <td>..</td>\n",
              "      <td>..</td>\n",
              "      <td>..</td>\n",
              "      <td>..</td>\n",
              "      <td>..</td>\n",
              "      <td>..</td>\n",
              "    </tr>\n",
              "    <tr>\n",
              "      <th>1</th>\n",
              "      <td>ADO</td>\n",
              "      <td>Andorra</td>\n",
              "      <td>AG.LND.EL5M.ZS</td>\n",
              "      <td>Land area below 5m (% of land area)</td>\n",
              "      <td>0</td>\n",
              "      <td>1</td>\n",
              "      <td>0</td>\n",
              "      <td>..</td>\n",
              "      <td>..</td>\n",
              "      <td>..</td>\n",
              "      <td>..</td>\n",
              "      <td>..</td>\n",
              "      <td>..</td>\n",
              "      <td>..</td>\n",
              "      <td>..</td>\n",
              "      <td>..</td>\n",
              "      <td>0</td>\n",
              "      <td>..</td>\n",
              "      <td>..</td>\n",
              "      <td>..</td>\n",
              "      <td>..</td>\n",
              "      <td>..</td>\n",
              "      <td>..</td>\n",
              "      <td>..</td>\n",
              "      <td>..</td>\n",
              "      <td>..</td>\n",
              "      <td>..</td>\n",
              "      <td>..</td>\n",
              "    </tr>\n",
              "    <tr>\n",
              "      <th>2</th>\n",
              "      <td>AFG</td>\n",
              "      <td>Afghanistan</td>\n",
              "      <td>AG.LND.EL5M.ZS</td>\n",
              "      <td>Land area below 5m (% of land area)</td>\n",
              "      <td>0</td>\n",
              "      <td>1</td>\n",
              "      <td>0</td>\n",
              "      <td>..</td>\n",
              "      <td>..</td>\n",
              "      <td>..</td>\n",
              "      <td>..</td>\n",
              "      <td>..</td>\n",
              "      <td>..</td>\n",
              "      <td>..</td>\n",
              "      <td>..</td>\n",
              "      <td>..</td>\n",
              "      <td>0</td>\n",
              "      <td>..</td>\n",
              "      <td>..</td>\n",
              "      <td>..</td>\n",
              "      <td>..</td>\n",
              "      <td>..</td>\n",
              "      <td>..</td>\n",
              "      <td>..</td>\n",
              "      <td>..</td>\n",
              "      <td>..</td>\n",
              "      <td>..</td>\n",
              "      <td>..</td>\n",
              "    </tr>\n",
              "    <tr>\n",
              "      <th>3</th>\n",
              "      <td>AGO</td>\n",
              "      <td>Angola</td>\n",
              "      <td>AG.LND.EL5M.ZS</td>\n",
              "      <td>Land area below 5m (% of land area)</td>\n",
              "      <td>0</td>\n",
              "      <td>1</td>\n",
              "      <td>0.208235</td>\n",
              "      <td>..</td>\n",
              "      <td>..</td>\n",
              "      <td>..</td>\n",
              "      <td>..</td>\n",
              "      <td>..</td>\n",
              "      <td>..</td>\n",
              "      <td>..</td>\n",
              "      <td>..</td>\n",
              "      <td>..</td>\n",
              "      <td>0.208235</td>\n",
              "      <td>..</td>\n",
              "      <td>..</td>\n",
              "      <td>..</td>\n",
              "      <td>..</td>\n",
              "      <td>..</td>\n",
              "      <td>..</td>\n",
              "      <td>..</td>\n",
              "      <td>..</td>\n",
              "      <td>..</td>\n",
              "      <td>..</td>\n",
              "      <td>..</td>\n",
              "    </tr>\n",
              "    <tr>\n",
              "      <th>4</th>\n",
              "      <td>ALB</td>\n",
              "      <td>Albania</td>\n",
              "      <td>AG.LND.EL5M.ZS</td>\n",
              "      <td>Land area below 5m (% of land area)</td>\n",
              "      <td>0</td>\n",
              "      <td>1</td>\n",
              "      <td>4.96788</td>\n",
              "      <td>..</td>\n",
              "      <td>..</td>\n",
              "      <td>..</td>\n",
              "      <td>..</td>\n",
              "      <td>..</td>\n",
              "      <td>..</td>\n",
              "      <td>..</td>\n",
              "      <td>..</td>\n",
              "      <td>..</td>\n",
              "      <td>4.96788</td>\n",
              "      <td>..</td>\n",
              "      <td>..</td>\n",
              "      <td>..</td>\n",
              "      <td>..</td>\n",
              "      <td>..</td>\n",
              "      <td>..</td>\n",
              "      <td>..</td>\n",
              "      <td>..</td>\n",
              "      <td>..</td>\n",
              "      <td>..</td>\n",
              "      <td>..</td>\n",
              "    </tr>\n",
              "  </tbody>\n",
              "</table>\n",
              "</div>"
            ],
            "text/plain": [
              "  Country code Country name     Series code  ... 2009 2010 2011\n",
              "0          ABW        Aruba  AG.LND.EL5M.ZS  ...   ..   ..   ..\n",
              "1          ADO      Andorra  AG.LND.EL5M.ZS  ...   ..   ..   ..\n",
              "2          AFG  Afghanistan  AG.LND.EL5M.ZS  ...   ..   ..   ..\n",
              "3          AGO       Angola  AG.LND.EL5M.ZS  ...   ..   ..   ..\n",
              "4          ALB      Albania  AG.LND.EL5M.ZS  ...   ..   ..   ..\n",
              "\n",
              "[5 rows x 28 columns]"
            ]
          },
          "metadata": {
            "tags": []
          },
          "execution_count": 5
        }
      ]
    },
    {
      "cell_type": "code",
      "metadata": {
        "colab": {
          "base_uri": "https://localhost:8080/",
          "height": 289
        },
        "id": "PQBjpPgJHCPy",
        "outputId": "5bf5603f-1965-4931-8cd2-58bea6fe4b3f"
      },
      "source": [
        "Country_specific_Series.head()"
      ],
      "execution_count": 6,
      "outputs": [
        {
          "output_type": "execute_result",
          "data": {
            "text/html": [
              "<div>\n",
              "<style scoped>\n",
              "    .dataframe tbody tr th:only-of-type {\n",
              "        vertical-align: middle;\n",
              "    }\n",
              "\n",
              "    .dataframe tbody tr th {\n",
              "        vertical-align: top;\n",
              "    }\n",
              "\n",
              "    .dataframe thead th {\n",
              "        text-align: right;\n",
              "    }\n",
              "</style>\n",
              "<table border=\"1\" class=\"dataframe\">\n",
              "  <thead>\n",
              "    <tr style=\"text-align: right;\">\n",
              "      <th></th>\n",
              "      <th>Series code</th>\n",
              "      <th>Series name</th>\n",
              "      <th>Scale</th>\n",
              "      <th>Decimals</th>\n",
              "      <th>Order</th>\n",
              "      <th>Topic</th>\n",
              "      <th>Definition</th>\n",
              "      <th>Source</th>\n",
              "    </tr>\n",
              "  </thead>\n",
              "  <tbody>\n",
              "    <tr>\n",
              "      <th>0</th>\n",
              "      <td>SP.POP.TOTL</td>\n",
              "      <td>Population</td>\n",
              "      <td>0</td>\n",
              "      <td>0</td>\n",
              "      <td>1</td>\n",
              "      <td>Size of the economy</td>\n",
              "      <td>Population includes all residents who are pres...</td>\n",
              "      <td>(1) United Nations Population Division. 2011. ...</td>\n",
              "    </tr>\n",
              "    <tr>\n",
              "      <th>1</th>\n",
              "      <td>SP.POP.GROW</td>\n",
              "      <td>Population growth (annual %)</td>\n",
              "      <td>0</td>\n",
              "      <td>1</td>\n",
              "      <td>2</td>\n",
              "      <td>Size of the economy</td>\n",
              "      <td>Annual population growth rate for year t is th...</td>\n",
              "      <td>Derived from total population. Population sour...</td>\n",
              "    </tr>\n",
              "    <tr>\n",
              "      <th>2</th>\n",
              "      <td>NY.GDP.MKTP.CD</td>\n",
              "      <td>GDP ($)</td>\n",
              "      <td>0</td>\n",
              "      <td>0</td>\n",
              "      <td>3</td>\n",
              "      <td>Size of the economy</td>\n",
              "      <td>GDP is gross domestic product and measures the...</td>\n",
              "      <td>World Bank national accounts data, and OECD Na...</td>\n",
              "    </tr>\n",
              "    <tr>\n",
              "      <th>3</th>\n",
              "      <td>NY.GNP.PCAP.CD</td>\n",
              "      <td>GNI per capita (Atlas $)</td>\n",
              "      <td>0</td>\n",
              "      <td>0</td>\n",
              "      <td>4</td>\n",
              "      <td>Size of the economy</td>\n",
              "      <td>GNI per capita is the gross national income, c...</td>\n",
              "      <td>World Bank national accounts data, and OECD Na...</td>\n",
              "    </tr>\n",
              "    <tr>\n",
              "      <th>4</th>\n",
              "      <td>EN.CLC.MMDT.C</td>\n",
              "      <td>Average daily min/max temperature (1961-1990, ...</td>\n",
              "      <td>Text</td>\n",
              "      <td>Text</td>\n",
              "      <td>5</td>\n",
              "      <td>Climate</td>\n",
              "      <td>Average daily min/max temperature are the mini...</td>\n",
              "      <td>Mitchell, T.D., Carter, T.R., Jones, P.D., Hul...</td>\n",
              "    </tr>\n",
              "  </tbody>\n",
              "</table>\n",
              "</div>"
            ],
            "text/plain": [
              "      Series code  ...                                             Source\n",
              "0     SP.POP.TOTL  ...  (1) United Nations Population Division. 2011. ...\n",
              "1     SP.POP.GROW  ...  Derived from total population. Population sour...\n",
              "2  NY.GDP.MKTP.CD  ...  World Bank national accounts data, and OECD Na...\n",
              "3  NY.GNP.PCAP.CD  ...  World Bank national accounts data, and OECD Na...\n",
              "4   EN.CLC.MMDT.C  ...  Mitchell, T.D., Carter, T.R., Jones, P.D., Hul...\n",
              "\n",
              "[5 rows x 8 columns]"
            ]
          },
          "metadata": {
            "tags": []
          },
          "execution_count": 6
        }
      ]
    },
    {
      "cell_type": "code",
      "metadata": {
        "colab": {
          "base_uri": "https://localhost:8080/",
          "height": 204
        },
        "id": "FpsE8o5PHFpN",
        "outputId": "7b8cfc87-4630-47b7-c4fe-4a40d2923b83"
      },
      "source": [
        "Country_temperature.head()"
      ],
      "execution_count": 7,
      "outputs": [
        {
          "output_type": "execute_result",
          "data": {
            "text/html": [
              "<div>\n",
              "<style scoped>\n",
              "    .dataframe tbody tr th:only-of-type {\n",
              "        vertical-align: middle;\n",
              "    }\n",
              "\n",
              "    .dataframe tbody tr th {\n",
              "        vertical-align: top;\n",
              "    }\n",
              "\n",
              "    .dataframe thead th {\n",
              "        text-align: right;\n",
              "    }\n",
              "</style>\n",
              "<table border=\"1\" class=\"dataframe\">\n",
              "  <thead>\n",
              "    <tr style=\"text-align: right;\">\n",
              "      <th></th>\n",
              "      <th>ISO_3DIGIT</th>\n",
              "      <th>Jan_Temp</th>\n",
              "      <th>Feb_temp</th>\n",
              "      <th>Mar_temp</th>\n",
              "      <th>Apr_Temp</th>\n",
              "      <th>May_temp</th>\n",
              "      <th>Jun_Temp</th>\n",
              "      <th>July_Temp</th>\n",
              "      <th>Aug_Temp</th>\n",
              "      <th>Sept_temp</th>\n",
              "      <th>Oct_temp</th>\n",
              "      <th>Nov_Temp</th>\n",
              "      <th>Dec_temp</th>\n",
              "      <th>Annual_temp</th>\n",
              "    </tr>\n",
              "  </thead>\n",
              "  <tbody>\n",
              "    <tr>\n",
              "      <th>0</th>\n",
              "      <td>AFG</td>\n",
              "      <td>0.073058</td>\n",
              "      <td>2.109406</td>\n",
              "      <td>7.596974</td>\n",
              "      <td>13.370239</td>\n",
              "      <td>18.216310</td>\n",
              "      <td>23.201315</td>\n",
              "      <td>25.258537</td>\n",
              "      <td>23.766517</td>\n",
              "      <td>19.034575</td>\n",
              "      <td>12.992646</td>\n",
              "      <td>7.004094</td>\n",
              "      <td>2.433517</td>\n",
              "      <td>12.921455</td>\n",
              "    </tr>\n",
              "    <tr>\n",
              "      <th>1</th>\n",
              "      <td>AGO</td>\n",
              "      <td>22.582236</td>\n",
              "      <td>22.683536</td>\n",
              "      <td>22.784139</td>\n",
              "      <td>22.353582</td>\n",
              "      <td>20.739575</td>\n",
              "      <td>18.373315</td>\n",
              "      <td>17.946175</td>\n",
              "      <td>19.902466</td>\n",
              "      <td>22.187548</td>\n",
              "      <td>23.181599</td>\n",
              "      <td>22.786151</td>\n",
              "      <td>22.610858</td>\n",
              "      <td>21.510933</td>\n",
              "    </tr>\n",
              "    <tr>\n",
              "      <th>2</th>\n",
              "      <td>ALB</td>\n",
              "      <td>2.023067</td>\n",
              "      <td>3.218058</td>\n",
              "      <td>6.035317</td>\n",
              "      <td>9.917867</td>\n",
              "      <td>14.442750</td>\n",
              "      <td>17.927750</td>\n",
              "      <td>20.538917</td>\n",
              "      <td>20.479667</td>\n",
              "      <td>17.159083</td>\n",
              "      <td>12.265775</td>\n",
              "      <td>7.575808</td>\n",
              "      <td>3.653617</td>\n",
              "      <td>11.269800</td>\n",
              "    </tr>\n",
              "    <tr>\n",
              "      <th>3</th>\n",
              "      <td>ARE</td>\n",
              "      <td>18.427522</td>\n",
              "      <td>19.428044</td>\n",
              "      <td>22.612913</td>\n",
              "      <td>26.578435</td>\n",
              "      <td>30.623652</td>\n",
              "      <td>32.457087</td>\n",
              "      <td>33.796130</td>\n",
              "      <td>33.550869</td>\n",
              "      <td>31.743130</td>\n",
              "      <td>28.343218</td>\n",
              "      <td>24.061783</td>\n",
              "      <td>20.283739</td>\n",
              "      <td>26.825609</td>\n",
              "    </tr>\n",
              "    <tr>\n",
              "      <th>4</th>\n",
              "      <td>ARG</td>\n",
              "      <td>20.803533</td>\n",
              "      <td>19.899523</td>\n",
              "      <td>17.514634</td>\n",
              "      <td>14.046284</td>\n",
              "      <td>10.647732</td>\n",
              "      <td>7.657256</td>\n",
              "      <td>7.421399</td>\n",
              "      <td>9.015955</td>\n",
              "      <td>11.529476</td>\n",
              "      <td>14.674651</td>\n",
              "      <td>17.544032</td>\n",
              "      <td>19.828148</td>\n",
              "      <td>14.215225</td>\n",
              "    </tr>\n",
              "  </tbody>\n",
              "</table>\n",
              "</div>"
            ],
            "text/plain": [
              "  ISO_3DIGIT   Jan_Temp   Feb_temp  ...   Nov_Temp   Dec_temp  Annual_temp\n",
              "0        AFG   0.073058   2.109406  ...   7.004094   2.433517    12.921455\n",
              "1        AGO  22.582236  22.683536  ...  22.786151  22.610858    21.510933\n",
              "2        ALB   2.023067   3.218058  ...   7.575808   3.653617    11.269800\n",
              "3        ARE  18.427522  19.428044  ...  24.061783  20.283739    26.825609\n",
              "4        ARG  20.803533  19.899523  ...  17.544032  19.828148    14.215225\n",
              "\n",
              "[5 rows x 14 columns]"
            ]
          },
          "metadata": {
            "tags": []
          },
          "execution_count": 7
        }
      ]
    },
    {
      "cell_type": "code",
      "metadata": {
        "colab": {
          "base_uri": "https://localhost:8080/",
          "height": 224
        },
        "id": "yrjJRXilHI3Y",
        "outputId": "1f2e5427-9161-429b-fc75-52e99438e5e6"
      },
      "source": [
        "Country_precipitation.head()"
      ],
      "execution_count": 16,
      "outputs": [
        {
          "output_type": "execute_result",
          "data": {
            "text/html": [
              "<div>\n",
              "<style scoped>\n",
              "    .dataframe tbody tr th:only-of-type {\n",
              "        vertical-align: middle;\n",
              "    }\n",
              "\n",
              "    .dataframe tbody tr th {\n",
              "        vertical-align: top;\n",
              "    }\n",
              "\n",
              "    .dataframe thead th {\n",
              "        text-align: right;\n",
              "    }\n",
              "</style>\n",
              "<table border=\"1\" class=\"dataframe\">\n",
              "  <thead>\n",
              "    <tr style=\"text-align: right;\">\n",
              "      <th></th>\n",
              "      <th>ISO_3DIGIT</th>\n",
              "      <th>Jan_precip</th>\n",
              "      <th>Feb_precip</th>\n",
              "      <th>Mar_precip</th>\n",
              "      <th>Apr_precip</th>\n",
              "      <th>May_precip</th>\n",
              "      <th>Jun_precip</th>\n",
              "      <th>July_precip</th>\n",
              "      <th>Aug_precip</th>\n",
              "      <th>Sept_precip</th>\n",
              "      <th>Oct_precip</th>\n",
              "      <th>Nov_precip</th>\n",
              "      <th>Dec_precip</th>\n",
              "      <th>Annual_precip</th>\n",
              "    </tr>\n",
              "  </thead>\n",
              "  <tbody>\n",
              "    <tr>\n",
              "      <th>0</th>\n",
              "      <td>AFG</td>\n",
              "      <td>43.275641</td>\n",
              "      <td>49.184578</td>\n",
              "      <td>64.971418</td>\n",
              "      <td>49.406624</td>\n",
              "      <td>24.182488</td>\n",
              "      <td>4.559185</td>\n",
              "      <td>8.034326</td>\n",
              "      <td>7.736403</td>\n",
              "      <td>3.667420</td>\n",
              "      <td>9.355273</td>\n",
              "      <td>15.409127</td>\n",
              "      <td>31.539374</td>\n",
              "      <td>311.321856</td>\n",
              "    </tr>\n",
              "    <tr>\n",
              "      <th>1</th>\n",
              "      <td>AGO</td>\n",
              "      <td>154.987404</td>\n",
              "      <td>148.544214</td>\n",
              "      <td>169.914693</td>\n",
              "      <td>109.072267</td>\n",
              "      <td>15.142675</td>\n",
              "      <td>0.372332</td>\n",
              "      <td>0.321137</td>\n",
              "      <td>3.413405</td>\n",
              "      <td>20.102274</td>\n",
              "      <td>69.766698</td>\n",
              "      <td>144.510161</td>\n",
              "      <td>155.158423</td>\n",
              "      <td>991.305683</td>\n",
              "    </tr>\n",
              "    <tr>\n",
              "      <th>2</th>\n",
              "      <td>ALB</td>\n",
              "      <td>107.999418</td>\n",
              "      <td>102.625834</td>\n",
              "      <td>93.433083</td>\n",
              "      <td>86.162500</td>\n",
              "      <td>74.273917</td>\n",
              "      <td>54.579168</td>\n",
              "      <td>39.075000</td>\n",
              "      <td>45.696333</td>\n",
              "      <td>67.568500</td>\n",
              "      <td>105.261417</td>\n",
              "      <td>138.264167</td>\n",
              "      <td>138.295834</td>\n",
              "      <td>1053.235184</td>\n",
              "    </tr>\n",
              "    <tr>\n",
              "      <th>3</th>\n",
              "      <td>ARE</td>\n",
              "      <td>5.955387</td>\n",
              "      <td>22.178000</td>\n",
              "      <td>16.587609</td>\n",
              "      <td>8.961470</td>\n",
              "      <td>1.080574</td>\n",
              "      <td>1.094061</td>\n",
              "      <td>2.284059</td>\n",
              "      <td>1.405504</td>\n",
              "      <td>0.495943</td>\n",
              "      <td>0.428552</td>\n",
              "      <td>1.740576</td>\n",
              "      <td>5.600291</td>\n",
              "      <td>67.812025</td>\n",
              "    </tr>\n",
              "    <tr>\n",
              "      <th>4</th>\n",
              "      <td>ARG</td>\n",
              "      <td>68.370440</td>\n",
              "      <td>63.654088</td>\n",
              "      <td>69.531037</td>\n",
              "      <td>46.481148</td>\n",
              "      <td>36.282154</td>\n",
              "      <td>28.080046</td>\n",
              "      <td>25.894385</td>\n",
              "      <td>24.096768</td>\n",
              "      <td>30.073554</td>\n",
              "      <td>47.715487</td>\n",
              "      <td>55.566664</td>\n",
              "      <td>63.300102</td>\n",
              "      <td>559.045871</td>\n",
              "    </tr>\n",
              "  </tbody>\n",
              "</table>\n",
              "</div>"
            ],
            "text/plain": [
              "  ISO_3DIGIT  Jan_precip  Feb_precip  ...  Nov_precip  Dec_precip  Annual_precip\n",
              "0        AFG   43.275641   49.184578  ...   15.409127   31.539374     311.321856\n",
              "1        AGO  154.987404  148.544214  ...  144.510161  155.158423     991.305683\n",
              "2        ALB  107.999418  102.625834  ...  138.264167  138.295834    1053.235184\n",
              "3        ARE    5.955387   22.178000  ...    1.740576    5.600291      67.812025\n",
              "4        ARG   68.370440   63.654088  ...   55.566664   63.300102     559.045871\n",
              "\n",
              "[5 rows x 14 columns]"
            ]
          },
          "metadata": {
            "tags": []
          },
          "execution_count": 16
        }
      ]
    },
    {
      "cell_type": "code",
      "metadata": {
        "colab": {
          "base_uri": "https://localhost:8080/",
          "height": 507
        },
        "id": "Bl1Yx3sbHLow",
        "outputId": "4afb0dc4-222f-4ebc-f722-74b8cd7b0cb4"
      },
      "source": [
        "# Filtering the dataset for country and codes.\n",
        "Country_code_namesDF = Country_specific_Data.filter(['Country code', 'Country name'])\n",
        "\n",
        "# Merging the dataframes on precipitation and temperature with country names\n",
        "\n",
        "# Country temperature\n",
        "Country_temperature_DF = Country_temperature.rename(columns={'ISO_3DIGIT': 'Country code'})\n",
        "Country_temperature_DFV1 = Country_temperature_DF.merge(Country_code_namesDF, how='left')\n",
        "# Drop duplicates\n",
        "Country_temperature_DFV2 = Country_temperature_DFV1.drop_duplicates()\n",
        "Country_temperature_DFV2"
      ],
      "execution_count": 14,
      "outputs": [
        {
          "output_type": "execute_result",
          "data": {
            "text/html": [
              "<div>\n",
              "<style scoped>\n",
              "    .dataframe tbody tr th:only-of-type {\n",
              "        vertical-align: middle;\n",
              "    }\n",
              "\n",
              "    .dataframe tbody tr th {\n",
              "        vertical-align: top;\n",
              "    }\n",
              "\n",
              "    .dataframe thead th {\n",
              "        text-align: right;\n",
              "    }\n",
              "</style>\n",
              "<table border=\"1\" class=\"dataframe\">\n",
              "  <thead>\n",
              "    <tr style=\"text-align: right;\">\n",
              "      <th></th>\n",
              "      <th>Country code</th>\n",
              "      <th>Jan_Temp</th>\n",
              "      <th>Feb_temp</th>\n",
              "      <th>Mar_temp</th>\n",
              "      <th>Apr_Temp</th>\n",
              "      <th>May_temp</th>\n",
              "      <th>Jun_Temp</th>\n",
              "      <th>July_Temp</th>\n",
              "      <th>Aug_Temp</th>\n",
              "      <th>Sept_temp</th>\n",
              "      <th>Oct_temp</th>\n",
              "      <th>Nov_Temp</th>\n",
              "      <th>Dec_temp</th>\n",
              "      <th>Annual_temp</th>\n",
              "      <th>Country name</th>\n",
              "    </tr>\n",
              "  </thead>\n",
              "  <tbody>\n",
              "    <tr>\n",
              "      <th>0</th>\n",
              "      <td>AFG</td>\n",
              "      <td>0.073058</td>\n",
              "      <td>2.109406</td>\n",
              "      <td>7.596974</td>\n",
              "      <td>13.370239</td>\n",
              "      <td>18.216310</td>\n",
              "      <td>23.201315</td>\n",
              "      <td>25.258537</td>\n",
              "      <td>23.766517</td>\n",
              "      <td>19.034575</td>\n",
              "      <td>12.992646</td>\n",
              "      <td>7.004094</td>\n",
              "      <td>2.433517</td>\n",
              "      <td>12.921455</td>\n",
              "      <td>Afghanistan</td>\n",
              "    </tr>\n",
              "    <tr>\n",
              "      <th>58</th>\n",
              "      <td>AGO</td>\n",
              "      <td>22.582236</td>\n",
              "      <td>22.683536</td>\n",
              "      <td>22.784139</td>\n",
              "      <td>22.353582</td>\n",
              "      <td>20.739575</td>\n",
              "      <td>18.373315</td>\n",
              "      <td>17.946175</td>\n",
              "      <td>19.902466</td>\n",
              "      <td>22.187548</td>\n",
              "      <td>23.181599</td>\n",
              "      <td>22.786151</td>\n",
              "      <td>22.610858</td>\n",
              "      <td>21.510933</td>\n",
              "      <td>Angola</td>\n",
              "    </tr>\n",
              "    <tr>\n",
              "      <th>116</th>\n",
              "      <td>ALB</td>\n",
              "      <td>2.023067</td>\n",
              "      <td>3.218058</td>\n",
              "      <td>6.035317</td>\n",
              "      <td>9.917867</td>\n",
              "      <td>14.442750</td>\n",
              "      <td>17.927750</td>\n",
              "      <td>20.538917</td>\n",
              "      <td>20.479667</td>\n",
              "      <td>17.159083</td>\n",
              "      <td>12.265775</td>\n",
              "      <td>7.575808</td>\n",
              "      <td>3.653617</td>\n",
              "      <td>11.269800</td>\n",
              "      <td>Albania</td>\n",
              "    </tr>\n",
              "    <tr>\n",
              "      <th>174</th>\n",
              "      <td>ARE</td>\n",
              "      <td>18.427522</td>\n",
              "      <td>19.428044</td>\n",
              "      <td>22.612913</td>\n",
              "      <td>26.578435</td>\n",
              "      <td>30.623652</td>\n",
              "      <td>32.457087</td>\n",
              "      <td>33.796130</td>\n",
              "      <td>33.550869</td>\n",
              "      <td>31.743130</td>\n",
              "      <td>28.343218</td>\n",
              "      <td>24.061783</td>\n",
              "      <td>20.283739</td>\n",
              "      <td>26.825609</td>\n",
              "      <td>United Arab Emirates</td>\n",
              "    </tr>\n",
              "    <tr>\n",
              "      <th>232</th>\n",
              "      <td>ARG</td>\n",
              "      <td>20.803533</td>\n",
              "      <td>19.899523</td>\n",
              "      <td>17.514634</td>\n",
              "      <td>14.046284</td>\n",
              "      <td>10.647732</td>\n",
              "      <td>7.657256</td>\n",
              "      <td>7.421399</td>\n",
              "      <td>9.015955</td>\n",
              "      <td>11.529476</td>\n",
              "      <td>14.674651</td>\n",
              "      <td>17.544032</td>\n",
              "      <td>19.828148</td>\n",
              "      <td>14.215225</td>\n",
              "      <td>Argentina</td>\n",
              "    </tr>\n",
              "    <tr>\n",
              "      <th>...</th>\n",
              "      <td>...</td>\n",
              "      <td>...</td>\n",
              "      <td>...</td>\n",
              "      <td>...</td>\n",
              "      <td>...</td>\n",
              "      <td>...</td>\n",
              "      <td>...</td>\n",
              "      <td>...</td>\n",
              "      <td>...</td>\n",
              "      <td>...</td>\n",
              "      <td>...</td>\n",
              "      <td>...</td>\n",
              "      <td>...</td>\n",
              "      <td>...</td>\n",
              "      <td>...</td>\n",
              "    </tr>\n",
              "    <tr>\n",
              "      <th>9464</th>\n",
              "      <td>VUT</td>\n",
              "      <td>25.331500</td>\n",
              "      <td>25.445000</td>\n",
              "      <td>25.228500</td>\n",
              "      <td>24.476500</td>\n",
              "      <td>23.520000</td>\n",
              "      <td>22.793500</td>\n",
              "      <td>22.235001</td>\n",
              "      <td>22.216500</td>\n",
              "      <td>22.487000</td>\n",
              "      <td>23.263500</td>\n",
              "      <td>24.276500</td>\n",
              "      <td>24.811501</td>\n",
              "      <td>23.840500</td>\n",
              "      <td>Vanuatu</td>\n",
              "    </tr>\n",
              "    <tr>\n",
              "      <th>9522</th>\n",
              "      <td>YEM</td>\n",
              "      <td>18.352981</td>\n",
              "      <td>19.253071</td>\n",
              "      <td>20.816974</td>\n",
              "      <td>23.554974</td>\n",
              "      <td>25.859500</td>\n",
              "      <td>27.802786</td>\n",
              "      <td>26.982864</td>\n",
              "      <td>26.776929</td>\n",
              "      <td>26.128136</td>\n",
              "      <td>23.016221</td>\n",
              "      <td>20.303857</td>\n",
              "      <td>19.037623</td>\n",
              "      <td>23.157169</td>\n",
              "      <td>Yemen, Rep.</td>\n",
              "    </tr>\n",
              "    <tr>\n",
              "      <th>9580</th>\n",
              "      <td>ZAF</td>\n",
              "      <td>23.194247</td>\n",
              "      <td>22.655704</td>\n",
              "      <td>21.102496</td>\n",
              "      <td>17.741858</td>\n",
              "      <td>14.241581</td>\n",
              "      <td>11.162377</td>\n",
              "      <td>11.071015</td>\n",
              "      <td>12.974351</td>\n",
              "      <td>16.029367</td>\n",
              "      <td>18.310131</td>\n",
              "      <td>20.480351</td>\n",
              "      <td>22.199018</td>\n",
              "      <td>17.596873</td>\n",
              "      <td>South Africa</td>\n",
              "    </tr>\n",
              "    <tr>\n",
              "      <th>9638</th>\n",
              "      <td>ZMB</td>\n",
              "      <td>22.887856</td>\n",
              "      <td>22.936512</td>\n",
              "      <td>22.901632</td>\n",
              "      <td>21.911092</td>\n",
              "      <td>19.580152</td>\n",
              "      <td>17.362052</td>\n",
              "      <td>17.067240</td>\n",
              "      <td>19.471812</td>\n",
              "      <td>22.917512</td>\n",
              "      <td>24.669040</td>\n",
              "      <td>24.192320</td>\n",
              "      <td>23.112300</td>\n",
              "      <td>21.584132</td>\n",
              "      <td>Zambia</td>\n",
              "    </tr>\n",
              "    <tr>\n",
              "      <th>9696</th>\n",
              "      <td>ZWE</td>\n",
              "      <td>23.899787</td>\n",
              "      <td>23.491309</td>\n",
              "      <td>22.916029</td>\n",
              "      <td>21.147287</td>\n",
              "      <td>18.398706</td>\n",
              "      <td>15.794618</td>\n",
              "      <td>15.642147</td>\n",
              "      <td>17.902919</td>\n",
              "      <td>21.365949</td>\n",
              "      <td>23.735250</td>\n",
              "      <td>24.232647</td>\n",
              "      <td>23.850044</td>\n",
              "      <td>21.031390</td>\n",
              "      <td>Zimbabwe</td>\n",
              "    </tr>\n",
              "  </tbody>\n",
              "</table>\n",
              "<p>178 rows × 15 columns</p>\n",
              "</div>"
            ],
            "text/plain": [
              "     Country code   Jan_Temp  ...  Annual_temp          Country name\n",
              "0             AFG   0.073058  ...    12.921455           Afghanistan\n",
              "58            AGO  22.582236  ...    21.510933                Angola\n",
              "116           ALB   2.023067  ...    11.269800               Albania\n",
              "174           ARE  18.427522  ...    26.825609  United Arab Emirates\n",
              "232           ARG  20.803533  ...    14.215225             Argentina\n",
              "...           ...        ...  ...          ...                   ...\n",
              "9464          VUT  25.331500  ...    23.840500               Vanuatu\n",
              "9522          YEM  18.352981  ...    23.157169           Yemen, Rep.\n",
              "9580          ZAF  23.194247  ...    17.596873          South Africa\n",
              "9638          ZMB  22.887856  ...    21.584132                Zambia\n",
              "9696          ZWE  23.899787  ...    21.031390              Zimbabwe\n",
              "\n",
              "[178 rows x 15 columns]"
            ]
          },
          "metadata": {
            "tags": []
          },
          "execution_count": 14
        }
      ]
    },
    {
      "cell_type": "markdown",
      "metadata": {
        "id": "mzRnxyyOoKKg"
      },
      "source": [
        "**Plotting the temperatures on bar charts**"
      ]
    },
    {
      "cell_type": "code",
      "metadata": {
        "colab": {
          "base_uri": "https://localhost:8080/",
          "height": 218
        },
        "id": "QYGkIkNDmG40",
        "outputId": "ac9d38f5-3c1e-4978-f7c6-51436d46bb85"
      },
      "source": [
        "temperatureDF = Country_temperature_DFV2.rename(columns={'Country name': ''})\n",
        "temperatureDFV1 = temperatureDF.set_index(temperatureDF.iloc[:, -1])\n",
        "temperatureDFV2 = temperatureDFV1.drop(temperatureDFV1.columns[-1], axis=1)\n",
        "temperatureDFV3 = temperatureDFV2.drop(temperatureDFV2.columns[-1], axis=1)\n",
        "temperatureDFV3.head()"
      ],
      "execution_count": 39,
      "outputs": [
        {
          "output_type": "execute_result",
          "data": {
            "text/html": [
              "<div>\n",
              "<style scoped>\n",
              "    .dataframe tbody tr th:only-of-type {\n",
              "        vertical-align: middle;\n",
              "    }\n",
              "\n",
              "    .dataframe tbody tr th {\n",
              "        vertical-align: top;\n",
              "    }\n",
              "\n",
              "    .dataframe thead th {\n",
              "        text-align: right;\n",
              "    }\n",
              "</style>\n",
              "<table border=\"1\" class=\"dataframe\">\n",
              "  <thead>\n",
              "    <tr style=\"text-align: right;\">\n",
              "      <th></th>\n",
              "      <th>Country code</th>\n",
              "      <th>Jan_Temp</th>\n",
              "      <th>Feb_temp</th>\n",
              "      <th>Mar_temp</th>\n",
              "      <th>Apr_Temp</th>\n",
              "      <th>May_temp</th>\n",
              "      <th>Jun_Temp</th>\n",
              "      <th>July_Temp</th>\n",
              "      <th>Aug_Temp</th>\n",
              "      <th>Sept_temp</th>\n",
              "      <th>Oct_temp</th>\n",
              "      <th>Nov_Temp</th>\n",
              "      <th>Dec_temp</th>\n",
              "    </tr>\n",
              "    <tr>\n",
              "      <th></th>\n",
              "      <th></th>\n",
              "      <th></th>\n",
              "      <th></th>\n",
              "      <th></th>\n",
              "      <th></th>\n",
              "      <th></th>\n",
              "      <th></th>\n",
              "      <th></th>\n",
              "      <th></th>\n",
              "      <th></th>\n",
              "      <th></th>\n",
              "      <th></th>\n",
              "      <th></th>\n",
              "    </tr>\n",
              "  </thead>\n",
              "  <tbody>\n",
              "    <tr>\n",
              "      <th>Afghanistan</th>\n",
              "      <td>AFG</td>\n",
              "      <td>0.073058</td>\n",
              "      <td>2.109406</td>\n",
              "      <td>7.596974</td>\n",
              "      <td>13.370239</td>\n",
              "      <td>18.216310</td>\n",
              "      <td>23.201315</td>\n",
              "      <td>25.258537</td>\n",
              "      <td>23.766517</td>\n",
              "      <td>19.034575</td>\n",
              "      <td>12.992646</td>\n",
              "      <td>7.004094</td>\n",
              "      <td>2.433517</td>\n",
              "    </tr>\n",
              "    <tr>\n",
              "      <th>Angola</th>\n",
              "      <td>AGO</td>\n",
              "      <td>22.582236</td>\n",
              "      <td>22.683536</td>\n",
              "      <td>22.784139</td>\n",
              "      <td>22.353582</td>\n",
              "      <td>20.739575</td>\n",
              "      <td>18.373315</td>\n",
              "      <td>17.946175</td>\n",
              "      <td>19.902466</td>\n",
              "      <td>22.187548</td>\n",
              "      <td>23.181599</td>\n",
              "      <td>22.786151</td>\n",
              "      <td>22.610858</td>\n",
              "    </tr>\n",
              "    <tr>\n",
              "      <th>Albania</th>\n",
              "      <td>ALB</td>\n",
              "      <td>2.023067</td>\n",
              "      <td>3.218058</td>\n",
              "      <td>6.035317</td>\n",
              "      <td>9.917867</td>\n",
              "      <td>14.442750</td>\n",
              "      <td>17.927750</td>\n",
              "      <td>20.538917</td>\n",
              "      <td>20.479667</td>\n",
              "      <td>17.159083</td>\n",
              "      <td>12.265775</td>\n",
              "      <td>7.575808</td>\n",
              "      <td>3.653617</td>\n",
              "    </tr>\n",
              "    <tr>\n",
              "      <th>United Arab Emirates</th>\n",
              "      <td>ARE</td>\n",
              "      <td>18.427522</td>\n",
              "      <td>19.428044</td>\n",
              "      <td>22.612913</td>\n",
              "      <td>26.578435</td>\n",
              "      <td>30.623652</td>\n",
              "      <td>32.457087</td>\n",
              "      <td>33.796130</td>\n",
              "      <td>33.550869</td>\n",
              "      <td>31.743130</td>\n",
              "      <td>28.343218</td>\n",
              "      <td>24.061783</td>\n",
              "      <td>20.283739</td>\n",
              "    </tr>\n",
              "    <tr>\n",
              "      <th>Argentina</th>\n",
              "      <td>ARG</td>\n",
              "      <td>20.803533</td>\n",
              "      <td>19.899523</td>\n",
              "      <td>17.514634</td>\n",
              "      <td>14.046284</td>\n",
              "      <td>10.647732</td>\n",
              "      <td>7.657256</td>\n",
              "      <td>7.421399</td>\n",
              "      <td>9.015955</td>\n",
              "      <td>11.529476</td>\n",
              "      <td>14.674651</td>\n",
              "      <td>17.544032</td>\n",
              "      <td>19.828148</td>\n",
              "    </tr>\n",
              "  </tbody>\n",
              "</table>\n",
              "</div>"
            ],
            "text/plain": [
              "                     Country code   Jan_Temp  ...   Nov_Temp   Dec_temp\n",
              "                                              ...                      \n",
              "Afghanistan                   AFG   0.073058  ...   7.004094   2.433517\n",
              "Angola                        AGO  22.582236  ...  22.786151  22.610858\n",
              "Albania                       ALB   2.023067  ...   7.575808   3.653617\n",
              "United Arab Emirates          ARE  18.427522  ...  24.061783  20.283739\n",
              "Argentina                     ARG  20.803533  ...  17.544032  19.828148\n",
              "\n",
              "[5 rows x 13 columns]"
            ]
          },
          "metadata": {
            "tags": []
          },
          "execution_count": 39
        }
      ]
    },
    {
      "cell_type": "code",
      "metadata": {
        "colab": {
          "base_uri": "https://localhost:8080/",
          "height": 545
        },
        "id": "r7PJSl5qoltR",
        "outputId": "2baeb6af-bafe-4661-8f8c-3c3c738d1a23"
      },
      "source": [
        "temperatureDFV3.iloc[:8].plot.bar(rot=90, figsize=(30,10))\n",
        "plt.ticklabel_format(style='plain', axis='y')\n",
        "plt.title('Monthly Temperature')\n",
        "plt.show()"
      ],
      "execution_count": 40,
      "outputs": [
        {
          "output_type": "display_data",
          "data": {
            "image/png": "[encoded data removed]",
            "text/plain": [
              "<Figure size 2160x720 with 1 Axes>"
            ]
          },
          "metadata": {
            "tags": [],
            "needs_background": "light"
          }
        }
      ]
    },
    {
      "cell_type": "code",
      "metadata": {
        "colab": {
          "base_uri": "https://localhost:8080/",
          "height": 520
        },
        "id": "ppxAX1AbpnqD",
        "outputId": "88ff1986-d6bb-42aa-9c57-a8617544aaa9"
      },
      "source": [
        "temperatureDFV3.iloc[8:16].plot.bar(rot=90, figsize=(30,10))\n",
        "plt.ticklabel_format(style='plain', axis='y')\n",
        "plt.title('Monthly Temperature')\n",
        "plt.show()"
      ],
      "execution_count": 41,
      "outputs": [
        {
          "output_type": "display_data",
          "data": {
            "image/png": "[encoded data removed]",
            "text/plain": [
              "<Figure size 2160x720 with 1 Axes>"
            ]
          },
          "metadata": {
            "tags": [],
            "needs_background": "light"
          }
        }
      ]
    },
    {
      "cell_type": "code",
      "metadata": {
        "colab": {
          "base_uri": "https://localhost:8080/",
          "height": 558
        },
        "id": "polqpM6YqZff",
        "outputId": "e582cb00-7f20-46b8-fb47-4459bc4eabe0"
      },
      "source": [
        "temperatureDFV3.iloc[16:24].plot.bar(rot=90, figsize=(30,10))\n",
        "plt.ticklabel_format(style='plain', axis='y')\n",
        "plt.title('Monthly Temperature')\n",
        "plt.show()"
      ],
      "execution_count": 42,
      "outputs": [
        {
          "output_type": "display_data",
          "data": {
            "image/png": "[encoded data removed]",
            "text/plain": [
              "<Figure size 2160x720 with 1 Axes>"
            ]
          },
          "metadata": {
            "tags": [],
            "needs_background": "light"
          }
        }
      ]
    },
    {
      "cell_type": "markdown",
      "metadata": {
        "id": "bGHT35CDsqw3"
      },
      "source": [
        "**Plotting temperature data for specific countries**"
      ]
    },
    {
      "cell_type": "code",
      "metadata": {
        "id": "31KAiKszqmO0"
      },
      "source": [
        "IndiaTemp = pd.DataFrame(temperatureDFV3.loc['India'])\n",
        "IndiaTempV1 = IndiaTemp.drop(['Country code'])\n",
        "IndiaTempV2 = IndiaTempV1.rename(index={\"Jan_Temp\": \"January\", \"Feb_temp\": 'February', 'Mar_temp': 'March', 'Apr_Temp': 'April', 'May_temp': 'May', 'Jun_Temp': 'June', \n",
        "'July_Temp':\"July\", 'Aug_Temp': 'August', 'Sept_temp': 'September', 'Oct_temp': 'October',  'Nov_Temp': 'November', 'Dec_temp': 'December'})"
      ],
      "execution_count": 68,
      "outputs": []
    },
    {
      "cell_type": "code",
      "metadata": {
        "colab": {
          "base_uri": "https://localhost:8080/",
          "height": 507
        },
        "id": "Q9H1JQQrsnEy",
        "outputId": "c2026362-94f0-4a9a-b947-7d7070481b12"
      },
      "source": [
        "IndiaTempV2.plot.bar(rot=90, figsize=(30,10))\n",
        "plt.ticklabel_format(style='plain', axis='y')\n",
        "plt.title('Monthly Temperature of India')\n",
        "plt.show()"
      ],
      "execution_count": 66,
      "outputs": [
        {
          "output_type": "display_data",
          "data": {
            "image/png": "[encoded data removed]",
            "text/plain": [
              "<Figure size 2160x720 with 1 Axes>"
            ]
          },
          "metadata": {
            "tags": [],
            "needs_background": "light"
          }
        }
      ]
    },
    {
      "cell_type": "code",
      "metadata": {
        "colab": {
          "base_uri": "https://localhost:8080/",
          "height": 507
        },
        "id": "ryAqRBMbs6YK",
        "outputId": "9ff9d63b-3104-4dd3-be58-1f0eeecff69b"
      },
      "source": [
        "NetherlandTemp = pd.DataFrame(temperatureDFV3.loc['Netherlands'])\n",
        "NetherlandTempV1 = NetherlandTemp.drop(['Country code'])\n",
        "NetherlandTempV2 = NetherlandTempV1.rename(index={\"Jan_Temp\": \"January\", \"Feb_temp\": 'February', 'Mar_temp': 'March', 'Apr_Temp': 'April', 'May_temp': 'May', 'Jun_Temp': 'June', \n",
        "'July_Temp':\"July\", 'Aug_Temp': 'August', 'Sept_temp': 'September', 'Oct_temp': 'October',  'Nov_Temp': 'November', 'Dec_temp': 'December'})\n",
        "\n",
        "NetherlandTempV2.plot.bar(rot=90, figsize=(30,10))\n",
        "plt.ticklabel_format(style='plain', axis='y')\n",
        "plt.title('Monthly Temperature of the Netherlands')\n",
        "plt.show()"
      ],
      "execution_count": 67,
      "outputs": [
        {
          "output_type": "display_data",
          "data": {
            "image/png": "[encoded data removed]",
            "text/plain": [
              "<Figure size 2160x720 with 1 Axes>"
            ]
          },
          "metadata": {
            "tags": [],
            "needs_background": "light"
          }
        }
      ]
    },
    {
      "cell_type": "markdown",
      "metadata": {
        "id": "0b9tjCORyHYA"
      },
      "source": [
        "**Precipitation data for different countries**"
      ]
    },
    {
      "cell_type": "code",
      "metadata": {
        "colab": {
          "base_uri": "https://localhost:8080/",
          "height": 275
        },
        "id": "kLDGqDPTv0w2",
        "outputId": "7a0d85f0-4441-4571-aec3-5676768411c7"
      },
      "source": [
        "# Country Precipitation\n",
        "Country_precipitation_DF = Country_precipitation.rename(columns={'ISO_3DIGIT': 'Country code'})\n",
        "Country_precipitation_DFV1 = Country_precipitation_DF.merge(Country_code_namesDF, how='left')\n",
        "# Drop duplicates\n",
        "Country_precipitation_DFV2 = Country_precipitation_DFV1.drop_duplicates()\n",
        "Country_precipitation_DFV2.head()"
      ],
      "execution_count": 72,
      "outputs": [
        {
          "output_type": "execute_result",
          "data": {
            "text/html": [
              "<div>\n",
              "<style scoped>\n",
              "    .dataframe tbody tr th:only-of-type {\n",
              "        vertical-align: middle;\n",
              "    }\n",
              "\n",
              "    .dataframe tbody tr th {\n",
              "        vertical-align: top;\n",
              "    }\n",
              "\n",
              "    .dataframe thead th {\n",
              "        text-align: right;\n",
              "    }\n",
              "</style>\n",
              "<table border=\"1\" class=\"dataframe\">\n",
              "  <thead>\n",
              "    <tr style=\"text-align: right;\">\n",
              "      <th></th>\n",
              "      <th>Country code</th>\n",
              "      <th>Jan_precip</th>\n",
              "      <th>Feb_precip</th>\n",
              "      <th>Mar_precip</th>\n",
              "      <th>Apr_precip</th>\n",
              "      <th>May_precip</th>\n",
              "      <th>Jun_precip</th>\n",
              "      <th>July_precip</th>\n",
              "      <th>Aug_precip</th>\n",
              "      <th>Sept_precip</th>\n",
              "      <th>Oct_precip</th>\n",
              "      <th>Nov_precip</th>\n",
              "      <th>Dec_precip</th>\n",
              "      <th>Annual_precip</th>\n",
              "      <th>Country name</th>\n",
              "    </tr>\n",
              "  </thead>\n",
              "  <tbody>\n",
              "    <tr>\n",
              "      <th>0</th>\n",
              "      <td>AFG</td>\n",
              "      <td>43.275641</td>\n",
              "      <td>49.184578</td>\n",
              "      <td>64.971418</td>\n",
              "      <td>49.406624</td>\n",
              "      <td>24.182488</td>\n",
              "      <td>4.559185</td>\n",
              "      <td>8.034326</td>\n",
              "      <td>7.736403</td>\n",
              "      <td>3.667420</td>\n",
              "      <td>9.355273</td>\n",
              "      <td>15.409127</td>\n",
              "      <td>31.539374</td>\n",
              "      <td>311.321856</td>\n",
              "      <td>Afghanistan</td>\n",
              "    </tr>\n",
              "    <tr>\n",
              "      <th>58</th>\n",
              "      <td>AGO</td>\n",
              "      <td>154.987404</td>\n",
              "      <td>148.544214</td>\n",
              "      <td>169.914693</td>\n",
              "      <td>109.072267</td>\n",
              "      <td>15.142675</td>\n",
              "      <td>0.372332</td>\n",
              "      <td>0.321137</td>\n",
              "      <td>3.413405</td>\n",
              "      <td>20.102274</td>\n",
              "      <td>69.766698</td>\n",
              "      <td>144.510161</td>\n",
              "      <td>155.158423</td>\n",
              "      <td>991.305683</td>\n",
              "      <td>Angola</td>\n",
              "    </tr>\n",
              "    <tr>\n",
              "      <th>116</th>\n",
              "      <td>ALB</td>\n",
              "      <td>107.999418</td>\n",
              "      <td>102.625834</td>\n",
              "      <td>93.433083</td>\n",
              "      <td>86.162500</td>\n",
              "      <td>74.273917</td>\n",
              "      <td>54.579168</td>\n",
              "      <td>39.075000</td>\n",
              "      <td>45.696333</td>\n",
              "      <td>67.568500</td>\n",
              "      <td>105.261417</td>\n",
              "      <td>138.264167</td>\n",
              "      <td>138.295834</td>\n",
              "      <td>1053.235184</td>\n",
              "      <td>Albania</td>\n",
              "    </tr>\n",
              "    <tr>\n",
              "      <th>174</th>\n",
              "      <td>ARE</td>\n",
              "      <td>5.955387</td>\n",
              "      <td>22.178000</td>\n",
              "      <td>16.587609</td>\n",
              "      <td>8.961470</td>\n",
              "      <td>1.080574</td>\n",
              "      <td>1.094061</td>\n",
              "      <td>2.284059</td>\n",
              "      <td>1.405504</td>\n",
              "      <td>0.495943</td>\n",
              "      <td>0.428552</td>\n",
              "      <td>1.740576</td>\n",
              "      <td>5.600291</td>\n",
              "      <td>67.812025</td>\n",
              "      <td>United Arab Emirates</td>\n",
              "    </tr>\n",
              "    <tr>\n",
              "      <th>232</th>\n",
              "      <td>ARG</td>\n",
              "      <td>68.370440</td>\n",
              "      <td>63.654088</td>\n",
              "      <td>69.531037</td>\n",
              "      <td>46.481148</td>\n",
              "      <td>36.282154</td>\n",
              "      <td>28.080046</td>\n",
              "      <td>25.894385</td>\n",
              "      <td>24.096768</td>\n",
              "      <td>30.073554</td>\n",
              "      <td>47.715487</td>\n",
              "      <td>55.566664</td>\n",
              "      <td>63.300102</td>\n",
              "      <td>559.045871</td>\n",
              "      <td>Argentina</td>\n",
              "    </tr>\n",
              "  </tbody>\n",
              "</table>\n",
              "</div>"
            ],
            "text/plain": [
              "    Country code  Jan_precip  ...  Annual_precip          Country name\n",
              "0            AFG   43.275641  ...     311.321856           Afghanistan\n",
              "58           AGO  154.987404  ...     991.305683                Angola\n",
              "116          ALB  107.999418  ...    1053.235184               Albania\n",
              "174          ARE    5.955387  ...      67.812025  United Arab Emirates\n",
              "232          ARG   68.370440  ...     559.045871             Argentina\n",
              "\n",
              "[5 rows x 15 columns]"
            ]
          },
          "metadata": {
            "tags": []
          },
          "execution_count": 72
        }
      ]
    },
    {
      "cell_type": "code",
      "metadata": {
        "colab": {
          "base_uri": "https://localhost:8080/",
          "height": 252
        },
        "id": "Lb2__kJhypGS",
        "outputId": "80a410c4-85e5-48e7-c46a-245636fc3c9b"
      },
      "source": [
        "precipitationDF = Country_precipitation_DFV2.rename(columns={'Country name': ''})\n",
        "precipitationDFV1 = precipitationDF.set_index(precipitationDF.iloc[:, -1])\n",
        "precipitationDFV2 = precipitationDFV1.drop(precipitationDFV1.columns[-1], axis=1)\n",
        "precipitationDFV3 = precipitationDFV2.drop(precipitationDFV2.columns[-1], axis=1)\n",
        "precipitationDFV3.head()"
      ],
      "execution_count": 71,
      "outputs": [
        {
          "output_type": "execute_result",
          "data": {
            "text/html": [
              "<div>\n",
              "<style scoped>\n",
              "    .dataframe tbody tr th:only-of-type {\n",
              "        vertical-align: middle;\n",
              "    }\n",
              "\n",
              "    .dataframe tbody tr th {\n",
              "        vertical-align: top;\n",
              "    }\n",
              "\n",
              "    .dataframe thead th {\n",
              "        text-align: right;\n",
              "    }\n",
              "</style>\n",
              "<table border=\"1\" class=\"dataframe\">\n",
              "  <thead>\n",
              "    <tr style=\"text-align: right;\">\n",
              "      <th></th>\n",
              "      <th>Country code</th>\n",
              "      <th>Jan_precip</th>\n",
              "      <th>Feb_precip</th>\n",
              "      <th>Mar_precip</th>\n",
              "      <th>Apr_precip</th>\n",
              "      <th>May_precip</th>\n",
              "      <th>Jun_precip</th>\n",
              "      <th>July_precip</th>\n",
              "      <th>Aug_precip</th>\n",
              "      <th>Sept_precip</th>\n",
              "      <th>Oct_precip</th>\n",
              "      <th>Nov_precip</th>\n",
              "      <th>Dec_precip</th>\n",
              "    </tr>\n",
              "    <tr>\n",
              "      <th></th>\n",
              "      <th></th>\n",
              "      <th></th>\n",
              "      <th></th>\n",
              "      <th></th>\n",
              "      <th></th>\n",
              "      <th></th>\n",
              "      <th></th>\n",
              "      <th></th>\n",
              "      <th></th>\n",
              "      <th></th>\n",
              "      <th></th>\n",
              "      <th></th>\n",
              "      <th></th>\n",
              "    </tr>\n",
              "  </thead>\n",
              "  <tbody>\n",
              "    <tr>\n",
              "      <th>Afghanistan</th>\n",
              "      <td>AFG</td>\n",
              "      <td>43.275641</td>\n",
              "      <td>49.184578</td>\n",
              "      <td>64.971418</td>\n",
              "      <td>49.406624</td>\n",
              "      <td>24.182488</td>\n",
              "      <td>4.559185</td>\n",
              "      <td>8.034326</td>\n",
              "      <td>7.736403</td>\n",
              "      <td>3.667420</td>\n",
              "      <td>9.355273</td>\n",
              "      <td>15.409127</td>\n",
              "      <td>31.539374</td>\n",
              "    </tr>\n",
              "    <tr>\n",
              "      <th>Angola</th>\n",
              "      <td>AGO</td>\n",
              "      <td>154.987404</td>\n",
              "      <td>148.544214</td>\n",
              "      <td>169.914693</td>\n",
              "      <td>109.072267</td>\n",
              "      <td>15.142675</td>\n",
              "      <td>0.372332</td>\n",
              "      <td>0.321137</td>\n",
              "      <td>3.413405</td>\n",
              "      <td>20.102274</td>\n",
              "      <td>69.766698</td>\n",
              "      <td>144.510161</td>\n",
              "      <td>155.158423</td>\n",
              "    </tr>\n",
              "    <tr>\n",
              "      <th>Albania</th>\n",
              "      <td>ALB</td>\n",
              "      <td>107.999418</td>\n",
              "      <td>102.625834</td>\n",
              "      <td>93.433083</td>\n",
              "      <td>86.162500</td>\n",
              "      <td>74.273917</td>\n",
              "      <td>54.579168</td>\n",
              "      <td>39.075000</td>\n",
              "      <td>45.696333</td>\n",
              "      <td>67.568500</td>\n",
              "      <td>105.261417</td>\n",
              "      <td>138.264167</td>\n",
              "      <td>138.295834</td>\n",
              "    </tr>\n",
              "    <tr>\n",
              "      <th>United Arab Emirates</th>\n",
              "      <td>ARE</td>\n",
              "      <td>5.955387</td>\n",
              "      <td>22.178000</td>\n",
              "      <td>16.587609</td>\n",
              "      <td>8.961470</td>\n",
              "      <td>1.080574</td>\n",
              "      <td>1.094061</td>\n",
              "      <td>2.284059</td>\n",
              "      <td>1.405504</td>\n",
              "      <td>0.495943</td>\n",
              "      <td>0.428552</td>\n",
              "      <td>1.740576</td>\n",
              "      <td>5.600291</td>\n",
              "    </tr>\n",
              "    <tr>\n",
              "      <th>Argentina</th>\n",
              "      <td>ARG</td>\n",
              "      <td>68.370440</td>\n",
              "      <td>63.654088</td>\n",
              "      <td>69.531037</td>\n",
              "      <td>46.481148</td>\n",
              "      <td>36.282154</td>\n",
              "      <td>28.080046</td>\n",
              "      <td>25.894385</td>\n",
              "      <td>24.096768</td>\n",
              "      <td>30.073554</td>\n",
              "      <td>47.715487</td>\n",
              "      <td>55.566664</td>\n",
              "      <td>63.300102</td>\n",
              "    </tr>\n",
              "  </tbody>\n",
              "</table>\n",
              "</div>"
            ],
            "text/plain": [
              "                     Country code  Jan_precip  ...  Nov_precip  Dec_precip\n",
              "                                               ...                        \n",
              "Afghanistan                   AFG   43.275641  ...   15.409127   31.539374\n",
              "Angola                        AGO  154.987404  ...  144.510161  155.158423\n",
              "Albania                       ALB  107.999418  ...  138.264167  138.295834\n",
              "United Arab Emirates          ARE    5.955387  ...    1.740576    5.600291\n",
              "Argentina                     ARG   68.370440  ...   55.566664   63.300102\n",
              "\n",
              "[5 rows x 13 columns]"
            ]
          },
          "metadata": {
            "tags": []
          },
          "execution_count": 71
        }
      ]
    },
    {
      "cell_type": "code",
      "metadata": {
        "colab": {
          "base_uri": "https://localhost:8080/",
          "height": 545
        },
        "id": "PP5PZUwwzLbh",
        "outputId": "e28e49c4-c445-4694-82e7-05f5729ccd7d"
      },
      "source": [
        "precipitationDFV3.iloc[:8].plot.bar(rot=90, figsize=(30,10))\n",
        "plt.ticklabel_format(style='plain', axis='y')\n",
        "plt.title('Monthly Precipitation')\n",
        "plt.show()"
      ],
      "execution_count": 74,
      "outputs": [
        {
          "output_type": "display_data",
          "data": {
            "image/png": "[encoded data removed]",
            "text/plain": [
              "<Figure size 2160x720 with 1 Axes>"
            ]
          },
          "metadata": {
            "tags": [],
            "needs_background": "light"
          }
        }
      ]
    },
    {
      "cell_type": "code",
      "metadata": {
        "colab": {
          "base_uri": "https://localhost:8080/",
          "height": 518
        },
        "id": "IyKpgFXUzYKF",
        "outputId": "33e0d1a6-4771-45e5-a256-1d17776b4954"
      },
      "source": [
        "precipitationDFV3.iloc[8:16].plot.bar(rot=90, figsize=(30,10))\n",
        "plt.ticklabel_format(style='plain', axis='y')\n",
        "plt.title('Monthly Precipitation')\n",
        "plt.show()"
      ],
      "execution_count": 75,
      "outputs": [
        {
          "output_type": "display_data",
          "data": {
            "image/png": "[encoded data removed]",
            "text/plain": [
              "<Figure size 2160x720 with 1 Axes>"
            ]
          },
          "metadata": {
            "tags": [],
            "needs_background": "light"
          }
        }
      ]
    },
    {
      "cell_type": "code",
      "metadata": {
        "colab": {
          "base_uri": "https://localhost:8080/",
          "height": 557
        },
        "id": "s9pc_eonzklB",
        "outputId": "e15f940e-acb9-4a3e-9764-df26893ca88d"
      },
      "source": [
        "precipitationDFV3.iloc[16:24].plot.bar(rot=90, figsize=(30,10))\n",
        "plt.ticklabel_format(style='plain', axis='y')\n",
        "plt.title('Monthly Precipitation')\n",
        "plt.show()"
      ],
      "execution_count": 76,
      "outputs": [
        {
          "output_type": "display_data",
          "data": {
            "image/png": "[encoded data removed]",
            "text/plain": [
              "<Figure size 2160x720 with 1 Axes>"
            ]
          },
          "metadata": {
            "tags": [],
            "needs_background": "light"
          }
        }
      ]
    },
    {
      "cell_type": "markdown",
      "metadata": {
        "id": "AN_Ue4X5z2NE"
      },
      "source": [
        "**Plotting precipitation for specific countries**"
      ]
    },
    {
      "cell_type": "code",
      "metadata": {
        "colab": {
          "base_uri": "https://localhost:8080/",
          "height": 505
        },
        "id": "3m5a6VYYzp8J",
        "outputId": "6e6a0b96-6378-4d22-dcc7-55dc8ca82580"
      },
      "source": [
        "IndiaPrecip = pd.DataFrame(precipitationDFV3.loc['India'])\n",
        "IndiaPrecipV1 = IndiaPrecip.drop(['Country code'])\n",
        "IndiaPrecipV1\n",
        "IndiaPrecipV2 = IndiaPrecipV1.rename(index={\"Jan_precip\": \"January\", \"Feb_precip\": 'February', 'Mar_precip': 'March', 'Apr_precip': 'April', 'May_precip': 'May', 'Jun_precip': 'June', \n",
        "'July_precip':\"July\", 'Aug_precip': 'August', 'Sept_precip': 'September', 'Oct_precip': 'October',  'Nov_precip': 'November', 'Dec_precip': 'December'})\n",
        "\n",
        "IndiaPrecipV2.plot.bar(rot=90, figsize=(30,10))\n",
        "plt.ticklabel_format(style='plain', axis='y')\n",
        "plt.title('Monthly Precipitation of the India')\n",
        "plt.show()"
      ],
      "execution_count": 82,
      "outputs": [
        {
          "output_type": "display_data",
          "data": {
            "image/png": "[encoded data removed]",
            "text/plain": [
              "<Figure size 2160x720 with 1 Axes>"
            ]
          },
          "metadata": {
            "tags": [],
            "needs_background": "light"
          }
        }
      ]
    },
    {
      "cell_type": "code",
      "metadata": {
        "colab": {
          "base_uri": "https://localhost:8080/",
          "height": 507
        },
        "id": "xdZieeKH0Tso",
        "outputId": "0b8116c6-c518-4d10-9464-d4f119d0fe2d"
      },
      "source": [
        "NetherlandsPrecip = pd.DataFrame(precipitationDFV3.loc['Netherlands'])\n",
        "NetherlandsPrecipV1 = NetherlandsPrecip.drop(['Country code'])\n",
        "\n",
        "NetherlandsPrecipV2 = NetherlandsPrecipV1.rename(index={\"Jan_precip\": \"January\", \"Feb_precip\": 'February', 'Mar_precip': 'March', 'Apr_precip': 'April', 'May_precip': 'May', 'Jun_precip': 'June', \n",
        "'July_precip':\"July\", 'Aug_precip': 'August', 'Sept_precip': 'September', 'Oct_precip': 'October',  'Nov_precip': 'November', 'Dec_precip': 'December'})\n",
        "\n",
        "NetherlandsPrecipV2.plot.bar(rot=90, figsize=(30,10))\n",
        "plt.ticklabel_format(style='plain', axis='y')\n",
        "plt.title('Monthly Precipitation of the Netherlands')\n",
        "plt.show()"
      ],
      "execution_count": 83,
      "outputs": [
        {
          "output_type": "display_data",
          "data": {
            "image/png": "[encoded data removed]",
            "text/plain": [
              "<Figure size 2160x720 with 1 Axes>"
            ]
          },
          "metadata": {
            "tags": [],
            "needs_background": "light"
          }
        }
      ]
    },
    {
      "cell_type": "markdown",
      "metadata": {
        "id": "uURnCkUr1OkH"
      },
      "source": [
        "**Precipitation to Temperature plots - India**"
      ]
    },
    {
      "cell_type": "code",
      "metadata": {
        "id": "ODOKNgAY1Bu_"
      },
      "source": [
        "IndiaPrecip_compareDF = IndiaPrecipV2\n",
        "IndiaTemp_compareDF = IndiaTempV2"
      ],
      "execution_count": 89,
      "outputs": []
    },
    {
      "cell_type": "code",
      "metadata": {
        "colab": {
          "base_uri": "https://localhost:8080/",
          "height": 421
        },
        "id": "hwwG99MV1peX",
        "outputId": "a9e73381-cc18-4a1f-b71a-c8bbdc65cb1b"
      },
      "source": [
        "India_preci_temp_DF = pd.merge(IndiaPrecip_compareDF, IndiaTemp_compareDF, left_index=True, right_index=True)\n",
        "India_preci_temp_DFV1 = India_preci_temp_DF.rename(columns={'India_x':'Precipitation', 'India_y': 'Temperature'})\n",
        "India_preci_temp_DFV1"
      ],
      "execution_count": 99,
      "outputs": [
        {
          "output_type": "execute_result",
          "data": {
            "text/html": [
              "<div>\n",
              "<style scoped>\n",
              "    .dataframe tbody tr th:only-of-type {\n",
              "        vertical-align: middle;\n",
              "    }\n",
              "\n",
              "    .dataframe tbody tr th {\n",
              "        vertical-align: top;\n",
              "    }\n",
              "\n",
              "    .dataframe thead th {\n",
              "        text-align: right;\n",
              "    }\n",
              "</style>\n",
              "<table border=\"1\" class=\"dataframe\">\n",
              "  <thead>\n",
              "    <tr style=\"text-align: right;\">\n",
              "      <th></th>\n",
              "      <th>Precipitation</th>\n",
              "      <th>Temperature</th>\n",
              "    </tr>\n",
              "  </thead>\n",
              "  <tbody>\n",
              "    <tr>\n",
              "      <th>January</th>\n",
              "      <td>11.2114</td>\n",
              "      <td>16.8414</td>\n",
              "    </tr>\n",
              "    <tr>\n",
              "      <th>February</th>\n",
              "      <td>13.219</td>\n",
              "      <td>19.1491</td>\n",
              "    </tr>\n",
              "    <tr>\n",
              "      <th>March</th>\n",
              "      <td>18.2215</td>\n",
              "      <td>23.45</td>\n",
              "    </tr>\n",
              "    <tr>\n",
              "      <th>April</th>\n",
              "      <td>31.463</td>\n",
              "      <td>27.4321</td>\n",
              "    </tr>\n",
              "    <tr>\n",
              "      <th>May</th>\n",
              "      <td>55.5254</td>\n",
              "      <td>29.528</td>\n",
              "    </tr>\n",
              "    <tr>\n",
              "      <th>June</th>\n",
              "      <td>155.401</td>\n",
              "      <td>28.9643</td>\n",
              "    </tr>\n",
              "    <tr>\n",
              "      <th>July</th>\n",
              "      <td>266.925</td>\n",
              "      <td>26.9129</td>\n",
              "    </tr>\n",
              "    <tr>\n",
              "      <th>August</th>\n",
              "      <td>249.321</td>\n",
              "      <td>26.2309</td>\n",
              "    </tr>\n",
              "    <tr>\n",
              "      <th>September</th>\n",
              "      <td>163.085</td>\n",
              "      <td>26.0513</td>\n",
              "    </tr>\n",
              "    <tr>\n",
              "      <th>October</th>\n",
              "      <td>68.8583</td>\n",
              "      <td>24.5157</td>\n",
              "    </tr>\n",
              "    <tr>\n",
              "      <th>November</th>\n",
              "      <td>26.1148</td>\n",
              "      <td>20.7918</td>\n",
              "    </tr>\n",
              "    <tr>\n",
              "      <th>December</th>\n",
              "      <td>12.8728</td>\n",
              "      <td>17.4779</td>\n",
              "    </tr>\n",
              "  </tbody>\n",
              "</table>\n",
              "</div>"
            ],
            "text/plain": [
              "          Precipitation Temperature\n",
              "January         11.2114     16.8414\n",
              "February         13.219     19.1491\n",
              "March           18.2215       23.45\n",
              "April            31.463     27.4321\n",
              "May             55.5254      29.528\n",
              "June            155.401     28.9643\n",
              "July            266.925     26.9129\n",
              "August          249.321     26.2309\n",
              "September       163.085     26.0513\n",
              "October         68.8583     24.5157\n",
              "November        26.1148     20.7918\n",
              "December        12.8728     17.4779"
            ]
          },
          "metadata": {
            "tags": []
          },
          "execution_count": 99
        }
      ]
    },
    {
      "cell_type": "code",
      "metadata": {
        "colab": {
          "base_uri": "https://localhost:8080/",
          "height": 505
        },
        "id": "MbPaCLVF1sqG",
        "outputId": "915752e5-076d-46d4-d36f-6b46244beaea"
      },
      "source": [
        "India_preci_temp_DFV1.plot.bar(rot=90, figsize=(30,10))\n",
        "plt.ticklabel_format(style='plain', axis='y')\n",
        "plt.title('India - Temperature : Precipitation comparison')\n",
        "plt.show()"
      ],
      "execution_count": 100,
      "outputs": [
        {
          "output_type": "display_data",
          "data": {
            "image/png": "[encoded data removed]",
            "text/plain": [
              "<Figure size 2160x720 with 1 Axes>"
            ]
          },
          "metadata": {
            "tags": [],
            "needs_background": "light"
          }
        }
      ]
    },
    {
      "cell_type": "markdown",
      "metadata": {
        "id": "LLDq6Xjb4R8l"
      },
      "source": [
        "**Temperature to Precipitation - The Netherlands**"
      ]
    },
    {
      "cell_type": "code",
      "metadata": {
        "id": "4j2kwJ_T4Kkr"
      },
      "source": [
        "NetherlandsPrecip_compareDF = NetherlandsPrecipV2\n",
        "NetherlandsTemp_compareDF = NetherlandTempV2"
      ],
      "execution_count": 102,
      "outputs": []
    },
    {
      "cell_type": "code",
      "metadata": {
        "colab": {
          "base_uri": "https://localhost:8080/",
          "height": 421
        },
        "id": "s9670d_f4i6f",
        "outputId": "d5c73318-be65-4f61-d6b9-52da31ce97ed"
      },
      "source": [
        "Netherlands_preci_temp_DF = pd.merge(NetherlandsPrecip_compareDF, NetherlandsTemp_compareDF, left_index=True, right_index=True)\n",
        "Netherlands_preci_temp_DFV1 = Netherlands_preci_temp_DF.rename(columns={'Netherlands_x':'Precipitation', 'Netherlands_y': 'Temperature'})\n",
        "Netherlands_preci_temp_DFV1"
      ],
      "execution_count": 106,
      "outputs": [
        {
          "output_type": "execute_result",
          "data": {
            "text/html": [
              "<div>\n",
              "<style scoped>\n",
              "    .dataframe tbody tr th:only-of-type {\n",
              "        vertical-align: middle;\n",
              "    }\n",
              "\n",
              "    .dataframe tbody tr th {\n",
              "        vertical-align: top;\n",
              "    }\n",
              "\n",
              "    .dataframe thead th {\n",
              "        text-align: right;\n",
              "    }\n",
              "</style>\n",
              "<table border=\"1\" class=\"dataframe\">\n",
              "  <thead>\n",
              "    <tr style=\"text-align: right;\">\n",
              "      <th></th>\n",
              "      <th>Precipitation</th>\n",
              "      <th>Temperature</th>\n",
              "    </tr>\n",
              "  </thead>\n",
              "  <tbody>\n",
              "    <tr>\n",
              "      <th>January</th>\n",
              "      <td>65.5065</td>\n",
              "      <td>1.99377</td>\n",
              "    </tr>\n",
              "    <tr>\n",
              "      <th>February</th>\n",
              "      <td>44.5928</td>\n",
              "      <td>2.37355</td>\n",
              "    </tr>\n",
              "    <tr>\n",
              "      <th>March</th>\n",
              "      <td>60.1059</td>\n",
              "      <td>4.94501</td>\n",
              "    </tr>\n",
              "    <tr>\n",
              "      <th>April</th>\n",
              "      <td>46.7444</td>\n",
              "      <td>7.56291</td>\n",
              "    </tr>\n",
              "    <tr>\n",
              "      <th>May</th>\n",
              "      <td>56.0627</td>\n",
              "      <td>11.9836</td>\n",
              "    </tr>\n",
              "    <tr>\n",
              "      <th>June</th>\n",
              "      <td>66.4131</td>\n",
              "      <td>14.7219</td>\n",
              "    </tr>\n",
              "    <tr>\n",
              "      <th>July</th>\n",
              "      <td>73.1975</td>\n",
              "      <td>16.5509</td>\n",
              "    </tr>\n",
              "    <tr>\n",
              "      <th>August</th>\n",
              "      <td>65.1416</td>\n",
              "      <td>16.6399</td>\n",
              "    </tr>\n",
              "    <tr>\n",
              "      <th>September</th>\n",
              "      <td>66.675</td>\n",
              "      <td>13.8956</td>\n",
              "    </tr>\n",
              "    <tr>\n",
              "      <th>October</th>\n",
              "      <td>69.2403</td>\n",
              "      <td>10.3474</td>\n",
              "    </tr>\n",
              "    <tr>\n",
              "      <th>November</th>\n",
              "      <td>77.0246</td>\n",
              "      <td>5.91624</td>\n",
              "    </tr>\n",
              "    <tr>\n",
              "      <th>December</th>\n",
              "      <td>75.3646</td>\n",
              "      <td>3.49061</td>\n",
              "    </tr>\n",
              "  </tbody>\n",
              "</table>\n",
              "</div>"
            ],
            "text/plain": [
              "          Precipitation Temperature\n",
              "January         65.5065     1.99377\n",
              "February        44.5928     2.37355\n",
              "March           60.1059     4.94501\n",
              "April           46.7444     7.56291\n",
              "May             56.0627     11.9836\n",
              "June            66.4131     14.7219\n",
              "July            73.1975     16.5509\n",
              "August          65.1416     16.6399\n",
              "September        66.675     13.8956\n",
              "October         69.2403     10.3474\n",
              "November        77.0246     5.91624\n",
              "December        75.3646     3.49061"
            ]
          },
          "metadata": {
            "tags": []
          },
          "execution_count": 106
        }
      ]
    },
    {
      "cell_type": "code",
      "metadata": {
        "colab": {
          "base_uri": "https://localhost:8080/",
          "height": 507
        },
        "id": "RJGyxTYW4z66",
        "outputId": "d7fb718c-cf31-45b6-ce10-48ffe98d10a6"
      },
      "source": [
        "Netherlands_preci_temp_DFV1.plot.bar(rot=90, figsize=(30,10))\n",
        "plt.ticklabel_format(style='plain', axis='y')\n",
        "plt.title('The Netherlands - Temperature : Precipitation comparison')\n",
        "plt.show()"
      ],
      "execution_count": 108,
      "outputs": [
        {
          "output_type": "display_data",
          "data": {
            "image/png": "[encoded data removed]",
            "text/plain": [
              "<Figure size 2160x720 with 1 Axes>"
            ]
          },
          "metadata": {
            "tags": [],
            "needs_background": "light"
          }
        }
      ]
    },
    {
      "cell_type": "code",
      "metadata": {
        "id": "PMENxOBo5cIe"
      },
      "source": [
        ""
      ],
      "execution_count": null,
      "outputs": []
    }
  ]
}