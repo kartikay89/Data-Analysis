{
  "nbformat": 4,
  "nbformat_minor": 0,
  "metadata": {
    "colab": {
      "name": "MachineLearning_ALgorithms.ipynb",
      "provenance": [],
      "collapsed_sections": [],
      "mount_file_id": "1jDbBkcX6umN4YskJwQZQ_LEhJuqZBYsS",
      "authorship_tag": "ABX9TyNa/JhLWw1rUiNjeoS2+ioX",
      "include_colab_link": true
    },
    "kernelspec": {
      "name": "python3",
      "display_name": "Python 3"
    }
  },
  "cells": [
    {
      "cell_type": "markdown",
      "metadata": {
        "id": "view-in-github",
        "colab_type": "text"
      },
      "source": [
        "<a href=\"https://colab.research.google.com/github/kartikay89/Data-Analysis/blob/main/MachineLearning_ALgorithms.ipynb\" target=\"_parent\"><img src=\"https://colab.research.google.com/assets/colab-badge.svg\" alt=\"Open In Colab\"/></a>"
      ]
    },
    {
      "cell_type": "markdown",
      "metadata": {
        "id": "xl0YCn9_6l1R"
      },
      "source": [
        "**This notebook is dedicated to practising different Machine learning Algorithms**\n",
        "\n",
        "The alogrithms are in the order:\n",
        "\n",
        "\n",
        "*   Unsupervised Learning\n",
        "\n",
        "\n",
        "1. K-means clustering"
      ]
    },
    {
      "cell_type": "markdown",
      "metadata": {
        "id": "iyb6ws8hLruf"
      },
      "source": [
        "**Unsupervised Learning**\n",
        "\n",
        "**K-Means clustering**\n",
        "\n",
        "Article: https://realpython.com/k-means-clustering-python/"
      ]
    },
    {
      "cell_type": "code",
      "metadata": {
        "id": "QQZ_Y84v680q"
      },
      "source": [
        "from sklearn.cluster import KMeans\n",
        "from sklearn.preprocessing import MinMaxScaler\n",
        "import matplotlib.pyplot as plt\n",
        "import pandas as pd\n",
        "from sklearn.feature_extraction.text import TfidfVectorizer\n",
        "\n",
        "%matplotlib inline"
      ],
      "execution_count": 96,
      "outputs": []
    },
    {
      "cell_type": "code",
      "metadata": {
        "id": "x9BsCli9-uhJ"
      },
      "source": [
        "# Creating random data for salary clustering\n",
        "\n",
        "incomeDF = {\n",
        "    'Name': ['Kartikay', 'Mayank', 'Dileep', 'Saroj', 'Alika', 'Shruti', 'Reshmi', 'Robin', 'Dhananjay', 'Monu', 'Jijaji', 'xyz', 'abc', 'pqr'],\n",
        "    'Age': [30, 29, 60, 60, 24, 30, 28, 30, 65, 35, 35, 15, 120, 200],\n",
        "    'Income($)': [30000, 300000, 150000, 13000000, 500000, 4000000, 20000000, 70000, 8000000, 0, 1000000, 10000, 5000000, 80000]\n",
        "}\n",
        "\n",
        "IncomeData = pd.DataFrame(incomeDF)"
      ],
      "execution_count": 97,
      "outputs": []
    },
    {
      "cell_type": "code",
      "metadata": {
        "colab": {
          "base_uri": "https://localhost:8080/",
          "height": 204
        },
        "id": "vTMHDHw-GeSb",
        "outputId": "88a0862f-5839-4fac-a3ca-e5134bd1ed72"
      },
      "source": [
        "IncomeData.head()"
      ],
      "execution_count": 98,
      "outputs": [
        {
          "output_type": "execute_result",
          "data": {
            "text/html": [
              "<div>\n",
              "<style scoped>\n",
              "    .dataframe tbody tr th:only-of-type {\n",
              "        vertical-align: middle;\n",
              "    }\n",
              "\n",
              "    .dataframe tbody tr th {\n",
              "        vertical-align: top;\n",
              "    }\n",
              "\n",
              "    .dataframe thead th {\n",
              "        text-align: right;\n",
              "    }\n",
              "</style>\n",
              "<table border=\"1\" class=\"dataframe\">\n",
              "  <thead>\n",
              "    <tr style=\"text-align: right;\">\n",
              "      <th></th>\n",
              "      <th>Name</th>\n",
              "      <th>Age</th>\n",
              "      <th>Income($)</th>\n",
              "    </tr>\n",
              "  </thead>\n",
              "  <tbody>\n",
              "    <tr>\n",
              "      <th>0</th>\n",
              "      <td>Kartikay</td>\n",
              "      <td>30</td>\n",
              "      <td>30000</td>\n",
              "    </tr>\n",
              "    <tr>\n",
              "      <th>1</th>\n",
              "      <td>Mayank</td>\n",
              "      <td>29</td>\n",
              "      <td>300000</td>\n",
              "    </tr>\n",
              "    <tr>\n",
              "      <th>2</th>\n",
              "      <td>Dileep</td>\n",
              "      <td>60</td>\n",
              "      <td>150000</td>\n",
              "    </tr>\n",
              "    <tr>\n",
              "      <th>3</th>\n",
              "      <td>Saroj</td>\n",
              "      <td>60</td>\n",
              "      <td>13000000</td>\n",
              "    </tr>\n",
              "    <tr>\n",
              "      <th>4</th>\n",
              "      <td>Alika</td>\n",
              "      <td>24</td>\n",
              "      <td>500000</td>\n",
              "    </tr>\n",
              "  </tbody>\n",
              "</table>\n",
              "</div>"
            ],
            "text/plain": [
              "       Name  Age  Income($)\n",
              "0  Kartikay   30      30000\n",
              "1    Mayank   29     300000\n",
              "2    Dileep   60     150000\n",
              "3     Saroj   60   13000000\n",
              "4     Alika   24     500000"
            ]
          },
          "metadata": {
            "tags": []
          },
          "execution_count": 98
        }
      ]
    },
    {
      "cell_type": "code",
      "metadata": {
        "colab": {
          "base_uri": "https://localhost:8080/",
          "height": 307
        },
        "id": "7o_IVbx3Guvn",
        "outputId": "a0f599fe-af2a-4b9b-971c-edaa783fd235"
      },
      "source": [
        "plt.scatter(IncomeData['Age'], IncomeData['Income($)'])\n",
        "plt.xlabel('Age')\n",
        "plt.ylabel('Income($)')"
      ],
      "execution_count": 99,
      "outputs": [
        {
          "output_type": "execute_result",
          "data": {
            "text/plain": [
              "Text(0, 0.5, 'Income($)')"
            ]
          },
          "metadata": {
            "tags": []
          },
          "execution_count": 99
        },
        {
          "output_type": "display_data",
          "data": {
            "image/png": "[encoded data removed]",
            "text/plain": [
              "<Figure size 432x288 with 1 Axes>"
            ]
          },
          "metadata": {
            "tags": [],
            "needs_background": "light"
          }
        }
      ]
    },
    {
      "cell_type": "code",
      "metadata": {
        "colab": {
          "base_uri": "https://localhost:8080/"
        },
        "id": "gojsNXrzHfvt",
        "outputId": "c72a5e9c-7cde-4db3-b80b-b070f29f9287"
      },
      "source": [
        "# We can see from above plot that there may be 3 clusters i.e, ~30, ~35, ~60\n",
        "km = KMeans(n_clusters=3)\n",
        "y_predicted = km.fit_predict(IncomeData[ ['Age', 'Income($)'] ])\n",
        "y_predicted"
      ],
      "execution_count": 100,
      "outputs": [
        {
          "output_type": "execute_result",
          "data": {
            "text/plain": [
              "array([0, 0, 0, 1, 0, 2, 1, 0, 2, 0, 0, 0, 2, 0], dtype=int32)"
            ]
          },
          "metadata": {
            "tags": []
          },
          "execution_count": 100
        }
      ]
    },
    {
      "cell_type": "code",
      "metadata": {
        "colab": {
          "base_uri": "https://localhost:8080/",
          "height": 483
        },
        "id": "FXm8AsIyIYvS",
        "outputId": "71573033-bd70-439e-fbf0-8f09b18eeca9"
      },
      "source": [
        "# putting the y_predicted in the existing dataframe to see which clusters people belong t0\n",
        "IncomeData['Cluster']=y_predicted\n",
        "IncomeData"
      ],
      "execution_count": 101,
      "outputs": [
        {
          "output_type": "execute_result",
          "data": {
            "text/html": [
              "<div>\n",
              "<style scoped>\n",
              "    .dataframe tbody tr th:only-of-type {\n",
              "        vertical-align: middle;\n",
              "    }\n",
              "\n",
              "    .dataframe tbody tr th {\n",
              "        vertical-align: top;\n",
              "    }\n",
              "\n",
              "    .dataframe thead th {\n",
              "        text-align: right;\n",
              "    }\n",
              "</style>\n",
              "<table border=\"1\" class=\"dataframe\">\n",
              "  <thead>\n",
              "    <tr style=\"text-align: right;\">\n",
              "      <th></th>\n",
              "      <th>Name</th>\n",
              "      <th>Age</th>\n",
              "      <th>Income($)</th>\n",
              "      <th>Cluster</th>\n",
              "    </tr>\n",
              "  </thead>\n",
              "  <tbody>\n",
              "    <tr>\n",
              "      <th>0</th>\n",
              "      <td>Kartikay</td>\n",
              "      <td>30</td>\n",
              "      <td>30000</td>\n",
              "      <td>0</td>\n",
              "    </tr>\n",
              "    <tr>\n",
              "      <th>1</th>\n",
              "      <td>Mayank</td>\n",
              "      <td>29</td>\n",
              "      <td>300000</td>\n",
              "      <td>0</td>\n",
              "    </tr>\n",
              "    <tr>\n",
              "      <th>2</th>\n",
              "      <td>Dileep</td>\n",
              "      <td>60</td>\n",
              "      <td>150000</td>\n",
              "      <td>0</td>\n",
              "    </tr>\n",
              "    <tr>\n",
              "      <th>3</th>\n",
              "      <td>Saroj</td>\n",
              "      <td>60</td>\n",
              "      <td>13000000</td>\n",
              "      <td>1</td>\n",
              "    </tr>\n",
              "    <tr>\n",
              "      <th>4</th>\n",
              "      <td>Alika</td>\n",
              "      <td>24</td>\n",
              "      <td>500000</td>\n",
              "      <td>0</td>\n",
              "    </tr>\n",
              "    <tr>\n",
              "      <th>5</th>\n",
              "      <td>Shruti</td>\n",
              "      <td>30</td>\n",
              "      <td>4000000</td>\n",
              "      <td>2</td>\n",
              "    </tr>\n",
              "    <tr>\n",
              "      <th>6</th>\n",
              "      <td>Reshmi</td>\n",
              "      <td>28</td>\n",
              "      <td>20000000</td>\n",
              "      <td>1</td>\n",
              "    </tr>\n",
              "    <tr>\n",
              "      <th>7</th>\n",
              "      <td>Robin</td>\n",
              "      <td>30</td>\n",
              "      <td>70000</td>\n",
              "      <td>0</td>\n",
              "    </tr>\n",
              "    <tr>\n",
              "      <th>8</th>\n",
              "      <td>Dhananjay</td>\n",
              "      <td>65</td>\n",
              "      <td>8000000</td>\n",
              "      <td>2</td>\n",
              "    </tr>\n",
              "    <tr>\n",
              "      <th>9</th>\n",
              "      <td>Monu</td>\n",
              "      <td>35</td>\n",
              "      <td>0</td>\n",
              "      <td>0</td>\n",
              "    </tr>\n",
              "    <tr>\n",
              "      <th>10</th>\n",
              "      <td>Jijaji</td>\n",
              "      <td>35</td>\n",
              "      <td>1000000</td>\n",
              "      <td>0</td>\n",
              "    </tr>\n",
              "    <tr>\n",
              "      <th>11</th>\n",
              "      <td>xyz</td>\n",
              "      <td>15</td>\n",
              "      <td>10000</td>\n",
              "      <td>0</td>\n",
              "    </tr>\n",
              "    <tr>\n",
              "      <th>12</th>\n",
              "      <td>abc</td>\n",
              "      <td>120</td>\n",
              "      <td>5000000</td>\n",
              "      <td>2</td>\n",
              "    </tr>\n",
              "    <tr>\n",
              "      <th>13</th>\n",
              "      <td>pqr</td>\n",
              "      <td>200</td>\n",
              "      <td>80000</td>\n",
              "      <td>0</td>\n",
              "    </tr>\n",
              "  </tbody>\n",
              "</table>\n",
              "</div>"
            ],
            "text/plain": [
              "         Name  Age  Income($)  Cluster\n",
              "0    Kartikay   30      30000        0\n",
              "1      Mayank   29     300000        0\n",
              "2      Dileep   60     150000        0\n",
              "3       Saroj   60   13000000        1\n",
              "4       Alika   24     500000        0\n",
              "5      Shruti   30    4000000        2\n",
              "6      Reshmi   28   20000000        1\n",
              "7       Robin   30      70000        0\n",
              "8   Dhananjay   65    8000000        2\n",
              "9        Monu   35          0        0\n",
              "10     Jijaji   35    1000000        0\n",
              "11        xyz   15      10000        0\n",
              "12        abc  120    5000000        2\n",
              "13        pqr  200      80000        0"
            ]
          },
          "metadata": {
            "tags": []
          },
          "execution_count": 101
        }
      ]
    },
    {
      "cell_type": "code",
      "metadata": {
        "colab": {
          "base_uri": "https://localhost:8080/"
        },
        "id": "3yRQe-y9IoTC",
        "outputId": "78459e95-b293-4bba-f8dc-63643528c12d"
      },
      "source": [
        "km.cluster_centers_"
      ],
      "execution_count": 102,
      "outputs": [
        {
          "output_type": "execute_result",
          "data": {
            "text/plain": [
              "array([[5.08888889e+01, 2.37777778e+05],\n",
              "       [4.40000000e+01, 1.65000000e+07],\n",
              "       [7.16666667e+01, 5.66666667e+06]])"
            ]
          },
          "metadata": {
            "tags": []
          },
          "execution_count": 102
        }
      ]
    },
    {
      "cell_type": "code",
      "metadata": {
        "id": "RCPRpQwZI-oD"
      },
      "source": [
        "# Creating 3 different df for different clusters\n",
        "clusterDF0 = IncomeData[IncomeData.Cluster == 0]\n",
        "clusterDF1 = IncomeData[IncomeData.Cluster == 1]\n",
        "clusterDF2 = IncomeData[IncomeData.Cluster == 2]"
      ],
      "execution_count": 103,
      "outputs": []
    },
    {
      "cell_type": "code",
      "metadata": {
        "colab": {
          "base_uri": "https://localhost:8080/",
          "height": 307
        },
        "id": "4EpbXAYlJUuD",
        "outputId": "d45a9f02-1172-47b3-9e77-c112ba27cd24"
      },
      "source": [
        "plt.scatter(clusterDF0['Age'],  clusterDF0['Income($)'], color = 'green')\n",
        "plt.scatter(clusterDF1['Age'],  clusterDF1['Income($)'], color = 'red')\n",
        "plt.scatter(clusterDF2['Age'],  clusterDF2['Income($)'], color = 'blue')\n",
        "plt.xlabel('Age')\n",
        "plt.ylabel('Income($)')"
      ],
      "execution_count": 104,
      "outputs": [
        {
          "output_type": "execute_result",
          "data": {
            "text/plain": [
              "Text(0, 0.5, 'Income($)')"
            ]
          },
          "metadata": {
            "tags": []
          },
          "execution_count": 104
        },
        {
          "output_type": "display_data",
          "data": {
            "image/png": "[encoded data removed]",
            "text/plain": [
              "<Figure size 432x288 with 1 Axes>"
            ]
          },
          "metadata": {
            "tags": [],
            "needs_background": "light"
          }
        }
      ]
    },
    {
      "cell_type": "code",
      "metadata": {
        "id": "z9L8wXygJ3jM"
      },
      "source": [
        "# Remember: if there are values that don't fit in green, red, blue change values in range 0-1 using MinMax Scalar - read."
      ],
      "execution_count": 105,
      "outputs": []
    },
    {
      "cell_type": "code",
      "metadata": {
        "colab": {
          "base_uri": "https://localhost:8080/",
          "height": 307
        },
        "id": "kvP3R7t3K8Pv",
        "outputId": "5f19d946-de04-4b50-ef9d-07ec6bc4334f"
      },
      "source": [
        "plt.scatter(clusterDF0['Age'],  clusterDF0['Income($)'], color = 'green')\n",
        "plt.scatter(clusterDF1['Age'],  clusterDF1['Income($)'], color = 'red')\n",
        "plt.scatter(clusterDF2['Age'],  clusterDF2['Income($)'], color = 'blue')\n",
        "plt.xlabel('Age')\n",
        "plt.ylabel('Income($)')\n",
        "\n",
        "\n",
        "# plotting the center of the cluster\n",
        "plt.scatter(km.cluster_centers_[:,0], km.cluster_centers_[:,1], color = 'purple', marker='*', s=100)"
      ],
      "execution_count": 106,
      "outputs": [
        {
          "output_type": "execute_result",
          "data": {
            "text/plain": [
              "<matplotlib.collections.PathCollection at 0x7f3519c79f50>"
            ]
          },
          "metadata": {
            "tags": []
          },
          "execution_count": 106
        },
        {
          "output_type": "display_data",
          "data": {
            "image/png": "[encoded data removed]",
            "text/plain": [
              "<Figure size 432x288 with 1 Axes>"
            ]
          },
          "metadata": {
            "tags": [],
            "needs_background": "light"
          }
        }
      ]
    },
    {
      "cell_type": "markdown",
      "metadata": {
        "id": "IrBDsLQzHEXH"
      },
      "source": [
        "**let us convert the values in the range of 0-1 for better clustering instead of using 0 - 200000 range - this is called normalizing the values.**"
      ]
    },
    {
      "cell_type": "code",
      "metadata": {
        "colab": {
          "base_uri": "https://localhost:8080/",
          "height": 483
        },
        "id": "_S_ETduNGMuW",
        "outputId": "25274e13-9f59-40bc-9283-1d630dbdcc46"
      },
      "source": [
        "# let us convert the values in the range of 0-1 for better clustering instead of using 0 - 200000 range - this is called normalizing the values.\n",
        "\n",
        "scaler = MinMaxScaler()\n",
        "scaler.fit(IncomeData[['Income($)']])\n",
        "IncomeData['Income($)'] = scaler.transform(IncomeData[['Income($)']])\n",
        "scaler.fit(IncomeData[['Age']])\n",
        "IncomeData['Age'] = scaler.transform(IncomeData[['Age']])\n",
        "IncomeData"
      ],
      "execution_count": 107,
      "outputs": [
        {
          "output_type": "execute_result",
          "data": {
            "text/html": [
              "<div>\n",
              "<style scoped>\n",
              "    .dataframe tbody tr th:only-of-type {\n",
              "        vertical-align: middle;\n",
              "    }\n",
              "\n",
              "    .dataframe tbody tr th {\n",
              "        vertical-align: top;\n",
              "    }\n",
              "\n",
              "    .dataframe thead th {\n",
              "        text-align: right;\n",
              "    }\n",
              "</style>\n",
              "<table border=\"1\" class=\"dataframe\">\n",
              "  <thead>\n",
              "    <tr style=\"text-align: right;\">\n",
              "      <th></th>\n",
              "      <th>Name</th>\n",
              "      <th>Age</th>\n",
              "      <th>Income($)</th>\n",
              "      <th>Cluster</th>\n",
              "    </tr>\n",
              "  </thead>\n",
              "  <tbody>\n",
              "    <tr>\n",
              "      <th>0</th>\n",
              "      <td>Kartikay</td>\n",
              "      <td>0.081081</td>\n",
              "      <td>0.0015</td>\n",
              "      <td>0</td>\n",
              "    </tr>\n",
              "    <tr>\n",
              "      <th>1</th>\n",
              "      <td>Mayank</td>\n",
              "      <td>0.075676</td>\n",
              "      <td>0.0150</td>\n",
              "      <td>0</td>\n",
              "    </tr>\n",
              "    <tr>\n",
              "      <th>2</th>\n",
              "      <td>Dileep</td>\n",
              "      <td>0.243243</td>\n",
              "      <td>0.0075</td>\n",
              "      <td>0</td>\n",
              "    </tr>\n",
              "    <tr>\n",
              "      <th>3</th>\n",
              "      <td>Saroj</td>\n",
              "      <td>0.243243</td>\n",
              "      <td>0.6500</td>\n",
              "      <td>1</td>\n",
              "    </tr>\n",
              "    <tr>\n",
              "      <th>4</th>\n",
              "      <td>Alika</td>\n",
              "      <td>0.048649</td>\n",
              "      <td>0.0250</td>\n",
              "      <td>0</td>\n",
              "    </tr>\n",
              "    <tr>\n",
              "      <th>5</th>\n",
              "      <td>Shruti</td>\n",
              "      <td>0.081081</td>\n",
              "      <td>0.2000</td>\n",
              "      <td>2</td>\n",
              "    </tr>\n",
              "    <tr>\n",
              "      <th>6</th>\n",
              "      <td>Reshmi</td>\n",
              "      <td>0.070270</td>\n",
              "      <td>1.0000</td>\n",
              "      <td>1</td>\n",
              "    </tr>\n",
              "    <tr>\n",
              "      <th>7</th>\n",
              "      <td>Robin</td>\n",
              "      <td>0.081081</td>\n",
              "      <td>0.0035</td>\n",
              "      <td>0</td>\n",
              "    </tr>\n",
              "    <tr>\n",
              "      <th>8</th>\n",
              "      <td>Dhananjay</td>\n",
              "      <td>0.270270</td>\n",
              "      <td>0.4000</td>\n",
              "      <td>2</td>\n",
              "    </tr>\n",
              "    <tr>\n",
              "      <th>9</th>\n",
              "      <td>Monu</td>\n",
              "      <td>0.108108</td>\n",
              "      <td>0.0000</td>\n",
              "      <td>0</td>\n",
              "    </tr>\n",
              "    <tr>\n",
              "      <th>10</th>\n",
              "      <td>Jijaji</td>\n",
              "      <td>0.108108</td>\n",
              "      <td>0.0500</td>\n",
              "      <td>0</td>\n",
              "    </tr>\n",
              "    <tr>\n",
              "      <th>11</th>\n",
              "      <td>xyz</td>\n",
              "      <td>0.000000</td>\n",
              "      <td>0.0005</td>\n",
              "      <td>0</td>\n",
              "    </tr>\n",
              "    <tr>\n",
              "      <th>12</th>\n",
              "      <td>abc</td>\n",
              "      <td>0.567568</td>\n",
              "      <td>0.2500</td>\n",
              "      <td>2</td>\n",
              "    </tr>\n",
              "    <tr>\n",
              "      <th>13</th>\n",
              "      <td>pqr</td>\n",
              "      <td>1.000000</td>\n",
              "      <td>0.0040</td>\n",
              "      <td>0</td>\n",
              "    </tr>\n",
              "  </tbody>\n",
              "</table>\n",
              "</div>"
            ],
            "text/plain": [
              "         Name       Age  Income($)  Cluster\n",
              "0    Kartikay  0.081081     0.0015        0\n",
              "1      Mayank  0.075676     0.0150        0\n",
              "2      Dileep  0.243243     0.0075        0\n",
              "3       Saroj  0.243243     0.6500        1\n",
              "4       Alika  0.048649     0.0250        0\n",
              "5      Shruti  0.081081     0.2000        2\n",
              "6      Reshmi  0.070270     1.0000        1\n",
              "7       Robin  0.081081     0.0035        0\n",
              "8   Dhananjay  0.270270     0.4000        2\n",
              "9        Monu  0.108108     0.0000        0\n",
              "10     Jijaji  0.108108     0.0500        0\n",
              "11        xyz  0.000000     0.0005        0\n",
              "12        abc  0.567568     0.2500        2\n",
              "13        pqr  1.000000     0.0040        0"
            ]
          },
          "metadata": {
            "tags": []
          },
          "execution_count": 107
        }
      ]
    },
    {
      "cell_type": "code",
      "metadata": {
        "id": "wHstDdLTaJNd",
        "colab": {
          "base_uri": "https://localhost:8080/",
          "height": 296
        },
        "outputId": "98fa4abe-f9e1-4663-ded7-199d3b721472"
      },
      "source": [
        "plt.scatter(IncomeData['Age'], IncomeData['Income($)'])\n",
        "plt.xlabel('Age')\n",
        "plt.ylabel('Income($)')"
      ],
      "execution_count": 108,
      "outputs": [
        {
          "output_type": "execute_result",
          "data": {
            "text/plain": [
              "Text(0, 0.5, 'Income($)')"
            ]
          },
          "metadata": {
            "tags": []
          },
          "execution_count": 108
        },
        {
          "output_type": "display_data",
          "data": {
            "image/png": "[encoded data removed]",
            "text/plain": [
              "<Figure size 432x288 with 1 Axes>"
            ]
          },
          "metadata": {
            "tags": [],
            "needs_background": "light"
          }
        }
      ]
    },
    {
      "cell_type": "code",
      "metadata": {
        "colab": {
          "base_uri": "https://localhost:8080/"
        },
        "id": "SBuyftMyHXtK",
        "outputId": "549948ba-63f5-4c0f-db70-339777ea0380"
      },
      "source": [
        "km = KMeans(n_clusters=3)\n",
        "y_predicted = km.fit_predict(IncomeData[ ['Age', 'Income($)'] ])\n",
        "y_predicted"
      ],
      "execution_count": 109,
      "outputs": [
        {
          "output_type": "execute_result",
          "data": {
            "text/plain": [
              "array([1, 1, 1, 2, 1, 1, 2, 1, 2, 1, 1, 1, 0, 0], dtype=int32)"
            ]
          },
          "metadata": {
            "tags": []
          },
          "execution_count": 109
        }
      ]
    },
    {
      "cell_type": "code",
      "metadata": {
        "colab": {
          "base_uri": "https://localhost:8080/",
          "height": 483
        },
        "id": "-Ya9einwHg26",
        "outputId": "7fdd3ecf-56fa-42d6-c8d5-48116927b2f2"
      },
      "source": [
        "# putting the y_predicted in the existing dataframe to see which clusters people belong t0\n",
        "IncomeData['Cluster']=y_predicted\n",
        "IncomeData"
      ],
      "execution_count": 110,
      "outputs": [
        {
          "output_type": "execute_result",
          "data": {
            "text/html": [
              "<div>\n",
              "<style scoped>\n",
              "    .dataframe tbody tr th:only-of-type {\n",
              "        vertical-align: middle;\n",
              "    }\n",
              "\n",
              "    .dataframe tbody tr th {\n",
              "        vertical-align: top;\n",
              "    }\n",
              "\n",
              "    .dataframe thead th {\n",
              "        text-align: right;\n",
              "    }\n",
              "</style>\n",
              "<table border=\"1\" class=\"dataframe\">\n",
              "  <thead>\n",
              "    <tr style=\"text-align: right;\">\n",
              "      <th></th>\n",
              "      <th>Name</th>\n",
              "      <th>Age</th>\n",
              "      <th>Income($)</th>\n",
              "      <th>Cluster</th>\n",
              "    </tr>\n",
              "  </thead>\n",
              "  <tbody>\n",
              "    <tr>\n",
              "      <th>0</th>\n",
              "      <td>Kartikay</td>\n",
              "      <td>0.081081</td>\n",
              "      <td>0.0015</td>\n",
              "      <td>1</td>\n",
              "    </tr>\n",
              "    <tr>\n",
              "      <th>1</th>\n",
              "      <td>Mayank</td>\n",
              "      <td>0.075676</td>\n",
              "      <td>0.0150</td>\n",
              "      <td>1</td>\n",
              "    </tr>\n",
              "    <tr>\n",
              "      <th>2</th>\n",
              "      <td>Dileep</td>\n",
              "      <td>0.243243</td>\n",
              "      <td>0.0075</td>\n",
              "      <td>1</td>\n",
              "    </tr>\n",
              "    <tr>\n",
              "      <th>3</th>\n",
              "      <td>Saroj</td>\n",
              "      <td>0.243243</td>\n",
              "      <td>0.6500</td>\n",
              "      <td>2</td>\n",
              "    </tr>\n",
              "    <tr>\n",
              "      <th>4</th>\n",
              "      <td>Alika</td>\n",
              "      <td>0.048649</td>\n",
              "      <td>0.0250</td>\n",
              "      <td>1</td>\n",
              "    </tr>\n",
              "    <tr>\n",
              "      <th>5</th>\n",
              "      <td>Shruti</td>\n",
              "      <td>0.081081</td>\n",
              "      <td>0.2000</td>\n",
              "      <td>1</td>\n",
              "    </tr>\n",
              "    <tr>\n",
              "      <th>6</th>\n",
              "      <td>Reshmi</td>\n",
              "      <td>0.070270</td>\n",
              "      <td>1.0000</td>\n",
              "      <td>2</td>\n",
              "    </tr>\n",
              "    <tr>\n",
              "      <th>7</th>\n",
              "      <td>Robin</td>\n",
              "      <td>0.081081</td>\n",
              "      <td>0.0035</td>\n",
              "      <td>1</td>\n",
              "    </tr>\n",
              "    <tr>\n",
              "      <th>8</th>\n",
              "      <td>Dhananjay</td>\n",
              "      <td>0.270270</td>\n",
              "      <td>0.4000</td>\n",
              "      <td>2</td>\n",
              "    </tr>\n",
              "    <tr>\n",
              "      <th>9</th>\n",
              "      <td>Monu</td>\n",
              "      <td>0.108108</td>\n",
              "      <td>0.0000</td>\n",
              "      <td>1</td>\n",
              "    </tr>\n",
              "    <tr>\n",
              "      <th>10</th>\n",
              "      <td>Jijaji</td>\n",
              "      <td>0.108108</td>\n",
              "      <td>0.0500</td>\n",
              "      <td>1</td>\n",
              "    </tr>\n",
              "    <tr>\n",
              "      <th>11</th>\n",
              "      <td>xyz</td>\n",
              "      <td>0.000000</td>\n",
              "      <td>0.0005</td>\n",
              "      <td>1</td>\n",
              "    </tr>\n",
              "    <tr>\n",
              "      <th>12</th>\n",
              "      <td>abc</td>\n",
              "      <td>0.567568</td>\n",
              "      <td>0.2500</td>\n",
              "      <td>0</td>\n",
              "    </tr>\n",
              "    <tr>\n",
              "      <th>13</th>\n",
              "      <td>pqr</td>\n",
              "      <td>1.000000</td>\n",
              "      <td>0.0040</td>\n",
              "      <td>0</td>\n",
              "    </tr>\n",
              "  </tbody>\n",
              "</table>\n",
              "</div>"
            ],
            "text/plain": [
              "         Name       Age  Income($)  Cluster\n",
              "0    Kartikay  0.081081     0.0015        1\n",
              "1      Mayank  0.075676     0.0150        1\n",
              "2      Dileep  0.243243     0.0075        1\n",
              "3       Saroj  0.243243     0.6500        2\n",
              "4       Alika  0.048649     0.0250        1\n",
              "5      Shruti  0.081081     0.2000        1\n",
              "6      Reshmi  0.070270     1.0000        2\n",
              "7       Robin  0.081081     0.0035        1\n",
              "8   Dhananjay  0.270270     0.4000        2\n",
              "9        Monu  0.108108     0.0000        1\n",
              "10     Jijaji  0.108108     0.0500        1\n",
              "11        xyz  0.000000     0.0005        1\n",
              "12        abc  0.567568     0.2500        0\n",
              "13        pqr  1.000000     0.0040        0"
            ]
          },
          "metadata": {
            "tags": []
          },
          "execution_count": 110
        }
      ]
    },
    {
      "cell_type": "code",
      "metadata": {
        "colab": {
          "base_uri": "https://localhost:8080/",
          "height": 483
        },
        "id": "UqVfyZqcHhL_",
        "outputId": "46ea9348-303d-48c3-cfbd-a184f6597224"
      },
      "source": [
        "# putting the y_predicted in the existing dataframe to see which clusters people belong t0\n",
        "IncomeData['Cluster']=y_predicted\n",
        "IncomeData"
      ],
      "execution_count": 111,
      "outputs": [
        {
          "output_type": "execute_result",
          "data": {
            "text/html": [
              "<div>\n",
              "<style scoped>\n",
              "    .dataframe tbody tr th:only-of-type {\n",
              "        vertical-align: middle;\n",
              "    }\n",
              "\n",
              "    .dataframe tbody tr th {\n",
              "        vertical-align: top;\n",
              "    }\n",
              "\n",
              "    .dataframe thead th {\n",
              "        text-align: right;\n",
              "    }\n",
              "</style>\n",
              "<table border=\"1\" class=\"dataframe\">\n",
              "  <thead>\n",
              "    <tr style=\"text-align: right;\">\n",
              "      <th></th>\n",
              "      <th>Name</th>\n",
              "      <th>Age</th>\n",
              "      <th>Income($)</th>\n",
              "      <th>Cluster</th>\n",
              "    </tr>\n",
              "  </thead>\n",
              "  <tbody>\n",
              "    <tr>\n",
              "      <th>0</th>\n",
              "      <td>Kartikay</td>\n",
              "      <td>0.081081</td>\n",
              "      <td>0.0015</td>\n",
              "      <td>1</td>\n",
              "    </tr>\n",
              "    <tr>\n",
              "      <th>1</th>\n",
              "      <td>Mayank</td>\n",
              "      <td>0.075676</td>\n",
              "      <td>0.0150</td>\n",
              "      <td>1</td>\n",
              "    </tr>\n",
              "    <tr>\n",
              "      <th>2</th>\n",
              "      <td>Dileep</td>\n",
              "      <td>0.243243</td>\n",
              "      <td>0.0075</td>\n",
              "      <td>1</td>\n",
              "    </tr>\n",
              "    <tr>\n",
              "      <th>3</th>\n",
              "      <td>Saroj</td>\n",
              "      <td>0.243243</td>\n",
              "      <td>0.6500</td>\n",
              "      <td>2</td>\n",
              "    </tr>\n",
              "    <tr>\n",
              "      <th>4</th>\n",
              "      <td>Alika</td>\n",
              "      <td>0.048649</td>\n",
              "      <td>0.0250</td>\n",
              "      <td>1</td>\n",
              "    </tr>\n",
              "    <tr>\n",
              "      <th>5</th>\n",
              "      <td>Shruti</td>\n",
              "      <td>0.081081</td>\n",
              "      <td>0.2000</td>\n",
              "      <td>1</td>\n",
              "    </tr>\n",
              "    <tr>\n",
              "      <th>6</th>\n",
              "      <td>Reshmi</td>\n",
              "      <td>0.070270</td>\n",
              "      <td>1.0000</td>\n",
              "      <td>2</td>\n",
              "    </tr>\n",
              "    <tr>\n",
              "      <th>7</th>\n",
              "      <td>Robin</td>\n",
              "      <td>0.081081</td>\n",
              "      <td>0.0035</td>\n",
              "      <td>1</td>\n",
              "    </tr>\n",
              "    <tr>\n",
              "      <th>8</th>\n",
              "      <td>Dhananjay</td>\n",
              "      <td>0.270270</td>\n",
              "      <td>0.4000</td>\n",
              "      <td>2</td>\n",
              "    </tr>\n",
              "    <tr>\n",
              "      <th>9</th>\n",
              "      <td>Monu</td>\n",
              "      <td>0.108108</td>\n",
              "      <td>0.0000</td>\n",
              "      <td>1</td>\n",
              "    </tr>\n",
              "    <tr>\n",
              "      <th>10</th>\n",
              "      <td>Jijaji</td>\n",
              "      <td>0.108108</td>\n",
              "      <td>0.0500</td>\n",
              "      <td>1</td>\n",
              "    </tr>\n",
              "    <tr>\n",
              "      <th>11</th>\n",
              "      <td>xyz</td>\n",
              "      <td>0.000000</td>\n",
              "      <td>0.0005</td>\n",
              "      <td>1</td>\n",
              "    </tr>\n",
              "    <tr>\n",
              "      <th>12</th>\n",
              "      <td>abc</td>\n",
              "      <td>0.567568</td>\n",
              "      <td>0.2500</td>\n",
              "      <td>0</td>\n",
              "    </tr>\n",
              "    <tr>\n",
              "      <th>13</th>\n",
              "      <td>pqr</td>\n",
              "      <td>1.000000</td>\n",
              "      <td>0.0040</td>\n",
              "      <td>0</td>\n",
              "    </tr>\n",
              "  </tbody>\n",
              "</table>\n",
              "</div>"
            ],
            "text/plain": [
              "         Name       Age  Income($)  Cluster\n",
              "0    Kartikay  0.081081     0.0015        1\n",
              "1      Mayank  0.075676     0.0150        1\n",
              "2      Dileep  0.243243     0.0075        1\n",
              "3       Saroj  0.243243     0.6500        2\n",
              "4       Alika  0.048649     0.0250        1\n",
              "5      Shruti  0.081081     0.2000        1\n",
              "6      Reshmi  0.070270     1.0000        2\n",
              "7       Robin  0.081081     0.0035        1\n",
              "8   Dhananjay  0.270270     0.4000        2\n",
              "9        Monu  0.108108     0.0000        1\n",
              "10     Jijaji  0.108108     0.0500        1\n",
              "11        xyz  0.000000     0.0005        1\n",
              "12        abc  0.567568     0.2500        0\n",
              "13        pqr  1.000000     0.0040        0"
            ]
          },
          "metadata": {
            "tags": []
          },
          "execution_count": 111
        }
      ]
    },
    {
      "cell_type": "code",
      "metadata": {
        "colab": {
          "base_uri": "https://localhost:8080/"
        },
        "id": "Rhpu6F0MHhdv",
        "outputId": "ea66f150-b2fc-4a0f-d565-c7617824f336"
      },
      "source": [
        "km.cluster_centers_"
      ],
      "execution_count": 112,
      "outputs": [
        {
          "output_type": "execute_result",
          "data": {
            "text/plain": [
              "array([[0.78378378, 0.127     ],\n",
              "       [0.09189189, 0.03366667],\n",
              "       [0.19459459, 0.68333333]])"
            ]
          },
          "metadata": {
            "tags": []
          },
          "execution_count": 112
        }
      ]
    },
    {
      "cell_type": "code",
      "metadata": {
        "id": "TcdS51ONHwBh"
      },
      "source": [
        "# Creating 3 different df for different clusters\n",
        "clusterDF0 = IncomeData[IncomeData.Cluster == 0]\n",
        "clusterDF1 = IncomeData[IncomeData.Cluster == 1]\n",
        "clusterDF2 = IncomeData[IncomeData.Cluster == 2]"
      ],
      "execution_count": 113,
      "outputs": []
    },
    {
      "cell_type": "code",
      "metadata": {
        "colab": {
          "base_uri": "https://localhost:8080/",
          "height": 296
        },
        "id": "iTTE1oxrHwVZ",
        "outputId": "b8fd75c1-65ea-46ea-d11e-83864f59c752"
      },
      "source": [
        "plt.scatter(clusterDF0['Age'],  clusterDF0['Income($)'], color = 'green')\n",
        "plt.scatter(clusterDF1['Age'],  clusterDF1['Income($)'], color = 'red')\n",
        "plt.scatter(clusterDF2['Age'],  clusterDF2['Income($)'], color = 'blue')\n",
        "plt.xlabel('Age')\n",
        "plt.ylabel('Income($)')"
      ],
      "execution_count": 114,
      "outputs": [
        {
          "output_type": "execute_result",
          "data": {
            "text/plain": [
              "Text(0, 0.5, 'Income($)')"
            ]
          },
          "metadata": {
            "tags": []
          },
          "execution_count": 114
        },
        {
          "output_type": "display_data",
          "data": {
            "image/png": "[encoded data removed]",
            "text/plain": [
              "<Figure size 432x288 with 1 Axes>"
            ]
          },
          "metadata": {
            "tags": [],
            "needs_background": "light"
          }
        }
      ]
    },
    {
      "cell_type": "code",
      "metadata": {
        "colab": {
          "base_uri": "https://localhost:8080/",
          "height": 296
        },
        "id": "mWuHe04kHwmG",
        "outputId": "54c4a8c3-5f14-430a-ea3b-ac8f6052a057"
      },
      "source": [
        "plt.scatter(clusterDF0['Age'],  clusterDF0['Income($)'], color = 'green')\n",
        "plt.scatter(clusterDF1['Age'],  clusterDF1['Income($)'], color = 'red')\n",
        "plt.scatter(clusterDF2['Age'],  clusterDF2['Income($)'], color = 'blue')\n",
        "plt.xlabel('Age')\n",
        "plt.ylabel('Income($)')\n",
        "\n",
        "\n",
        "# plotting the center of the cluster\n",
        "plt.scatter(km.cluster_centers_[:,0], km.cluster_centers_[:,1], color = 'purple', marker='*', s=100)"
      ],
      "execution_count": 115,
      "outputs": [
        {
          "output_type": "execute_result",
          "data": {
            "text/plain": [
              "<matplotlib.collections.PathCollection at 0x7f35017b83d0>"
            ]
          },
          "metadata": {
            "tags": []
          },
          "execution_count": 115
        },
        {
          "output_type": "display_data",
          "data": {
            "image/png": "[encoded data removed]",
            "text/plain": [
              "<Figure size 432x288 with 1 Axes>"
            ]
          },
          "metadata": {
            "tags": [],
            "needs_background": "light"
          }
        }
      ]
    },
    {
      "cell_type": "code",
      "metadata": {
        "colab": {
          "base_uri": "https://localhost:8080/"
        },
        "id": "uAIEUYY1Hw1v",
        "outputId": "19395e48-c89c-4acc-9cd2-5673f0bbe825"
      },
      "source": [
        "# Let us check the data for particular clusters\n",
        "set(IncomeData['Cluster'])"
      ],
      "execution_count": 118,
      "outputs": [
        {
          "output_type": "execute_result",
          "data": {
            "text/plain": [
              "{0, 1, 2}"
            ]
          },
          "metadata": {
            "tags": []
          },
          "execution_count": 118
        }
      ]
    },
    {
      "cell_type": "code",
      "metadata": {
        "colab": {
          "base_uri": "https://localhost:8080/",
          "height": 142
        },
        "id": "f7Q9fB0tHxEq",
        "outputId": "7b1c9956-7166-4509-84af-a520821bdf93"
      },
      "source": [
        "IncomeData[IncomeData['Cluster'] == 2]"
      ],
      "execution_count": 124,
      "outputs": [
        {
          "output_type": "execute_result",
          "data": {
            "text/html": [
              "<div>\n",
              "<style scoped>\n",
              "    .dataframe tbody tr th:only-of-type {\n",
              "        vertical-align: middle;\n",
              "    }\n",
              "\n",
              "    .dataframe tbody tr th {\n",
              "        vertical-align: top;\n",
              "    }\n",
              "\n",
              "    .dataframe thead th {\n",
              "        text-align: right;\n",
              "    }\n",
              "</style>\n",
              "<table border=\"1\" class=\"dataframe\">\n",
              "  <thead>\n",
              "    <tr style=\"text-align: right;\">\n",
              "      <th></th>\n",
              "      <th>Name</th>\n",
              "      <th>Age</th>\n",
              "      <th>Income($)</th>\n",
              "      <th>Cluster</th>\n",
              "    </tr>\n",
              "  </thead>\n",
              "  <tbody>\n",
              "    <tr>\n",
              "      <th>3</th>\n",
              "      <td>Saroj</td>\n",
              "      <td>0.243243</td>\n",
              "      <td>0.65</td>\n",
              "      <td>2</td>\n",
              "    </tr>\n",
              "    <tr>\n",
              "      <th>6</th>\n",
              "      <td>Reshmi</td>\n",
              "      <td>0.070270</td>\n",
              "      <td>1.00</td>\n",
              "      <td>2</td>\n",
              "    </tr>\n",
              "    <tr>\n",
              "      <th>8</th>\n",
              "      <td>Dhananjay</td>\n",
              "      <td>0.270270</td>\n",
              "      <td>0.40</td>\n",
              "      <td>2</td>\n",
              "    </tr>\n",
              "  </tbody>\n",
              "</table>\n",
              "</div>"
            ],
            "text/plain": [
              "        Name       Age  Income($)  Cluster\n",
              "3      Saroj  0.243243       0.65        2\n",
              "6     Reshmi  0.070270       1.00        2\n",
              "8  Dhananjay  0.270270       0.40        2"
            ]
          },
          "metadata": {
            "tags": []
          },
          "execution_count": 124
        }
      ]
    },
    {
      "cell_type": "markdown",
      "metadata": {
        "id": "mm9gz7fGUSBA"
      },
      "source": [
        "**Real-World problem : arXiv dataset clustering from kartikaysingh.com**"
      ]
    },
    {
      "cell_type": "code",
      "metadata": {
        "id": "BjkDxeuXQWhU"
      },
      "source": [
        "textlist = []\n",
        "\n",
        "text_file = open(\"/content/drive/MyDrive/Google Colab Data /arXiv_titles.txt\", \"r\")\n",
        "lines = text_file.readlines()\n",
        "\n",
        "textlist.append(lines)\n",
        "\n",
        "text_file.close()"
      ],
      "execution_count": 116,
      "outputs": []
    }
  ]
}