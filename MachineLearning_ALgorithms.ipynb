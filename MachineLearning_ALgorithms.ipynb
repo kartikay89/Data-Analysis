{
  "nbformat": 4,
  "nbformat_minor": 0,
  "metadata": {
    "colab": {
      "name": "MachineLearning_ALgorithms.ipynb",
      "provenance": [],
      "collapsed_sections": [],
      "authorship_tag": "ABX9TyNT48IK4dlMGqjFna1VU4Zl",
      "include_colab_link": true
    },
    "kernelspec": {
      "name": "python3",
      "display_name": "Python 3"
    }
  },
  "cells": [
    {
      "cell_type": "markdown",
      "metadata": {
        "id": "view-in-github",
        "colab_type": "text"
      },
      "source": [
        "<a href=\"https://colab.research.google.com/github/kartikay89/Data-Analysis/blob/main/MachineLearning_ALgorithms.ipynb\" target=\"_parent\"><img src=\"https://colab.research.google.com/assets/colab-badge.svg\" alt=\"Open In Colab\"/></a>"
      ]
    },
    {
      "cell_type": "markdown",
      "metadata": {
        "id": "xl0YCn9_6l1R"
      },
      "source": [
        "**This notebook is dedicated to practising different Machine learning Algorithms**\n",
        "\n",
        "The alogrithms are in the order:\n",
        "\n",
        "\n",
        "*   Unsupervised Learning\n",
        "\n",
        "\n",
        "1. K-means clustering"
      ]
    },
    {
      "cell_type": "markdown",
      "metadata": {
        "id": "iyb6ws8hLruf"
      },
      "source": [
        "**Unsupervised Learning**\n",
        "\n",
        "**K-Means clustering**\n",
        "\n",
        "Article: https://realpython.com/k-means-clustering-python/"
      ]
    },
    {
      "cell_type": "code",
      "metadata": {
        "id": "QQZ_Y84v680q"
      },
      "source": [
        "from sklearn.cluster import KMeans\n",
        "from sklearn.preprocessing import MinMaxScaler\n",
        "import matplotlib.pyplot as plt\n",
        "import pandas as pd\n",
        "\n",
        "%matplotlib inline"
      ],
      "execution_count": 9,
      "outputs": []
    },
    {
      "cell_type": "code",
      "metadata": {
        "id": "x9BsCli9-uhJ"
      },
      "source": [
        "# Creating random data for salary clustering\n",
        "\n",
        "incomeDF = {\n",
        "    'Name': ['Kartikay', 'Mayank', 'Dileep', 'Saroj', 'Alika', 'Shruti', 'Reshmi', 'Robin', 'Dhananjay', 'Monu', 'Jijaji'],\n",
        "    'Age': [30, 29, 60, 60, 24, 30, 28, 30, 65, 35, 35],\n",
        "    'Income($)': [3000, 3000, 150000, 130000, 5000, 4000, 4500, 5000, 200000, 70000, 80000]\n",
        "}\n",
        "\n",
        "IncomeData = pd.DataFrame(incomeDF)"
      ],
      "execution_count": 24,
      "outputs": []
    },
    {
      "cell_type": "code",
      "metadata": {
        "colab": {
          "base_uri": "https://localhost:8080/",
          "height": 204
        },
        "id": "vTMHDHw-GeSb",
        "outputId": "7d2609c5-8585-4dfb-ce5f-086494caf3f9"
      },
      "source": [
        "IncomeData.head()"
      ],
      "execution_count": 25,
      "outputs": [
        {
          "output_type": "execute_result",
          "data": {
            "text/html": [
              "<div>\n",
              "<style scoped>\n",
              "    .dataframe tbody tr th:only-of-type {\n",
              "        vertical-align: middle;\n",
              "    }\n",
              "\n",
              "    .dataframe tbody tr th {\n",
              "        vertical-align: top;\n",
              "    }\n",
              "\n",
              "    .dataframe thead th {\n",
              "        text-align: right;\n",
              "    }\n",
              "</style>\n",
              "<table border=\"1\" class=\"dataframe\">\n",
              "  <thead>\n",
              "    <tr style=\"text-align: right;\">\n",
              "      <th></th>\n",
              "      <th>Name</th>\n",
              "      <th>Age</th>\n",
              "      <th>Income($)</th>\n",
              "    </tr>\n",
              "  </thead>\n",
              "  <tbody>\n",
              "    <tr>\n",
              "      <th>0</th>\n",
              "      <td>Kartikay</td>\n",
              "      <td>30</td>\n",
              "      <td>3000</td>\n",
              "    </tr>\n",
              "    <tr>\n",
              "      <th>1</th>\n",
              "      <td>Mayank</td>\n",
              "      <td>29</td>\n",
              "      <td>3000</td>\n",
              "    </tr>\n",
              "    <tr>\n",
              "      <th>2</th>\n",
              "      <td>Dileep</td>\n",
              "      <td>60</td>\n",
              "      <td>150000</td>\n",
              "    </tr>\n",
              "    <tr>\n",
              "      <th>3</th>\n",
              "      <td>Saroj</td>\n",
              "      <td>60</td>\n",
              "      <td>130000</td>\n",
              "    </tr>\n",
              "    <tr>\n",
              "      <th>4</th>\n",
              "      <td>Alika</td>\n",
              "      <td>24</td>\n",
              "      <td>5000</td>\n",
              "    </tr>\n",
              "  </tbody>\n",
              "</table>\n",
              "</div>"
            ],
            "text/plain": [
              "       Name  Age  Income($)\n",
              "0  Kartikay   30       3000\n",
              "1    Mayank   29       3000\n",
              "2    Dileep   60     150000\n",
              "3     Saroj   60     130000\n",
              "4     Alika   24       5000"
            ]
          },
          "metadata": {
            "tags": []
          },
          "execution_count": 25
        }
      ]
    },
    {
      "cell_type": "code",
      "metadata": {
        "colab": {
          "base_uri": "https://localhost:8080/",
          "height": 296
        },
        "id": "7o_IVbx3Guvn",
        "outputId": "286b1112-375a-436b-f3e7-e8afe51e4f39"
      },
      "source": [
        "plt.scatter(IncomeData['Age'], IncomeData['Income($)'])\n",
        "plt.xlabel('Age')\n",
        "plt.ylabel('Income($)')"
      ],
      "execution_count": 26,
      "outputs": [
        {
          "output_type": "execute_result",
          "data": {
            "text/plain": [
              "Text(0, 0.5, 'Income($)')"
            ]
          },
          "metadata": {
            "tags": []
          },
          "execution_count": 26
        },
        {
          "output_type": "display_data",
          "data": {
            "image/png": "[encoded data removed]",
            "text/plain": [
              "<Figure size 432x288 with 1 Axes>"
            ]
          },
          "metadata": {
            "tags": [],
            "needs_background": "light"
          }
        }
      ]
    },
    {
      "cell_type": "code",
      "metadata": {
        "colab": {
          "base_uri": "https://localhost:8080/"
        },
        "id": "gojsNXrzHfvt",
        "outputId": "62c2ae10-ad3d-443d-d288-190f9f729f84"
      },
      "source": [
        "# We can see from above plot that there may be 3 clusters i.e, ~30, ~35, ~60\n",
        "km = KMeans(n_clusters=3)\n",
        "y_predicted = km.fit_predict(IncomeData[ ['Age', 'Income($)'] ])\n",
        "y_predicted"
      ],
      "execution_count": 27,
      "outputs": [
        {
          "output_type": "execute_result",
          "data": {
            "text/plain": [
              "array([1, 1, 0, 0, 1, 1, 1, 1, 0, 2, 2], dtype=int32)"
            ]
          },
          "metadata": {
            "tags": []
          },
          "execution_count": 27
        }
      ]
    },
    {
      "cell_type": "code",
      "metadata": {
        "colab": {
          "base_uri": "https://localhost:8080/",
          "height": 390
        },
        "id": "FXm8AsIyIYvS",
        "outputId": "4a6d6bfc-462c-43f5-b9e3-8e827ca2a46d"
      },
      "source": [
        "# putting the y_predicted in the existing dataframe to see which clusters people belong t0\n",
        "IncomeData['Cluster']=y_predicted\n",
        "IncomeData"
      ],
      "execution_count": 28,
      "outputs": [
        {
          "output_type": "execute_result",
          "data": {
            "text/html": [
              "<div>\n",
              "<style scoped>\n",
              "    .dataframe tbody tr th:only-of-type {\n",
              "        vertical-align: middle;\n",
              "    }\n",
              "\n",
              "    .dataframe tbody tr th {\n",
              "        vertical-align: top;\n",
              "    }\n",
              "\n",
              "    .dataframe thead th {\n",
              "        text-align: right;\n",
              "    }\n",
              "</style>\n",
              "<table border=\"1\" class=\"dataframe\">\n",
              "  <thead>\n",
              "    <tr style=\"text-align: right;\">\n",
              "      <th></th>\n",
              "      <th>Name</th>\n",
              "      <th>Age</th>\n",
              "      <th>Income($)</th>\n",
              "      <th>Cluster</th>\n",
              "    </tr>\n",
              "  </thead>\n",
              "  <tbody>\n",
              "    <tr>\n",
              "      <th>0</th>\n",
              "      <td>Kartikay</td>\n",
              "      <td>30</td>\n",
              "      <td>3000</td>\n",
              "      <td>1</td>\n",
              "    </tr>\n",
              "    <tr>\n",
              "      <th>1</th>\n",
              "      <td>Mayank</td>\n",
              "      <td>29</td>\n",
              "      <td>3000</td>\n",
              "      <td>1</td>\n",
              "    </tr>\n",
              "    <tr>\n",
              "      <th>2</th>\n",
              "      <td>Dileep</td>\n",
              "      <td>60</td>\n",
              "      <td>150000</td>\n",
              "      <td>0</td>\n",
              "    </tr>\n",
              "    <tr>\n",
              "      <th>3</th>\n",
              "      <td>Saroj</td>\n",
              "      <td>60</td>\n",
              "      <td>130000</td>\n",
              "      <td>0</td>\n",
              "    </tr>\n",
              "    <tr>\n",
              "      <th>4</th>\n",
              "      <td>Alika</td>\n",
              "      <td>24</td>\n",
              "      <td>5000</td>\n",
              "      <td>1</td>\n",
              "    </tr>\n",
              "    <tr>\n",
              "      <th>5</th>\n",
              "      <td>Shruti</td>\n",
              "      <td>30</td>\n",
              "      <td>4000</td>\n",
              "      <td>1</td>\n",
              "    </tr>\n",
              "    <tr>\n",
              "      <th>6</th>\n",
              "      <td>Reshmi</td>\n",
              "      <td>28</td>\n",
              "      <td>4500</td>\n",
              "      <td>1</td>\n",
              "    </tr>\n",
              "    <tr>\n",
              "      <th>7</th>\n",
              "      <td>Robin</td>\n",
              "      <td>30</td>\n",
              "      <td>5000</td>\n",
              "      <td>1</td>\n",
              "    </tr>\n",
              "    <tr>\n",
              "      <th>8</th>\n",
              "      <td>Dhananjay</td>\n",
              "      <td>65</td>\n",
              "      <td>200000</td>\n",
              "      <td>0</td>\n",
              "    </tr>\n",
              "    <tr>\n",
              "      <th>9</th>\n",
              "      <td>Monu</td>\n",
              "      <td>35</td>\n",
              "      <td>70000</td>\n",
              "      <td>2</td>\n",
              "    </tr>\n",
              "    <tr>\n",
              "      <th>10</th>\n",
              "      <td>Jijaji</td>\n",
              "      <td>35</td>\n",
              "      <td>80000</td>\n",
              "      <td>2</td>\n",
              "    </tr>\n",
              "  </tbody>\n",
              "</table>\n",
              "</div>"
            ],
            "text/plain": [
              "         Name  Age  Income($)  Cluster\n",
              "0    Kartikay   30       3000        1\n",
              "1      Mayank   29       3000        1\n",
              "2      Dileep   60     150000        0\n",
              "3       Saroj   60     130000        0\n",
              "4       Alika   24       5000        1\n",
              "5      Shruti   30       4000        1\n",
              "6      Reshmi   28       4500        1\n",
              "7       Robin   30       5000        1\n",
              "8   Dhananjay   65     200000        0\n",
              "9        Monu   35      70000        2\n",
              "10     Jijaji   35      80000        2"
            ]
          },
          "metadata": {
            "tags": []
          },
          "execution_count": 28
        }
      ]
    },
    {
      "cell_type": "code",
      "metadata": {
        "colab": {
          "base_uri": "https://localhost:8080/"
        },
        "id": "3yRQe-y9IoTC",
        "outputId": "06b2ca6b-4218-4dd0-a32a-3be4966293e8"
      },
      "source": [
        "km.cluster_centers_"
      ],
      "execution_count": 29,
      "outputs": [
        {
          "output_type": "execute_result",
          "data": {
            "text/plain": [
              "array([[6.16666667e+01, 1.60000000e+05],\n",
              "       [2.85000000e+01, 4.08333333e+03],\n",
              "       [3.50000000e+01, 7.50000000e+04]])"
            ]
          },
          "metadata": {
            "tags": []
          },
          "execution_count": 29
        }
      ]
    },
    {
      "cell_type": "code",
      "metadata": {
        "id": "RCPRpQwZI-oD"
      },
      "source": [
        "# Creating 3 different df for different clusters\n",
        "clusterDF0 = IncomeData[IncomeData.Cluster == 0]\n",
        "clusterDF1 = IncomeData[IncomeData.Cluster == 1]\n",
        "clusterDF2 = IncomeData[IncomeData.Cluster == 2]"
      ],
      "execution_count": 30,
      "outputs": []
    },
    {
      "cell_type": "code",
      "metadata": {
        "colab": {
          "base_uri": "https://localhost:8080/",
          "height": 296
        },
        "id": "4EpbXAYlJUuD",
        "outputId": "42096be9-ae7c-43f3-c411-d8282b8da6e9"
      },
      "source": [
        "plt.scatter(clusterDF0['Age'],  clusterDF0['Income($)'], color = 'green')\n",
        "plt.scatter(clusterDF1['Age'],  clusterDF1['Income($)'], color = 'red')\n",
        "plt.scatter(clusterDF2['Age'],  clusterDF2['Income($)'], color = 'blue')\n",
        "plt.xlabel('Age')\n",
        "plt.ylabel('Income($)')"
      ],
      "execution_count": 33,
      "outputs": [
        {
          "output_type": "execute_result",
          "data": {
            "text/plain": [
              "Text(0, 0.5, 'Income($)')"
            ]
          },
          "metadata": {
            "tags": []
          },
          "execution_count": 33
        },
        {
          "output_type": "display_data",
          "data": {
            "image/png": "[encoded data removed]",
            "text/plain": [
              "<Figure size 432x288 with 1 Axes>"
            ]
          },
          "metadata": {
            "tags": [],
            "needs_background": "light"
          }
        }
      ]
    },
    {
      "cell_type": "code",
      "metadata": {
        "id": "z9L8wXygJ3jM"
      },
      "source": [
        "# Remember: if there are values that don't fit in green, red, blue change values in range 0-1 using MinMax Scalar - read."
      ],
      "execution_count": 34,
      "outputs": []
    },
    {
      "cell_type": "code",
      "metadata": {
        "colab": {
          "base_uri": "https://localhost:8080/",
          "height": 296
        },
        "id": "kvP3R7t3K8Pv",
        "outputId": "000083ee-d7ca-493f-c722-3f46cf74e8c2"
      },
      "source": [
        "plt.scatter(clusterDF0['Age'],  clusterDF0['Income($)'], color = 'green')\n",
        "plt.scatter(clusterDF1['Age'],  clusterDF1['Income($)'], color = 'red')\n",
        "plt.scatter(clusterDF2['Age'],  clusterDF2['Income($)'], color = 'blue')\n",
        "plt.xlabel('Age')\n",
        "plt.ylabel('Income($)')\n",
        "\n",
        "\n",
        "# plotting the center of the cluster\n",
        "plt.scatter(km.cluster_centers_[:,0], km.cluster_centers_[:,1], color = 'purple', marker='*')"
      ],
      "execution_count": 37,
      "outputs": [
        {
          "output_type": "execute_result",
          "data": {
            "text/plain": [
              "<matplotlib.collections.PathCollection at 0x7f21c98cd5d0>"
            ]
          },
          "metadata": {
            "tags": []
          },
          "execution_count": 37
        },
        {
          "output_type": "display_data",
          "data": {
            "image/png": "[encoded data removed]",
            "text/plain": [
              "<Figure size 432x288 with 1 Axes>"
            ]
          },
          "metadata": {
            "tags": [],
            "needs_background": "light"
          }
        }
      ]
    },
    {
      "cell_type": "code",
      "metadata": {
        "id": "_5hD-diHLbEN"
      },
      "source": [
        "sse = []\n",
        "\n",
        "k_rng = range(1,10)\n",
        "\n",
        "for k in k_rng:\n",
        "  km = KMeans(n_clusters=k)\n",
        "  km.fit(IncomeData[['Age', 'Income($)']])\n",
        "  sse.append(km.inertia_)"
      ],
      "execution_count": 38,
      "outputs": []
    },
    {
      "cell_type": "code",
      "metadata": {
        "colab": {
          "base_uri": "https://localhost:8080/"
        },
        "id": "c9C4LooiMPri",
        "outputId": "854327ae-a784-439e-a169-0ee0b12dc043"
      },
      "source": [
        "# sum of squared error\n",
        "sse"
      ],
      "execution_count": 39,
      "outputs": [
        {
          "output_type": "execute_result",
          "data": {
            "text/plain": [
              "[51861502278.18182,\n",
              " 10197968857.541666,\n",
              " 2654208377.5,\n",
              " 254208360.83333334,\n",
              " 54208360.833333336,\n",
              " 4208360.833333334,\n",
              " 687524.5,\n",
              " 125020.5,\n",
              " 18.5]"
            ]
          },
          "metadata": {
            "tags": []
          },
          "execution_count": 39
        }
      ]
    },
    {
      "cell_type": "markdown",
      "metadata": {
        "id": "EZFTkcoxNm3u"
      },
      "source": [
        "There’s a sweet spot where the SSE curve starts to bend known as the elbow point. The x-value of this point is thought to be a reasonable trade-off between error and number of clusters. "
      ]
    },
    {
      "cell_type": "code",
      "metadata": {
        "colab": {
          "base_uri": "https://localhost:8080/",
          "height": 307
        },
        "id": "FSBzhVxAMR--",
        "outputId": "0c82601f-7ecb-4916-f619-db481d6d6a92"
      },
      "source": [
        "# elbow plot - elbow is the most appropriate value to start with - here it is 3\n",
        "\n",
        "plt.xlabel('K')\n",
        "plt.ylabel('Sum of squared error')\n",
        "plt.plot(k_rng, sse)"
      ],
      "execution_count": 40,
      "outputs": [
        {
          "output_type": "execute_result",
          "data": {
            "text/plain": [
              "[<matplotlib.lines.Line2D at 0x7f21c992bb50>]"
            ]
          },
          "metadata": {
            "tags": []
          },
          "execution_count": 40
        },
        {
          "output_type": "display_data",
          "data": {
            "image/png": "[encoded data removed]",
            "text/plain": [
              "<Figure size 432x288 with 1 Axes>"
            ]
          },
          "metadata": {
            "tags": [],
            "needs_background": "light"
          }
        }
      ]
    },
    {
      "cell_type": "code",
      "metadata": {
        "colab": {
          "base_uri": "https://localhost:8080/"
        },
        "id": "nynZTdGTMiCk",
        "outputId": "65a2a4df-b5a2-45b1-88d4-3f18c4cb3928"
      },
      "source": [
        "# The lowest SSE value\n",
        "print(km.inertia_)\n",
        "# Final locations of the centroid\n",
        "# print(km.cluster_centers_)\n",
        "# The number of iterations required to converge\n",
        "print(km.n_iter_)\n",
        "# predicted labels \n",
        "print(km.labels_)"
      ],
      "execution_count": 47,
      "outputs": [
        {
          "output_type": "stream",
          "text": [
            "18.5\n",
            "1\n",
            "[0 0 4 1 6 7 8 6 3 2 5]\n"
          ],
          "name": "stdout"
        }
      ]
    },
    {
      "cell_type": "code",
      "metadata": {
        "colab": {
          "base_uri": "https://localhost:8080/",
          "height": 111
        },
        "id": "aHiit-BfPe9P",
        "outputId": "f07950d3-1862-4942-b8d0-3bfe2c6d024b"
      },
      "source": [
        "IncomeData[IncomeData['Cluster'] == 2]"
      ],
      "execution_count": 48,
      "outputs": [
        {
          "output_type": "execute_result",
          "data": {
            "text/html": [
              "<div>\n",
              "<style scoped>\n",
              "    .dataframe tbody tr th:only-of-type {\n",
              "        vertical-align: middle;\n",
              "    }\n",
              "\n",
              "    .dataframe tbody tr th {\n",
              "        vertical-align: top;\n",
              "    }\n",
              "\n",
              "    .dataframe thead th {\n",
              "        text-align: right;\n",
              "    }\n",
              "</style>\n",
              "<table border=\"1\" class=\"dataframe\">\n",
              "  <thead>\n",
              "    <tr style=\"text-align: right;\">\n",
              "      <th></th>\n",
              "      <th>Name</th>\n",
              "      <th>Age</th>\n",
              "      <th>Income($)</th>\n",
              "      <th>Cluster</th>\n",
              "    </tr>\n",
              "  </thead>\n",
              "  <tbody>\n",
              "    <tr>\n",
              "      <th>9</th>\n",
              "      <td>Monu</td>\n",
              "      <td>35</td>\n",
              "      <td>70000</td>\n",
              "      <td>2</td>\n",
              "    </tr>\n",
              "    <tr>\n",
              "      <th>10</th>\n",
              "      <td>Jijaji</td>\n",
              "      <td>35</td>\n",
              "      <td>80000</td>\n",
              "      <td>2</td>\n",
              "    </tr>\n",
              "  </tbody>\n",
              "</table>\n",
              "</div>"
            ],
            "text/plain": [
              "      Name  Age  Income($)  Cluster\n",
              "9     Monu   35      70000        2\n",
              "10  Jijaji   35      80000        2"
            ]
          },
          "metadata": {
            "tags": []
          },
          "execution_count": 48
        }
      ]
    },
    {
      "cell_type": "code",
      "metadata": {
        "colab": {
          "base_uri": "https://localhost:8080/",
          "height": 49
        },
        "id": "M7K6Op9YQPzZ",
        "outputId": "887c2baa-f69b-47b6-9183-1dc0d1083d19"
      },
      "source": [
        "IncomeData[IncomeData['Cluster'] == 3]"
      ],
      "execution_count": 49,
      "outputs": [
        {
          "output_type": "execute_result",
          "data": {
            "text/html": [
              "<div>\n",
              "<style scoped>\n",
              "    .dataframe tbody tr th:only-of-type {\n",
              "        vertical-align: middle;\n",
              "    }\n",
              "\n",
              "    .dataframe tbody tr th {\n",
              "        vertical-align: top;\n",
              "    }\n",
              "\n",
              "    .dataframe thead th {\n",
              "        text-align: right;\n",
              "    }\n",
              "</style>\n",
              "<table border=\"1\" class=\"dataframe\">\n",
              "  <thead>\n",
              "    <tr style=\"text-align: right;\">\n",
              "      <th></th>\n",
              "      <th>Name</th>\n",
              "      <th>Age</th>\n",
              "      <th>Income($)</th>\n",
              "      <th>Cluster</th>\n",
              "    </tr>\n",
              "  </thead>\n",
              "  <tbody>\n",
              "  </tbody>\n",
              "</table>\n",
              "</div>"
            ],
            "text/plain": [
              "Empty DataFrame\n",
              "Columns: [Name, Age, Income($), Cluster]\n",
              "Index: []"
            ]
          },
          "metadata": {
            "tags": []
          },
          "execution_count": 49
        }
      ]
    },
    {
      "cell_type": "code",
      "metadata": {
        "colab": {
          "base_uri": "https://localhost:8080/",
          "height": 142
        },
        "id": "xu4V04sJQU_D",
        "outputId": "f3a34091-19f9-4536-cde2-a3abaac1e58a"
      },
      "source": [
        "IncomeData[IncomeData['Cluster'] == 0]"
      ],
      "execution_count": 50,
      "outputs": [
        {
          "output_type": "execute_result",
          "data": {
            "text/html": [
              "<div>\n",
              "<style scoped>\n",
              "    .dataframe tbody tr th:only-of-type {\n",
              "        vertical-align: middle;\n",
              "    }\n",
              "\n",
              "    .dataframe tbody tr th {\n",
              "        vertical-align: top;\n",
              "    }\n",
              "\n",
              "    .dataframe thead th {\n",
              "        text-align: right;\n",
              "    }\n",
              "</style>\n",
              "<table border=\"1\" class=\"dataframe\">\n",
              "  <thead>\n",
              "    <tr style=\"text-align: right;\">\n",
              "      <th></th>\n",
              "      <th>Name</th>\n",
              "      <th>Age</th>\n",
              "      <th>Income($)</th>\n",
              "      <th>Cluster</th>\n",
              "    </tr>\n",
              "  </thead>\n",
              "  <tbody>\n",
              "    <tr>\n",
              "      <th>2</th>\n",
              "      <td>Dileep</td>\n",
              "      <td>60</td>\n",
              "      <td>150000</td>\n",
              "      <td>0</td>\n",
              "    </tr>\n",
              "    <tr>\n",
              "      <th>3</th>\n",
              "      <td>Saroj</td>\n",
              "      <td>60</td>\n",
              "      <td>130000</td>\n",
              "      <td>0</td>\n",
              "    </tr>\n",
              "    <tr>\n",
              "      <th>8</th>\n",
              "      <td>Dhananjay</td>\n",
              "      <td>65</td>\n",
              "      <td>200000</td>\n",
              "      <td>0</td>\n",
              "    </tr>\n",
              "  </tbody>\n",
              "</table>\n",
              "</div>"
            ],
            "text/plain": [
              "        Name  Age  Income($)  Cluster\n",
              "2     Dileep   60     150000        0\n",
              "3      Saroj   60     130000        0\n",
              "8  Dhananjay   65     200000        0"
            ]
          },
          "metadata": {
            "tags": []
          },
          "execution_count": 50
        }
      ]
    },
    {
      "cell_type": "code",
      "metadata": {
        "id": "BjkDxeuXQWhU"
      },
      "source": [
        ""
      ],
      "execution_count": null,
      "outputs": []
    }
  ]
}